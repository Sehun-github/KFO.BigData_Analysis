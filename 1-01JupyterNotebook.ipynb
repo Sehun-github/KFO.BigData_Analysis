{
 "cells": [
  {
   "cell_type": "markdown",
   "id": "fbeb42a3-60d2-4de2-9c1d-c5ae59efe2a5",
   "metadata": {
    "slideshow": {
     "slide_type": "slide"
    }
   },
   "source": [
    "# Jupyter Notebook\n",
    "\n",
    "<img src=\"https://jupyter.org/assets/logos/rectanglelogo-greytext-orangebody-greymoons.svg\" width=\"200\" />\n",
    "\n",
    "> 수정 2022.05"
   ]
  },
  {
   "cell_type": "markdown",
   "id": "44d27224-ff40-4270-8d76-8bbaa45b355b",
   "metadata": {},
   "source": [
    "에디트 모드 / 명령 모드 --> run 실행"
   ]
  },
  {
   "cell_type": "markdown",
   "id": "3e44635b-0c54-4c92-a9bb-6d84831925b7",
   "metadata": {
    "slideshow": {
     "slide_type": "slide"
    }
   },
   "source": [
    "브라우저 기반 인터랙티브 파이썬 환경\n",
    "* 인터랙티브 파이썬 코딩\n",
    "* 매직 명령어\n",
    "* 시스템 쉘\n",
    "* 마크다운 문법\n",
    "* 수학식 표현 (Latex)\n",
    "* 슬라이드, HTML, PDF\n",
    "* 대규모 병렬 컴퓨팅 (IPython.parallel)"
   ]
  },
  {
   "cell_type": "markdown",
   "id": "15ca0516-5834-48c9-ba83-756cafdc5163",
   "metadata": {
    "jp-MarkdownHeadingCollapsed": true,
    "tags": []
   },
   "source": [
    "### iPython 동작\n",
    "\n",
    "<img src='https://ipython.org/ipython-doc/3/_images/notebook_components.png' width='500'>\n",
    "- https://ipython.org/ipython-doc/3/development/how_ipython_works.html\n",
    "\n",
    "\n"
   ]
  },
  {
   "attachments": {
    "0027e823-85e1-4698-a8ac-08bfe7a604ea.png": {
     "image/png": "[encoded data removed]"
    }
   },
   "cell_type": "markdown",
   "id": "2a3b8fe1-5d44-409f-8a3b-3af8ba2924c5",
   "metadata": {},
   "source": [
    "### Kernel\n",
    "\n",
    "커널은 노트북 문서의 코드를 실행할 수 있는 엔진이다.\n",
    "\n",
    "- Kernel 이란: https://jupyter-notebook-beginner-guide.readthedocs.io/en/latest/what_is_jupyter.html#kernel\n",
    "- Major Kernels: https://docs.jupyter.org/en/latest/#kernels\n",
    "\n",
    "쥬피터 노트북 ( 혹은 랩) 에서 노트북 문서 실행시 선택할 수 있다.\n",
    "\n",
    "![image.png](attachment:0027e823-85e1-4698-a8ac-08bfe7a604ea.png)"
   ]
  },
  {
   "cell_type": "markdown",
   "id": "e0240615-2f32-4e43-aee7-a29315e08b59",
   "metadata": {},
   "source": [
    "#### XPython (Xesus Kernel)\n",
    "\n",
    "Jupyter Kernel 프로토콜 xesus 의 네이티브 구현한 노트북 커널이다.\n",
    " - https://github.com/jupyter-xeus/xeus-python"
   ]
  },
  {
   "cell_type": "markdown",
   "id": "6758c974-fb58-4adb-964d-cbd30e8c756f",
   "metadata": {
    "slideshow": {
     "slide_type": "slide"
    }
   },
   "source": [
    "# 특징\n",
    "\n",
    "* 웹기반의 대화적\n",
    "* 노트 정리하듯 정리, 손쉽게 공유\n",
    "* 개발, 문서화 환경\n",
    "* **매우 혁신적인 도구**\n",
    "* 웹 응용프로그램과 문서를 결합한 형태\n",
    "* 실행 코드, 설명 텍스트, 수학식, 미디어도 문서에 포함"
   ]
  },
  {
   "cell_type": "markdown",
   "id": "a9d961a8-b4c3-4c0c-8aab-9e91fc3183fb",
   "metadata": {
    "slideshow": {
     "slide_type": "slide"
    }
   },
   "source": [
    "# 코드 작성\n",
    "\n",
    "* 코드 편집, 자동구문강조 syntax hilighting, 자동 들여쓰기, 탭 완성\n",
    "* 실행결과를 브라우저내 inline 에 표시\n",
    "* HTML, LaTex 수학식, PNG, SVG 등 표현, matplotlib을 중간 삽입\n",
    "* Markdowm 편집하여 간단한 서식있는 문서를 작성\n",
    "* 수학적 표기법을 포함하고, 표현 Mathjax"
   ]
  },
  {
   "cell_type": "markdown",
   "id": "bd6ee474-92c1-4a43-ba12-fd2a0e5791d4",
   "metadata": {
    "slideshow": {
     "slide_type": "slide"
    }
   },
   "source": [
    "# 시작과 종료\n",
    "\n",
    "시작 (로컬 혹은 서버로 실행)\n",
    "\n",
    "쥬피터 노트북\n",
    "\n",
    "```bash\n",
    "# 서버로 실행\n",
    "$ jupyter notebook --ip=0.0.0.0 --port=8080\n",
    "```"
   ]
  },
  {
   "cell_type": "markdown",
   "id": "05b3aca5-2a79-45e1-ab0f-636cb39245d3",
   "metadata": {
    "slideshow": {
     "slide_type": "slide"
    }
   },
   "source": [
    "쥬피터 랩\n",
    "\n",
    "```bash\n",
    "$ jupyter-lab --no-browser --port=8080 DIR\n",
    "```\n",
    "\n",
    "\n",
    "종료는 Ctrl+C"
   ]
  },
  {
   "cell_type": "markdown",
   "id": "35a1025d-12c3-49f5-af86-a539220ea620",
   "metadata": {},
   "source": [
    "# 셀 이란\n",
    "\n",
    "코드 / 텍스트를 입력하는 기능\n",
    "\n",
    "1. 코드 셀\n",
    "2. 마크다운 셀"
   ]
  },
  {
   "cell_type": "markdown",
   "id": "94f08c2a-fb82-4b09-a43e-c3ae95bfbf81",
   "metadata": {
    "slideshow": {
     "slide_type": "slide"
    }
   },
   "source": [
    "# 명령모드와 편집모드\n",
    "\n",
    "Jupyter Notebook 키보드 입력에는 두 가지 모드가 있다. vi 에디터의 명령/편집 모드를 사용한다.\n",
    "* 명령모드(Command mode): 노트북의 셀을 편집 (파란색+회색 테두리) \n",
    "* 편집모드(Edit mode): 셀에 있는 텍스트나 코드를 편집 (녹색 테두리)\n",
    "\n",
    "\n",
    "모드 전환\n",
    "* Esc키를 누르면 명령모드로, Enter를 누르면 편집모드로 상호전환\n",
    "* 명령 모드에서 j,k 키로 아래/위로 이동 (vi 에디터)\n",
    "* 도움말 표시: 명령 모드에서 h 키"
   ]
  },
  {
   "cell_type": "markdown",
   "id": "a5ca95f1-2411-413a-93c3-85fde66d3c2d",
   "metadata": {
    "slideshow": {
     "slide_type": "slide"
    }
   },
   "source": [
    "# 실행과 저장(명령모드, 편집모드 공통)\n",
    "자주 사용되는 키보드를 확인하고 익혀두자\n",
    "\n",
    "* Ctrl-Enter 현재 셀 실행 \n",
    "* Shift-Enter 셀 실행 + 아래로 이동 \n",
    "* Ctrl-s: 노트북 저장 "
   ]
  },
  {
   "cell_type": "markdown",
   "id": "16a9e62e-6f4f-441f-bcdc-b80e170c871e",
   "metadata": {
    "slideshow": {
     "slide_type": "slide"
    },
    "tags": []
   },
   "source": [
    "# 명령모드(Esc를 눌러 활성화)\n",
    "자주 사용되는 키보드를 확인하고 익혀두자\n",
    "\n",
    "* Enter 편집 모드 \n",
    "* y: 코드로 전환 \n",
    "* m: 마크다운으로 전환 \n",
    "* ↑, k : 위로, \n",
    "* ↓, j : 아래로 \n",
    "* Ctrl-k: 셀을 위로 이동 \n",
    "* Ctrl-j: 셀을 아래로 이동 \n",
    "* a: 위에 셀 추가 (b는 아래에 셀 추가)\n",
    "* c: 셀 복사 \n",
    "* v: 아래에 셀 붙여넣기 \n",
    "* Shift-m: 셀 아래 병합 \n",
    "* h: 키보드 바로가기 도움말 \n",
    "* dd : 현재 셀 지우기"
   ]
  },
  {
   "cell_type": "code",
   "execution_count": 10,
   "id": "fc560c70-89d8-44b7-bcbb-f5966f5240c5",
   "metadata": {},
   "outputs": [
    {
     "name": "stdout",
     "output_type": "stream",
     "text": [
      "100000000000000000000000000000000000000000000000000000000000000000000000000000000000000000000000000000000000000000000000000000000000000000000000000000000000000000000000000000000000000000000000000000000\n"
     ]
    }
   ],
   "source": [
    "a = 100 ** 100\n",
    "print(a)"
   ]
  },
  {
   "cell_type": "markdown",
   "id": "d41c569c-4d03-4f35-8c15-a24357bd6152",
   "metadata": {},
   "source": [
    "output(출력) log"
   ]
  },
  {
   "cell_type": "markdown",
   "id": "6b2e3429-0358-4959-8648-db95df48b9ad",
   "metadata": {
    "slideshow": {
     "slide_type": "slide"
    }
   },
   "source": [
    "# 편집모드(Enter를 눌러 활성화)\n",
    "자주 사용되는 키보드를 확인하고 익혀두자\n",
    "\n",
    "* Esc: 명령모드 \n",
    "* Ctrl-Shift--: 셀 분할 \n",
    "* Ctrl-Left: 단어 단위 왼쪽으로 `\n",
    "* Ctrl-Right: 단어 단위 오른쪽으로 "
   ]
  },
  {
   "cell_type": "markdown",
   "id": "c4f24356-06ef-4998-bdac-035638c234f9",
   "metadata": {},
   "source": [
    "## **2 Cell 편집하기**\n",
    "\n",
    "### **01 셀 내부 선택 / 셀 외부 선택**"
   ]
  },
  {
   "cell_type": "code",
   "execution_count": 7,
   "id": "a4a8c0fd-7b6c-4fe8-9b94-c938912b87df",
   "metadata": {},
   "outputs": [],
   "source": [
    "# Enter : 셀 내부로 들어가기"
   ]
  },
  {
   "cell_type": "code",
   "execution_count": 8,
   "id": "fd9ba73e-c8a2-4cb8-81f9-26762f14659c",
   "metadata": {},
   "outputs": [],
   "source": [
    "# ESC : 셀 외부로 빠져나가기"
   ]
  },
  {
   "cell_type": "markdown",
   "id": "ae17bea9-08ab-41a8-8f44-72851fd2a0ed",
   "metadata": {},
   "source": [
    "### **02 셀 분리**\n",
    "Ctrl + Shift + '-'"
   ]
  },
  {
   "cell_type": "code",
   "execution_count": 14,
   "id": "68ddea44-fcb8-4e00-823e-48712ab82663",
   "metadata": {
    "tags": []
   },
   "outputs": [
    {
     "name": "stdout",
     "output_type": "stream",
     "text": [
      "Hello\n"
     ]
    }
   ],
   "source": [
    "# 셀 내부에서 작업하다가\n",
    "print(\"Hello\")\n",
    "\n",
    "# 일정 부분에서\n",
    "# Ctrl + Shift + '-'"
   ]
  },
  {
   "cell_type": "markdown",
   "id": "d407ebb2-a2c0-405a-8fe5-521d08cf8252",
   "metadata": {},
   "source": [
    "### **02 셀 병합**\n",
    "Shift + 'm'"
   ]
  },
  {
   "cell_type": "code",
   "execution_count": 10,
   "id": "ddacb2ef-3fb2-41b1-9ab9-f4e06d86ce1c",
   "metadata": {},
   "outputs": [],
   "source": [
    "# 셀 아웃한 뒤 \n",
    "# Shift + 'm' \n",
    "# 실수로 'm' 을 누르면 셀의 속성이 Mark Down 으로 바뀐다"
   ]
  },
  {
   "cell_type": "markdown",
   "id": "6f0fe668-7ffd-4af0-a1a7-7c278ae60349",
   "metadata": {},
   "source": [
    "## **3 Cell 속성 바꾸기**\n",
    "Code / Mark Down"
   ]
  },
  {
   "cell_type": "code",
   "execution_count": 11,
   "id": "eef1c362-574f-4252-a625-9bfcc510c19c",
   "metadata": {},
   "outputs": [],
   "source": [
    "# ESC 로 셀 외부로 빠진 뒤\n",
    "# 'Y' : Code 속성으로 변경\n",
    "# 'M' : MarkDown 속성으로 변경"
   ]
  },
  {
   "cell_type": "markdown",
   "id": "b69a3851-546e-4d3a-8e3f-95a9bf4c8020",
   "metadata": {},
   "source": [
    "\n",
    "## **4 Cell 객체 편집하기**\n",
    "Code / Mark Down"
   ]
  },
  {
   "cell_type": "code",
   "execution_count": 12,
   "id": "d0bc3a46-fdc5-4936-aeec-3b30b48913f5",
   "metadata": {},
   "outputs": [],
   "source": [
    "# ESC\n",
    "# \"D\" \"D\"  Delete Cell"
   ]
  },
  {
   "cell_type": "code",
   "execution_count": 13,
   "id": "1a19b4af-3417-4b02-a0aa-7a04f3e8ad86",
   "metadata": {},
   "outputs": [],
   "source": [
    "# ESC\n",
    "# \"B\" 빈쎌 삽입하기"
   ]
  },
  {
   "cell_type": "markdown",
   "id": "eef8ec3e-24c5-4f20-9f88-bf0f8c61dba1",
   "metadata": {},
   "source": [
    "<br><br>\n",
    "## **5 ipython 단축키**\n",
    "http://bigbigdata.tistory.com/65"
   ]
  },
  {
   "cell_type": "markdown",
   "id": "5cc129e2-9d19-419f-8e10-4a55c120e7c7",
   "metadata": {},
   "source": [
    "# Object Information"
   ]
  },
  {
   "cell_type": "markdown",
   "id": "4ad6b89c-c55d-4aae-a229-ed9f8bc44624",
   "metadata": {
    "tags": []
   },
   "source": [
    "### **01. 객체 정보 확인** <small> shift + TAB </small>\n",
    "변수를 키인하고 **shift + TAB** 누르면 내부 특성이 조회됨"
   ]
  },
  {
   "cell_type": "code",
   "execution_count": 15,
   "id": "41ae7a49-09fb-4d36-ae34-982323f01e4f",
   "metadata": {},
   "outputs": [],
   "source": [
    "a = 10"
   ]
  },
  {
   "cell_type": "code",
   "execution_count": 16,
   "id": "aa885729-8565-47cd-b8ba-dbb341884337",
   "metadata": {},
   "outputs": [
    {
     "data": {
      "text/plain": [
       "10"
      ]
     },
     "execution_count": 16,
     "metadata": {},
     "output_type": "execute_result"
    }
   ],
   "source": [
    "a"
   ]
  },
  {
   "cell_type": "markdown",
   "id": "8e818d0c-9c90-4d45-86f4-fd0920f219da",
   "metadata": {},
   "source": [
    "### **02 함수정보 확인** <small> shift + TAB </small>\n",
    "함수를 키인하고 **shift + TAB** 누르면 내부 특성이 조회됨"
   ]
  },
  {
   "cell_type": "code",
   "execution_count": 17,
   "id": "6d4481d1-8a5e-4a43-9af3-98052e5c9f69",
   "metadata": {},
   "outputs": [
    {
     "data": {
      "text/plain": [
       "5"
      ]
     },
     "execution_count": 17,
     "metadata": {},
     "output_type": "execute_result"
    }
   ],
   "source": [
    "def sum(a,b):\n",
    "    return a + b\n",
    "\n",
    "sum(1, 4)"
   ]
  },
  {
   "cell_type": "code",
   "execution_count": 18,
   "id": "800b39ff-1039-4fbf-8d66-4e480417d176",
   "metadata": {},
   "outputs": [
    {
     "data": {
      "text/plain": [
       "<function __main__.sum(a, b)>"
      ]
     },
     "execution_count": 18,
     "metadata": {},
     "output_type": "execute_result"
    }
   ],
   "source": [
    "sum"
   ]
  },
  {
   "cell_type": "markdown",
   "id": "ce6d6e6c-0c9a-4bf1-a1f4-6770636cd444",
   "metadata": {},
   "source": [
    "docstrings 확인"
   ]
  },
  {
   "cell_type": "code",
   "execution_count": 6,
   "id": "cd75c6de-cae7-452d-a736-a821f327e5b4",
   "metadata": {},
   "outputs": [
    {
     "name": "stdout",
     "output_type": "stream",
     "text": [
      "hello\n"
     ]
    }
   ],
   "source": [
    "a = 'hello'\n",
    "b = '''hello'''\n",
    "\n",
    "print(b)"
   ]
  },
  {
   "cell_type": "code",
   "execution_count": 3,
   "id": "c461127b-79e1-4c70-970f-a8e21f9ef4e8",
   "metadata": {},
   "outputs": [],
   "source": [
    "def sum(a,b):\n",
    "    \"\"\"sum()는 두 수를 더한 결과를 반환한다.\n",
    "    \"\"\"\n",
    "    \n",
    "    return a + b"
   ]
  },
  {
   "cell_type": "code",
   "execution_count": null,
   "id": "e5767bf7-4fac-4813-bd77-70aa23357f42",
   "metadata": {},
   "outputs": [],
   "source": [
    "sum"
   ]
  },
  {
   "cell_type": "markdown",
   "id": "d477553d-fd98-4436-9ea3-0f74ee0908ce",
   "metadata": {},
   "source": [
    "### **03 객체/ 함수정보 확인** <small> shift + TAB </small>\n",
    "**?** by Codes"
   ]
  },
  {
   "cell_type": "code",
   "execution_count": 20,
   "id": "2c6019ea-63e1-4127-8e54-09e94389d683",
   "metadata": {
    "collapsed": true,
    "jupyter": {
     "outputs_hidden": true
    },
    "tags": []
   },
   "outputs": [
    {
     "data": {
      "text/plain": [
       "\u001b[1;31mType:\u001b[0m        int\n",
       "\u001b[1;31mString form:\u001b[0m 10\n",
       "\u001b[1;31mDocstring:\u001b[0m  \n",
       "int([x]) -> integer\n",
       "int(x, base=10) -> integer\n",
       "\n",
       "Convert a number or string to an integer, or return 0 if no arguments\n",
       "are given.  If x is a number, return x.__int__().  For floating point\n",
       "numbers, this truncates towards zero.\n",
       "\n",
       "If x is not a number or if base is given, then x must be a string,\n",
       "bytes, or bytearray instance representing an integer literal in the\n",
       "given base.  The literal can be preceded by '+' or '-' and be surrounded\n",
       "by whitespace.  The base defaults to 10.  Valid bases are 0 and 2-36.\n",
       "Base 0 means to interpret the base from the string as an integer literal.\n",
       ">>> int('0b100', base=0)\n",
       "4"
      ]
     },
     "metadata": {},
     "output_type": "display_data"
    }
   ],
   "source": [
    "a?"
   ]
  },
  {
   "cell_type": "code",
   "execution_count": 25,
   "id": "58a76eb9-4e54-44b6-bd69-0b54289c78be",
   "metadata": {
    "collapsed": true,
    "jupyter": {
     "outputs_hidden": true
    },
    "scrolled": true,
    "tags": []
   },
   "outputs": [
    {
     "data": {
      "text/plain": [
       "\u001b[1;31mSignature:\u001b[0m \u001b[0msum\u001b[0m\u001b[1;33m(\u001b[0m\u001b[0ma\u001b[0m\u001b[1;33m,\u001b[0m \u001b[0mb\u001b[0m\u001b[1;33m)\u001b[0m\u001b[1;33m\u001b[0m\u001b[1;33m\u001b[0m\u001b[0m\n",
       "\u001b[1;31mSource:\u001b[0m   \n",
       "\u001b[1;32mdef\u001b[0m \u001b[0msum\u001b[0m\u001b[1;33m(\u001b[0m\u001b[0ma\u001b[0m\u001b[1;33m,\u001b[0m\u001b[0mb\u001b[0m\u001b[1;33m)\u001b[0m\u001b[1;33m:\u001b[0m\u001b[1;33m\n",
       "\u001b[0m    \u001b[1;34m\"\"\"sum()는 두 수를 더한 결과를 반환한다.\n",
       "    \"\"\"\u001b[0m\u001b[1;33m\n",
       "\u001b[0m    \u001b[1;32mreturn\u001b[0m \u001b[0ma\u001b[0m \u001b[1;33m+\u001b[0m \u001b[0mb\u001b[0m\u001b[1;33m\u001b[0m\u001b[1;33m\u001b[0m\u001b[0m\n",
       "\u001b[1;31mFile:\u001b[0m      c:\\users\\admin\\appdata\\local\\temp\\ipykernel_22516\\2814145070.py\n",
       "\u001b[1;31mType:\u001b[0m      function"
      ]
     },
     "metadata": {},
     "output_type": "display_data"
    }
   ],
   "source": [
    "sum??"
   ]
  },
  {
   "cell_type": "code",
   "execution_count": 6,
   "id": "d4f2f0e2-ab90-493d-a7f4-e113e88b2569",
   "metadata": {},
   "outputs": [],
   "source": [
    "# sum()?"
   ]
  },
  {
   "cell_type": "code",
   "execution_count": 10,
   "id": "77b7d38d-db3a-4f46-8bbc-4b8c88edca1a",
   "metadata": {},
   "outputs": [],
   "source": [
    "import numpy as np"
   ]
  },
  {
   "cell_type": "code",
   "execution_count": 11,
   "id": "2b318b04-fd0d-4ae7-a835-5ed2f444be72",
   "metadata": {},
   "outputs": [
    {
     "data": {
      "text/plain": [
       "<ufunc 'exp'>"
      ]
     },
     "execution_count": 11,
     "metadata": {},
     "output_type": "execute_result"
    }
   ],
   "source": [
    "np.exp"
   ]
  },
  {
   "cell_type": "code",
   "execution_count": 30,
   "id": "1d9aeb67-7300-4290-9c8a-c83e6622bf60",
   "metadata": {
    "scrolled": true,
    "tags": []
   },
   "outputs": [
    {
     "name": "stdout",
     "output_type": "stream",
     "text": [
      "Help on ufunc:\n",
      "\n",
      "exp = <ufunc 'exp'>\n",
      "    exp(x, /, out=None, *, where=True, casting='same_kind', order='K', dtype=None, subok=True[, signature, extobj])\n",
      "    \n",
      "    Calculate the exponential of all elements in the input array.\n",
      "    \n",
      "    Parameters\n",
      "    ----------\n",
      "    x : array_like\n",
      "        Input values.\n",
      "    out : ndarray, None, or tuple of ndarray and None, optional\n",
      "        A location into which the result is stored. If provided, it must have\n",
      "        a shape that the inputs broadcast to. If not provided or None,\n",
      "        a freshly-allocated array is returned. A tuple (possible only as a\n",
      "        keyword argument) must have length equal to the number of outputs.\n",
      "    where : array_like, optional\n",
      "        This condition is broadcast over the input. At locations where the\n",
      "        condition is True, the `out` array will be set to the ufunc result.\n",
      "        Elsewhere, the `out` array will retain its original value.\n",
      "        Note that if an uninitialized `out` array is created via the default\n",
      "        ``out=None``, locations within it where the condition is False will\n",
      "        remain uninitialized.\n",
      "    **kwargs\n",
      "        For other keyword-only arguments, see the\n",
      "        :ref:`ufunc docs <ufuncs.kwargs>`.\n",
      "    \n",
      "    Returns\n",
      "    -------\n",
      "    out : ndarray or scalar\n",
      "        Output array, element-wise exponential of `x`.\n",
      "        This is a scalar if `x` is a scalar.\n",
      "    \n",
      "    See Also\n",
      "    --------\n",
      "    expm1 : Calculate ``exp(x) - 1`` for all elements in the array.\n",
      "    exp2  : Calculate ``2**x`` for all elements in the array.\n",
      "    \n",
      "    Notes\n",
      "    -----\n",
      "    The irrational number ``e`` is also known as Euler's number.  It is\n",
      "    approximately 2.718281, and is the base of the natural logarithm,\n",
      "    ``ln`` (this means that, if :math:`x = \\ln y = \\log_e y`,\n",
      "    then :math:`e^x = y`. For real input, ``exp(x)`` is always positive.\n",
      "    \n",
      "    For complex arguments, ``x = a + ib``, we can write\n",
      "    :math:`e^x = e^a e^{ib}`.  The first term, :math:`e^a`, is already\n",
      "    known (it is the real argument, described above).  The second term,\n",
      "    :math:`e^{ib}`, is :math:`\\cos b + i \\sin b`, a function with\n",
      "    magnitude 1 and a periodic phase.\n",
      "    \n",
      "    References\n",
      "    ----------\n",
      "    .. [1] Wikipedia, \"Exponential function\",\n",
      "           https://en.wikipedia.org/wiki/Exponential_function\n",
      "    .. [2] M. Abramovitz and I. A. Stegun, \"Handbook of Mathematical Functions\n",
      "           with Formulas, Graphs, and Mathematical Tables,\" Dover, 1964, p. 69,\n",
      "           https://personal.math.ubc.ca/~cbm/aands/page_69.htm\n",
      "    \n",
      "    Examples\n",
      "    --------\n",
      "    Plot the magnitude and phase of ``exp(x)`` in the complex plane:\n",
      "    \n",
      "    >>> import matplotlib.pyplot as plt\n",
      "    \n",
      "    >>> x = np.linspace(-2*np.pi, 2*np.pi, 100)\n",
      "    >>> xx = x + 1j * x[:, np.newaxis] # a + ib over complex plane\n",
      "    >>> out = np.exp(xx)\n",
      "    \n",
      "    >>> plt.subplot(121)\n",
      "    >>> plt.imshow(np.abs(out),\n",
      "    ...            extent=[-2*np.pi, 2*np.pi, -2*np.pi, 2*np.pi], cmap='gray')\n",
      "    >>> plt.title('Magnitude of exp(x)')\n",
      "    \n",
      "    >>> plt.subplot(122)\n",
      "    >>> plt.imshow(np.angle(out),\n",
      "    ...            extent=[-2*np.pi, 2*np.pi, -2*np.pi, 2*np.pi], cmap='hsv')\n",
      "    >>> plt.title('Phase (angle) of exp(x)')\n",
      "    >>> plt.show()\n",
      "\n"
     ]
    }
   ],
   "source": [
    "help(np.exp)   # docstrings"
   ]
  },
  {
   "cell_type": "markdown",
   "id": "25750862-8e8f-4a16-944a-d6112a3602b1",
   "metadata": {},
   "source": [
    "### 노트북 도움말 `?` 이용"
   ]
  },
  {
   "cell_type": "code",
   "execution_count": 8,
   "id": "9642506b-e53a-4872-aa56-da980a9111a9",
   "metadata": {},
   "outputs": [
    {
     "data": {
      "text/plain": [
       "\u001b[1;31mType:\u001b[0m        str\n",
       "\u001b[1;31mString form:\u001b[0m hello\n",
       "\u001b[1;31mLength:\u001b[0m      5\n",
       "\u001b[1;31mDocstring:\u001b[0m  \n",
       "str(object='') -> str\n",
       "str(bytes_or_buffer[, encoding[, errors]]) -> str\n",
       "\n",
       "Create a new string object from the given object. If encoding or\n",
       "errors is specified, then the object must expose a data buffer\n",
       "that will be decoded using the given encoding and error handler.\n",
       "Otherwise, returns the result of object.__str__() (if defined)\n",
       "or repr(object).\n",
       "encoding defaults to sys.getdefaultencoding().\n",
       "errors defaults to 'strict'."
      ]
     },
     "metadata": {},
     "output_type": "display_data"
    }
   ],
   "source": [
    "a?"
   ]
  },
  {
   "cell_type": "code",
   "execution_count": 9,
   "id": "1d02528e-c90f-4825-94b0-1c97bc074f18",
   "metadata": {},
   "outputs": [
    {
     "data": {
      "text/plain": [
       "\u001b[1;31mType:\u001b[0m        str\n",
       "\u001b[1;31mString form:\u001b[0m hello\n",
       "\u001b[1;31mLength:\u001b[0m      5\n",
       "\u001b[1;31mDocstring:\u001b[0m  \n",
       "str(object='') -> str\n",
       "str(bytes_or_buffer[, encoding[, errors]]) -> str\n",
       "\n",
       "Create a new string object from the given object. If encoding or\n",
       "errors is specified, then the object must expose a data buffer\n",
       "that will be decoded using the given encoding and error handler.\n",
       "Otherwise, returns the result of object.__str__() (if defined)\n",
       "or repr(object).\n",
       "encoding defaults to sys.getdefaultencoding().\n",
       "errors defaults to 'strict'."
      ]
     },
     "metadata": {},
     "output_type": "display_data"
    }
   ],
   "source": [
    "a??"
   ]
  },
  {
   "cell_type": "markdown",
   "id": "242e8619-9e49-4d7a-af88-34a87e6e182b",
   "metadata": {},
   "source": [
    "### 노트북 도움말 : **Shift + TAB**\n"
   ]
  },
  {
   "cell_type": "code",
   "execution_count": 27,
   "id": "6a096922-3704-4827-a8d2-c27a2dd50fff",
   "metadata": {},
   "outputs": [
    {
     "ename": "NameError",
     "evalue": "name 'add' is not defined",
     "output_type": "error",
     "traceback": [
      "\u001b[1;31m---------------------------------------------------------------------------\u001b[0m",
      "\u001b[1;31mNameError\u001b[0m                                 Traceback (most recent call last)",
      "Cell \u001b[1;32mIn[27], line 1\u001b[0m\n\u001b[1;32m----> 1\u001b[0m \u001b[43madd\u001b[49m\n",
      "\u001b[1;31mNameError\u001b[0m: name 'add' is not defined"
     ]
    }
   ],
   "source": [
    "add   # Shift+tab"
   ]
  },
  {
   "cell_type": "markdown",
   "id": "23a25057-a626-4c41-9d44-f01b06826da0",
   "metadata": {},
   "source": [
    "# 매직커맨드"
   ]
  },
  {
   "cell_type": "code",
   "execution_count": 14,
   "id": "62d7e7c3-7663-4b6d-a14b-ee7da3ef0022",
   "metadata": {
    "tags": []
   },
   "outputs": [
    {
     "data": {
      "application/json": {
       "cell": {
        "!": "OSMagics",
        "HTML": "Other",
        "SVG": "Other",
        "bash": "Other",
        "capture": "ExecutionMagics",
        "cmd": "Other",
        "debug": "ExecutionMagics",
        "file": "Other",
        "html": "DisplayMagics",
        "javascript": "DisplayMagics",
        "js": "DisplayMagics",
        "latex": "DisplayMagics",
        "markdown": "DisplayMagics",
        "perl": "Other",
        "prun": "ExecutionMagics",
        "pypy": "Other",
        "python": "Other",
        "python2": "Other",
        "python3": "Other",
        "ruby": "Other",
        "script": "ScriptMagics",
        "sh": "Other",
        "svg": "DisplayMagics",
        "sx": "OSMagics",
        "system": "OSMagics",
        "time": "ExecutionMagics",
        "timeit": "ExecutionMagics",
        "writefile": "OSMagics"
       },
       "line": {
        "alias": "OSMagics",
        "alias_magic": "BasicMagics",
        "autoawait": "AsyncMagics",
        "autocall": "AutoMagics",
        "automagic": "AutoMagics",
        "autosave": "KernelMagics",
        "bookmark": "OSMagics",
        "cd": "OSMagics",
        "clear": "KernelMagics",
        "cls": "KernelMagics",
        "colors": "BasicMagics",
        "conda": "PackagingMagics",
        "config": "ConfigMagics",
        "connect_info": "KernelMagics",
        "copy": "Other",
        "ddir": "Other",
        "debug": "ExecutionMagics",
        "dhist": "OSMagics",
        "dirs": "OSMagics",
        "doctest_mode": "BasicMagics",
        "echo": "Other",
        "ed": "Other",
        "edit": "KernelMagics",
        "env": "OSMagics",
        "gui": "BasicMagics",
        "hist": "Other",
        "history": "HistoryMagics",
        "killbgscripts": "ScriptMagics",
        "ldir": "Other",
        "less": "KernelMagics",
        "load": "CodeMagics",
        "load_ext": "ExtensionMagics",
        "loadpy": "CodeMagics",
        "logoff": "LoggingMagics",
        "logon": "LoggingMagics",
        "logstart": "LoggingMagics",
        "logstate": "LoggingMagics",
        "logstop": "LoggingMagics",
        "ls": "Other",
        "lsmagic": "BasicMagics",
        "macro": "ExecutionMagics",
        "magic": "BasicMagics",
        "matplotlib": "PylabMagics",
        "mkdir": "Other",
        "more": "KernelMagics",
        "notebook": "BasicMagics",
        "page": "BasicMagics",
        "pastebin": "CodeMagics",
        "pdb": "ExecutionMagics",
        "pdef": "NamespaceMagics",
        "pdoc": "NamespaceMagics",
        "pfile": "NamespaceMagics",
        "pinfo": "NamespaceMagics",
        "pinfo2": "NamespaceMagics",
        "pip": "PackagingMagics",
        "popd": "OSMagics",
        "pprint": "BasicMagics",
        "precision": "BasicMagics",
        "prun": "ExecutionMagics",
        "psearch": "NamespaceMagics",
        "psource": "NamespaceMagics",
        "pushd": "OSMagics",
        "pwd": "OSMagics",
        "pycat": "OSMagics",
        "pylab": "PylabMagics",
        "qtconsole": "KernelMagics",
        "quickref": "BasicMagics",
        "recall": "HistoryMagics",
        "rehashx": "OSMagics",
        "reload_ext": "ExtensionMagics",
        "ren": "Other",
        "rep": "Other",
        "rerun": "HistoryMagics",
        "reset": "NamespaceMagics",
        "reset_selective": "NamespaceMagics",
        "rmdir": "Other",
        "run": "ExecutionMagics",
        "save": "CodeMagics",
        "sc": "OSMagics",
        "set_env": "OSMagics",
        "store": "StoreMagics",
        "sx": "OSMagics",
        "system": "OSMagics",
        "tb": "ExecutionMagics",
        "time": "ExecutionMagics",
        "timeit": "ExecutionMagics",
        "unalias": "OSMagics",
        "unload_ext": "ExtensionMagics",
        "who": "NamespaceMagics",
        "who_ls": "NamespaceMagics",
        "whos": "NamespaceMagics",
        "xdel": "NamespaceMagics",
        "xmode": "BasicMagics"
       }
      },
      "text/plain": [
       "Available line magics:\n",
       "%alias  %alias_magic  %autoawait  %autocall  %automagic  %autosave  %bookmark  %cd  %clear  %cls  %colors  %conda  %config  %connect_info  %copy  %ddir  %debug  %dhist  %dirs  %doctest_mode  %echo  %ed  %edit  %env  %gui  %hist  %history  %killbgscripts  %ldir  %less  %load  %load_ext  %loadpy  %logoff  %logon  %logstart  %logstate  %logstop  %ls  %lsmagic  %macro  %magic  %matplotlib  %mkdir  %more  %notebook  %page  %pastebin  %pdb  %pdef  %pdoc  %pfile  %pinfo  %pinfo2  %pip  %popd  %pprint  %precision  %prun  %psearch  %psource  %pushd  %pwd  %pycat  %pylab  %qtconsole  %quickref  %recall  %rehashx  %reload_ext  %ren  %rep  %rerun  %reset  %reset_selective  %rmdir  %run  %save  %sc  %set_env  %store  %sx  %system  %tb  %time  %timeit  %unalias  %unload_ext  %who  %who_ls  %whos  %xdel  %xmode\n",
       "\n",
       "Available cell magics:\n",
       "%%!  %%HTML  %%SVG  %%bash  %%capture  %%cmd  %%debug  %%file  %%html  %%javascript  %%js  %%latex  %%markdown  %%perl  %%prun  %%pypy  %%python  %%python2  %%python3  %%ruby  %%script  %%sh  %%svg  %%sx  %%system  %%time  %%timeit  %%writefile\n",
       "\n",
       "Automagic is ON, % prefix IS NOT needed for line magics."
      ]
     },
     "execution_count": 14,
     "metadata": {},
     "output_type": "execute_result"
    }
   ],
   "source": [
    "%lsmagic"
   ]
  },
  {
   "cell_type": "code",
   "execution_count": 32,
   "id": "9afc4e2e-6451-4ed7-9fc5-6150ec779e49",
   "metadata": {},
   "outputs": [
    {
     "data": {
      "text/plain": [
       "<module 'numpy' from 'C:\\\\anaconda3\\\\envs\\\\Python_basic\\\\lib\\\\site-packages\\\\numpy\\\\__init__.py'>"
      ]
     },
     "execution_count": 32,
     "metadata": {},
     "output_type": "execute_result"
    }
   ],
   "source": [
    "np"
   ]
  },
  {
   "cell_type": "code",
   "execution_count": 15,
   "id": "ab0b9c69-b0be-4ab7-b509-a8d8db544d35",
   "metadata": {},
   "outputs": [
    {
     "name": "stdout",
     "output_type": "stream",
     "text": [
      " C 드라이브의 볼륨: WINDOWS\n",
      " 볼륨 일련 번호: 085B-0275\n",
      "\n",
      " c:\\Python_basic 디렉터리\n",
      "\n",
      "2023-03-16  오전 09:49    <DIR>          .\n",
      "2023-03-16  오전 09:49    <DIR>          ..\n",
      "2023-03-15  오후 05:34    <DIR>          .ipynb_checkpoints\n",
      "2023-03-16  오전 09:17             3,371 1-00개발환경.ipynb\n",
      "2023-03-16  오전 09:49            78,633 1-01JupyterNotebook.ipynb\n",
      "2023-03-15  오후 03:25         1,937,368 1-03Basic1_A.ipynb\n",
      "2023-03-15  오후 03:25            16,573 1-03Basic2.ipynb\n",
      "2023-03-15  오후 03:25           152,481 1-04Sequence_0.ipynb\n",
      "2023-03-15  오후 03:25            40,221 1-05Strings-Usages.ipynb\n",
      "2023-03-15  오후 05:18               140 add.py\n",
      "2023-03-15  오후 05:34               839 lecture1_과제.md\n",
      "2023-03-15  오후 05:27                21 sub1.md\n",
      "               9개 파일           2,229,647 바이트\n",
      "               3개 디렉터리  28,907,294,720 바이트 남음\n"
     ]
    }
   ],
   "source": [
    "%ls"
   ]
  },
  {
   "cell_type": "code",
   "execution_count": 16,
   "id": "858ce59a-1ac6-4b6c-b5fc-de79ddc7c52b",
   "metadata": {},
   "outputs": [
    {
     "name": "stdout",
     "output_type": "stream",
     "text": [
      "Variable   Type        Data/Info\n",
      "--------------------------------\n",
      "a          str         hello\n",
      "b          str         hello\n",
      "np         module      <module 'numpy' from 'C:\\<...>ges\\\\numpy\\\\__init__.py'>\n",
      "sum        function    <function sum at 0x000002B771174310>\n"
     ]
    }
   ],
   "source": [
    "%whos"
   ]
  },
  {
   "cell_type": "code",
   "execution_count": 17,
   "id": "91498dda-8073-4be4-9e97-1b6815ab6fd9",
   "metadata": {},
   "outputs": [],
   "source": [
    "del a"
   ]
  },
  {
   "cell_type": "code",
   "execution_count": 21,
   "id": "04957912-9a87-4f21-b43d-8d5c7660ec7b",
   "metadata": {},
   "outputs": [
    {
     "name": "stdout",
     "output_type": "stream",
     "text": [
      "Variable   Type        Data/Info\n",
      "--------------------------------\n",
      "b          str         hello\n",
      "sum        function    <function sum at 0x000002B771174310>\n"
     ]
    }
   ],
   "source": [
    "%whos"
   ]
  },
  {
   "cell_type": "code",
   "execution_count": null,
   "id": "cb4e3203-91b8-46e5-b404-f92efe11c90a",
   "metadata": {},
   "outputs": [],
   "source": [
    "%%writefile"
   ]
  },
  {
   "cell_type": "code",
   "execution_count": 33,
   "id": "ca886b5c-fe28-4702-ac61-39a2f45fa219",
   "metadata": {},
   "outputs": [
    {
     "name": "stdout",
     "output_type": "stream",
     "text": [
      "Overwriting add.py\n"
     ]
    }
   ],
   "source": [
    "%%writefile add.py\n",
    "\n",
    "def add(x:int, y:int) -> int:\n",
    "    \"\"\"add()는 두 수를 더한 결과를 반환한다.\n",
    "    \"\"\"\n",
    "    return x+y\n",
    "\n",
    "print(add(100, 20))"
   ]
  },
  {
   "cell_type": "code",
   "execution_count": 32,
   "id": "f96b14b7-eaf2-4e9d-8b41-e94651806c97",
   "metadata": {},
   "outputs": [
    {
     "name": "stdout",
     "output_type": "stream",
     "text": [
      " C 드라이브의 볼륨: WINDOWS\n",
      " 볼륨 일련 번호: 085B-0275\n",
      "\n",
      " c:\\Python_basic 디렉터리\n",
      "\n",
      "2023-03-16  오전 10:17               221 add.py\n",
      "               1개 파일                 221 바이트\n",
      "               0개 디렉터리  28,916,903,936 바이트 남음\n"
     ]
    }
   ],
   "source": [
    "%ls add.py"
   ]
  },
  {
   "cell_type": "code",
   "execution_count": 28,
   "id": "5b9e9473-c2db-4d80-8c2f-4be3eb35827c",
   "metadata": {},
   "outputs": [
    {
     "data": {
      "text/plain": [
       "\u001b[1;33m\n",
       "\u001b[0m\u001b[1;32mdef\u001b[0m \u001b[0madd\u001b[0m\u001b[1;33m(\u001b[0m\u001b[0mx\u001b[0m\u001b[1;33m:\u001b[0m\u001b[0mint\u001b[0m\u001b[1;33m,\u001b[0m \u001b[0my\u001b[0m\u001b[1;33m:\u001b[0m\u001b[0mint\u001b[0m\u001b[1;33m)\u001b[0m \u001b[1;33m->\u001b[0m \u001b[0mint\u001b[0m\u001b[1;33m:\u001b[0m\u001b[1;33m\n",
       "\u001b[0m    \u001b[1;32mreturn\u001b[0m \u001b[0mx\u001b[0m\u001b[1;33m+\u001b[0m\u001b[0my\u001b[0m\u001b[1;33m\n",
       "\u001b[0m\u001b[1;33m\n",
       "\u001b[0m\u001b[0mprint\u001b[0m\u001b[1;33m(\u001b[0m\u001b[1;34m'reuslt'\u001b[0m\u001b[1;33m,\u001b[0m\u001b[0madd\u001b[0m\u001b[1;33m(\u001b[0m\u001b[1;36m100\u001b[0m\u001b[1;33m,\u001b[0m \u001b[1;36m20\u001b[0m\u001b[1;33m)\u001b[0m\u001b[1;33m)\u001b[0m\u001b[1;33m\u001b[0m\u001b[1;33m\u001b[0m\u001b[0m\n"
      ]
     },
     "metadata": {},
     "output_type": "display_data"
    }
   ],
   "source": [
    "%pycat add.py"
   ]
  },
  {
   "cell_type": "code",
   "execution_count": 27,
   "id": "11ed453e-a740-48fa-9cfb-cef158662950",
   "metadata": {},
   "outputs": [
    {
     "name": "stdout",
     "output_type": "stream",
     "text": [
      "Overwriting add.py\n"
     ]
    }
   ],
   "source": [
    "%%writefile add.py\n",
    "\n",
    "def add(x:int, y:int) -> int:\n",
    "    return x+y\n",
    "\n",
    "print('reuslt',add(100, 20))"
   ]
  },
  {
   "cell_type": "code",
   "execution_count": 29,
   "id": "52920f9f-5024-46ee-b36a-c81e299a0eeb",
   "metadata": {},
   "outputs": [
    {
     "name": "stdout",
     "output_type": "stream",
     "text": [
      "Appending to add.py\n"
     ]
    }
   ],
   "source": [
    "%%writefile -a add.py\n",
    "\n",
    "def add(x:int, y:int) -> int:\n",
    "    \"\"\"add()는 두 수를 더한 결과를 반환한다.\n",
    "    \"\"\"\n",
    "    return x+y\n",
    "\n",
    "print(add(100, 20))"
   ]
  },
  {
   "cell_type": "code",
   "execution_count": 34,
   "id": "426856b4-c856-41c9-9c5d-b1f05c71961d",
   "metadata": {},
   "outputs": [
    {
     "data": {
      "text/plain": [
       "\u001b[1;33m\n",
       "\u001b[0m\u001b[1;32mdef\u001b[0m \u001b[0madd\u001b[0m\u001b[1;33m(\u001b[0m\u001b[0mx\u001b[0m\u001b[1;33m:\u001b[0m\u001b[0mint\u001b[0m\u001b[1;33m,\u001b[0m \u001b[0my\u001b[0m\u001b[1;33m:\u001b[0m\u001b[0mint\u001b[0m\u001b[1;33m)\u001b[0m \u001b[1;33m->\u001b[0m \u001b[0mint\u001b[0m\u001b[1;33m:\u001b[0m\u001b[1;33m\n",
       "\u001b[0m    \u001b[1;34m\"\"\"add()는 두 수를 더한 결과를 반환한다.\n",
       "    \"\"\"\u001b[0m\u001b[1;33m\n",
       "\u001b[0m    \u001b[1;32mreturn\u001b[0m \u001b[0mx\u001b[0m\u001b[1;33m+\u001b[0m\u001b[0my\u001b[0m\u001b[1;33m\n",
       "\u001b[0m\u001b[1;33m\n",
       "\u001b[0m\u001b[0mprint\u001b[0m\u001b[1;33m(\u001b[0m\u001b[0madd\u001b[0m\u001b[1;33m(\u001b[0m\u001b[1;36m100\u001b[0m\u001b[1;33m,\u001b[0m \u001b[1;36m20\u001b[0m\u001b[1;33m)\u001b[0m\u001b[1;33m)\u001b[0m\u001b[1;33m\u001b[0m\u001b[1;33m\u001b[0m\u001b[0m\n"
      ]
     },
     "metadata": {},
     "output_type": "display_data"
    }
   ],
   "source": [
    "%pycat add.py"
   ]
  },
  {
   "cell_type": "code",
   "execution_count": null,
   "id": "4bf94bff-5f1e-4380-85ce-bc14a43a60a0",
   "metadata": {},
   "outputs": [],
   "source": [
    "%run"
   ]
  },
  {
   "cell_type": "code",
   "execution_count": 35,
   "id": "0016a3f3-1dfc-4fc0-899d-9b0644b8d02c",
   "metadata": {},
   "outputs": [
    {
     "name": "stdout",
     "output_type": "stream",
     "text": [
      "120\n"
     ]
    }
   ],
   "source": [
    "%run add.py"
   ]
  },
  {
   "cell_type": "code",
   "execution_count": 37,
   "id": "7741b8ec-10a4-4edc-ac67-396cf0265b27",
   "metadata": {},
   "outputs": [
    {
     "name": "stdout",
     "output_type": "stream",
     "text": [
      "120\n"
     ]
    }
   ],
   "source": [
    "! python add.py"
   ]
  },
  {
   "cell_type": "code",
   "execution_count": 38,
   "id": "d8ca5f15-d6ac-4727-b94c-d5c0169e7098",
   "metadata": {},
   "outputs": [
    {
     "data": {
      "text/plain": [
       "'c:\\\\Python_basic'"
      ]
     },
     "execution_count": 38,
     "metadata": {},
     "output_type": "execute_result"
    }
   ],
   "source": [
    "%pwd"
   ]
  },
  {
   "cell_type": "code",
   "execution_count": 42,
   "id": "88ca145a-8286-4d49-8f34-a28b0fe89e6d",
   "metadata": {},
   "outputs": [
    {
     "name": "stdout",
     "output_type": "stream",
     "text": [
      "c:\\\n"
     ]
    }
   ],
   "source": [
    "%cd ."
   ]
  },
  {
   "cell_type": "code",
   "execution_count": 46,
   "id": "0a2f379d-9b6a-45f1-975a-e420446cffc9",
   "metadata": {},
   "outputs": [
    {
     "data": {
      "text/plain": [
       "'c:\\\\Python_basic'"
      ]
     },
     "execution_count": 46,
     "metadata": {},
     "output_type": "execute_result"
    }
   ],
   "source": [
    "%pwd"
   ]
  },
  {
   "cell_type": "code",
   "execution_count": 44,
   "id": "0ce6ff83-847e-4bb5-b0d2-1382e4681694",
   "metadata": {
    "collapsed": true,
    "jupyter": {
     "outputs_hidden": true
    },
    "tags": []
   },
   "outputs": [
    {
     "name": "stdout",
     "output_type": "stream",
     "text": [
      " C 드라이브의 볼륨: WINDOWS\n",
      " 볼륨 일련 번호: 085B-0275\n",
      "\n",
      " c:\\ 디렉터리\n",
      "\n",
      "2018-08-02  오후 04:29    <DIR>          $SysReset\n",
      "2021-10-29  오전 10:34    <DIR>          .CDN\n",
      "2023-02-27  오후 12:08    <DIR>          anaconda3\n",
      "2021-12-16  오후 05:43    <DIR>          BlenderGISCache\n",
      "2019-03-12  오후 02:45            10,240 cert9.db\n",
      "2019-10-24  오후 12:45    <DIR>          code\n",
      "2016-01-18  오전 02:33    <DIR>          EFI\n",
      "2007-11-07  오전 08:00            17,734 eula.1028.txt\n",
      "2007-11-07  오전 08:00            17,734 eula.1031.txt\n",
      "2007-11-07  오전 08:00            10,134 eula.1033.txt\n",
      "2007-11-07  오전 08:00            17,734 eula.1036.txt\n",
      "2007-11-07  오전 08:00            17,734 eula.1040.txt\n",
      "2007-11-07  오전 08:00               118 eula.1041.txt\n",
      "2007-11-07  오전 08:00            17,734 eula.1042.txt\n",
      "2007-11-07  오전 08:00            17,734 eula.2052.txt\n",
      "2007-11-07  오전 08:00            17,734 eula.3082.txt\n",
      "2007-11-07  오전 08:00             1,110 globdata.ini\n",
      "2007-11-07  오전 08:03           562,688 install.exe\n",
      "2007-11-07  오전 08:00               843 install.ini\n",
      "2007-11-07  오전 08:03            76,304 install.res.1028.dll\n",
      "2007-11-07  오전 08:03            96,272 install.res.1031.dll\n",
      "2007-11-07  오전 08:03            91,152 install.res.1033.dll\n",
      "2007-11-07  오전 08:03            97,296 install.res.1036.dll\n",
      "2007-11-07  오전 08:03            95,248 install.res.1040.dll\n",
      "2007-11-07  오전 08:03            81,424 install.res.1041.dll\n",
      "2007-11-07  오전 08:03            79,888 install.res.1042.dll\n",
      "2007-11-07  오전 08:03            75,792 install.res.2052.dll\n",
      "2007-11-07  오전 08:03            96,272 install.res.3082.dll\n",
      "2023-03-16  오전 08:52    <DIR>          Intel\n",
      "2021-12-14  오후 08:24    <DIR>          KB증권\n",
      "2019-03-12  오후 02:45             9,216 key4.db\n",
      "2020-09-08  오후 01:03    <DIR>          Kings\n",
      "2021-12-14  오후 08:25    <DIR>          KiwoomHero4\n",
      "2020-02-03  오전 11:53               855 maria_install_log.log\n",
      "2020-02-03  오전 11:53    <DIR>          MariaDB\n",
      "2020-12-25  오후 04:26    <DIR>          Netmarble\n",
      "2018-04-01  오후 04:17             2,769 office.sql\n",
      "2019-09-12  오전 12:08    <DIR>          oraclexe\n",
      "2019-12-07  오후 06:14    <DIR>          PerfLogs\n",
      "2023-03-16  오전 08:55    <DIR>          Program Files\n",
      "2023-03-14  오전 09:15    <DIR>          Program Files (x86)\n",
      "2023-03-16  오전 10:34    <DIR>          Python_basic\n",
      "2023-03-08  오후 09:58    <DIR>          pythondata\n",
      "2023-03-13  오후 01:20    <DIR>          pythondata2\n",
      "2023-01-12  오후 01:39    <DIR>          Riot Games\n",
      "2020-02-03  오전 11:51    <DIR>          SmartMaker\n",
      "2020-07-20  오후 07:44    <DIR>          sqlite3\n",
      "2023-03-14  오전 10:47    <DIR>          Temp\n",
      "2022-10-23  오후 06:06    <DIR>          Users\n",
      "2007-11-07  오전 08:09         1,442,522 VC_RED.cab\n",
      "2007-11-07  오전 08:12           232,960 VC_RED.MSI\n",
      "2007-11-07  오전 08:00             5,686 vcredist.bmp\n",
      "2023-03-02  오전 10:18    <DIR>          Windows\n",
      "2019-09-19  오전 10:49    <DIR>          Windows10Upgrade\n",
      "2018-06-27  오후 01:45    <DIR>          WNS Files\n",
      "2019-11-30  오후 03:55    <DIR>          xampp\n",
      "2021-12-16  오전 09:59    <DIR>          zed_converter\n",
      "              28개 파일           3,192,927 바이트\n",
      "              29개 디렉터리  28,845,096,960 바이트 남음\n"
     ]
    }
   ],
   "source": [
    "%ls"
   ]
  },
  {
   "cell_type": "code",
   "execution_count": 45,
   "id": "9295bd8e-8d8f-4cee-82a5-4fd9d416b1c6",
   "metadata": {},
   "outputs": [
    {
     "name": "stdout",
     "output_type": "stream",
     "text": [
      "c:\\Python_basic\n"
     ]
    }
   ],
   "source": [
    "%cd c:\\Python_basic"
   ]
  },
  {
   "cell_type": "code",
   "execution_count": 40,
   "id": "de8072c2-c03e-485d-bdff-79313a0591e6",
   "metadata": {
    "collapsed": true,
    "jupyter": {
     "outputs_hidden": true
    },
    "tags": []
   },
   "outputs": [
    {
     "name": "stdout",
     "output_type": "stream",
     "text": [
      " C 드라이브의 볼륨: WINDOWS\n",
      " 볼륨 일련 번호: 085B-0275\n",
      "\n",
      " c:\\Python_basic 디렉터리\n",
      "\n",
      "2023-03-16  오전 10:32    <DIR>          .\n",
      "2023-03-16  오전 10:32    <DIR>          ..\n",
      "2023-03-16  오전 10:18    <DIR>          .ipynb_checkpoints\n",
      "2023-03-16  오전 09:17             3,371 1-00개발환경.ipynb\n",
      "2023-03-16  오전 10:30            82,576 1-01JupyterNotebook.ipynb\n",
      "2023-03-15  오후 03:25         1,937,368 1-03Basic1_A.ipynb\n",
      "2023-03-15  오후 03:25            16,573 1-03Basic2.ipynb\n",
      "2023-03-15  오후 03:25           152,481 1-04Sequence_0.ipynb\n",
      "2023-03-15  오후 03:25            40,221 1-05Strings-Usages.ipynb\n",
      "2023-03-16  오전 10:21               140 add.py\n",
      "2023-03-15  오후 05:34               839 lecture1_과제.md\n",
      "2023-03-15  오후 05:27                21 sub1.md\n",
      "2023-03-16  오전 10:32    <DIR>          test\n",
      "               9개 파일           2,233,590 바이트\n",
      "               4개 디렉터리  28,850,892,800 바이트 남음\n"
     ]
    }
   ],
   "source": [
    "%ls"
   ]
  },
  {
   "cell_type": "code",
   "execution_count": 66,
   "id": "21758526-f8c9-4f95-9fa8-8d3c8eb31bcb",
   "metadata": {},
   "outputs": [],
   "source": [
    "%mkdir test"
   ]
  },
  {
   "cell_type": "code",
   "execution_count": 57,
   "id": "81b054fb-9671-4f4b-b5a5-f972654e352d",
   "metadata": {},
   "outputs": [
    {
     "name": "stdout",
     "output_type": "stream",
     "text": [
      " C 드라이브의 볼륨: WINDOWS\n",
      " 볼륨 일련 번호: 085B-0275\n",
      "\n",
      " c:\\Python_basic 디렉터리\n",
      "\n",
      "2023-03-16  오전 10:42    <DIR>          .\n",
      "2023-03-16  오전 10:42    <DIR>          ..\n",
      "2023-03-16  오전 10:18    <DIR>          .ipynb_checkpoints\n",
      "2023-03-16  오전 09:17             3,371 1-00개발환경.ipynb\n",
      "2023-03-16  오전 10:42            90,908 1-01JupyterNotebook.ipynb\n",
      "2023-03-15  오후 03:25         1,937,368 1-03Basic1_A.ipynb\n",
      "2023-03-15  오후 03:25            16,573 1-03Basic2.ipynb\n",
      "2023-03-15  오후 03:25           152,481 1-04Sequence_0.ipynb\n",
      "2023-03-15  오후 03:25            40,221 1-05Strings-Usages.ipynb\n",
      "2023-03-16  오전 10:21               140 add.py\n",
      "2023-03-15  오후 05:34               839 lecture1_과제.md\n",
      "2023-03-15  오후 05:27                21 sub1.md\n",
      "2023-03-16  오전 10:32    <DIR>          test\n",
      "2023-03-16  오전 10:37    <DIR>          test2\n",
      "               9개 파일           2,241,922 바이트\n",
      "               5개 디렉터리  28,851,916,800 바이트 남음\n"
     ]
    }
   ],
   "source": [
    "%ls"
   ]
  },
  {
   "cell_type": "code",
   "execution_count": 47,
   "id": "707c22e1-94b9-449a-9b9e-8c7c4db5bfde",
   "metadata": {},
   "outputs": [
    {
     "name": "stderr",
     "output_type": "stream",
     "text": [
      "하위 디렉터리 또는 파일 test2이(가) 이미 있습니다.\n"
     ]
    }
   ],
   "source": [
    "!mkdir test2"
   ]
  },
  {
   "cell_type": "code",
   "execution_count": 69,
   "id": "15af903e-b89d-4790-a077-353c861169c9",
   "metadata": {},
   "outputs": [
    {
     "name": "stderr",
     "output_type": "stream",
     "text": [
      "지정된 파일을 찾을 수 없습니다.\n"
     ]
    }
   ],
   "source": [
    "# dir 삭제\n",
    "%rmdir test"
   ]
  },
  {
   "cell_type": "code",
   "execution_count": 70,
   "id": "78da3fdd-05be-4138-93ec-6a3b051d382b",
   "metadata": {},
   "outputs": [
    {
     "name": "stdout",
     "output_type": "stream",
     "text": [
      " C 드라이브의 볼륨: WINDOWS\n",
      " 볼륨 일련 번호: 085B-0275\n",
      "\n",
      " c:\\Python_basic 디렉터리\n",
      "\n",
      "2023-03-16  오전 11:02    <DIR>          .\n",
      "2023-03-16  오전 11:02    <DIR>          ..\n",
      "2023-03-16  오전 10:18    <DIR>          .ipynb_checkpoints\n",
      "2023-03-16  오전 09:17             3,371 1-00개발환경.ipynb\n",
      "2023-03-16  오전 11:02            91,778 1-01JupyterNotebook.ipynb\n",
      "2023-03-15  오후 03:25         1,937,368 1-03Basic1_A.ipynb\n",
      "2023-03-15  오후 03:25            16,573 1-03Basic2.ipynb\n",
      "2023-03-15  오후 03:25           152,481 1-04Sequence_0.ipynb\n",
      "2023-03-15  오후 03:25            40,221 1-05Strings-Usages.ipynb\n",
      "2023-03-16  오전 10:21               140 add.py\n",
      "2023-03-15  오후 05:34               839 lecture1_과제.md\n",
      "2023-03-15  오후 05:27                21 sub1.md\n",
      "2023-03-16  오전 10:37    <DIR>          test2\n",
      "               9개 파일           2,242,792 바이트\n",
      "               4개 디렉터리  28,830,916,608 바이트 남음\n"
     ]
    }
   ],
   "source": [
    "%ls"
   ]
  },
  {
   "cell_type": "code",
   "execution_count": 48,
   "id": "c4d7068b-d3ed-4621-95ae-3e11b96b521e",
   "metadata": {},
   "outputs": [
    {
     "name": "stderr",
     "output_type": "stream",
     "text": [
      "'mv'은(는) 내부 또는 외부 명령, 실행할 수 있는 프로그램, 또는\n",
      "배치 파일이 아닙니다.\n"
     ]
    }
   ],
   "source": [
    "!mv test2 test3"
   ]
  },
  {
   "cell_type": "code",
   "execution_count": 73,
   "id": "d166377b-54da-4080-a2db-a4c203ddf391",
   "metadata": {},
   "outputs": [],
   "source": [
    "# rename\n",
    "%ren test2 test3"
   ]
  },
  {
   "cell_type": "code",
   "execution_count": 74,
   "id": "39466e03-5202-493e-a883-42223b70db1f",
   "metadata": {},
   "outputs": [],
   "source": [
    "!ren test3 test2"
   ]
  },
  {
   "cell_type": "code",
   "execution_count": 2,
   "id": "58f50d4c-c4a2-4876-8b7a-defa6c50c293",
   "metadata": {},
   "outputs": [
    {
     "name": "stdout",
     "output_type": "stream",
     "text": [
      "%reset\n",
      "%history\n"
     ]
    }
   ],
   "source": [
    "%history"
   ]
  },
  {
   "cell_type": "code",
   "execution_count": 1,
   "id": "6211f88c-f9e7-4346-b141-e2e855e5a586",
   "metadata": {},
   "outputs": [
    {
     "name": "stdin",
     "output_type": "stream",
     "text": [
      "Once deleted, variables cannot be recovered. Proceed (y/[n])?  y\n"
     ]
    }
   ],
   "source": [
    "%reset"
   ]
  },
  {
   "cell_type": "code",
   "execution_count": 3,
   "id": "67e1393d-7848-4e59-a9d6-51d251dab6ef",
   "metadata": {},
   "outputs": [
    {
     "name": "stdout",
     "output_type": "stream",
     "text": [
      "Interactive namespace is empty.\n"
     ]
    }
   ],
   "source": [
    "%whos"
   ]
  },
  {
   "cell_type": "markdown",
   "id": "60f8e7b7-ac13-4083-8c46-38441873809f",
   "metadata": {},
   "source": [
    "### ex) 외부명령 실행 결과 저장하는 방법 찾아보세요!!!"
   ]
  },
  {
   "cell_type": "code",
   "execution_count": 71,
   "id": "194ba128-6688-4743-bfd3-c08fc17cb7a8",
   "metadata": {},
   "outputs": [
    {
     "name": "stdout",
     "output_type": "stream",
     "text": [
      "특정 명령어에 대한 자세한 내용이 필요하면 HELP 명령어 이름을 입력하십시오.\n",
      "ASSOC    파일 확장명 연결을 보여주거나 수정합니다.\n",
      "ATTRIB   파일 속성을 표시하거나 바꿉니다.\n",
      "BREAK    확장된 CTRL+C 검사를 설정하거나 지웁니다.\n",
      "BCDEDIT        부팅 로딩을 제어하기 위해 부팅 데이터베이스에서 속성을 설정합니다.\n",
      "CACLS    파일의 액세스 컨트롤 목록(ACL)을 표시하거나 수정합니다.\n",
      "CALL     한 일괄 프로그램에서 다른 일괄 프로그램을 호출합니다.\n",
      "CD       현재 디렉터리 이름을 보여주거나 바꿉니다.\n",
      "CHCP     활성화된 코드 페이지의 번호를 표시하거나 설정합니다.\n",
      "CHDIR    현재 디렉터리 이름을 보여주거나 바꿉니다.\n",
      "CHKDSK   디스크를 검사하고 상태 보고서를 표시합니다.\n",
      "CHKNTFS  부팅하는 동안 디스크 확인을 화면에 표시하거나 변경합니다.\n",
      "CLS      화면을 지웁니다.\n",
      "CMD      Windows 명령 인터프리터의 새 인스턴스를 시작합니다.\n",
      "COLOR    콘솔의 기본색과 배경색을 설정합니다.\n",
      "COMP     두 개 또는 여러 개의 파일을 비교합니다.\n",
      "COMPACT  NTFS 분할 영역에 있는 파일의 압축을 표시하거나 변경합니다.\n",
      "CONVERT  FAT 볼륨을 NTFS로 변환합니다. 현재 드라이브는\n",
      "         변환할 수 없습니다.\n",
      "COPY     하나 이상의 파일을 다른 위치로 복사합니다.\n",
      "DATE     날짜를 보여주거나 설정합니다.\n",
      "DEL      하나 이상의 파일을 지웁니다.\n",
      "DIR      디렉터리에 있는 파일과 하위 디렉터리 목록을 보여줍니다.\n",
      "DISKPART       디스크 파티션 속성을 표시하거나 구성합니다.\n",
      "DOSKEY       명령줄을 편집하고, Windows 명령을 다시 호출하고, \n",
      "               매크로를 만듭니다.\n",
      "DRIVERQUERY    현재 장치 드라이버 상태와 속성을 표시합니다.\n",
      "ECHO           메시지를 표시하거나 ECHO를 켜거나 끕니다.\n",
      "ENDLOCAL       배치 파일에서 환경 변경의 지역화를 끝냅니다.\n",
      "ERASE          하나 이상의 파일을 지웁니다.\n",
      "EXIT           CMD.EXE 프로그램(명령 인터프리터)을 종료합니다.\n",
      "FC             두 파일 또는 파일 집합을 비교하여 다른 점을\n",
      "         표시합니다.\n",
      "FIND           파일에서 텍스트 문자열을 검색합니다.\n",
      "FINDSTR        파일에서 문자열을 검색합니다.\n",
      "FOR            파일 집합의 각 파일에 대해 지정된 명령을 실행합니다.\n",
      "FORMAT         Windows에서 사용할 디스크를 포맷합니다.\n",
      "FSUTIL         파일 시스템 속성을 표시하거나 구성합니다.\n",
      "FTYPE          파일 확장명 연결에 사용되는 파일 형식을 표시하거나 \n",
      "               수정합니다.\n",
      "GOTO           Windows 명령 인터프리터가 일괄 프로그램에서 \n",
      "               이름표가 붙여진 줄로 이동합니다.\n",
      "GPRESULT       컴퓨터 또는 사용자에 대한 그룹 정책 정보를 표시합니다.\n",
      "GRAFTABL       Windows가 그래픽 모드에서 확장 문자 세트를 표시할\n",
      "         수 있게 합니다.\n",
      "HELP           Windows 명령에 대한 도움말 정보를 제공합니다.\n",
      "ICACLS         파일과 디렉터리에 대한 ACL을 표시, 수정, 백업 또는 \n",
      "               복원합니다.\n",
      "IF             일괄 프로그램에서 조건 처리를 수행합니다.\n",
      "LABEL          디스크의 볼륨 이름을 만들거나, 바꾸거나, 지웁니다.\n",
      "MD             디렉터리를 만듭니다.\n",
      "MKDIR          디렉터리를 만듭니다.\n",
      "MKLINK         바로 가기 링크와 하드 링크를 만듭니다.\n",
      "MODE           시스템 장치를 구성합니다.\n",
      "MORE           출력을 한번에 한 화면씩 표시합니다.\n",
      "MOVE           하나 이상의 파일을 한 디렉터리에서 다른 디렉터리로 \n",
      "               이동합니다.\n",
      "OPENFILES      파일 공유에서 원격 사용자에 의해 열린 파일을 표시합니다.\n",
      "PATH           실행 파일의 찾기 경로를 표시하거나 설정합니다.\n",
      "PAUSE          배치 파일의 처리를 일시 중단하고 메시지를 표시합니다.\n",
      "POPD           PUSHD에 의해 저장된 현재 디렉터리의 이전 값을 \n",
      "               복원합니다.\n",
      "PRINT          텍스트 파일을 인쇄합니다.\n",
      "PROMPT         Windows 명령 프롬프트를 변경합니다.\n",
      "PUSHD          현재 디렉터리를 저장한 다음 변경합니다.\n",
      "RD             디렉터리를 제거합니다.\n",
      "RECOVER        불량이거나 결함이 있는 디스크에서 읽을 수 있는 정보를 복구합니다.\n",
      "REM            배치 파일 또는 CONFIG.SYS에 주석을 기록합니다.\n",
      "REN            파일 이름을 바꿉니다.\n",
      "RENAME         파일 이름을 바꿉니다.\n",
      "REPLACE        파일을 바꿉니다.\n",
      "RMDIR          디렉터리를 제거합니다.\n",
      "ROBOCOPY       파일과 디렉터리 트리를 복사할 수 있는 고급 유틸리티입니다.\n",
      "SET            Windows 환경 변수를 표시, 설정 또는 제거합니다.\n",
      "SETLOCAL       배치 파일에서 환경 변경의 지역화를 시작합니다.\n",
      "SC             서비스(백그라운드 프로세스)를 표시하거나 구성합니다.\n",
      "SCHTASKS       컴퓨터에서 실행할 명령과 프로그램을 예약합니다.\n",
      "SHIFT          배치 파일에서 바꿀 수 있는 매개 변수의 위치를 바꿉니다.\n",
      "SHUTDOWN       컴퓨터의 로컬 또는 원격 종료를 허용합니다.\n",
      "SORT           입력을 정렬합니다.\n",
      "START          지정한 프로그램이나 명령을 실행할 별도의 창을 시작합니다.\n",
      "SUBST          경로를 드라이브 문자에 연결합니다.\n",
      "SYSTEMINFO     컴퓨터별 속성과 구성을 표시합니다.\n",
      "TASKLIST       서비스를 포함하여 현재 실행 중인 모든 작업을 표시합니다.\n",
      "TASKKILL       실행 중인 프로세스나 응용 프로그램을 중단합니다.\n",
      "TIME           시스템 시간을 표시하거나 설정합니다.\n",
      "TITLE          CMD.EXE 세션에 대한 창 제목을 설정합니다.\n",
      "TREE           드라이브 또는 경로의 디렉터리 구조를 그래픽으로 \n",
      "               표시합니다.\n",
      "TYPE           텍스트 파일의 내용을 표시합니다.\n",
      "VER            Windows 버전을 표시합니다.\n",
      "VERIFY         파일이 디스크에 올바로 기록되었는지 검증할지\n",
      "         여부를 지정합니다.\n",
      "VOL            디스크 볼륨 레이블과 일련 번호를 표시합니다.\n",
      "XCOPY          파일과 디렉터리 트리를 복사합니다.\n",
      "WMIC           대화형 명령 셸 내의 WMI 정보를 표시합니다.\n",
      "\n",
      "도구에 대한 자세한 내용은 온라인 도움말의 명령줄 참조를 참조하십시오.\n"
     ]
    }
   ],
   "source": [
    "!help"
   ]
  },
  {
   "cell_type": "code",
   "execution_count": null,
   "id": "38611fdf-369c-4dc7-8b7c-1df57fdc3271",
   "metadata": {},
   "outputs": [],
   "source": []
  },
  {
   "cell_type": "code",
   "execution_count": null,
   "id": "04616778-ab35-4451-8ea0-bf7d90e50645",
   "metadata": {},
   "outputs": [],
   "source": []
  },
  {
   "cell_type": "markdown",
   "id": "3ba71c6d-c85c-4e38-9d74-f76dbcea5969",
   "metadata": {},
   "source": [
    "## 수행시간 프로파일링\n",
    "\n",
    " - `%time`: 코드를 한번 수행되는 시간\n",
    " - `%timeit` , `%%timeit`: 코드를 여러번 수행해 평균을 측정"
   ]
  },
  {
   "cell_type": "code",
   "execution_count": null,
   "id": "50c23a42-a5a8-4f98-9ec8-db53e2abbed7",
   "metadata": {},
   "outputs": [],
   "source": [
    "import time\n",
    "\n",
    "# 시간 측정 -> 시작시간\n",
    "# 시작\n",
    "\n",
    "#.....\n",
    "\n",
    "# 실행\n",
    "\n",
    "#.....\n",
    "# 종료\n",
    "# 시간 측정 -> 종료시간\n",
    "\n",
    "# 종료시간-시작시간=시간\n"
   ]
  },
  {
   "cell_type": "code",
   "execution_count": 2,
   "id": "5da43163-9e86-4489-9dea-29b85fe317df",
   "metadata": {},
   "outputs": [],
   "source": [
    "from collections import deque"
   ]
  },
  {
   "cell_type": "code",
   "execution_count": null,
   "id": "32c1a7f3-0ac5-432d-b60b-1d7332ee9c30",
   "metadata": {},
   "outputs": [],
   "source": []
  },
  {
   "cell_type": "markdown",
   "id": "4493e420-7a46-4a15-bee1-df7658b58b03",
   "metadata": {},
   "source": [
    "### `%time` 과 `%%time`\n",
    "\n",
    "코드가 한번 실행하는 수행시간을 측정"
   ]
  },
  {
   "cell_type": "code",
   "execution_count": 9,
   "id": "e6c82794-317f-4564-b1eb-d4f9bc0ff7bf",
   "metadata": {},
   "outputs": [
    {
     "name": "stdout",
     "output_type": "stream",
     "text": [
      "CPU times: total: 0 ns\n",
      "Wall time: 0 ns\n"
     ]
    },
    {
     "data": {
      "text/plain": [
       "340282366920938463463374607431768211456"
      ]
     },
     "execution_count": 9,
     "metadata": {},
     "output_type": "execute_result"
    }
   ],
   "source": [
    "%time 2**128"
   ]
  },
  {
   "cell_type": "code",
   "execution_count": 17,
   "id": "559992a8-e86c-4991-bb11-1bfbe83e0d84",
   "metadata": {},
   "outputs": [
    {
     "data": {
      "text/plain": [
       "range(0, 100)"
      ]
     },
     "execution_count": 17,
     "metadata": {},
     "output_type": "execute_result"
    }
   ],
   "source": [
    "range(100)"
   ]
  },
  {
   "cell_type": "code",
   "execution_count": 15,
   "id": "346caefe-c556-403a-87d0-729660eeb873",
   "metadata": {
    "tags": []
   },
   "outputs": [],
   "source": [
    "# %time deque([i for i in range(10000)])"
   ]
  },
  {
   "cell_type": "code",
   "execution_count": 16,
   "id": "d39acd76-7ee4-4a07-91dc-06438d1d768b",
   "metadata": {},
   "outputs": [
    {
     "name": "stdout",
     "output_type": "stream",
     "text": [
      "CPU times: total: 0 ns\n",
      "Wall time: 0 ns\n"
     ]
    },
    {
     "data": {
      "text/plain": [
       "4950"
      ]
     },
     "execution_count": 16,
     "metadata": {},
     "output_type": "execute_result"
    }
   ],
   "source": [
    "%time sum(range(100))"
   ]
  },
  {
   "cell_type": "code",
   "execution_count": 18,
   "id": "afc05683-411d-4ece-b47c-7f966f8df652",
   "metadata": {},
   "outputs": [
    {
     "name": "stdout",
     "output_type": "stream",
     "text": [
      "CPU times: total: 0 ns\n",
      "Wall time: 0 ns\n"
     ]
    },
    {
     "data": {
      "text/plain": [
       "499500"
      ]
     },
     "execution_count": 18,
     "metadata": {},
     "output_type": "execute_result"
    }
   ],
   "source": [
    "%%time\n",
    "sum(range(100))\n",
    "sum(range(1000))"
   ]
  },
  {
   "cell_type": "markdown",
   "id": "1cca44cb-d022-415d-b1fe-dd13ebca0603",
   "metadata": {},
   "source": [
    "### `%timeit` 과 `%%timeit`\n",
    "\n",
    "코드를 여러번 수행한 평균 시간을 측정"
   ]
  },
  {
   "cell_type": "code",
   "execution_count": 19,
   "id": "efb2ad7f-4f1c-4145-90e5-b9d0bde664f6",
   "metadata": {},
   "outputs": [],
   "source": [
    "import numpy as np"
   ]
  },
  {
   "cell_type": "code",
   "execution_count": 21,
   "id": "7fbb9127-f099-47d8-99cf-aea9a928470f",
   "metadata": {},
   "outputs": [
    {
     "name": "stdout",
     "output_type": "stream",
     "text": [
      "20.5 µs ± 559 ns per loop (mean ± std. dev. of 7 runs, 10,000 loops each)\n"
     ]
    }
   ],
   "source": [
    "%%timeit\n",
    "sum(range(100))\n",
    "sum(range(1000))"
   ]
  },
  {
   "cell_type": "code",
   "execution_count": null,
   "id": "27d698e0-be77-4903-95a2-2a83b664de23",
   "metadata": {},
   "outputs": [],
   "source": []
  },
  {
   "cell_type": "code",
   "execution_count": 22,
   "id": "84b3f556-638f-4f7b-bffb-dbedd5f54c3e",
   "metadata": {},
   "outputs": [
    {
     "name": "stdout",
     "output_type": "stream",
     "text": [
      "9.96 µs ± 686 ns per loop (mean ± std. dev. of 7 runs, 100,000 loops each)\n"
     ]
    }
   ],
   "source": [
    "%timeit np.sum(1000)"
   ]
  },
  {
   "cell_type": "code",
   "execution_count": null,
   "id": "849e8e63-323b-4a04-bb5a-d365f112cb8f",
   "metadata": {},
   "outputs": [],
   "source": [
    "%%timeit"
   ]
  },
  {
   "cell_type": "code",
   "execution_count": 3,
   "id": "b5b143e2-5823-4fe7-830e-6ad7eaed2faf",
   "metadata": {},
   "outputs": [
    {
     "name": "stdout",
     "output_type": "stream",
     "text": [
      "5.17 µs ± 163 ns per loop (mean ± std. dev. of 7 runs, 100,000 loops each)\n",
      "560 µs ± 31.8 µs per loop (mean ± std. dev. of 7 runs, 1,000 loops each)\n",
      "128 ms ± 7.69 ms per loop (mean ± std. dev. of 7 runs, 10 loops each)\n",
      "17.1 s ± 1.59 s per loop (mean ± std. dev. of 7 runs, 1 loop each)\n"
     ]
    }
   ],
   "source": [
    "%timeit deque([i for i in range(100)])\n",
    "%timeit deque([i for i in range(10000)])\n",
    "%timeit deque([i for i in range(1000000)])\n",
    "%timeit deque([i for i in range(100000000)])"
   ]
  },
  {
   "cell_type": "code",
   "execution_count": null,
   "id": "8b69a831-c397-4e82-96ce-130677378398",
   "metadata": {},
   "outputs": [],
   "source": [
    "%timeit deque(i for i in range(100))\n",
    "%timeit deque(i for i in range(10000))\n",
    "%timeit deque(i for i in range(1000000))\n",
    "%timeit deque(i for i in range(100000000))"
   ]
  },
  {
   "cell_type": "code",
   "execution_count": null,
   "id": "25922ccd-3417-49ec-a71a-1865855525f3",
   "metadata": {},
   "outputs": [],
   "source": [
    "%timeit deque(range(100))\n",
    "%timeit deque(range(10000))\n",
    "%timeit deque(range(1000000))\n",
    "%timeit deque(range(100000000))"
   ]
  },
  {
   "cell_type": "code",
   "execution_count": null,
   "id": "cc4c4c03-c0c4-45e0-9617-6453c736e08d",
   "metadata": {},
   "outputs": [],
   "source": [
    "%timeit [i for i in range(100)]\n",
    "%timeit [i for i in range(10000)]\n",
    "%timeit [i for i in range(1000000)]\n",
    "%timeit [i for i in range(100000000)]"
   ]
  },
  {
   "cell_type": "code",
   "execution_count": null,
   "id": "67681ea2-6e8b-4e73-8335-4cd282c4f601",
   "metadata": {},
   "outputs": [],
   "source": [
    "%timeit list(range(100))\n",
    "%timeit list(range(10000))\n",
    "%timeit list(range(1000000))\n",
    "%timeit list(range(100000000))"
   ]
  },
  {
   "cell_type": "code",
   "execution_count": null,
   "id": "a77e3437-693a-44fa-a373-0e709ff30379",
   "metadata": {},
   "outputs": [],
   "source": [
    "%%timeit\n",
    "\n",
    "list(range(100))\n",
    "list(range(10000))\n",
    "list(range(1000000))\n",
    "list(range(100000000))"
   ]
  },
  {
   "cell_type": "markdown",
   "id": "27857e4a-3b23-4ecb-b31d-2561c7e2ec4c",
   "metadata": {},
   "source": [
    "### `%timeit` 의 옵션\n",
    "\n",
    "- `-n` : 한 루프당 몇 번 실행할 것인지 지정한다. 지정하지 않으면 알아서 적당히 충분히 정확한 데이터가 나올 정도로 실행함\n",
    "- `-r` : %timeit은 여러번 반복해서 그 평균값과 오차범위를 보여주는데, 몇 번 반복할 것인지를 지정할 수 있다.  기본값으로 7번 반복."
   ]
  },
  {
   "cell_type": "code",
   "execution_count": null,
   "id": "41a66fab-d351-4435-b92e-55efc7798cd1",
   "metadata": {},
   "outputs": [],
   "source": [
    "%%timeit -n 3 -r 3\n",
    "#  3(loops) * 3(runs)로 총 9번 실행이 된다\n",
    "\n",
    "list(range(100))\n",
    "list(range(10000))\n",
    "list(range(1000000))\n",
    "list(range(100000000))"
   ]
  },
  {
   "cell_type": "code",
   "execution_count": 1,
   "id": "fa6624b8-8139-4959-abe1-fda8884cec0a",
   "metadata": {},
   "outputs": [
    {
     "name": "stdout",
     "output_type": "stream",
     "text": [
      "38.1 µs ± 14.8 µs per loop (mean ± std. dev. of 3 runs, 3 loops each)\n"
     ]
    }
   ],
   "source": [
    "%timeit -n 3 -r 3 sum(range(1000))"
   ]
  },
  {
   "cell_type": "code",
   "execution_count": null,
   "id": "de90d0e0-b208-44f5-99f4-32eb5cba6ae8",
   "metadata": {},
   "outputs": [],
   "source": [
    "%timeit -n 1 -r 3 sum(range(1000))"
   ]
  },
  {
   "cell_type": "markdown",
   "id": "99221f36-8731-42e2-bb1f-e3c3db1ada47",
   "metadata": {},
   "source": [
    " - `-t` : 시간계산에 time.time 모듈을 사용하게 된다. Unix 시스템에서 디폴트값이다\n",
    " - `-c` : 시간계산에 time.clock 모듈을 사용하게 된다. Windows 시스템에서 디폴트값이다. Unix시스템에서 이 옵션을 주면 Wall time(사람이 인지할 수 있는 시간) 대신 CPU time으로 계산된다\n",
    " - `-p` : 소숫점 몇자리까지 표시되는지 설정할 수 있다. 디폴트값은 3이다\n",
    " - `-q` : Quiet, 즉 결과값이 출력되지 않는다\n",
    " - `-o` : 결과를 TimeitResult객체로 반환한다"
   ]
  },
  {
   "cell_type": "code",
   "execution_count": null,
   "id": "d51e882b-21b3-4974-a244-692e559d6a8b",
   "metadata": {},
   "outputs": [],
   "source": []
  },
  {
   "cell_type": "markdown",
   "id": "9b15688f-f8d9-4980-8a09-f97364872687",
   "metadata": {},
   "source": [
    "# Markdown 사용\n",
    "\n",
    "https://guides.github.com/features/mastering-markdown/"
   ]
  },
  {
   "cell_type": "markdown",
   "id": "9e060e02-9ed3-481e-ab2c-4b39e290d04c",
   "metadata": {},
   "source": [
    "## 헤딩\n",
    "\n",
    "`#` 으로 `<h>` 태그 표현\n",
    "\n",
    "\n",
    "\n",
    "```html\n",
    "<h1></h1>\n",
    "<h2></h2>\n",
    "<h3></h3>\n",
    "<h4></h4>\n",
    "<h5></h5>\n",
    "```\n"
   ]
  },
  {
   "cell_type": "markdown",
   "id": "ca466d6d-fe32-44a5-9888-e00e474d841d",
   "metadata": {},
   "source": [
    "<h1>안녕</h1>\n",
    "<h2>하세요</h2>"
   ]
  },
  {
   "cell_type": "markdown",
   "id": "658e3ed8-2981-414e-8176-a901c77832f7",
   "metadata": {},
   "source": [
    "# 안녕\n",
    "## 하세요"
   ]
  },
  {
   "cell_type": "markdown",
   "id": "d3bbecab-e82d-4d20-87db-139cb663d939",
   "metadata": {},
   "source": [
    "<h1>안녕, 제목1</h1>"
   ]
  },
  {
   "cell_type": "markdown",
   "id": "9b22c537-b99b-41e0-9fee-e0da289d8f37",
   "metadata": {},
   "source": [
    "# 안녕, 제목1"
   ]
  },
  {
   "cell_type": "markdown",
   "id": "61b9cc23-3cc6-433d-9dee-0e9d3d19f858",
   "metadata": {},
   "source": [
    "## 텍스트 스타일\n",
    "\n",
    "```\n",
    "*안녕하세요*\n",
    "\n",
    "_안녕하세요_\n",
    "\n",
    "\n",
    "**안녕하세요**\n",
    "\n",
    "__안녕하세요__\n",
    "\n",
    "안녕하세요. **IoT** **_과정_** 여러분 ***반갑***습니다.\n",
    "```\n",
    "\n",
    "\n"
   ]
  },
  {
   "cell_type": "markdown",
   "id": "9a430372-e85a-4c27-9d0a-63477d3ea540",
   "metadata": {},
   "source": [
    "*안녕하세요*"
   ]
  },
  {
   "cell_type": "markdown",
   "id": "62592eb3-8c92-46cd-8f57-637d6a99eac4",
   "metadata": {},
   "source": [
    "_안녕하세요_"
   ]
  },
  {
   "cell_type": "markdown",
   "id": "0ac579a1-9dc3-4d89-9a04-431c3d6aa4e0",
   "metadata": {},
   "source": [
    "**안녕하세요**"
   ]
  },
  {
   "cell_type": "markdown",
   "id": "8d01b298-82a4-4023-897a-acf1503591d1",
   "metadata": {},
   "source": [
    "__안녕하세요__"
   ]
  },
  {
   "cell_type": "markdown",
   "id": "89893811-99bd-4197-90ca-6ff7bed91371",
   "metadata": {},
   "source": [
    "안녕하세요. **IoT** **_과정_** 여러분 ***반갑***습니다."
   ]
  },
  {
   "cell_type": "markdown",
   "id": "cb07e2ed-c804-4955-b158-ec61be1f8b90",
   "metadata": {},
   "source": [
    "<u>안녕하세요</u> "
   ]
  },
  {
   "cell_type": "markdown",
   "id": "74aa4580-325e-496f-9358-9bf11c4e1471",
   "metadata": {},
   "source": [
    "## 인용\n",
    "\n",
    "```\n",
    "> 인용은 해당 문서 내용중 외부에서 얻은 자료...\n",
    "자료....\n",
    "\n",
    ">인용은 해당 문서 내용중 외부에서\n",
    "> ```java\n",
    "> public class java {\n",
    "> \n",
    "> }\n",
    "> ```\n",
    "```"
   ]
  },
  {
   "cell_type": "markdown",
   "id": "b8a00ade-24d5-4b5a-b9b2-deb25f875123",
   "metadata": {},
   "source": [
    "> 인용은 해당 문서 내용중 외부에서 얻은 자료...\n",
    "자료....\n",
    "\n",
    "줄바꿈..\n",
    "\n",
    "> 다음 인용문"
   ]
  },
  {
   "cell_type": "markdown",
   "id": "2b6342f5-0d5b-48cb-8618-31605b06731d",
   "metadata": {},
   "source": [
    "> 인용은 해당 문서 내용중 외부에서 얻은 자료...\n",
    "자료....\n",
    "<br>자료\n",
    "<br>입니다.."
   ]
  },
  {
   "cell_type": "markdown",
   "id": "48a41e37-f5fd-46e1-aa11-f91fcadc9e32",
   "metadata": {},
   "source": [
    "안녕하세요\n",
    "안녕"
   ]
  },
  {
   "cell_type": "markdown",
   "id": "2e309ab4-343a-43eb-a28b-231ce0bbce3c",
   "metadata": {},
   "source": [
    "> 인용은 해당 문서 내용중 외부에서 얻은 자료...\n",
    "자료....\n",
    "\n",
    ">인용은 해당 문서 내용중 외부에서\n",
    "> ```java\n",
    "> public class java {\n",
    "> \n",
    "> }\n",
    "> ```"
   ]
  },
  {
   "cell_type": "markdown",
   "id": "9b0aeaa6-6ca4-4f34-892c-a2269b686d8a",
   "metadata": {},
   "source": [
    "## 코드\n",
    "\n",
    "```\n",
    "def foo():\n",
    "    if not bar:\n",
    "        return True\n",
    "```\n"
   ]
  },
  {
   "cell_type": "markdown",
   "id": "23bc71dc-91b2-4ce5-a05f-534e4a182ee0",
   "metadata": {},
   "source": [
    "## Syntax highlighting\n",
    "\n",
    "\n",
    "```python\n",
    "def foo():\n",
    "    if not bar:\n",
    "        return True\n",
    "```"
   ]
  },
  {
   "cell_type": "markdown",
   "id": "33f8a76d-a8ac-467b-9c45-d0906753b8f1",
   "metadata": {},
   "source": [
    "## 링크\n",
    "\n",
    "```\n",
    "[서브1](./sub1.md)\n",
    "\n",
    "[서브1](sub1.md)\n",
    "\n",
    "[서브1](/day2/sub1.md)\n",
    "\n",
    "[깃헙](https://guides.github.com/features/mastering-markdown/)\n",
    "```\n",
    "\n",
    "a link\n",
    "\n",
    "```\n",
    "<a href=\"./sub1.md\">a link 서브1</a>\n",
    "```\n"
   ]
  },
  {
   "cell_type": "markdown",
   "id": "837e6715-b8f4-4427-9742-507335fc4fd2",
   "metadata": {},
   "source": [
    "[서브1](./sub1.md)"
   ]
  },
  {
   "cell_type": "markdown",
   "id": "81b0bb89-c7a9-4d8b-bc64-bd83c579206c",
   "metadata": {},
   "source": [
    "[서브1](sub1.md)\n",
    "\n",
    "[서브1](/day2/sub1.md)\n",
    "\n",
    "[깃헙](https://guides.github.com/features/mastering-markdown/)\n",
    "```\n",
    "\n",
    "a link\n",
    "\n",
    "<a href=\"sub1.md\">a link 서브1</a> <!-- 주석 : 상대적 경로 -->\n",
    "\n",
    "<a href=\"./sub1.md\">a link 서브1</a> <!-- 절대적 경로 -->"
   ]
  },
  {
   "cell_type": "code",
   "execution_count": null,
   "id": "24e17884-e57a-4398-949f-99cbe3a82125",
   "metadata": {},
   "outputs": [],
   "source": []
  },
  {
   "cell_type": "markdown",
   "id": "d9ea8e5c-df3c-4409-a374-34043633ab3a",
   "metadata": {
    "tags": []
   },
   "source": [
    "## 이미지\n",
    "\n",
    "```\n",
    "![](https://octodex.github.com/images/yaktocat.png)\n",
    "\n",
    "<img src='https://octodex.github.com/images/yaktocat.png' width=200>\n",
    "```\n"
   ]
  },
  {
   "cell_type": "markdown",
   "id": "0166f58b-baa7-4f9e-a860-b3840fc8dee9",
   "metadata": {},
   "source": [
    "<img src='https://octodex.github.com/images/yaktocat.png' width=200>"
   ]
  },
  {
   "cell_type": "markdown",
   "id": "d5221f70-1643-4485-8182-6fab03fd66f5",
   "metadata": {},
   "source": [
    "<img src='yaktocat.png' width=100>"
   ]
  },
  {
   "cell_type": "markdown",
   "id": "a2ea846d-f2c1-466c-b247-9bd29f2e3436",
   "metadata": {},
   "source": [
    "<img src='images/yaktocat.png' width=100> <!-- 상대위치 -->"
   ]
  },
  {
   "cell_type": "markdown",
   "id": "3ccaf15b-e864-4d7e-a87b-533bf4e7a123",
   "metadata": {},
   "source": [
    "<img src='./images/yaktocat.png' width=100> <!-- 절대위치 -->"
   ]
  },
  {
   "cell_type": "markdown",
   "id": "25014a1e-fabd-4de7-81bd-5031e5cdd45b",
   "metadata": {},
   "source": [
    "raw 이미지(마크다운 raw포맷)"
   ]
  },
  {
   "cell_type": "markdown",
   "id": "4c73868b-cca3-449c-987a-42dea5b3923a",
   "metadata": {},
   "source": []
  },
  {
   "attachments": {
    "ed8562b9-df54-480f-aedc-1da1dfe9f1a0.png": {
     "image/png": "[encoded data removed]"
    }
   },
   "cell_type": "markdown",
   "id": "2aff46dd-c784-447b-b9cc-c580f0829fc4",
   "metadata": {},
   "source": [
    "![image.png](attachment:ed8562b9-df54-480f-aedc-1da1dfe9f1a0.png)"
   ]
  },
  {
   "cell_type": "code",
   "execution_count": null,
   "id": "62b37213-2328-4bbc-bf25-0163e6cc2dc5",
   "metadata": {},
   "outputs": [],
   "source": []
  },
  {
   "attachments": {
    "ed8562b9-df54-480f-aedc-1da1dfe9f1a0.png": {
     "image/png": "[encoded data removed]"
    }
   },
   "cell_type": "markdown",
   "id": "baba9c3f-429e-45ab-b7ba-a36e9d3a50ce",
   "metadata": {},
   "source": [
    "<img src='attachment:ed8562b9-df54-480f-aedc-1da1dfe9f1a0.png' width=100>"
   ]
  },
  {
   "cell_type": "markdown",
   "id": "bd4aa348-916e-4c18-9bd9-9ee2c74a3456",
   "metadata": {},
   "source": [
    "## 리스트\n",
    "\n",
    "HTML 리스트\n",
    "\n",
    "```\n",
    "<ul>\n",
    " <li>하나\n",
    " <li>둘\n",
    "</ul>\n",
    "\n",
    "<ol>\n",
    " <li>하나\n",
    " <li>둘\n",
    "</ol>\n",
    "```"
   ]
  },
  {
   "cell_type": "markdown",
   "id": "8d813ea5-d0b7-4dc1-af9f-a54c8a3630f8",
   "metadata": {},
   "source": [
    "마크다운 리스트\n",
    "\n",
    "```\n",
    "- 아이템1\n",
    "- 아이템2\n",
    "    - 아이템22\n",
    "\n",
    "+ 아이템1\n",
    "+ 아이템2\n",
    "    - 아이템3\n",
    "    - 아이템4\n",
    "\n",
    "- 아이템1\n",
    "    - 아이템 중에 **중요**한 것으..\n",
    "```"
   ]
  },
  {
   "cell_type": "markdown",
   "id": "ffbff8a2-b6d0-440d-93ca-41cb2468d411",
   "metadata": {},
   "source": [
    "- 아이템1\n",
    "- 아이템2\n",
    "    - 아이템22"
   ]
  },
  {
   "cell_type": "markdown",
   "id": "85a569c0-4a69-42f6-b0a6-195f40a7ccb7",
   "metadata": {},
   "source": [
    "+ 아이템1\n",
    "+ 아이템2\n",
    "    - 아이템3\n",
    "    - 아이템4"
   ]
  },
  {
   "cell_type": "markdown",
   "id": "3285930b-89cd-45f4-8300-ec278a7c3725",
   "metadata": {},
   "source": [
    "마크다운 순서있는 리스트\n",
    "\n",
    "```\n",
    "1. 하나\n",
    "2. 둘\n",
    "3. 셋\n",
    "\n",
    "문장을 써주시거나.\n",
    "\n",
    "1. 하나\n",
    "1. 둘\n",
    "1. 셋\n",
    "    1. 들여쓰기\n",
    "    1. 들여쓰기\n",
    "    1. 들여쓰기\n",
    "        - 순서없는\n",
    "        - 순서없는\n",
    "        \n",
    "```\n"
   ]
  },
  {
   "cell_type": "markdown",
   "id": "121e61f8-0e5c-46fb-9b07-81ba3b5957f4",
   "metadata": {},
   "source": [
    "1. 하나\n",
    "2. 둘\n",
    "3. 셋"
   ]
  },
  {
   "cell_type": "markdown",
   "id": "fab8b91b-8a5f-416d-b665-14ce19279f97",
   "metadata": {},
   "source": [
    "1. 하나\n",
    "1. 둘\n",
    "1. 셋\n",
    "    1. 들여쓰기\n",
    "    1. 들여쓰기\n",
    "    1. 들여쓰기\n",
    "        - 순서없는\n",
    "        - 순서없는"
   ]
  },
  {
   "cell_type": "markdown",
   "id": "53d30e69-3544-4271-a395-244b084a4060",
   "metadata": {},
   "source": [
    "## Foot notes\n",
    "\n",
    "```\n",
    "Here is a simple footnote[^1].\n",
    "\n",
    "A footnote can also have multiple lines[^2].  \n",
    "\n",
    "You can also use words, to fit your writing style more closely[^note].\n",
    "\n",
    "[^1]: My reference.\n",
    "[^2]: Every new line should be prefixed with 2 spaces.  \n",
    "  This allows you to have a footnote with multiple lines.\n",
    "[^note]:\n",
    "    Named footnotes will still render with numbers instead of the text but allow easier identification and linking.  \n",
    "    This footnote als\n",
    "```"
   ]
  },
  {
   "cell_type": "markdown",
   "id": "08cd09ff-c7b6-448e-aab6-f63bc0e904ca",
   "metadata": {},
   "source": [
    "Here is a simple footnote[^1].\n",
    "\n",
    "A footnote can also have multiple lines[^2].  \n",
    "\n",
    "---\n",
    "\n",
    "You can also use words, to fit your writing style more closely[^note].\n",
    "\n",
    "[^1]: My reference.\n",
    "[^2]: Every new line should be prefixed with 2 spaces.  \n",
    "  This allows you to have a footnote with multiple lines.\n",
    "[^note]:\n",
    "    Named footnotes will still render with numbers instead of the text but allow easier identification and linking.  \n",
    "    This footnote als"
   ]
  },
  {
   "cell_type": "code",
   "execution_count": null,
   "id": "ce582051-9e79-41c3-ae4c-be0d79951794",
   "metadata": {},
   "outputs": [],
   "source": []
  },
  {
   "cell_type": "markdown",
   "id": "8688c1fc-7197-4d61-a2cf-a512b38610c3",
   "metadata": {},
   "source": [
    "## Task lists\n",
    "\n",
    "```\n",
    "- [x] @mentions, #refs, [links](), **formatting**, and <del>tags</del> supported\n",
    "- [x] list syntax required (any unordered or ordered list supported)\n",
    "- [x] this is a complete item\n",
    "- [ ] this is an incomplete item\n",
    "\n",
    "```"
   ]
  },
  {
   "cell_type": "markdown",
   "id": "03766371-6205-4df6-ba59-34868ec96d3c",
   "metadata": {},
   "source": [
    "- [x] @mentions, #refs, [links](), **formatting**, and <del>tags</del> supported\n",
    "- [x] list syntax required (any unordered or ordered list supported)\n",
    "- [x] this is a complete item\n",
    "- [ ] this is an incomplete item"
   ]
  },
  {
   "cell_type": "markdown",
   "id": "715a7226-a6ae-42ba-90e0-478f2daa8a22",
   "metadata": {
    "slideshow": {
     "slide_type": "slide"
    }
   },
   "source": [
    "## LaTex\n",
    "\n",
    "* Mathjax를 포함하고 있다. LaTeX를 그대로 사용\n",
    "* [위키백과:TeX 문법](https://ko.wikipedia.org/wiki/%EC%9C%84%ED%82%A4%EB%B0%B1%EA%B3%BC:TeX_%EB%AC%B8%EB%B2%95)\n",
    "* 온라인 라텍스 편집기:  https://www.codecogs.com/latex/eqneditor.php\n",
    "\n",
    "\n",
    "```\n",
    "$$c = \\sqrt{a^2 + b^2}$$\n",
    "```\n",
    "\n",
    "$$c = \\sqrt{a^2 + b^2}$$\n",
    "\n",
    "```\n",
    "$$N(\\mu ,\\sigma )$$\n",
    "```\n",
    "\n",
    "$$N(\\mu ,\\sigma )$$"
   ]
  },
  {
   "cell_type": "markdown",
   "id": "38f814b9-4cb1-49cb-8f38-dabc22e242a3",
   "metadata": {},
   "source": [
    "$$c = \\sqrt{a^2 + b^2}$$"
   ]
  },
  {
   "cell_type": "markdown",
   "id": "016b3709-3e80-48d3-a675-01430e830565",
   "metadata": {},
   "source": [
    "줄 안에 $$c = \\sqrt{a^2 + b^2}$$ 라텍스 표현을 하려면"
   ]
  },
  {
   "cell_type": "markdown",
   "id": "0067bda4-29a7-493a-8161-76afc2129126",
   "metadata": {},
   "source": [
    "줄안에 $c = \\sqrt{a^2 + b^2}$ 라텍스를 표현하려면"
   ]
  },
  {
   "cell_type": "markdown",
   "id": "5e7deacb-7faf-4dfc-94a3-22c76035d87e",
   "metadata": {},
   "source": [
    "$c = \\sqrt{a^2 + b^2}$"
   ]
  },
  {
   "cell_type": "markdown",
   "id": "114b3e76-fc96-4ee3-9810-f96043f4bfd6",
   "metadata": {},
   "source": [
    "$\n",
    "c = \\sqrt{a^2 + b^2}\\\\\n",
    "N(\\mu ,\\sigma )\n",
    "$"
   ]
  },
  {
   "cell_type": "markdown",
   "id": "48adfce1-872c-426c-85d8-570e4eb9f28e",
   "metadata": {},
   "source": [
    "$$\\begin{aligned}\n",
    "c &= \\sqrt{a^2 + b^2}\\\\\n",
    "&= 2*a+2*b\n",
    "\\end{aligned}$$"
   ]
  },
  {
   "cell_type": "markdown",
   "id": "18f680a7-34a6-4583-b28c-7a15194492a5",
   "metadata": {},
   "source": [
    "$$\\prod_{i=1}^N x_i$$"
   ]
  },
  {
   "cell_type": "markdown",
   "id": "16dffafb-6ee5-4529-9b28-2bbe9085cd54",
   "metadata": {},
   "source": [
    "$a \\qquad b$"
   ]
  },
  {
   "cell_type": "markdown",
   "id": "19a42eb0-4b4d-4426-b51d-3b7e972dda28",
   "metadata": {},
   "source": [
    "$$\n",
    "c = \\sqrt{a^{2} + b^2}\\\\\n",
    "N(\\mu ,\\sigma )\n",
    "$$"
   ]
  }
 ],
 "metadata": {
  "kernelspec": {
   "display_name": "Python 3 (ipykernel)",
   "language": "python",
   "name": "python3"
  },
  "language_info": {
   "codemirror_mode": {
    "name": "ipython",
    "version": 3
   },
   "file_extension": ".py",
   "mimetype": "text/x-python",
   "name": "python",
   "nbconvert_exporter": "python",
   "pygments_lexer": "ipython3",
   "version": "3.10.9"
  }
 },
 "nbformat": 4,
 "nbformat_minor": 5
}
