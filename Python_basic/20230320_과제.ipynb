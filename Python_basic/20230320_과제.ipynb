{
 "cells": [
  {
   "cell_type": "markdown",
   "id": "f859687e-089e-4683-857a-685c83b1be51",
   "metadata": {},
   "source": [
    "## 정보 올림피아드 문제\n",
    "\n",
    "* http://www.jungol.co.kr/"
   ]
  },
  {
   "cell_type": "code",
   "execution_count": 4,
   "id": "280dcf43-547d-4b4d-aca8-7c8087da7605",
   "metadata": {},
   "outputs": [
    {
     "name": "stdin",
     "output_type": "stream",
     "text": [
      " aa aa aaa aa\n"
     ]
    },
    {
     "name": "stdout",
     "output_type": "stream",
     "text": [
      "['aa', 'aa', 'aaa', 'aa']\n",
      "aaaaaaaaa\n"
     ]
    }
   ],
   "source": [
    "# 문제 // 문자열1 형성평가-1\n",
    "# 네 단어로 된 문장을 한 줄에 입력받아, 순서를 거꾸로 출력하는 프로그램을 작성하라.\n",
    "\n",
    "word = input().split(\" \")\n",
    "print(word)\n",
    "print(''.join(word))"
   ]
  },
  {
   "cell_type": "code",
   "execution_count": 11,
   "id": "13a75a48-1178-46b2-81d8-d2c780651806",
   "metadata": {},
   "outputs": [
    {
     "name": "stdin",
     "output_type": "stream",
     "text": [
      " 2 3 5\n"
     ]
    },
    {
     "name": "stdout",
     "output_type": "stream",
     "text": [
      "12.5\n"
     ]
    }
   ],
   "source": [
    "# 문제 // 문자열1 형성평가-2\n",
    "# 사다리꼴의 밑변, 윗변, 높이의 길이를 순서대로 한 줄에 입력받아, 사다리꼴의 넓이를 출력하는 프로그램을 작성하라. \n",
    "# (사다리꼴의 넓이 = ( (밑변) + (윗변) ) × (높이) ) / 2 )\n",
    "\n",
    "list = input().split(\" \")\n",
    "print(((int(list[0]) + int(list[1]))*int(list[2]))/2)"
   ]
  },
  {
   "cell_type": "code",
   "execution_count": 13,
   "id": "73ae706e-6bdf-4ad0-b93e-c86fc9a4bcd3",
   "metadata": {},
   "outputs": [
    {
     "name": "stdin",
     "output_type": "stream",
     "text": [
      " Queen\n",
      " Bohemian Rhapsody\n",
      " Beatles\n",
      " Let it be\n"
     ]
    },
    {
     "name": "stdout",
     "output_type": "stream",
     "text": [
      "Queen: Bohemian Rhapsody \n",
      "Beatles: Let it be \n"
     ]
    }
   ],
   "source": [
    "# 문제 // 문자열1 형성평가-3\n",
    "# 네 문자열을 입력 받아 다음 형식으로 출력하는 프로그램을 작성하라..\n",
    "# 서식 문자를 이용한다.\n",
    "\n",
    "# ​예) out = \"%s:​ %s\" \n",
    "\n",
    "word1 = input()\n",
    "word2 = input()\n",
    "word3 = input()\n",
    "word4 = input()\n",
    "\n",
    "print(\"%s: %s \" %(word1,word2))\n",
    "print(\"%s: %s \" %(word3,word4))"
   ]
  },
  {
   "cell_type": "code",
   "execution_count": 17,
   "id": "257bde8f-13e1-46b2-96e4-8832d22f18f9",
   "metadata": {},
   "outputs": [
    {
     "name": "stdin",
     "output_type": "stream",
     "text": [
      "LB?  65.73\n"
     ]
    },
    {
     "name": "stdout",
     "output_type": "stream",
     "text": [
      "65.7 LB is 29.6 KG\n"
     ]
    }
   ],
   "source": [
    "# 문제 // 문자열1 형성평가-4\n",
    "# 다음과 같이 LB(파운드)단위로 입력된 몸무게를 KG(킬로그램)단위로 바꾸는 프로그램을 작성하라.\n",
    "# 모든 실수(소수)는 소수점 두 번째 자리에서 반올림하여 소수점  한자리까지 출력한다.\n",
    "# ​(1LB = 0.45KG이다. 또한 \"LB? \"는 입력 전 물어보는 문장이다.​) ​\n",
    "\n",
    "num = float(input('LB? '))\n",
    "\n",
    "print(round(num,1),\"LB is\", round(num*0.45,1), \"KG\")"
   ]
  },
  {
   "cell_type": "code",
   "execution_count": 23,
   "id": "34d65e7f-044a-4ac9-93d4-8fcb8cbdf070",
   "metadata": {},
   "outputs": [
    {
     "name": "stdin",
     "output_type": "stream",
     "text": [
      " 창호 170 68.47\n"
     ]
    },
    {
     "name": "stdout",
     "output_type": "stream",
     "text": [
      "창호의 키는 170cm이며, 몸무게는 68.5kg 입니다\n"
     ]
    }
   ],
   "source": [
    "# 문제 // 문자열1 형성평가-5\n",
    "# 이름과 키, 몸무게를 입력 받아 서식 문자를 사용하여 다음과 같이 출력하는 프로그램을 작성하라.\n",
    "\n",
    "str = input().split(\" \")\n",
    "name = str[0]\n",
    "height = int(str[1])\n",
    "weight = float(str[2])\n",
    "\n",
    "print(f\"{name}의 키는 {height}cm이며, 몸무게는 {weight:.1f}kg 입니다\")"
   ]
  },
  {
   "cell_type": "code",
   "execution_count": 32,
   "id": "6f793e74-7455-4c4c-9fdf-a3d9684528c5",
   "metadata": {},
   "outputs": [
    {
     "name": "stdin",
     "output_type": "stream",
     "text": [
      " Python (space) Programing (space) jjang!!\n"
     ]
    },
    {
     "name": "stdout",
     "output_type": "stream",
     "text": [
      " jjang!!\n",
      " Programing \n",
      "Python \n"
     ]
    }
   ],
   "source": [
    "# 문제 // 문자열2 형성평가-1\n",
    "# 공백을 포함한 문자열을 입력받아 문자열 '(space)'를 기준으로 분리하여 역순으로 출력하는 프로그램을 작성하시오.\n",
    "\n",
    "word = input().split(\"(space)\")\n",
    "for i in word[::-1]:\n",
    "    print(i)"
   ]
  },
  {
   "cell_type": "code",
   "execution_count": 41,
   "id": "d6dd37f2-9268-4abd-a0ab-7b04aa0f8491",
   "metadata": {},
   "outputs": [
    {
     "name": "stdin",
     "output_type": "stream",
     "text": [
      " banana apple 3\n"
     ]
    },
    {
     "name": "stdout",
     "output_type": "stream",
     "text": [
      "bananaapple\n",
      "banle\n"
     ]
    }
   ],
   "source": [
    "# 문제 // 문자열2 형성평가-4\n",
    "# 두 개의 문자열 A와 B, 한 개의 정수 n을 입력받아서 A에 B를 연결하여 새로운 A를 만들고, A에서 n개의 문자를 B의 앞부분에 복사한 후  A와 B를 출력하는 프로그램을 작성하시오.\n",
    "# (A와 B의 문자열의 길이는 50자 이하이고, n은 A와 B의 문자열 길이의 합보다 작다.) \n",
    "\n",
    "word = input().split(\" \")\n",
    "\n",
    "word1 = word[0]\n",
    "word2 = word[1]\n",
    "num = int(word[2])\n",
    "\n",
    "print(word1+word2)\n",
    "\n",
    "print(word1[:num]+word2[num:])"
   ]
  },
  {
   "cell_type": "code",
   "execution_count": 47,
   "id": "183aff0b-81f4-410d-8091-c6e665f4dfc4",
   "metadata": {},
   "outputs": [
    {
     "name": "stdin",
     "output_type": "stream",
     "text": [
      " For those who prefer coding in Python, our training pages now support submission of programs written in Python 2.0 or Python 3.0.\n",
      " Python C++\n"
     ]
    },
    {
     "name": "stdout",
     "output_type": "stream",
     "text": [
      "3\n",
      "For those who prefer coding in C++, our training pages now support submission of programs written in C++ 2.0 or C++ 3.0.\n"
     ]
    }
   ],
   "source": [
    "# 문제 문자열2 형성평가-7\n",
    "# 첫 번째 줄에 200자 이하의 문자열 A를 입력받고, 다음 줄에 10자 이하의 2개의 문자열\n",
    "# B와 C를 입력 받아 A문자열에 포함된 B문자열의 개수를 출력하고 B문자열을 모두 C문자열로 변환하여 출력하는 프로그램을 작성하시오.\n",
    "# 단, 대.소문자는 구별된다.\n",
    "\n",
    "a = input()\n",
    "word = input().split()\n",
    "\n",
    "b = word[0]\n",
    "c = word[1]\n",
    "print(a.count(b))\n",
    "print(a.replace(b,c))"
   ]
  },
  {
   "cell_type": "code",
   "execution_count": 52,
   "id": "a9f3e8c6-7b2a-43bf-a63f-d8281160ed9f",
   "metadata": {},
   "outputs": [
    {
     "name": "stdin",
     "output_type": "stream",
     "text": [
      " 30\n",
      " 20\n",
      " 50\n",
      " 30\n",
      " 50\n",
      " -1\n"
     ]
    },
    {
     "name": "stdout",
     "output_type": "stream",
     "text": [
      "50 30 50 "
     ]
    }
   ],
   "source": [
    "# 문제 리스트2 형성평가-1\n",
    "# 최대 100개의 정수를 차례로 입력받다가 -1이 입력되면 입력을 중단하고 -1을 제외한 마지막 세 개의 정수를 출력하는 프로그램을 작성하시오.\n",
    "# (입력받은 정수가 3개 미만일 경우에는 모두 출력한다.)\n",
    "list = []\n",
    "while True:\n",
    "    num = int(input())\n",
    "    if num == -1:\n",
    "        break\n",
    "    list.append(num)\n",
    "\n",
    "if len(list)<3:\n",
    "    for i in list:\n",
    "        print(i, end=\" \")\n",
    "else:\n",
    "    for i in list[-3:]:\n",
    "        print(i, end=\" \")"
   ]
  },
  {
   "cell_type": "code",
   "execution_count": 63,
   "id": "0ed97aba-bb3c-4120-b8ce-f9df30e1e210",
   "metadata": {},
   "outputs": [
    {
     "name": "stdin",
     "output_type": "stream",
     "text": [
      " l\n"
     ]
    },
    {
     "name": "stdout",
     "output_type": "stream",
     "text": [
      "flower\n",
      "lily\n",
      "2\n"
     ]
    }
   ],
   "source": [
    "# 문제 리스트2 형성평가-8\n",
    "# \"flower\", \"rose\", \"lily\", \"daffodil\", \"azalea\" 5개의 단어를 초기화한 후 한 개의 문자를 입력받아서 입력받은 \n",
    "# 문자가 두 번째나 세 번째에 포함된 단어를 모두 출력하고 마지막 줄에 출력한 단어의 개수를 출력하는 프로그램을 작성하시오. (해당되는 단어가 없으면 첫 줄에 0만 출력한다.)\n",
    "\n",
    "list = [\"flower\", \"rose\", \"lily\", \"daffodil\", \"azalea\"]\n",
    "sum = 0\n",
    "word = input()\n",
    "for i in list:\n",
    "    if i[1] == word or i[2] == word:\n",
    "        print(i)\n",
    "        sum +=1\n",
    "print(sum)  "
   ]
  },
  {
   "cell_type": "code",
   "execution_count": 64,
   "id": "9994431d-af27-4164-8433-8143bb47813f",
   "metadata": {},
   "outputs": [
    {
     "name": "stdin",
     "output_type": "stream",
     "text": [
      " 5\n"
     ]
    },
    {
     "name": "stdout",
     "output_type": "stream",
     "text": [
      "['No.1', 'No.2', 'No.3', 'No.4', 'No.5']\n"
     ]
    }
   ],
   "source": [
    "# 문제 리스트3 형성평가-1\n",
    "# 리스트 내포를 이용하여 1번부터 입력받은 숫자까지의 숫자에 \"No.\"를 붙인 문자열을 원소로 하는 리스트를 만들어 출력하시오.\n",
    "\n",
    "num = int(input())\n",
    "list = []\n",
    "for i in range(1,num+1):\n",
    "    list.append(f\"No.{i}\")\n",
    "print(list)"
   ]
  },
  {
   "cell_type": "code",
   "execution_count": 70,
   "id": "a58dd5b3-7016-4436-beb7-0491dbe1ea7c",
   "metadata": {},
   "outputs": [
    {
     "name": "stdin",
     "output_type": "stream",
     "text": [
      " 3 5\n"
     ]
    },
    {
     "name": "stdout",
     "output_type": "stream",
     "text": [
      "[3, 5, 8, 3, 1, 4, 5, 9, 4, 3]\n"
     ]
    }
   ],
   "source": [
    "# 문제 리스트3 형성평가-5\n",
    "# 10 미만의 자연수 두 개를 입력받아서 첫 번째 항과 두 번째 항을 입력받은 수로 초기화시킨 후 \n",
    "# 세번째 항부터는 전전항과 전항의 합을 구하여 그 합의 1의 자리로 채워서 차례로 10개를 출력하는\n",
    "# 프로그램을 작성하시오. \n",
    "list=[]\n",
    "num = input().split(\" \")\n",
    "list.append(int(num[0]))\n",
    "list.append(int(num[1]))\n",
    "\n",
    "for i in range(10):\n",
    "    list.append((list[i]+list[i+1]) % 10)\n",
    "    \n",
    "print(list[:10])"
   ]
  },
  {
   "cell_type": "code",
   "execution_count": 117,
   "id": "fc831413-0c10-44e3-a020-770f6abcafd9",
   "metadata": {},
   "outputs": [
    {
     "name": "stdout",
     "output_type": "stream",
     "text": [
      "1 0 1 0 1 \n",
      "0 2 0 2 0 \n",
      "2 0 4 0 2 \n",
      "0 6 0 6 0 \n",
      "6 0 12 0 6 \n"
     ]
    }
   ],
   "source": [
    "# 문제 리스트3 형성평가-8\n",
    "# 2차원 리스트를 생성하여 1행의 1열과 3열, 5열을 각각 1로 나머지는 모두 0으로 초기화한 후 2행부\n",
    "# 터는 바로 전행의 왼쪽과 오른쪽의 값을 더하여 채운 후 출력하는 프로그램을 작성하시오. \n",
    "\n",
    "list = [[1,0,1,0,1]]\n",
    "\n",
    "list2 =[]\n",
    "\n",
    "for i in range(4):\n",
    "    for j in range(5):\n",
    "        k = m = j\n",
    "        if m-1 <0:\n",
    "            num = list[i][k+1]\n",
    "            m = 0\n",
    "        elif k+1>4:\n",
    "            num = list[i][m-1]\n",
    "            k = j-1\n",
    "        else:\n",
    "            num = list[i][m-1] +list[i][k+1]\n",
    "            \n",
    "        list2.append(num)\n",
    "    \n",
    "    list.append(list2)\n",
    "    # print(list2)\n",
    "    list2 = []\n",
    "\n",
    "for i in list:\n",
    "    for j in i:\n",
    "        print(j, end=\" \")\n",
    "    print()"
   ]
  },
  {
   "cell_type": "code",
   "execution_count": 86,
   "id": "3a268b8e-956c-46fc-bb6f-fdf76884a7d2",
   "metadata": {},
   "outputs": [
    {
     "data": {
      "text/plain": [
       "1"
      ]
     },
     "execution_count": 86,
     "metadata": {},
     "output_type": "execute_result"
    }
   ],
   "source": [
    "list = [[1,0,1,0,1]]\n",
    "list[0][0]"
   ]
  }
 ],
 "metadata": {
  "kernelspec": {
   "display_name": "Python 3 (ipykernel)",
   "language": "python",
   "name": "python3"
  },
  "language_info": {
   "codemirror_mode": {
    "name": "ipython",
    "version": 3
   },
   "file_extension": ".py",
   "mimetype": "text/x-python",
   "name": "python",
   "nbconvert_exporter": "python",
   "pygments_lexer": "ipython3",
   "version": "3.10.9"
  }
 },
 "nbformat": 4,
 "nbformat_minor": 5
}
