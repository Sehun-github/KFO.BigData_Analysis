{
 "cells": [
  {
   "cell_type": "markdown",
   "metadata": {},
   "source": [
    "# 파일"
   ]
  },
  {
   "cell_type": "markdown",
   "metadata": {},
   "source": [
    "## open()\n",
    "\n",
    "파일은 open() 명령에서 `<MODE>` 값에 따라 읽고 쓴다. [Python builtin functions](https://docs.python.org/3/library/functions.html)\n",
    "    \n",
    ">open(file, mode='rb', buffering=-1, encoding=None, errors=None, newline=None, closefd=True, opener=None)\n",
    "  - mode는 파일에 대한 액션과 파일 형식을 지정한다: rb, wb, wr\n",
    "     - 액션 : w(기록), a(추가), r(읽기:기본값)\n",
    "     - 타입 : t(텍스트:기본값), b(2진 파일)\n",
    "open 으로 열린 객체는 `.close()` 로 닫아 주어야 한다."
   ]
  },
  {
   "cell_type": "markdown",
   "metadata": {},
   "source": [
    "### 읽기 모드"
   ]
  },
  {
   "cell_type": "markdown",
   "metadata": {},
   "source": [
    "`read()` 함수: 파일의 내용 전체를 문자열로 리턴한다. "
   ]
  },
  {
   "cell_type": "code",
   "execution_count": 4,
   "metadata": {},
   "outputs": [
    {
     "data": {
      "text/plain": [
       "<_io.TextIOWrapper name='test.txt' mode='w' encoding='utf8'>"
      ]
     },
     "execution_count": 4,
     "metadata": {},
     "output_type": "execute_result"
    }
   ],
   "source": [
    "# 파일 열기 (open)\n",
    "f = open(\"test.txt\", \"w\", encoding=\"utf8\")"
   ]
  },
  {
   "cell_type": "code",
   "execution_count": 7,
   "metadata": {},
   "outputs": [
    {
     "name": "stdout",
     "output_type": "stream",
     "text": [
      " C 드라이브의 볼륨: WINDOWS\n",
      " 볼륨 일련 번호: 085B-0275\n",
      "\n",
      " c:\\Python_basic 디렉터리\n",
      "\n",
      "2023-03-22  오후 04:08                 0 test.txt\n",
      "               1개 파일                   0 바이트\n",
      "               0개 디렉터리  21,997,236,224 바이트 남음\n"
     ]
    }
   ],
   "source": [
    "%ls *.txt"
   ]
  },
  {
   "cell_type": "code",
   "execution_count": 8,
   "metadata": {},
   "outputs": [
    {
     "data": {
      "text/plain": [
       "_io.TextIOWrapper"
      ]
     },
     "execution_count": 8,
     "metadata": {},
     "output_type": "execute_result"
    }
   ],
   "source": [
    "type(f)"
   ]
  },
  {
   "cell_type": "code",
   "execution_count": 10,
   "metadata": {},
   "outputs": [
    {
     "name": "stdout",
     "output_type": "stream",
     "text": [
      "18 만큼 기록:\n",
      "17 만큼 기록:\n"
     ]
    }
   ],
   "source": [
    "size = f.write(\"Life is too short\\n\")\n",
    "print(f\"{size} 만큼 기록:\")\n",
    "\n",
    "size = f.write(\"You need Python.\\n\")\n",
    "print(f\"{size} 만큼 기록:\")\n",
    "f.close() # 사용후 반드시 닫는다."
   ]
  },
  {
   "cell_type": "code",
   "execution_count": 11,
   "metadata": {},
   "outputs": [
    {
     "data": {
      "text/plain": [
       "\u001b[0mLife\u001b[0m \u001b[1;32mis\u001b[0m \u001b[0mtoo\u001b[0m \u001b[0mshort\u001b[0m\u001b[1;33m\n",
       "\u001b[0m\u001b[0mLife\u001b[0m \u001b[1;32mis\u001b[0m \u001b[0mtoo\u001b[0m \u001b[0mshort\u001b[0m\u001b[1;33m\n",
       "\u001b[0m\u001b[0mYou\u001b[0m \u001b[0mneed\u001b[0m \u001b[0mPython\u001b[0m\u001b[1;33m.\u001b[0m\u001b[1;33m\u001b[0m\u001b[1;33m\u001b[0m\u001b[0m\n"
      ]
     },
     "metadata": {},
     "output_type": "display_data"
    }
   ],
   "source": [
    "%pycat test.txt"
   ]
  },
  {
   "cell_type": "markdown",
   "metadata": {},
   "source": [
    "읽기 모드로 텍스트 불러오면 파일 전체를 읽어온다 -> 파일이 클 경우 문제 발생 가능\n"
   ]
  },
  {
   "cell_type": "code",
   "execution_count": 14,
   "metadata": {},
   "outputs": [
    {
     "name": "stdout",
     "output_type": "stream",
     "text": [
      "READ: Life is too short\n",
      "Life is too short\n",
      "You need Python.\n",
      "\n"
     ]
    }
   ],
   "source": [
    "f = open(\"test.txt\", \"rt\", encoding=\"utf8\")\n",
    "text = f.read()\n",
    "print(\"READ:\", text)\n",
    "f.close()"
   ]
  },
  {
   "cell_type": "code",
   "execution_count": 15,
   "metadata": {},
   "outputs": [
    {
     "name": "stdout",
     "output_type": "stream",
     "text": [
      "READ: Life is to\n"
     ]
    }
   ],
   "source": [
    "f = open(\"test.txt\", \"rt\", encoding=\"utf8\")\n",
    "text = f.read(10) # 10자만\n",
    "print(\"READ:\", text)\n",
    "f.close()"
   ]
  },
  {
   "cell_type": "markdown",
   "metadata": {},
   "source": [
    "`readline()` 함수 이용하기\n",
    "\n",
    "파일이 클 경우, 라인 단위로 파일을 읽는 것이 효율적"
   ]
  },
  {
   "cell_type": "code",
   "execution_count": null,
   "metadata": {},
   "outputs": [],
   "source": [
    "f = open(\"test.txt\", \"rt\", encoding=\"utf8\")\n",
    "while True:\n",
    "    line = f.readline()\n",
    "    if not line:\n",
    "        break\n",
    "    line = line.strip() # 공백 문자 제거\n",
    "    print(line)\n",
    "\n",
    "f.close()"
   ]
  },
  {
   "cell_type": "code",
   "execution_count": null,
   "metadata": {},
   "outputs": [],
   "source": [
    "f = open(examfile, 'r')\n",
    "line = f.readline()\n",
    "print(line)\n",
    "f.close()"
   ]
  },
  {
   "cell_type": "markdown",
   "metadata": {},
   "source": [
    "### 내용 추가하기\n",
    "\n",
    "`append` 모드는 파일이 있으면 뒤에 내용을 추가, `<MODE>`를 `a`로 제시하면 파일의 끝에 내용을 추가할 수 있다.\n",
    "\n"
   ]
  },
  {
   "cell_type": "code",
   "execution_count": 18,
   "metadata": {},
   "outputs": [],
   "source": [
    "f = open('test.txt', 'a')\n",
    "for i in range(11, 20):\n",
    "    data = \"%d번째 줄입니다.\\n\" % i\n",
    "    f.write(data)\n",
    "f.close()"
   ]
  },
  {
   "cell_type": "code",
   "execution_count": 19,
   "metadata": {},
   "outputs": [
    {
     "data": {
      "text/plain": [
       "\u001b[0mLife\u001b[0m \u001b[1;32mis\u001b[0m \u001b[0mtoo\u001b[0m \u001b[0mshort\u001b[0m\u001b[1;33m\n",
       "\u001b[0m\u001b[0mLife\u001b[0m \u001b[1;32mis\u001b[0m \u001b[0mtoo\u001b[0m \u001b[0mshort\u001b[0m\u001b[1;33m\n",
       "\u001b[0m\u001b[0mYou\u001b[0m \u001b[0mneed\u001b[0m \u001b[0mPython\u001b[0m\u001b[1;33m.\u001b[0m\u001b[1;33m\n",
       "\u001b[0m\u001b[1;36m11\u001b[0m\u001b[1;33m¹øÂ\u001b[0m\u001b[0;31m°\u001b[0m \u001b[0mÁÙÀÔ\u001b[0m\u001b[0;31m´\u001b[0m\u001b[0mÏ\u001b[0m\u001b[0;31m´\u001b[0m\u001b[0mÙ\u001b[0m\u001b[1;33m.\u001b[0m\u001b[1;33m\n",
       "\u001b[0m\u001b[1;36m12\u001b[0m\u001b[1;33m¹øÂ\u001b[0m\u001b[0;31m°\u001b[0m \u001b[0mÁÙÀÔ\u001b[0m\u001b[0;31m´\u001b[0m\u001b[0mÏ\u001b[0m\u001b[0;31m´\u001b[0m\u001b[0mÙ\u001b[0m\u001b[1;33m.\u001b[0m\u001b[1;33m\n",
       "\u001b[0m\u001b[1;36m13\u001b[0m\u001b[1;33m¹øÂ\u001b[0m\u001b[0;31m°\u001b[0m \u001b[0mÁÙÀÔ\u001b[0m\u001b[0;31m´\u001b[0m\u001b[0mÏ\u001b[0m\u001b[0;31m´\u001b[0m\u001b[0mÙ\u001b[0m\u001b[1;33m.\u001b[0m\u001b[1;33m\n",
       "\u001b[0m\u001b[1;36m14\u001b[0m\u001b[1;33m¹øÂ\u001b[0m\u001b[0;31m°\u001b[0m \u001b[0mÁÙÀÔ\u001b[0m\u001b[0;31m´\u001b[0m\u001b[0mÏ\u001b[0m\u001b[0;31m´\u001b[0m\u001b[0mÙ\u001b[0m\u001b[1;33m.\u001b[0m\u001b[1;33m\n",
       "\u001b[0m\u001b[1;36m15\u001b[0m\u001b[1;33m¹øÂ\u001b[0m\u001b[0;31m°\u001b[0m \u001b[0mÁÙÀÔ\u001b[0m\u001b[0;31m´\u001b[0m\u001b[0mÏ\u001b[0m\u001b[0;31m´\u001b[0m\u001b[0mÙ\u001b[0m\u001b[1;33m.\u001b[0m\u001b[1;33m\n",
       "\u001b[0m\u001b[1;36m16\u001b[0m\u001b[1;33m¹øÂ\u001b[0m\u001b[0;31m°\u001b[0m \u001b[0mÁÙÀÔ\u001b[0m\u001b[0;31m´\u001b[0m\u001b[0mÏ\u001b[0m\u001b[0;31m´\u001b[0m\u001b[0mÙ\u001b[0m\u001b[1;33m.\u001b[0m\u001b[1;33m\n",
       "\u001b[0m\u001b[1;36m17\u001b[0m\u001b[1;33m¹øÂ\u001b[0m\u001b[0;31m°\u001b[0m \u001b[0mÁÙÀÔ\u001b[0m\u001b[0;31m´\u001b[0m\u001b[0mÏ\u001b[0m\u001b[0;31m´\u001b[0m\u001b[0mÙ\u001b[0m\u001b[1;33m.\u001b[0m\u001b[1;33m\n",
       "\u001b[0m\u001b[1;36m18\u001b[0m\u001b[1;33m¹øÂ\u001b[0m\u001b[0;31m°\u001b[0m \u001b[0mÁÙÀÔ\u001b[0m\u001b[0;31m´\u001b[0m\u001b[0mÏ\u001b[0m\u001b[0;31m´\u001b[0m\u001b[0mÙ\u001b[0m\u001b[1;33m.\u001b[0m\u001b[1;33m\n",
       "\u001b[0m\u001b[1;36m19\u001b[0m\u001b[1;33m¹øÂ\u001b[0m\u001b[0;31m°\u001b[0m \u001b[0mÁÙÀÔ\u001b[0m\u001b[0;31m´\u001b[0m\u001b[0mÏ\u001b[0m\u001b[0;31m´\u001b[0m\u001b[0mÙ\u001b[0m\u001b[1;33m.\u001b[0m\u001b[1;33m\u001b[0m\u001b[1;33m\u001b[0m\u001b[0m\n"
      ]
     },
     "metadata": {},
     "output_type": "display_data"
    }
   ],
   "source": [
    "%pycat test.txt"
   ]
  },
  {
   "cell_type": "code",
   "execution_count": 20,
   "metadata": {},
   "outputs": [],
   "source": [
    "f = open('test.txt', 'a', encoding='utf-8')\n",
    "for i in range(11, 20):\n",
    "    data = \"%d번째 줄입니다.\\n\" % i\n",
    "    f.write(data)\n",
    "f.close()"
   ]
  },
  {
   "cell_type": "code",
   "execution_count": 21,
   "metadata": {},
   "outputs": [
    {
     "data": {
      "text/plain": [
       "\u001b[0mLife\u001b[0m \u001b[1;32mis\u001b[0m \u001b[0mtoo\u001b[0m \u001b[0mshort\u001b[0m\u001b[1;33m\n",
       "\u001b[0m\u001b[0mLife\u001b[0m \u001b[1;32mis\u001b[0m \u001b[0mtoo\u001b[0m \u001b[0mshort\u001b[0m\u001b[1;33m\n",
       "\u001b[0m\u001b[0mYou\u001b[0m \u001b[0mneed\u001b[0m \u001b[0mPython\u001b[0m\u001b[1;33m.\u001b[0m\u001b[1;33m\n",
       "\u001b[0m\u001b[1;36m11\u001b[0m\u001b[1;33m¹øÂ\u001b[0m\u001b[0;31m°\u001b[0m \u001b[0mÁÙÀÔ\u001b[0m\u001b[0;31m´\u001b[0m\u001b[0mÏ\u001b[0m\u001b[0;31m´\u001b[0m\u001b[0mÙ\u001b[0m\u001b[1;33m.\u001b[0m\u001b[1;33m\n",
       "\u001b[0m\u001b[1;36m12\u001b[0m\u001b[1;33m¹øÂ\u001b[0m\u001b[0;31m°\u001b[0m \u001b[0mÁÙÀÔ\u001b[0m\u001b[0;31m´\u001b[0m\u001b[0mÏ\u001b[0m\u001b[0;31m´\u001b[0m\u001b[0mÙ\u001b[0m\u001b[1;33m.\u001b[0m\u001b[1;33m\n",
       "\u001b[0m\u001b[1;36m13\u001b[0m\u001b[1;33m¹øÂ\u001b[0m\u001b[0;31m°\u001b[0m \u001b[0mÁÙÀÔ\u001b[0m\u001b[0;31m´\u001b[0m\u001b[0mÏ\u001b[0m\u001b[0;31m´\u001b[0m\u001b[0mÙ\u001b[0m\u001b[1;33m.\u001b[0m\u001b[1;33m\n",
       "\u001b[0m\u001b[1;36m14\u001b[0m\u001b[1;33m¹øÂ\u001b[0m\u001b[0;31m°\u001b[0m \u001b[0mÁÙÀÔ\u001b[0m\u001b[0;31m´\u001b[0m\u001b[0mÏ\u001b[0m\u001b[0;31m´\u001b[0m\u001b[0mÙ\u001b[0m\u001b[1;33m.\u001b[0m\u001b[1;33m\n",
       "\u001b[0m\u001b[1;36m15\u001b[0m\u001b[1;33m¹øÂ\u001b[0m\u001b[0;31m°\u001b[0m \u001b[0mÁÙÀÔ\u001b[0m\u001b[0;31m´\u001b[0m\u001b[0mÏ\u001b[0m\u001b[0;31m´\u001b[0m\u001b[0mÙ\u001b[0m\u001b[1;33m.\u001b[0m\u001b[1;33m\n",
       "\u001b[0m\u001b[1;36m16\u001b[0m\u001b[1;33m¹øÂ\u001b[0m\u001b[0;31m°\u001b[0m \u001b[0mÁÙÀÔ\u001b[0m\u001b[0;31m´\u001b[0m\u001b[0mÏ\u001b[0m\u001b[0;31m´\u001b[0m\u001b[0mÙ\u001b[0m\u001b[1;33m.\u001b[0m\u001b[1;33m\n",
       "\u001b[0m\u001b[1;36m17\u001b[0m\u001b[1;33m¹øÂ\u001b[0m\u001b[0;31m°\u001b[0m \u001b[0mÁÙÀÔ\u001b[0m\u001b[0;31m´\u001b[0m\u001b[0mÏ\u001b[0m\u001b[0;31m´\u001b[0m\u001b[0mÙ\u001b[0m\u001b[1;33m.\u001b[0m\u001b[1;33m\n",
       "\u001b[0m\u001b[1;36m18\u001b[0m\u001b[1;33m¹øÂ\u001b[0m\u001b[0;31m°\u001b[0m \u001b[0mÁÙÀÔ\u001b[0m\u001b[0;31m´\u001b[0m\u001b[0mÏ\u001b[0m\u001b[0;31m´\u001b[0m\u001b[0mÙ\u001b[0m\u001b[1;33m.\u001b[0m\u001b[1;33m\n",
       "\u001b[0m\u001b[1;36m19\u001b[0m\u001b[1;33m¹øÂ\u001b[0m\u001b[0;31m°\u001b[0m \u001b[0mÁÙÀÔ\u001b[0m\u001b[0;31m´\u001b[0m\u001b[0mÏ\u001b[0m\u001b[0;31m´\u001b[0m\u001b[0mÙ\u001b[0m\u001b[1;33m.\u001b[0m\u001b[1;33m\n",
       "\u001b[0m\u001b[1;36m11\u001b[0m\u001b[0më²\u001b[0m\u001b[0;31m\u001b[0m\u001b[0mì\u001b[0m\u001b[0;31m§\u001b[0m\u001b[0;31m¸\u001b[0m \u001b[0mì\u001b[0m\u001b[0;31m¤\u001b[0m\u001b[0;31m\u001b[0m\u001b[0mì\u001b[0m\u001b[0;31m\u001b[0m\u001b[0;31m",
       "\u001b[0m\u001b[0më\u001b[0m\u001b[0;31m\u001b[0m\u001b[0;31m\u001b[0m\u001b[0më\u001b[0m\u001b[0;31m\u001b[0m\u001b[0;31m¤\u001b[0m\u001b[1;33m.\u001b[0m\u001b[1;33m\n",
       "\u001b[0m\u001b[1;36m12\u001b[0m\u001b[0më²\u001b[0m\u001b[0;31m\u001b[0m\u001b[0mì\u001b[0m\u001b[0;31m§\u001b[0m\u001b[0;31m¸\u001b[0m \u001b[0mì\u001b[0m\u001b[0;31m¤\u001b[0m\u001b[0;31m\u001b[0m\u001b[0mì\u001b[0m\u001b[0;31m\u001b[0m\u001b[0;31m",
       "\u001b[0m\u001b[0më\u001b[0m\u001b[0;31m\u001b[0m\u001b[0;31m\u001b[0m\u001b[0më\u001b[0m\u001b[0;31m\u001b[0m\u001b[0;31m¤\u001b[0m\u001b[1;33m.\u001b[0m\u001b[1;33m\n",
       "\u001b[0m\u001b[1;36m13\u001b[0m\u001b[0më²\u001b[0m\u001b[0;31m\u001b[0m\u001b[0mì\u001b[0m\u001b[0;31m§\u001b[0m\u001b[0;31m¸\u001b[0m \u001b[0mì\u001b[0m\u001b[0;31m¤\u001b[0m\u001b[0;31m\u001b[0m\u001b[0mì\u001b[0m\u001b[0;31m\u001b[0m\u001b[0;31m",
       "\u001b[0m\u001b[0më\u001b[0m\u001b[0;31m\u001b[0m\u001b[0;31m\u001b[0m\u001b[0më\u001b[0m\u001b[0;31m\u001b[0m\u001b[0;31m¤\u001b[0m\u001b[1;33m.\u001b[0m\u001b[1;33m\n",
       "\u001b[0m\u001b[1;36m14\u001b[0m\u001b[0më²\u001b[0m\u001b[0;31m\u001b[0m\u001b[0mì\u001b[0m\u001b[0;31m§\u001b[0m\u001b[0;31m¸\u001b[0m \u001b[0mì\u001b[0m\u001b[0;31m¤\u001b[0m\u001b[0;31m\u001b[0m\u001b[0mì\u001b[0m\u001b[0;31m\u001b[0m\u001b[0;31m",
       "\u001b[0m\u001b[0më\u001b[0m\u001b[0;31m\u001b[0m\u001b[0;31m\u001b[0m\u001b[0më\u001b[0m\u001b[0;31m\u001b[0m\u001b[0;31m¤\u001b[0m\u001b[1;33m.\u001b[0m\u001b[1;33m\n",
       "\u001b[0m\u001b[1;36m15\u001b[0m\u001b[0më²\u001b[0m\u001b[0;31m\u001b[0m\u001b[0mì\u001b[0m\u001b[0;31m§\u001b[0m\u001b[0;31m¸\u001b[0m \u001b[0mì\u001b[0m\u001b[0;31m¤\u001b[0m\u001b[0;31m\u001b[0m\u001b[0mì\u001b[0m\u001b[0;31m\u001b[0m\u001b[0;31m",
       "\u001b[0m\u001b[0më\u001b[0m\u001b[0;31m\u001b[0m\u001b[0;31m\u001b[0m\u001b[0më\u001b[0m\u001b[0;31m\u001b[0m\u001b[0;31m¤\u001b[0m\u001b[1;33m.\u001b[0m\u001b[1;33m\n",
       "\u001b[0m\u001b[1;36m16\u001b[0m\u001b[0më²\u001b[0m\u001b[0;31m\u001b[0m\u001b[0mì\u001b[0m\u001b[0;31m§\u001b[0m\u001b[0;31m¸\u001b[0m \u001b[0mì\u001b[0m\u001b[0;31m¤\u001b[0m\u001b[0;31m\u001b[0m\u001b[0mì\u001b[0m\u001b[0;31m\u001b[0m\u001b[0;31m",
       "\u001b[0m\u001b[0më\u001b[0m\u001b[0;31m\u001b[0m\u001b[0;31m\u001b[0m\u001b[0më\u001b[0m\u001b[0;31m\u001b[0m\u001b[0;31m¤\u001b[0m\u001b[1;33m.\u001b[0m\u001b[1;33m\n",
       "\u001b[0m\u001b[1;36m17\u001b[0m\u001b[0më²\u001b[0m\u001b[0;31m\u001b[0m\u001b[0mì\u001b[0m\u001b[0;31m§\u001b[0m\u001b[0;31m¸\u001b[0m \u001b[0mì\u001b[0m\u001b[0;31m¤\u001b[0m\u001b[0;31m\u001b[0m\u001b[0mì\u001b[0m\u001b[0;31m\u001b[0m\u001b[0;31m",
       "\u001b[0m\u001b[0më\u001b[0m\u001b[0;31m\u001b[0m\u001b[0;31m\u001b[0m\u001b[0më\u001b[0m\u001b[0;31m\u001b[0m\u001b[0;31m¤\u001b[0m\u001b[1;33m.\u001b[0m\u001b[1;33m\n",
       "\u001b[0m\u001b[1;36m18\u001b[0m\u001b[0më²\u001b[0m\u001b[0;31m\u001b[0m\u001b[0mì\u001b[0m\u001b[0;31m§\u001b[0m\u001b[0;31m¸\u001b[0m \u001b[0mì\u001b[0m\u001b[0;31m¤\u001b[0m\u001b[0;31m\u001b[0m\u001b[0mì\u001b[0m\u001b[0;31m\u001b[0m\u001b[0;31m",
       "\u001b[0m\u001b[0më\u001b[0m\u001b[0;31m\u001b[0m\u001b[0;31m\u001b[0m\u001b[0më\u001b[0m\u001b[0;31m\u001b[0m\u001b[0;31m¤\u001b[0m\u001b[1;33m.\u001b[0m\u001b[1;33m\n",
       "\u001b[0m\u001b[1;36m19\u001b[0m\u001b[0më²\u001b[0m\u001b[0;31m\u001b[0m\u001b[0mì\u001b[0m\u001b[0;31m§\u001b[0m\u001b[0;31m¸\u001b[0m \u001b[0mì\u001b[0m\u001b[0;31m¤\u001b[0m\u001b[0;31m\u001b[0m\u001b[0mì\u001b[0m\u001b[0;31m\u001b[0m\u001b[0;31m",
       "\u001b[0m\u001b[0më\u001b[0m\u001b[0;31m\u001b[0m\u001b[0;31m\u001b[0m\u001b[0më\u001b[0m\u001b[0;31m\u001b[0m\u001b[0;31m¤\u001b[0m\u001b[1;33m.\u001b[0m\u001b[1;33m\u001b[0m\u001b[1;33m\u001b[0m\u001b[0m\n"
      ]
     },
     "metadata": {},
     "output_type": "display_data"
    }
   ],
   "source": [
    "%pycat test.txt"
   ]
  },
  {
   "cell_type": "markdown",
   "metadata": {},
   "source": [
    "### with ~ as\n",
    "`with ~ as` 를 이용하면 파일 close 작업을 자동으로 수행 -> 안전하게 시스템 자원을 활용\n",
    "즉 close() 메서드를 명시하지 않아도, 파일을 다 사용후에 닫아 준다."
   ]
  },
  {
   "cell_type": "markdown",
   "metadata": {},
   "source": [
    "`split()` 를 사용해 파일을 불러와서 개행문자 구분한 리스트로 반환"
   ]
  },
  {
   "cell_type": "code",
   "execution_count": 35,
   "metadata": {},
   "outputs": [],
   "source": [
    "with open('test.txt', 'w', encoding='utf-8') as f:\n",
    "    for i in range(11, 20):\n",
    "        data = \"%d번째 줄입니다.\\n\" % i\n",
    "        f.write(data)"
   ]
  },
  {
   "cell_type": "code",
   "execution_count": 39,
   "metadata": {},
   "outputs": [
    {
     "name": "stdout",
     "output_type": "stream",
     "text": [
      "lines: ['11번째 줄입니다.\\n', '12번째 줄입니다.\\n', '13번째 줄입니다.\\n', '14번째 줄입니다.\\n', '15번째 줄입니다.\\n', '16번째 줄입니다.\\n', '17번째 줄입니다.\\n', '18번째 줄입니다.\\n', '19번째 줄입니다.\\n']\n",
      "11번째 줄입니다.\n",
      "12번째 줄입니다.\n",
      "13번째 줄입니다.\n",
      "14번째 줄입니다.\n",
      "15번째 줄입니다.\n",
      "16번째 줄입니다.\n",
      "17번째 줄입니다.\n",
      "18번째 줄입니다.\n",
      "19번째 줄입니다.\n"
     ]
    }
   ],
   "source": [
    "with open(\"test.txt\", \"rt\", encoding='utf-8') as f:\n",
    "    lines = f.readlines()\n",
    "print(\"lines:\", lines)\n",
    "\n",
    "# 루프를 돌려 출력\n",
    "for line in lines:\n",
    "    print(line.strip())"
   ]
  },
  {
   "cell_type": "markdown",
   "metadata": {},
   "source": [
    "### 쓰기 모드\n"
   ]
  },
  {
   "cell_type": "code",
   "execution_count": null,
   "metadata": {},
   "outputs": [],
   "source": [
    "# 파일 쓰기모드로 한 줄씩 쓰기\n",
    "f = open( './samples/testwrite.txt', 'w')\n",
    "for i in range(1, 11):\n",
    "    data = \"%d번째 줄입니다.\\n\" % i\n",
    "    f.write(data)\n",
    "f.close()"
   ]
  },
  {
   "cell_type": "markdown",
   "metadata": {},
   "source": [
    "쓰기 모드에서 with 를 곁들여서 쓸 수 있다."
   ]
  },
  {
   "cell_type": "code",
   "execution_count": null,
   "metadata": {},
   "outputs": [],
   "source": [
    "with open('./samples/testwrite.txt', 'w') as f:\n",
    "    for i in range(1, 10):\n",
    "        data = '%d번째 줄입니다.\\n' % i\n",
    "        f.write(data)"
   ]
  },
  {
   "cell_type": "code",
   "execution_count": null,
   "metadata": {},
   "outputs": [],
   "source": [
    "with open(\"./samples/testwrite.txt\", \"r\", encoding=\"utf8\") as f:\n",
    "    lines = f.readlines()\n",
    "print(\"lines:\", lines)"
   ]
  },
  {
   "cell_type": "markdown",
   "metadata": {},
   "source": [
    "### 리스트로 반환받기\n",
    "\n",
    "보통 작은 파일을 다룰 때 리스트를 사용하기 좋다."
   ]
  },
  {
   "cell_type": "code",
   "execution_count": null,
   "metadata": {},
   "outputs": [],
   "source": [
    "address = []\n",
    "with open('address.txt') as file:\n",
    "    for line in file: \n",
    "        line = line.strip() #or some other preprocessing\n",
    "        address.append(line) #storing everything in memory"
   ]
  },
  {
   "cell_type": "markdown",
   "metadata": {},
   "source": [
    "### 파일 실습"
   ]
  },
  {
   "cell_type": "markdown",
   "metadata": {},
   "source": [
    "#### 문제 1\n",
    "\n",
    "어떤 파일에 1부터 30까지의 숫자 중 홀수를 각 라인 단위로 \n",
    "파일에 입력하는 프로그램을 작성하세요.\n",
    "(생성되는 파일의 이름은 odd_number.txt입니다.)\n"
   ]
  },
  {
   "cell_type": "code",
   "execution_count": null,
   "metadata": {
    "tags": []
   },
   "outputs": [],
   "source": [
    "\n",
    "\n"
   ]
  },
  {
   "cell_type": "markdown",
   "metadata": {},
   "source": [
    "#### 문제 2\n",
    "\n",
    "어떤 파일에 1부터 30까지의 숫자 중 짝수를 각 라인 단위로 파일에 \n",
    "입력하는 프로그램을 작성하세요.\n",
    "(생성되는 파일의 이름은 even_number.txt입니다.)\n",
    "\n",
    "\n"
   ]
  },
  {
   "cell_type": "code",
   "execution_count": null,
   "metadata": {
    "tags": []
   },
   "outputs": [],
   "source": [
    "\n",
    "\n",
    "\n"
   ]
  },
  {
   "cell_type": "markdown",
   "metadata": {},
   "source": [
    "#### 문제3\n",
    "\n",
    "현재 사용하는 ipynb 파일을 읽어 파일에 있는 단어의 개수를 세는 프로그램을 작성하시오."
   ]
  },
  {
   "cell_type": "code",
   "execution_count": null,
   "metadata": {
    "tags": []
   },
   "outputs": [],
   "source": [
    "\n",
    "\n",
    "\n"
   ]
  },
  {
   "cell_type": "markdown",
   "metadata": {},
   "source": [
    "---"
   ]
  },
  {
   "cell_type": "markdown",
   "metadata": {},
   "source": [
    "### 텍스트파일 encoding\n",
    "\n",
    "- Linux: Unicoe\n",
    "- Windows: CP949\n"
   ]
  },
  {
   "cell_type": "code",
   "execution_count": 40,
   "metadata": {},
   "outputs": [],
   "source": [
    "with open('text_cp949.txt', 'w', encoding='cp949') as f:\n",
    "    for i in range(1, 10):\n",
    "        data = f'{i} 번째 줄입니다.\\n'\n",
    "        f.write(data)"
   ]
  },
  {
   "cell_type": "code",
   "execution_count": 41,
   "metadata": {},
   "outputs": [],
   "source": [
    "with open('text_utf8.txt', 'w', encoding='utf8') as f:\n",
    "    for i in range(1, 10):\n",
    "        data = f'{i} 번째 줄입니다.\\n'\n",
    "        f.write(data)"
   ]
  },
  {
   "cell_type": "markdown",
   "metadata": {},
   "source": [
    "cp949 바로 읽기"
   ]
  },
  {
   "cell_type": "code",
   "execution_count": 42,
   "metadata": {},
   "outputs": [
    {
     "name": "stdout",
     "output_type": "stream",
     "text": [
      "lines: ['1 번째 줄입니다.\\n', '2 번째 줄입니다.\\n', '3 번째 줄입니다.\\n', '4 번째 줄입니다.\\n', '5 번째 줄입니다.\\n', '6 번째 줄입니다.\\n', '7 번째 줄입니다.\\n', '8 번째 줄입니다.\\n', '9 번째 줄입니다.\\n']\n"
     ]
    }
   ],
   "source": [
    "with open(\"text_cp949.txt\", \"r\") as f:\n",
    "    lines = f.readlines()\n",
    "\n",
    "print(\"lines:\", lines)"
   ]
  },
  {
   "cell_type": "code",
   "execution_count": 43,
   "metadata": {},
   "outputs": [
    {
     "name": "stdout",
     "output_type": "stream",
     "text": [
      "lines: ['1 번째 줄입니다.\\n', '2 번째 줄입니다.\\n', '3 번째 줄입니다.\\n', '4 번째 줄입니다.\\n', '5 번째 줄입니다.\\n', '6 번째 줄입니다.\\n', '7 번째 줄입니다.\\n', '8 번째 줄입니다.\\n', '9 번째 줄입니다.\\n']\n"
     ]
    }
   ],
   "source": [
    "with open(\"text_cp949.txt\", \"r\", encoding='cp949') as f:\n",
    "    lines = f.readlines()\n",
    "\n",
    "print(\"lines:\", lines)"
   ]
  },
  {
   "cell_type": "markdown",
   "metadata": {},
   "source": [
    "utf8 바로 읽기"
   ]
  },
  {
   "cell_type": "code",
   "execution_count": 44,
   "metadata": {},
   "outputs": [
    {
     "ename": "UnicodeDecodeError",
     "evalue": "'cp949' codec can't decode byte 0xeb in position 15: illegal multibyte sequence",
     "output_type": "error",
     "traceback": [
      "\u001b[1;31m---------------------------------------------------------------------------\u001b[0m",
      "\u001b[1;31mUnicodeDecodeError\u001b[0m                        Traceback (most recent call last)",
      "Cell \u001b[1;32mIn[44], line 2\u001b[0m\n\u001b[0;32m      1\u001b[0m \u001b[38;5;28;01mwith\u001b[39;00m \u001b[38;5;28mopen\u001b[39m(\u001b[38;5;124m\"\u001b[39m\u001b[38;5;124mtext_utf8.txt\u001b[39m\u001b[38;5;124m\"\u001b[39m, \u001b[38;5;124m\"\u001b[39m\u001b[38;5;124mr\u001b[39m\u001b[38;5;124m\"\u001b[39m) \u001b[38;5;28;01mas\u001b[39;00m f:\n\u001b[1;32m----> 2\u001b[0m     lines \u001b[38;5;241m=\u001b[39m \u001b[43mf\u001b[49m\u001b[38;5;241;43m.\u001b[39;49m\u001b[43mreadlines\u001b[49m\u001b[43m(\u001b[49m\u001b[43m)\u001b[49m\n\u001b[0;32m      4\u001b[0m \u001b[38;5;28mprint\u001b[39m(\u001b[38;5;124m\"\u001b[39m\u001b[38;5;124mlines:\u001b[39m\u001b[38;5;124m\"\u001b[39m, lines)\n",
      "\u001b[1;31mUnicodeDecodeError\u001b[0m: 'cp949' codec can't decode byte 0xeb in position 15: illegal multibyte sequence"
     ]
    }
   ],
   "source": [
    "with open(\"text_utf8.txt\", \"r\") as f:\n",
    "    lines = f.readlines()\n",
    "\n",
    "print(\"lines:\", lines)"
   ]
  },
  {
   "cell_type": "code",
   "execution_count": 46,
   "metadata": {},
   "outputs": [
    {
     "name": "stdout",
     "output_type": "stream",
     "text": [
      "lines: ['1 번째 줄입니다.\\n', '2 번째 줄입니다.\\n', '3 번째 줄입니다.\\n', '4 번째 줄입니다.\\n', '5 번째 줄입니다.\\n', '6 번째 줄입니다.\\n', '7 번째 줄입니다.\\n', '8 번째 줄입니다.\\n', '9 번째 줄입니다.\\n']\n"
     ]
    }
   ],
   "source": [
    "with open(\"text_utf8.txt\", \"r\", encoding='utf-8') as f:\n",
    "    lines = f.readlines()\n",
    "\n",
    "print(\"lines:\", lines)"
   ]
  },
  {
   "cell_type": "code",
   "execution_count": null,
   "metadata": {},
   "outputs": [],
   "source": []
  },
  {
   "cell_type": "code",
   "execution_count": null,
   "metadata": {},
   "outputs": [],
   "source": []
  },
  {
   "cell_type": "markdown",
   "metadata": {},
   "source": [
    "## binary mode\n",
    "\n",
    "바이너리 파일은 바이너리 모드로 작성해서 사용해야 한다. "
   ]
  },
  {
   "cell_type": "code",
   "execution_count": 47,
   "metadata": {},
   "outputs": [
    {
     "name": "stdout",
     "output_type": "stream",
     "text": [
      "====== binary file =====\n"
     ]
    }
   ],
   "source": [
    "\"\"\"\n",
    "바이너리 파일 생성\n",
    "\"\"\"\n",
    "print(\"====== binary file =====\")\n",
    "f = open(\"test.bin\", \"wb\")\n",
    "\n",
    "for i in range(0, 256):\n",
    "    data = i.to_bytes(1, 'little')\n",
    "    f.write(data)\n",
    "f.close()"
   ]
  },
  {
   "cell_type": "code",
   "execution_count": 48,
   "metadata": {},
   "outputs": [],
   "source": [
    "# with\n",
    "print(\"====== with binary file =====\")\n",
    "with open(\"test.bin\", \"wb\") as f:\n",
    "\n",
    "    for i in range(0, 256):\n",
    "        data = i.to_bytes(1, 'little')\n",
    "        f.write(data)"
   ]
  },
  {
   "cell_type": "code",
   "execution_count": 48,
   "metadata": {
    "collapsed": true,
    "jupyter": {
     "outputs_hidden": true
    },
    "tags": []
   },
   "outputs": [
    {
     "name": "stdout",
     "output_type": "stream",
     "text": [
      "====== with binary file =====\n",
      "b'b\\'\\\\x00\\\\x01\\\\x02\\\\x03\\\\x04\\\\x05\\\\x06\\\\x07\\\\x08\\\\t\\\\n\\\\x0b\\\\x0c\\\\r\\\\x0e\\\\x0f\\\\x10\\\\x11\\\\x12\\\\x13\\\\x14\\\\x15\\\\x16\\\\x17\\\\x18\\\\x19\\\\x1a\\\\x1b\\\\x1c\\\\x1d\\\\x1e\\\\x1f !\"#$%&\\\\\\'()*+,-./0123456789:;<=>?@ABCDEFGHIJKLMNOPQRSTUVWXYZ[\\\\\\\\]^_`abcdefghijklmnopqrstuvwxyz{|}~\\\\x7f\\\\x80\\\\x81\\\\x82\\\\x83\\\\x84\\\\x85\\\\x86\\\\x87\\\\x88\\\\x89\\\\x8a\\\\x8b\\\\x8c\\\\x8d\\\\x8e\\\\x8f\\\\x90\\\\x91\\\\x92\\\\x93\\\\x94\\\\x95\\\\x96\\\\x97\\\\x98\\\\x99\\\\x9a\\\\x9b\\\\x9c\\\\x9d\\\\x9e\\\\x9f\\\\xa0\\\\xa1\\\\xa2\\\\xa3\\\\xa4\\\\xa5\\\\xa6\\\\xa7\\\\xa8\\\\xa9\\\\xaa\\\\xab\\\\xac\\\\xad\\\\xae\\\\xaf\\\\xb0\\\\xb1\\\\xb2\\\\xb3\\\\xb4\\\\xb5\\\\xb6\\\\xb7\\\\xb8\\\\xb9\\\\xba\\\\xbb\\\\xbc\\\\xbd\\\\xbe\\\\xbf\\\\xc0\\\\xc1\\\\xc2\\\\xc3\\\\xc4\\\\xc5\\\\xc6\\\\xc7\\\\xc8\\\\xc9\\\\xca\\\\xcb\\\\xcc\\\\xcd\\\\xce\\\\xcf\\\\xd0\\\\xd1\\\\xd2\\\\xd3\\\\xd4\\\\xd5\\\\xd6\\\\xd7\\\\xd8\\\\xd9\\\\xda\\\\xdb\\\\xdc\\\\xdd\\\\xde\\\\xdf\\\\xe0\\\\xe1\\\\xe2\\\\xe3\\\\xe4\\\\xe5\\\\xe6\\\\xe7\\\\xe8\\\\xe9\\\\xea\\\\xeb\\\\xec\\\\xed\\\\xee\\\\xef\\\\xf0\\\\xf1\\\\xf2\\\\xf3\\\\xf4\\\\xf5\\\\xf6\\\\xf7\\\\xf8\\\\xf9\\\\xfa\\\\xfb\\\\xfc\\\\xfd\\\\xfe\\\\xff\\''\n"
     ]
    }
   ],
   "source": [
    "with open(\"test.bin\", \"rb\") as f:\n",
    "    print(\"{0}\".format(f.read()).encode())\n",
    "#     print(f'{f.read()}'.encode()) # a byte string"
   ]
  },
  {
   "cell_type": "markdown",
   "metadata": {},
   "source": [
    "#### 바이너리 파일 복사\n",
    "\n",
    "바이너리 모드로 rose-flower.jpeg를 읽어 들여서, 바이너리 모드로 rose-flower-copy.jpeg로 저장해 보자."
   ]
  },
  {
   "cell_type": "code",
   "execution_count": 49,
   "metadata": {
    "collapsed": true,
    "jupyter": {
     "outputs_hidden": true
    },
    "tags": []
   },
   "outputs": [
    {
     "ename": "FileNotFoundError",
     "evalue": "[Errno 2] No such file or directory: 'rose-flower.jpeg'",
     "output_type": "error",
     "traceback": [
      "\u001b[1;31m---------------------------------------------------------------------------\u001b[0m",
      "\u001b[1;31mFileNotFoundError\u001b[0m                         Traceback (most recent call last)",
      "Cell \u001b[1;32mIn[49], line 1\u001b[0m\n\u001b[1;32m----> 1\u001b[0m \u001b[38;5;28;01mwith\u001b[39;00m \u001b[38;5;28;43mopen\u001b[39;49m\u001b[43m(\u001b[49m\u001b[38;5;124;43m\"\u001b[39;49m\u001b[38;5;124;43mrose-flower.jpeg\u001b[39;49m\u001b[38;5;124;43m\"\u001b[39;49m\u001b[43m,\u001b[49m\u001b[43m \u001b[49m\u001b[38;5;124;43m\"\u001b[39;49m\u001b[38;5;124;43mrb\u001b[39;49m\u001b[38;5;124;43m\"\u001b[39;49m\u001b[43m)\u001b[49m \u001b[38;5;28;01mas\u001b[39;00m f:\n\u001b[0;32m      2\u001b[0m     data \u001b[38;5;241m=\u001b[39m f\u001b[38;5;241m.\u001b[39mread()\n\u001b[0;32m      4\u001b[0m \u001b[38;5;28mprint\u001b[39m(\u001b[38;5;124m\"\u001b[39m\u001b[38;5;124m읽은 데이터:\u001b[39m\u001b[38;5;124m\"\u001b[39m, data)\n",
      "File \u001b[1;32mC:\\anaconda3\\envs\\Python_basic\\lib\\site-packages\\IPython\\core\\interactiveshell.py:282\u001b[0m, in \u001b[0;36m_modified_open\u001b[1;34m(file, *args, **kwargs)\u001b[0m\n\u001b[0;32m    275\u001b[0m \u001b[38;5;28;01mif\u001b[39;00m file \u001b[38;5;129;01min\u001b[39;00m {\u001b[38;5;241m0\u001b[39m, \u001b[38;5;241m1\u001b[39m, \u001b[38;5;241m2\u001b[39m}:\n\u001b[0;32m    276\u001b[0m     \u001b[38;5;28;01mraise\u001b[39;00m \u001b[38;5;167;01mValueError\u001b[39;00m(\n\u001b[0;32m    277\u001b[0m         \u001b[38;5;124mf\u001b[39m\u001b[38;5;124m\"\u001b[39m\u001b[38;5;124mIPython won\u001b[39m\u001b[38;5;124m'\u001b[39m\u001b[38;5;124mt let you open fd=\u001b[39m\u001b[38;5;132;01m{\u001b[39;00mfile\u001b[38;5;132;01m}\u001b[39;00m\u001b[38;5;124m by default \u001b[39m\u001b[38;5;124m\"\u001b[39m\n\u001b[0;32m    278\u001b[0m         \u001b[38;5;124m\"\u001b[39m\u001b[38;5;124mas it is likely to crash IPython. If you know what you are doing, \u001b[39m\u001b[38;5;124m\"\u001b[39m\n\u001b[0;32m    279\u001b[0m         \u001b[38;5;124m\"\u001b[39m\u001b[38;5;124myou can use builtins\u001b[39m\u001b[38;5;124m'\u001b[39m\u001b[38;5;124m open.\u001b[39m\u001b[38;5;124m\"\u001b[39m\n\u001b[0;32m    280\u001b[0m     )\n\u001b[1;32m--> 282\u001b[0m \u001b[38;5;28;01mreturn\u001b[39;00m io_open(file, \u001b[38;5;241m*\u001b[39margs, \u001b[38;5;241m*\u001b[39m\u001b[38;5;241m*\u001b[39mkwargs)\n",
      "\u001b[1;31mFileNotFoundError\u001b[0m: [Errno 2] No such file or directory: 'rose-flower.jpeg'"
     ]
    }
   ],
   "source": [
    "with open(\"rose-flower.jpeg\", \"rb\") as f:\n",
    "    data = f.read()\n",
    "\n",
    "print(\"읽은 데이터:\", data)\n",
    "\n",
    "# 저장\n",
    "with open(\"rose-flower-copy.jpeg\", \"wb\") as f:\n",
    "    f.write(data)"
   ]
  },
  {
   "cell_type": "code",
   "execution_count": null,
   "metadata": {},
   "outputs": [],
   "source": []
  }
 ],
 "metadata": {
  "kernelspec": {
   "display_name": "Python 3 (ipykernel)",
   "language": "python",
   "name": "python3"
  },
  "language_info": {
   "codemirror_mode": {
    "name": "ipython",
    "version": 3
   },
   "file_extension": ".py",
   "mimetype": "text/x-python",
   "name": "python",
   "nbconvert_exporter": "python",
   "pygments_lexer": "ipython3",
   "version": "3.10.9"
  }
 },
 "nbformat": 4,
 "nbformat_minor": 4
}
