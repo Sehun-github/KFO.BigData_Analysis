{
 "cells": [
  {
   "cell_type": "code",
   "execution_count": null,
   "metadata": {},
   "outputs": [],
   "source": [
    "! pip install pandas"
   ]
  },
  {
   "cell_type": "markdown",
   "metadata": {},
   "source": [
    "<div id = \"summary\"> \n",
    "<ul>\n",
    "    <li>DataFrame <strong><span style = \"color:red\">생성</span></strong></li>\n",
    "    <li>DataFrame에 <strong><span style = \"color:red\">Data추가/삭제/조회</span></strong></li>\n",
    "\n",
    "</div>  \n",
    "  \n",
    "    "
   ]
  },
  {
   "cell_type": "markdown",
   "metadata": {},
   "source": [
    "# 2. DataFrame"
   ]
  },
  {
   "cell_type": "markdown",
   "metadata": {},
   "source": [
    "DataFrame 이란?\n",
    "\n",
    "<ul>\n",
    "    <li> 2차원 데이터 </li>\n",
    "    <li> 인덱스가 같은 하나 이상의 <strong><u>Series가 모여진 데이터</u></strong> </li>\n",
    "    <li> DBMS 의 관계형 Table 과 매우 유사 </li>\n",
    "</ul>\n",
    "\n",
    "\n",
    "먼저 DataFrame을 사용하기 위해 Pandas 라이브러리를 import 합니다."
   ]
  },
  {
   "cell_type": "code",
   "execution_count": 6,
   "metadata": {},
   "outputs": [],
   "source": [
    "# pandas library import\n",
    "import pandas as pd\n",
    "from pandas import Series, DataFrame"
   ]
  },
  {
   "cell_type": "markdown",
   "metadata": {},
   "source": [
    "## 2.1 DataFrame 데이터 생성"
   ]
  },
  {
   "cell_type": "markdown",
   "metadata": {},
   "source": [
    "DataFrame을 생성하기 위해 셀에 DataFrame() 이라고 입력하고 괄호 안에서 Shift+tab 을 눌러보면 아래와 같은 정보가 보입니다.  \n",
    "\n",
    "DataFrame(<strong><span style = \"color:red\">data</span></strong>=None, <strong><span style = \"color:red\">index</span></strong>=None, <strong><span style = \"color:red\">columns</span></strong>=None, <strong><span style = \"color:red\">dtype</span></strong>=None, <strong><span style = \"color:red\">copy</span></strong>=False)  \n",
    "\n",
    "값을 입력해줄 수 있고, Default 가 None이기 때문에 값이 없으면 아무 동작도 하지 않습니다. 속성값들을 하나씩 알아보겠습니다.\n",
    "<ul>\n",
    "    <li><strong><span style = \"color:red\">data</span></strong> : 저장되는 데이터</li>\n",
    "    <li><strong><span style = \"color:red\">index</span></strong> : index에 대한 정보(미입력시 0부터 순차적으로 부여)</li>\n",
    "    <li><strong><span style = \"color:red\">columns</span></strong> : 열에 대한 이름값(미입력시 0부터 순차적으로 부여)</li>\n",
    "    <li><strong><span style = \"color:red\">dtype</span></strong> : 데이터에 대한 타입 명시(미입력시 자체적으로 판단)</li>\n",
    "</ul>\n",
    "\n",
    "예제를 확인하겠습니다."
   ]
  },
  {
   "cell_type": "code",
   "execution_count": 7,
   "metadata": {},
   "outputs": [
    {
     "data": {
      "text/html": [
       "<div>\n",
       "<style scoped>\n",
       "    .dataframe tbody tr th:only-of-type {\n",
       "        vertical-align: middle;\n",
       "    }\n",
       "\n",
       "    .dataframe tbody tr th {\n",
       "        vertical-align: top;\n",
       "    }\n",
       "\n",
       "    .dataframe thead th {\n",
       "        text-align: right;\n",
       "    }\n",
       "</style>\n",
       "<table border=\"1\" class=\"dataframe\">\n",
       "  <thead>\n",
       "    <tr style=\"text-align: right;\">\n",
       "      <th></th>\n",
       "      <th>키</th>\n",
       "      <th>몸무게</th>\n",
       "    </tr>\n",
       "  </thead>\n",
       "  <tbody>\n",
       "    <tr>\n",
       "      <th>사람1</th>\n",
       "      <td>180</td>\n",
       "      <td>75</td>\n",
       "    </tr>\n",
       "    <tr>\n",
       "      <th>사람2</th>\n",
       "      <td>160</td>\n",
       "      <td>65</td>\n",
       "    </tr>\n",
       "    <tr>\n",
       "      <th>사람3</th>\n",
       "      <td>170</td>\n",
       "      <td>75</td>\n",
       "    </tr>\n",
       "    <tr>\n",
       "      <th>사람4</th>\n",
       "      <td>175</td>\n",
       "      <td>80</td>\n",
       "    </tr>\n",
       "  </tbody>\n",
       "</table>\n",
       "</div>"
      ],
      "text/plain": [
       "       키  몸무게\n",
       "사람1  180   75\n",
       "사람2  160   65\n",
       "사람3  170   75\n",
       "사람4  175   80"
      ]
     },
     "execution_count": 7,
     "metadata": {},
     "output_type": "execute_result"
    }
   ],
   "source": [
    "Data1 = DataFrame([[180,75],[160,65],[170,75], [175,80]], \n",
    "                  index = [\"사람1\",\"사람2\",\"사람3\",\"사람4\"], \n",
    "                  columns = [\"키\",\"몸무게\"])\n",
    "Data1"
   ]
  },
  {
   "cell_type": "code",
   "execution_count": 8,
   "metadata": {},
   "outputs": [
    {
     "name": "stdout",
     "output_type": "stream",
     "text": [
      "       키  몸무게\n",
      "사람1  180   75\n",
      "사람2  160   65\n",
      "사람3  170   75\n",
      "사람4  175   80\n"
     ]
    }
   ],
   "source": [
    "print(Data1)"
   ]
  },
  {
   "cell_type": "code",
   "execution_count": 9,
   "metadata": {},
   "outputs": [
    {
     "data": {
      "text/plain": [
       "(4, 2)"
      ]
     },
     "execution_count": 9,
     "metadata": {},
     "output_type": "execute_result"
    }
   ],
   "source": [
    "Data1.shape"
   ]
  },
  {
   "cell_type": "code",
   "execution_count": 10,
   "metadata": {},
   "outputs": [
    {
     "data": {
      "text/plain": [
       "Index(['사람1', '사람2', '사람3', '사람4'], dtype='object')"
      ]
     },
     "execution_count": 10,
     "metadata": {},
     "output_type": "execute_result"
    }
   ],
   "source": [
    "Data1.index"
   ]
  },
  {
   "cell_type": "code",
   "execution_count": 11,
   "metadata": {},
   "outputs": [
    {
     "data": {
      "text/plain": [
       "array([[180,  75],\n",
       "       [160,  65],\n",
       "       [170,  75],\n",
       "       [175,  80]], dtype=int64)"
      ]
     },
     "execution_count": 11,
     "metadata": {},
     "output_type": "execute_result"
    }
   ],
   "source": [
    "Data1.values"
   ]
  },
  {
   "cell_type": "code",
   "execution_count": 12,
   "metadata": {},
   "outputs": [
    {
     "data": {
      "text/plain": [
       "Index(['키', '몸무게'], dtype='object')"
      ]
     },
     "execution_count": 12,
     "metadata": {},
     "output_type": "execute_result"
    }
   ],
   "source": [
    "Data1.columns"
   ]
  },
  {
   "cell_type": "code",
   "execution_count": 13,
   "metadata": {},
   "outputs": [
    {
     "data": {
      "text/plain": [
       "2"
      ]
     },
     "execution_count": 13,
     "metadata": {},
     "output_type": "execute_result"
    }
   ],
   "source": [
    "Data1.ndim"
   ]
  },
  {
   "cell_type": "code",
   "execution_count": 14,
   "metadata": {},
   "outputs": [
    {
     "data": {
      "text/plain": [
       "8"
      ]
     },
     "execution_count": 14,
     "metadata": {},
     "output_type": "execute_result"
    }
   ],
   "source": [
    "Data1.size"
   ]
  },
  {
   "cell_type": "markdown",
   "metadata": {},
   "source": [
    "index와 columns의 경우 선언후에도 별도로 입력할 수도 있습니다."
   ]
  },
  {
   "cell_type": "code",
   "execution_count": null,
   "metadata": {},
   "outputs": [],
   "source": [
    "Data1 = DataFrame([[180,75],[160,65],[170,75], [175,80]])\n",
    "Data1"
   ]
  },
  {
   "cell_type": "code",
   "execution_count": null,
   "metadata": {},
   "outputs": [],
   "source": [
    "# 인덱스 저장\n",
    "Data1.index = [\"Man1\",\"Man2\",\"Man3\",\"Man4\"]\n",
    "Data1"
   ]
  },
  {
   "cell_type": "code",
   "execution_count": null,
   "metadata": {},
   "outputs": [],
   "source": [
    "Data1.columns"
   ]
  },
  {
   "cell_type": "code",
   "execution_count": null,
   "metadata": {},
   "outputs": [],
   "source": [
    "# 컬럼명 저장\n",
    "Data1.columns = [\"Height\",\"Weight\"]\n",
    "Data1"
   ]
  },
  {
   "cell_type": "code",
   "execution_count": null,
   "metadata": {},
   "outputs": [],
   "source": [
    "Data1.columns"
   ]
  },
  {
   "cell_type": "markdown",
   "metadata": {
    "tags": []
   },
   "source": [
    "## 2.2 DataFrame 조회\n",
    "- `DataFrame[컬럼명]` : 컬럼 선택\n",
    "- `DataFrame.loc[\"index명\"]` : 특정 index만 조회 가능하다.\n",
    "- `DataFrame.iloc[index번호]` : 특정 index만 조회 가능하다."
   ]
  },
  {
   "cell_type": "code",
   "execution_count": 16,
   "metadata": {},
   "outputs": [
    {
     "data": {
      "text/html": [
       "<div>\n",
       "<style scoped>\n",
       "    .dataframe tbody tr th:only-of-type {\n",
       "        vertical-align: middle;\n",
       "    }\n",
       "\n",
       "    .dataframe tbody tr th {\n",
       "        vertical-align: top;\n",
       "    }\n",
       "\n",
       "    .dataframe thead th {\n",
       "        text-align: right;\n",
       "    }\n",
       "</style>\n",
       "<table border=\"1\" class=\"dataframe\">\n",
       "  <thead>\n",
       "    <tr style=\"text-align: right;\">\n",
       "      <th></th>\n",
       "      <th>키</th>\n",
       "      <th>몸무게</th>\n",
       "      <th>나이</th>\n",
       "    </tr>\n",
       "  </thead>\n",
       "  <tbody>\n",
       "    <tr>\n",
       "      <th>사람1</th>\n",
       "      <td>180</td>\n",
       "      <td>75</td>\n",
       "      <td>30</td>\n",
       "    </tr>\n",
       "    <tr>\n",
       "      <th>사람2</th>\n",
       "      <td>160</td>\n",
       "      <td>65</td>\n",
       "      <td>40</td>\n",
       "    </tr>\n",
       "    <tr>\n",
       "      <th>사람3</th>\n",
       "      <td>170</td>\n",
       "      <td>75</td>\n",
       "      <td>32</td>\n",
       "    </tr>\n",
       "    <tr>\n",
       "      <th>사람4</th>\n",
       "      <td>175</td>\n",
       "      <td>80</td>\n",
       "      <td>33</td>\n",
       "    </tr>\n",
       "  </tbody>\n",
       "</table>\n",
       "</div>"
      ],
      "text/plain": [
       "       키  몸무게  나이\n",
       "사람1  180   75  30\n",
       "사람2  160   65  40\n",
       "사람3  170   75  32\n",
       "사람4  175   80  33"
      ]
     },
     "execution_count": 16,
     "metadata": {},
     "output_type": "execute_result"
    }
   ],
   "source": [
    "# 예제를 위한 데이터 생성\n",
    "Data2 = DataFrame([[180,75,30],[160,65,40],[170,75,32], [175,80,33]], \n",
    "                  index = [\"사람1\",\"사람2\",\"사람3\",\"사람4\"], \n",
    "                  columns = [\"키\",\"몸무게\",\"나이\"])\n",
    "Data2"
   ]
  },
  {
   "cell_type": "code",
   "execution_count": 17,
   "metadata": {},
   "outputs": [
    {
     "data": {
      "text/plain": [
       "(4, 3)"
      ]
     },
     "execution_count": 17,
     "metadata": {},
     "output_type": "execute_result"
    }
   ],
   "source": [
    "Data2.shape"
   ]
  },
  {
   "cell_type": "markdown",
   "metadata": {},
   "source": [
    "### Column 조회"
   ]
  },
  {
   "cell_type": "markdown",
   "metadata": {},
   "source": [
    "<strong><span style = \"color:red\">DataFrame명[\"속성명\"]</span></strong> 또는 <strong><span style = \"color:red\">DataFrame명.속성명</span></strong>을 통해 <strong><u>특정 속성명만 조회</u></strong> 할 수 있다.\n",
    "\n",
    "하나의 속성명을 조회 하면 SeriesType, 여러 속성명을 조회 하면 DataFrame으로 출력된다."
   ]
  },
  {
   "cell_type": "code",
   "execution_count": 18,
   "metadata": {},
   "outputs": [
    {
     "data": {
      "text/plain": [
       "사람1    180\n",
       "사람2    160\n",
       "사람3    170\n",
       "사람4    175\n",
       "Name: 키, dtype: int64"
      ]
     },
     "execution_count": 18,
     "metadata": {},
     "output_type": "execute_result"
    }
   ],
   "source": [
    "# 키 Column 만 조회\n",
    "Data2[\"키\"]"
   ]
  },
  {
   "cell_type": "code",
   "execution_count": 19,
   "metadata": {},
   "outputs": [
    {
     "data": {
      "text/plain": [
       "사람1    75\n",
       "사람2    65\n",
       "사람3    75\n",
       "사람4    80\n",
       "Name: 몸무게, dtype: int64"
      ]
     },
     "execution_count": 19,
     "metadata": {},
     "output_type": "execute_result"
    }
   ],
   "source": [
    "Data2.몸무게"
   ]
  },
  {
   "cell_type": "code",
   "execution_count": 20,
   "metadata": {},
   "outputs": [
    {
     "data": {
      "text/plain": [
       "pandas.core.series.Series"
      ]
     },
     "execution_count": 20,
     "metadata": {},
     "output_type": "execute_result"
    }
   ],
   "source": [
    "# Type 은 Series\n",
    "type(Data2.몸무게)"
   ]
  },
  {
   "cell_type": "code",
   "execution_count": 21,
   "metadata": {},
   "outputs": [
    {
     "data": {
      "text/html": [
       "<div>\n",
       "<style scoped>\n",
       "    .dataframe tbody tr th:only-of-type {\n",
       "        vertical-align: middle;\n",
       "    }\n",
       "\n",
       "    .dataframe tbody tr th {\n",
       "        vertical-align: top;\n",
       "    }\n",
       "\n",
       "    .dataframe thead th {\n",
       "        text-align: right;\n",
       "    }\n",
       "</style>\n",
       "<table border=\"1\" class=\"dataframe\">\n",
       "  <thead>\n",
       "    <tr style=\"text-align: right;\">\n",
       "      <th></th>\n",
       "      <th>키</th>\n",
       "      <th>몸무게</th>\n",
       "    </tr>\n",
       "  </thead>\n",
       "  <tbody>\n",
       "    <tr>\n",
       "      <th>사람1</th>\n",
       "      <td>180</td>\n",
       "      <td>75</td>\n",
       "    </tr>\n",
       "    <tr>\n",
       "      <th>사람2</th>\n",
       "      <td>160</td>\n",
       "      <td>65</td>\n",
       "    </tr>\n",
       "    <tr>\n",
       "      <th>사람3</th>\n",
       "      <td>170</td>\n",
       "      <td>75</td>\n",
       "    </tr>\n",
       "    <tr>\n",
       "      <th>사람4</th>\n",
       "      <td>175</td>\n",
       "      <td>80</td>\n",
       "    </tr>\n",
       "  </tbody>\n",
       "</table>\n",
       "</div>"
      ],
      "text/plain": [
       "       키  몸무게\n",
       "사람1  180   75\n",
       "사람2  160   65\n",
       "사람3  170   75\n",
       "사람4  175   80"
      ]
     },
     "execution_count": 21,
     "metadata": {},
     "output_type": "execute_result"
    }
   ],
   "source": [
    "# 두 개 이상 컬럼 조회\n",
    "Data2[[\"키\", \"몸무게\"]]"
   ]
  },
  {
   "cell_type": "markdown",
   "metadata": {},
   "source": [
    "### 컬럼 슬라이싱"
   ]
  },
  {
   "cell_type": "markdown",
   "metadata": {},
   "source": [
    "범위와 슬라이싱은 row 방향의 레코드를 반환한다.\n",
    "\n",
    "- Dataframe[start:stop] 를 통해 row 인덱스 조회\n",
    "- Dataframe[start:stop:step] 를 통해 row 인덱스 조회"
   ]
  },
  {
   "cell_type": "code",
   "execution_count": 22,
   "metadata": {},
   "outputs": [
    {
     "data": {
      "text/html": [
       "<div>\n",
       "<style scoped>\n",
       "    .dataframe tbody tr th:only-of-type {\n",
       "        vertical-align: middle;\n",
       "    }\n",
       "\n",
       "    .dataframe tbody tr th {\n",
       "        vertical-align: top;\n",
       "    }\n",
       "\n",
       "    .dataframe thead th {\n",
       "        text-align: right;\n",
       "    }\n",
       "</style>\n",
       "<table border=\"1\" class=\"dataframe\">\n",
       "  <thead>\n",
       "    <tr style=\"text-align: right;\">\n",
       "      <th></th>\n",
       "      <th>키</th>\n",
       "      <th>몸무게</th>\n",
       "      <th>나이</th>\n",
       "    </tr>\n",
       "  </thead>\n",
       "  <tbody>\n",
       "    <tr>\n",
       "      <th>사람2</th>\n",
       "      <td>160</td>\n",
       "      <td>65</td>\n",
       "      <td>40</td>\n",
       "    </tr>\n",
       "  </tbody>\n",
       "</table>\n",
       "</div>"
      ],
      "text/plain": [
       "       키  몸무게  나이\n",
       "사람2  160   65  40"
      ]
     },
     "execution_count": 22,
     "metadata": {},
     "output_type": "execute_result"
    }
   ],
   "source": [
    "Data2[1:2]"
   ]
  },
  {
   "cell_type": "markdown",
   "metadata": {},
   "source": [
    "Step  이용"
   ]
  },
  {
   "cell_type": "code",
   "execution_count": 23,
   "metadata": {},
   "outputs": [
    {
     "data": {
      "text/html": [
       "<div>\n",
       "<style scoped>\n",
       "    .dataframe tbody tr th:only-of-type {\n",
       "        vertical-align: middle;\n",
       "    }\n",
       "\n",
       "    .dataframe tbody tr th {\n",
       "        vertical-align: top;\n",
       "    }\n",
       "\n",
       "    .dataframe thead th {\n",
       "        text-align: right;\n",
       "    }\n",
       "</style>\n",
       "<table border=\"1\" class=\"dataframe\">\n",
       "  <thead>\n",
       "    <tr style=\"text-align: right;\">\n",
       "      <th></th>\n",
       "      <th>키</th>\n",
       "      <th>몸무게</th>\n",
       "      <th>나이</th>\n",
       "    </tr>\n",
       "  </thead>\n",
       "  <tbody>\n",
       "    <tr>\n",
       "      <th>사람2</th>\n",
       "      <td>160</td>\n",
       "      <td>65</td>\n",
       "      <td>40</td>\n",
       "    </tr>\n",
       "    <tr>\n",
       "      <th>사람4</th>\n",
       "      <td>175</td>\n",
       "      <td>80</td>\n",
       "      <td>33</td>\n",
       "    </tr>\n",
       "  </tbody>\n",
       "</table>\n",
       "</div>"
      ],
      "text/plain": [
       "       키  몸무게  나이\n",
       "사람2  160   65  40\n",
       "사람4  175   80  33"
      ]
     },
     "execution_count": 23,
     "metadata": {},
     "output_type": "execute_result"
    }
   ],
   "source": [
    "Data2[1::2]"
   ]
  },
  {
   "cell_type": "code",
   "execution_count": 24,
   "metadata": {},
   "outputs": [
    {
     "data": {
      "text/html": [
       "<div>\n",
       "<style scoped>\n",
       "    .dataframe tbody tr th:only-of-type {\n",
       "        vertical-align: middle;\n",
       "    }\n",
       "\n",
       "    .dataframe tbody tr th {\n",
       "        vertical-align: top;\n",
       "    }\n",
       "\n",
       "    .dataframe thead th {\n",
       "        text-align: right;\n",
       "    }\n",
       "</style>\n",
       "<table border=\"1\" class=\"dataframe\">\n",
       "  <thead>\n",
       "    <tr style=\"text-align: right;\">\n",
       "      <th></th>\n",
       "      <th>키</th>\n",
       "      <th>몸무게</th>\n",
       "      <th>나이</th>\n",
       "    </tr>\n",
       "  </thead>\n",
       "  <tbody>\n",
       "    <tr>\n",
       "      <th>사람1</th>\n",
       "      <td>180</td>\n",
       "      <td>75</td>\n",
       "      <td>30</td>\n",
       "    </tr>\n",
       "    <tr>\n",
       "      <th>사람3</th>\n",
       "      <td>170</td>\n",
       "      <td>75</td>\n",
       "      <td>32</td>\n",
       "    </tr>\n",
       "  </tbody>\n",
       "</table>\n",
       "</div>"
      ],
      "text/plain": [
       "       키  몸무게  나이\n",
       "사람1  180   75  30\n",
       "사람3  170   75  32"
      ]
     },
     "execution_count": 24,
     "metadata": {},
     "output_type": "execute_result"
    }
   ],
   "source": [
    "Data2[::2]"
   ]
  },
  {
   "cell_type": "code",
   "execution_count": 25,
   "metadata": {},
   "outputs": [
    {
     "data": {
      "text/html": [
       "<div>\n",
       "<style scoped>\n",
       "    .dataframe tbody tr th:only-of-type {\n",
       "        vertical-align: middle;\n",
       "    }\n",
       "\n",
       "    .dataframe tbody tr th {\n",
       "        vertical-align: top;\n",
       "    }\n",
       "\n",
       "    .dataframe thead th {\n",
       "        text-align: right;\n",
       "    }\n",
       "</style>\n",
       "<table border=\"1\" class=\"dataframe\">\n",
       "  <thead>\n",
       "    <tr style=\"text-align: right;\">\n",
       "      <th></th>\n",
       "      <th>키</th>\n",
       "      <th>몸무게</th>\n",
       "      <th>나이</th>\n",
       "    </tr>\n",
       "  </thead>\n",
       "  <tbody>\n",
       "    <tr>\n",
       "      <th>사람3</th>\n",
       "      <td>170</td>\n",
       "      <td>75</td>\n",
       "      <td>32</td>\n",
       "    </tr>\n",
       "  </tbody>\n",
       "</table>\n",
       "</div>"
      ],
      "text/plain": [
       "       키  몸무게  나이\n",
       "사람3  170   75  32"
      ]
     },
     "execution_count": 25,
     "metadata": {},
     "output_type": "execute_result"
    }
   ],
   "source": [
    "Data2[2::2]"
   ]
  },
  {
   "cell_type": "markdown",
   "metadata": {},
   "source": [
    "### Index 조회"
   ]
  },
  {
   "cell_type": "markdown",
   "metadata": {
    "tags": []
   },
   "source": [
    "<ul>\n",
    "    <li><strong><span style = \"color:red\">DataFrame명.loc[\"index명\"]</span></strong> 을 통해 특정 index만 조회 가능하다.</li>\n",
    "    <li><strong><span style = \"color:red\">DataFrame명.iloc[index번호]</span></strong> 를 통해 특정 index만 조회 가능하다.</li>\n",
    "</ul>\n"
   ]
  },
  {
   "cell_type": "code",
   "execution_count": null,
   "metadata": {},
   "outputs": [],
   "source": [
    "# 컬럼 조회\n",
    "Data2['키']"
   ]
  },
  {
   "cell_type": "code",
   "execution_count": null,
   "metadata": {
    "tags": []
   },
   "outputs": [],
   "source": [
    "Data2[1]"
   ]
  },
  {
   "cell_type": "code",
   "execution_count": null,
   "metadata": {},
   "outputs": [],
   "source": [
    "Data2[1:2]  # index range"
   ]
  },
  {
   "cell_type": "code",
   "execution_count": null,
   "metadata": {},
   "outputs": [],
   "source": [
    "Data2"
   ]
  },
  {
   "cell_type": "markdown",
   "metadata": {},
   "source": []
  },
  {
   "cell_type": "markdown",
   "metadata": {},
   "source": [
    "마찬가지로 하나의 index만 조회 할 경우 Series Type, 여러 index의 경우 DataFrame Type으로 출력한다.  "
   ]
  },
  {
   "cell_type": "code",
   "execution_count": 26,
   "metadata": {},
   "outputs": [
    {
     "data": {
      "text/plain": [
       "키      180\n",
       "몸무게     75\n",
       "나이      30\n",
       "Name: 사람1, dtype: int64"
      ]
     },
     "execution_count": 26,
     "metadata": {},
     "output_type": "execute_result"
    }
   ],
   "source": [
    "Data2.loc[\"사람1\"]"
   ]
  },
  {
   "cell_type": "code",
   "execution_count": 27,
   "metadata": {},
   "outputs": [
    {
     "data": {
      "text/plain": [
       "키      180\n",
       "몸무게     75\n",
       "나이      30\n",
       "Name: 사람1, dtype: int64"
      ]
     },
     "execution_count": 27,
     "metadata": {},
     "output_type": "execute_result"
    }
   ],
   "source": [
    "# 1번 인덱스 --> 사람2의 정보만 출력\n",
    "Data2.iloc[0]"
   ]
  },
  {
   "cell_type": "code",
   "execution_count": 28,
   "metadata": {},
   "outputs": [
    {
     "data": {
      "text/html": [
       "<div>\n",
       "<style scoped>\n",
       "    .dataframe tbody tr th:only-of-type {\n",
       "        vertical-align: middle;\n",
       "    }\n",
       "\n",
       "    .dataframe tbody tr th {\n",
       "        vertical-align: top;\n",
       "    }\n",
       "\n",
       "    .dataframe thead th {\n",
       "        text-align: right;\n",
       "    }\n",
       "</style>\n",
       "<table border=\"1\" class=\"dataframe\">\n",
       "  <thead>\n",
       "    <tr style=\"text-align: right;\">\n",
       "      <th></th>\n",
       "      <th>키</th>\n",
       "      <th>몸무게</th>\n",
       "      <th>나이</th>\n",
       "    </tr>\n",
       "  </thead>\n",
       "  <tbody>\n",
       "    <tr>\n",
       "      <th>사람1</th>\n",
       "      <td>180</td>\n",
       "      <td>75</td>\n",
       "      <td>30</td>\n",
       "    </tr>\n",
       "    <tr>\n",
       "      <th>사람2</th>\n",
       "      <td>160</td>\n",
       "      <td>65</td>\n",
       "      <td>40</td>\n",
       "    </tr>\n",
       "  </tbody>\n",
       "</table>\n",
       "</div>"
      ],
      "text/plain": [
       "       키  몸무게  나이\n",
       "사람1  180   75  30\n",
       "사람2  160   65  40"
      ]
     },
     "execution_count": 28,
     "metadata": {},
     "output_type": "execute_result"
    }
   ],
   "source": [
    "# 두 개 index를 index명으로 조회\n",
    "Data2.loc[[\"사람1\",\"사람2\"]]"
   ]
  },
  {
   "cell_type": "code",
   "execution_count": 29,
   "metadata": {
    "scrolled": true
   },
   "outputs": [
    {
     "data": {
      "text/html": [
       "<div>\n",
       "<style scoped>\n",
       "    .dataframe tbody tr th:only-of-type {\n",
       "        vertical-align: middle;\n",
       "    }\n",
       "\n",
       "    .dataframe tbody tr th {\n",
       "        vertical-align: top;\n",
       "    }\n",
       "\n",
       "    .dataframe thead th {\n",
       "        text-align: right;\n",
       "    }\n",
       "</style>\n",
       "<table border=\"1\" class=\"dataframe\">\n",
       "  <thead>\n",
       "    <tr style=\"text-align: right;\">\n",
       "      <th></th>\n",
       "      <th>키</th>\n",
       "      <th>몸무게</th>\n",
       "      <th>나이</th>\n",
       "    </tr>\n",
       "  </thead>\n",
       "  <tbody>\n",
       "    <tr>\n",
       "      <th>사람2</th>\n",
       "      <td>160</td>\n",
       "      <td>65</td>\n",
       "      <td>40</td>\n",
       "    </tr>\n",
       "    <tr>\n",
       "      <th>사람3</th>\n",
       "      <td>170</td>\n",
       "      <td>75</td>\n",
       "      <td>32</td>\n",
       "    </tr>\n",
       "  </tbody>\n",
       "</table>\n",
       "</div>"
      ],
      "text/plain": [
       "       키  몸무게  나이\n",
       "사람2  160   65  40\n",
       "사람3  170   75  32"
      ]
     },
     "execution_count": 29,
     "metadata": {},
     "output_type": "execute_result"
    }
   ],
   "source": [
    "# 여러 개의 index를 index번호로 조회\n",
    "Data2.iloc[1:3]"
   ]
  },
  {
   "cell_type": "code",
   "execution_count": 30,
   "metadata": {},
   "outputs": [
    {
     "data": {
      "text/html": [
       "<div>\n",
       "<style scoped>\n",
       "    .dataframe tbody tr th:only-of-type {\n",
       "        vertical-align: middle;\n",
       "    }\n",
       "\n",
       "    .dataframe tbody tr th {\n",
       "        vertical-align: top;\n",
       "    }\n",
       "\n",
       "    .dataframe thead th {\n",
       "        text-align: right;\n",
       "    }\n",
       "</style>\n",
       "<table border=\"1\" class=\"dataframe\">\n",
       "  <thead>\n",
       "    <tr style=\"text-align: right;\">\n",
       "      <th></th>\n",
       "      <th>키</th>\n",
       "      <th>몸무게</th>\n",
       "      <th>나이</th>\n",
       "    </tr>\n",
       "  </thead>\n",
       "  <tbody>\n",
       "    <tr>\n",
       "      <th>사람1</th>\n",
       "      <td>180</td>\n",
       "      <td>75</td>\n",
       "      <td>30</td>\n",
       "    </tr>\n",
       "    <tr>\n",
       "      <th>사람2</th>\n",
       "      <td>160</td>\n",
       "      <td>65</td>\n",
       "      <td>40</td>\n",
       "    </tr>\n",
       "  </tbody>\n",
       "</table>\n",
       "</div>"
      ],
      "text/plain": [
       "       키  몸무게  나이\n",
       "사람1  180   75  30\n",
       "사람2  160   65  40"
      ]
     },
     "execution_count": 30,
     "metadata": {},
     "output_type": "execute_result"
    }
   ],
   "source": [
    "Data2.iloc[:-2]"
   ]
  },
  {
   "cell_type": "markdown",
   "metadata": {},
   "source": [
    "### Index Label과 column 동시 조회"
   ]
  },
  {
   "cell_type": "markdown",
   "metadata": {},
   "source": [
    "하나의 index 명과 컬럼명에 해당하는 하나의 값 찾기\n",
    "<ul>\n",
    "<li> DataFrame명.at[\"index명\",\"컬럼명\"]</li>\n",
    "<li> <strong><span style = \"color:red\">DataFrame명.loc[\"index명\",\"컬럼명\"]</li>\n",
    "<li> <strong><span style = \"color:red\">DataFrame명.loc[\"index명\"][\"컬럼명\"]</li>\n",
    "</ul>\n",
    "여러 index명과 컬럼명에 해당하는 여러 값 찾기\n",
    "<ul>\n",
    "<li> <strong><span style = \"color:red\">DataFrame명.loc[[\"index명1\",\"index명2\"],[\"컬럼명1\",\"컬럼명2\"]]</li>\n",
    "<li> <strong><span style = \"color:red\">DataFrame명.loc[[\"index명1\",\"index명2\"]][[\"컬럼명1\",\"컬럼명2\"]]</li>\n",
    "</ul>"
   ]
  },
  {
   "cell_type": "code",
   "execution_count": null,
   "metadata": {},
   "outputs": [],
   "source": [
    "#사람1의 나이 찾기\n",
    "Data2.loc[\"사람1\",\"나이\"] #인덱스,컬럼"
   ]
  },
  {
   "cell_type": "code",
   "execution_count": null,
   "metadata": {},
   "outputs": [],
   "source": [
    "# ?\n",
    "Data2[\"사람1\",\"나이\"]"
   ]
  },
  {
   "cell_type": "code",
   "execution_count": null,
   "metadata": {},
   "outputs": [],
   "source": [
    "Data2.loc[\"사람1\"][\"나이\"]"
   ]
  },
  {
   "cell_type": "code",
   "execution_count": null,
   "metadata": {},
   "outputs": [],
   "source": [
    "#사람2의 몸무게 찾기\n",
    "Data2.loc[\"사람2\"][\"몸무게\"]"
   ]
  },
  {
   "cell_type": "code",
   "execution_count": null,
   "metadata": {},
   "outputs": [],
   "source": [
    "#사람3의 키 찾기\n",
    "Data2.at[\"사람3\",\"키\"]"
   ]
  },
  {
   "cell_type": "code",
   "execution_count": 31,
   "metadata": {},
   "outputs": [
    {
     "data": {
      "text/plain": [
       "사람1    180\n",
       "사람2    160\n",
       "Name: 키, dtype: int64"
      ]
     },
     "execution_count": 31,
     "metadata": {},
     "output_type": "execute_result"
    }
   ],
   "source": [
    "# 사람1, 사람2 의 키 조회\n",
    "Data2.loc[[\"사람1\",\"사람2\"]][\"키\"]"
   ]
  },
  {
   "cell_type": "code",
   "execution_count": null,
   "metadata": {},
   "outputs": [],
   "source": [
    "# 사람1,사람2 의 키와 몸무게 조회\n",
    "Data2.loc[[\"사람1\",\"사람2\"],[\"키\",\"몸무게\"]]"
   ]
  },
  {
   "cell_type": "markdown",
   "metadata": {},
   "source": [
    "### Index 과 column 동시 조회\n",
    "\n",
    "하나의 index 번호와 컬럼번호에 해당하는 하나의 값 찾기\n",
    "<ul>\n",
    "<li> DataFrame명.iat[index번호,컬럼번호]</li>\n",
    "<li> DataFrame명.iloc[index번호,컬럼번호]</li>\n",
    "<li> DataFrame명.iloc[index번호][컬럼번호]</li>\n",
    "</ul>\n",
    "여러 index 번호와 컬럼번호에 해당하는 여러 값 찾기\n",
    "<ul>\n",
    "<li> DataFrame명.iloc[index번호1:index번호2,컬럼번호1:컬럼명번호2]</li>\n",
    "</ul>"
   ]
  },
  {
   "cell_type": "code",
   "execution_count": 32,
   "metadata": {},
   "outputs": [
    {
     "data": {
      "text/plain": [
       "30"
      ]
     },
     "execution_count": 32,
     "metadata": {},
     "output_type": "execute_result"
    }
   ],
   "source": [
    "# 사람1의 나이 찾기\n",
    "Data2.iloc[0,2]"
   ]
  },
  {
   "cell_type": "code",
   "execution_count": null,
   "metadata": {},
   "outputs": [],
   "source": [
    "#사람2의 몸무게 찾기\n",
    "Data2.iloc[1][1]"
   ]
  },
  {
   "cell_type": "code",
   "execution_count": null,
   "metadata": {},
   "outputs": [],
   "source": [
    "#사람2의 몸무게 찾기\n",
    "Data2.iloc[1]['몸무게']"
   ]
  },
  {
   "cell_type": "code",
   "execution_count": null,
   "metadata": {},
   "outputs": [],
   "source": [
    "Data2.iloc[0,['몸무게']]  # 결과는?"
   ]
  },
  {
   "cell_type": "code",
   "execution_count": null,
   "metadata": {},
   "outputs": [],
   "source": [
    "#사람3의 키 찾기\n",
    "Data2.iat[2,0]"
   ]
  },
  {
   "cell_type": "code",
   "execution_count": null,
   "metadata": {},
   "outputs": [],
   "source": [
    "# 사람1, 사람2 의 키 조회\n",
    "Data2.iloc[0:2,0]"
   ]
  },
  {
   "cell_type": "code",
   "execution_count": null,
   "metadata": {},
   "outputs": [],
   "source": [
    "# 사람1,사람2 의 키와 몸무게 조회\n",
    "Data2.iloc[0:2,0:2]"
   ]
  },
  {
   "cell_type": "markdown",
   "metadata": {},
   "source": [
    "### 조건 조회"
   ]
  },
  {
   "cell_type": "code",
   "execution_count": null,
   "metadata": {},
   "outputs": [],
   "source": [
    "Data2[\"키\"] >= 170"
   ]
  },
  {
   "cell_type": "code",
   "execution_count": null,
   "metadata": {},
   "outputs": [],
   "source": [
    "# 키가 170 이상인 사람만 조회\n",
    "Data2[ Data2[\"키\"] >= 170 ]"
   ]
  },
  {
   "cell_type": "markdown",
   "metadata": {},
   "source": [
    "### 상위/하위 데이터 조회"
   ]
  },
  {
   "cell_type": "markdown",
   "metadata": {},
   "source": [
    "<ul>\n",
    "<li>head(개수) : 위에서부터 개수만큼의 데이터만 출력</li>\n",
    "<li>tail(개수) : 밑에서부터 개수만큼의 데이터만 출력</li>\n",
    "</ul>\n",
    "개수를 쓰지 않을 경우 5개만 출력"
   ]
  },
  {
   "cell_type": "code",
   "execution_count": null,
   "metadata": {},
   "outputs": [],
   "source": [
    "Data2.head(3)"
   ]
  },
  {
   "cell_type": "code",
   "execution_count": null,
   "metadata": {},
   "outputs": [],
   "source": [
    "Data2.tail(2)"
   ]
  },
  {
   "cell_type": "code",
   "execution_count": null,
   "metadata": {},
   "outputs": [],
   "source": []
  },
  {
   "cell_type": "code",
   "execution_count": null,
   "metadata": {},
   "outputs": [],
   "source": []
  },
  {
   "cell_type": "markdown",
   "metadata": {},
   "source": [
    "## 2.3 Enumeration"
   ]
  },
  {
   "cell_type": "markdown",
   "metadata": {},
   "source": [
    " 데이터 프레임을 만들고 이를 순환문으로 처리하면 실제 칼럼정보만 처리된다.\n"
   ]
  },
  {
   "cell_type": "code",
   "execution_count": null,
   "metadata": {},
   "outputs": [],
   "source": [
    "for i in Data2 :\n",
    "    print(i)"
   ]
  },
  {
   "cell_type": "code",
   "execution_count": null,
   "metadata": {},
   "outputs": [],
   "source": [
    "Data2['키'], type(Data2['키'])"
   ]
  },
  {
   "cell_type": "markdown",
   "metadata": {},
   "source": [
    "데이터 프레임 행으로 읽어오기\n"
   ]
  },
  {
   "cell_type": "code",
   "execution_count": null,
   "metadata": {},
   "outputs": [],
   "source": [
    "for i in Data2.iterrows() :\n",
    "    print(i)"
   ]
  },
  {
   "cell_type": "code",
   "execution_count": null,
   "metadata": {},
   "outputs": [],
   "source": [
    "for i,s in Data2.iterrows() :\n",
    "    print(i,s,type(s))"
   ]
  },
  {
   "cell_type": "markdown",
   "metadata": {},
   "source": [
    "데이터 프레임에 있는 원소를 열로 가져오기 "
   ]
  },
  {
   "cell_type": "code",
   "execution_count": null,
   "metadata": {},
   "outputs": [],
   "source": [
    "print(df.iteritems())"
   ]
  },
  {
   "cell_type": "code",
   "execution_count": null,
   "metadata": {},
   "outputs": [],
   "source": [
    "for i, s in df.iteritems() :\n",
    "    print(i,s, type(s))"
   ]
  },
  {
   "cell_type": "code",
   "execution_count": null,
   "metadata": {},
   "outputs": [],
   "source": [
    "print(df.items())"
   ]
  },
  {
   "cell_type": "code",
   "execution_count": null,
   "metadata": {},
   "outputs": [],
   "source": [
    "for i,s in df.items() :\n",
    "    print(i,s, type(s))"
   ]
  },
  {
   "cell_type": "code",
   "execution_count": null,
   "metadata": {},
   "outputs": [],
   "source": []
  },
  {
   "cell_type": "code",
   "execution_count": null,
   "metadata": {},
   "outputs": [],
   "source": []
  },
  {
   "cell_type": "code",
   "execution_count": null,
   "metadata": {},
   "outputs": [],
   "source": []
  },
  {
   "cell_type": "markdown",
   "metadata": {},
   "source": [
    "## 2.4 데이터 추가, 삭제"
   ]
  },
  {
   "cell_type": "markdown",
   "metadata": {},
   "source": [
    "### Column 추가"
   ]
  },
  {
   "cell_type": "markdown",
   "metadata": {},
   "source": [
    "#### 값으로 추가"
   ]
  },
  {
   "cell_type": "code",
   "execution_count": null,
   "metadata": {},
   "outputs": [],
   "source": [
    "Data2"
   ]
  },
  {
   "cell_type": "code",
   "execution_count": null,
   "metadata": {},
   "outputs": [],
   "source": [
    "Data2[\"나이\"] = [31,41,31,31]\n",
    "Data2"
   ]
  },
  {
   "cell_type": "markdown",
   "metadata": {},
   "source": [
    "#### Series 또는 DataFrame에서 추가"
   ]
  },
  {
   "cell_type": "code",
   "execution_count": 33,
   "metadata": {},
   "outputs": [
    {
     "ename": "KeyError",
     "evalue": "'Weight'",
     "output_type": "error",
     "traceback": [
      "\u001b[1;31m---------------------------------------------------------------------------\u001b[0m",
      "\u001b[1;31mKeyError\u001b[0m                                  Traceback (most recent call last)",
      "File \u001b[1;32mC:\\anaconda3\\envs\\Python_basic\\lib\\site-packages\\pandas\\core\\indexes\\base.py:3802\u001b[0m, in \u001b[0;36mIndex.get_loc\u001b[1;34m(self, key, method, tolerance)\u001b[0m\n\u001b[0;32m   3801\u001b[0m \u001b[38;5;28;01mtry\u001b[39;00m:\n\u001b[1;32m-> 3802\u001b[0m     \u001b[38;5;28;01mreturn\u001b[39;00m \u001b[38;5;28;43mself\u001b[39;49m\u001b[38;5;241;43m.\u001b[39;49m\u001b[43m_engine\u001b[49m\u001b[38;5;241;43m.\u001b[39;49m\u001b[43mget_loc\u001b[49m\u001b[43m(\u001b[49m\u001b[43mcasted_key\u001b[49m\u001b[43m)\u001b[49m\n\u001b[0;32m   3803\u001b[0m \u001b[38;5;28;01mexcept\u001b[39;00m \u001b[38;5;167;01mKeyError\u001b[39;00m \u001b[38;5;28;01mas\u001b[39;00m err:\n",
      "File \u001b[1;32mC:\\anaconda3\\envs\\Python_basic\\lib\\site-packages\\pandas\\_libs\\index.pyx:138\u001b[0m, in \u001b[0;36mpandas._libs.index.IndexEngine.get_loc\u001b[1;34m()\u001b[0m\n",
      "File \u001b[1;32mC:\\anaconda3\\envs\\Python_basic\\lib\\site-packages\\pandas\\_libs\\index.pyx:165\u001b[0m, in \u001b[0;36mpandas._libs.index.IndexEngine.get_loc\u001b[1;34m()\u001b[0m\n",
      "File \u001b[1;32mpandas\\_libs\\hashtable_class_helper.pxi:5745\u001b[0m, in \u001b[0;36mpandas._libs.hashtable.PyObjectHashTable.get_item\u001b[1;34m()\u001b[0m\n",
      "File \u001b[1;32mpandas\\_libs\\hashtable_class_helper.pxi:5753\u001b[0m, in \u001b[0;36mpandas._libs.hashtable.PyObjectHashTable.get_item\u001b[1;34m()\u001b[0m\n",
      "\u001b[1;31mKeyError\u001b[0m: 'Weight'",
      "\nThe above exception was the direct cause of the following exception:\n",
      "\u001b[1;31mKeyError\u001b[0m                                  Traceback (most recent call last)",
      "Cell \u001b[1;32mIn[33], line 1\u001b[0m\n\u001b[1;32m----> 1\u001b[0m \u001b[43mData1\u001b[49m\u001b[43m[\u001b[49m\u001b[38;5;124;43m\"\u001b[39;49m\u001b[38;5;124;43mWeight\u001b[39;49m\u001b[38;5;124;43m\"\u001b[39;49m\u001b[43m]\u001b[49m \u001b[38;5;241m/\u001b[39m ((Data1[\u001b[38;5;124m\"\u001b[39m\u001b[38;5;124mHeight\u001b[39m\u001b[38;5;124m\"\u001b[39m] \u001b[38;5;241m/\u001b[39m \u001b[38;5;241m100\u001b[39m) \u001b[38;5;241m*\u001b[39m (Data1[\u001b[38;5;124m\"\u001b[39m\u001b[38;5;124mHeight\u001b[39m\u001b[38;5;124m\"\u001b[39m] \u001b[38;5;241m/\u001b[39m \u001b[38;5;241m100\u001b[39m))\n",
      "File \u001b[1;32mC:\\anaconda3\\envs\\Python_basic\\lib\\site-packages\\pandas\\core\\frame.py:3807\u001b[0m, in \u001b[0;36mDataFrame.__getitem__\u001b[1;34m(self, key)\u001b[0m\n\u001b[0;32m   3805\u001b[0m \u001b[38;5;28;01mif\u001b[39;00m \u001b[38;5;28mself\u001b[39m\u001b[38;5;241m.\u001b[39mcolumns\u001b[38;5;241m.\u001b[39mnlevels \u001b[38;5;241m>\u001b[39m \u001b[38;5;241m1\u001b[39m:\n\u001b[0;32m   3806\u001b[0m     \u001b[38;5;28;01mreturn\u001b[39;00m \u001b[38;5;28mself\u001b[39m\u001b[38;5;241m.\u001b[39m_getitem_multilevel(key)\n\u001b[1;32m-> 3807\u001b[0m indexer \u001b[38;5;241m=\u001b[39m \u001b[38;5;28;43mself\u001b[39;49m\u001b[38;5;241;43m.\u001b[39;49m\u001b[43mcolumns\u001b[49m\u001b[38;5;241;43m.\u001b[39;49m\u001b[43mget_loc\u001b[49m\u001b[43m(\u001b[49m\u001b[43mkey\u001b[49m\u001b[43m)\u001b[49m\n\u001b[0;32m   3808\u001b[0m \u001b[38;5;28;01mif\u001b[39;00m is_integer(indexer):\n\u001b[0;32m   3809\u001b[0m     indexer \u001b[38;5;241m=\u001b[39m [indexer]\n",
      "File \u001b[1;32mC:\\anaconda3\\envs\\Python_basic\\lib\\site-packages\\pandas\\core\\indexes\\base.py:3804\u001b[0m, in \u001b[0;36mIndex.get_loc\u001b[1;34m(self, key, method, tolerance)\u001b[0m\n\u001b[0;32m   3802\u001b[0m     \u001b[38;5;28;01mreturn\u001b[39;00m \u001b[38;5;28mself\u001b[39m\u001b[38;5;241m.\u001b[39m_engine\u001b[38;5;241m.\u001b[39mget_loc(casted_key)\n\u001b[0;32m   3803\u001b[0m \u001b[38;5;28;01mexcept\u001b[39;00m \u001b[38;5;167;01mKeyError\u001b[39;00m \u001b[38;5;28;01mas\u001b[39;00m err:\n\u001b[1;32m-> 3804\u001b[0m     \u001b[38;5;28;01mraise\u001b[39;00m \u001b[38;5;167;01mKeyError\u001b[39;00m(key) \u001b[38;5;28;01mfrom\u001b[39;00m \u001b[38;5;21;01merr\u001b[39;00m\n\u001b[0;32m   3805\u001b[0m \u001b[38;5;28;01mexcept\u001b[39;00m \u001b[38;5;167;01mTypeError\u001b[39;00m:\n\u001b[0;32m   3806\u001b[0m     \u001b[38;5;66;03m# If we have a listlike key, _check_indexing_error will raise\u001b[39;00m\n\u001b[0;32m   3807\u001b[0m     \u001b[38;5;66;03m#  InvalidIndexError. Otherwise we fall through and re-raise\u001b[39;00m\n\u001b[0;32m   3808\u001b[0m     \u001b[38;5;66;03m#  the TypeError.\u001b[39;00m\n\u001b[0;32m   3809\u001b[0m     \u001b[38;5;28mself\u001b[39m\u001b[38;5;241m.\u001b[39m_check_indexing_error(key)\n",
      "\u001b[1;31mKeyError\u001b[0m: 'Weight'"
     ]
    }
   ],
   "source": [
    " Data1[\"Weight\"] / ((Data1[\"Height\"] / 100) * (Data1[\"Height\"] / 100))"
   ]
  },
  {
   "cell_type": "code",
   "execution_count": 35,
   "metadata": {},
   "outputs": [
    {
     "ename": "KeyError",
     "evalue": "'Weight'",
     "output_type": "error",
     "traceback": [
      "\u001b[1;31m---------------------------------------------------------------------------\u001b[0m",
      "\u001b[1;31mKeyError\u001b[0m                                  Traceback (most recent call last)",
      "File \u001b[1;32mC:\\anaconda3\\envs\\Python_basic\\lib\\site-packages\\pandas\\core\\indexes\\base.py:3802\u001b[0m, in \u001b[0;36mIndex.get_loc\u001b[1;34m(self, key, method, tolerance)\u001b[0m\n\u001b[0;32m   3801\u001b[0m \u001b[38;5;28;01mtry\u001b[39;00m:\n\u001b[1;32m-> 3802\u001b[0m     \u001b[38;5;28;01mreturn\u001b[39;00m \u001b[38;5;28;43mself\u001b[39;49m\u001b[38;5;241;43m.\u001b[39;49m\u001b[43m_engine\u001b[49m\u001b[38;5;241;43m.\u001b[39;49m\u001b[43mget_loc\u001b[49m\u001b[43m(\u001b[49m\u001b[43mcasted_key\u001b[49m\u001b[43m)\u001b[49m\n\u001b[0;32m   3803\u001b[0m \u001b[38;5;28;01mexcept\u001b[39;00m \u001b[38;5;167;01mKeyError\u001b[39;00m \u001b[38;5;28;01mas\u001b[39;00m err:\n",
      "File \u001b[1;32mC:\\anaconda3\\envs\\Python_basic\\lib\\site-packages\\pandas\\_libs\\index.pyx:138\u001b[0m, in \u001b[0;36mpandas._libs.index.IndexEngine.get_loc\u001b[1;34m()\u001b[0m\n",
      "File \u001b[1;32mC:\\anaconda3\\envs\\Python_basic\\lib\\site-packages\\pandas\\_libs\\index.pyx:165\u001b[0m, in \u001b[0;36mpandas._libs.index.IndexEngine.get_loc\u001b[1;34m()\u001b[0m\n",
      "File \u001b[1;32mpandas\\_libs\\hashtable_class_helper.pxi:5745\u001b[0m, in \u001b[0;36mpandas._libs.hashtable.PyObjectHashTable.get_item\u001b[1;34m()\u001b[0m\n",
      "File \u001b[1;32mpandas\\_libs\\hashtable_class_helper.pxi:5753\u001b[0m, in \u001b[0;36mpandas._libs.hashtable.PyObjectHashTable.get_item\u001b[1;34m()\u001b[0m\n",
      "\u001b[1;31mKeyError\u001b[0m: 'Weight'",
      "\nThe above exception was the direct cause of the following exception:\n",
      "\u001b[1;31mKeyError\u001b[0m                                  Traceback (most recent call last)",
      "Cell \u001b[1;32mIn[35], line 2\u001b[0m\n\u001b[0;32m      1\u001b[0m \u001b[38;5;66;03m# bmi = 몸무게(kg) / 키(m)*키(m)\u001b[39;00m\n\u001b[1;32m----> 2\u001b[0m Data1[\u001b[38;5;124m\"\u001b[39m\u001b[38;5;124mBMI\u001b[39m\u001b[38;5;124m\"\u001b[39m] \u001b[38;5;241m=\u001b[39m \u001b[43mData1\u001b[49m\u001b[43m[\u001b[49m\u001b[38;5;124;43m\"\u001b[39;49m\u001b[38;5;124;43mWeight\u001b[39;49m\u001b[38;5;124;43m\"\u001b[39;49m\u001b[43m]\u001b[49m \u001b[38;5;241m/\u001b[39m ((Data1[\u001b[38;5;124m\"\u001b[39m\u001b[38;5;124mHeight\u001b[39m\u001b[38;5;124m\"\u001b[39m] \u001b[38;5;241m/\u001b[39m \u001b[38;5;241m100\u001b[39m) \u001b[38;5;241m*\u001b[39m (Data1[\u001b[38;5;124m\"\u001b[39m\u001b[38;5;124mHeight\u001b[39m\u001b[38;5;124m\"\u001b[39m] \u001b[38;5;241m/\u001b[39m \u001b[38;5;241m100\u001b[39m))\n\u001b[0;32m      3\u001b[0m Data1\n",
      "File \u001b[1;32mC:\\anaconda3\\envs\\Python_basic\\lib\\site-packages\\pandas\\core\\frame.py:3807\u001b[0m, in \u001b[0;36mDataFrame.__getitem__\u001b[1;34m(self, key)\u001b[0m\n\u001b[0;32m   3805\u001b[0m \u001b[38;5;28;01mif\u001b[39;00m \u001b[38;5;28mself\u001b[39m\u001b[38;5;241m.\u001b[39mcolumns\u001b[38;5;241m.\u001b[39mnlevels \u001b[38;5;241m>\u001b[39m \u001b[38;5;241m1\u001b[39m:\n\u001b[0;32m   3806\u001b[0m     \u001b[38;5;28;01mreturn\u001b[39;00m \u001b[38;5;28mself\u001b[39m\u001b[38;5;241m.\u001b[39m_getitem_multilevel(key)\n\u001b[1;32m-> 3807\u001b[0m indexer \u001b[38;5;241m=\u001b[39m \u001b[38;5;28;43mself\u001b[39;49m\u001b[38;5;241;43m.\u001b[39;49m\u001b[43mcolumns\u001b[49m\u001b[38;5;241;43m.\u001b[39;49m\u001b[43mget_loc\u001b[49m\u001b[43m(\u001b[49m\u001b[43mkey\u001b[49m\u001b[43m)\u001b[49m\n\u001b[0;32m   3808\u001b[0m \u001b[38;5;28;01mif\u001b[39;00m is_integer(indexer):\n\u001b[0;32m   3809\u001b[0m     indexer \u001b[38;5;241m=\u001b[39m [indexer]\n",
      "File \u001b[1;32mC:\\anaconda3\\envs\\Python_basic\\lib\\site-packages\\pandas\\core\\indexes\\base.py:3804\u001b[0m, in \u001b[0;36mIndex.get_loc\u001b[1;34m(self, key, method, tolerance)\u001b[0m\n\u001b[0;32m   3802\u001b[0m     \u001b[38;5;28;01mreturn\u001b[39;00m \u001b[38;5;28mself\u001b[39m\u001b[38;5;241m.\u001b[39m_engine\u001b[38;5;241m.\u001b[39mget_loc(casted_key)\n\u001b[0;32m   3803\u001b[0m \u001b[38;5;28;01mexcept\u001b[39;00m \u001b[38;5;167;01mKeyError\u001b[39;00m \u001b[38;5;28;01mas\u001b[39;00m err:\n\u001b[1;32m-> 3804\u001b[0m     \u001b[38;5;28;01mraise\u001b[39;00m \u001b[38;5;167;01mKeyError\u001b[39;00m(key) \u001b[38;5;28;01mfrom\u001b[39;00m \u001b[38;5;21;01merr\u001b[39;00m\n\u001b[0;32m   3805\u001b[0m \u001b[38;5;28;01mexcept\u001b[39;00m \u001b[38;5;167;01mTypeError\u001b[39;00m:\n\u001b[0;32m   3806\u001b[0m     \u001b[38;5;66;03m# If we have a listlike key, _check_indexing_error will raise\u001b[39;00m\n\u001b[0;32m   3807\u001b[0m     \u001b[38;5;66;03m#  InvalidIndexError. Otherwise we fall through and re-raise\u001b[39;00m\n\u001b[0;32m   3808\u001b[0m     \u001b[38;5;66;03m#  the TypeError.\u001b[39;00m\n\u001b[0;32m   3809\u001b[0m     \u001b[38;5;28mself\u001b[39m\u001b[38;5;241m.\u001b[39m_check_indexing_error(key)\n",
      "\u001b[1;31mKeyError\u001b[0m: 'Weight'"
     ]
    }
   ],
   "source": [
    "# bmi = 몸무게(kg) / 키(m)*키(m)\n",
    "Data1[\"BMI\"] = Data1[\"Weight\"] / ((Data1[\"Height\"] / 100) * (Data1[\"Height\"] / 100))\n",
    "Data1"
   ]
  },
  {
   "cell_type": "code",
   "execution_count": null,
   "metadata": {},
   "outputs": [],
   "source": [
    "Data1['Test'] = [1,2,3,4]\n",
    "Data1"
   ]
  },
  {
   "cell_type": "markdown",
   "metadata": {},
   "source": [
    "###  행 추가"
   ]
  },
  {
   "cell_type": "markdown",
   "metadata": {},
   "source": [
    "append 함수를 이용해서 행기준으로 데이터를 추가 할 수 있습니다."
   ]
  },
  {
   "cell_type": "markdown",
   "metadata": {},
   "source": [
    "#### Series와 List를 이용한 행추가"
   ]
  },
  {
   "cell_type": "code",
   "execution_count": 34,
   "metadata": {},
   "outputs": [
    {
     "ename": "ValueError",
     "evalue": "Length of values (4) does not match length of index (2)",
     "output_type": "error",
     "traceback": [
      "\u001b[1;31m---------------------------------------------------------------------------\u001b[0m",
      "\u001b[1;31mValueError\u001b[0m                                Traceback (most recent call last)",
      "Cell \u001b[1;32mIn[34], line 1\u001b[0m\n\u001b[1;32m----> 1\u001b[0m listOfSeries \u001b[38;5;241m=\u001b[39m [\u001b[43mpd\u001b[49m\u001b[38;5;241;43m.\u001b[39;49m\u001b[43mSeries\u001b[49m\u001b[43m(\u001b[49m\u001b[43m[\u001b[49m\u001b[38;5;241;43m187\u001b[39;49m\u001b[43m,\u001b[49m\u001b[43m \u001b[49m\u001b[38;5;241;43m85\u001b[39;49m\u001b[43m,\u001b[49m\u001b[43m \u001b[49m\u001b[38;5;241;43m34\u001b[39;49m\u001b[43m,\u001b[49m\u001b[43m \u001b[49m\u001b[38;5;241;43m0\u001b[39;49m\u001b[43m]\u001b[49m\u001b[43m,\u001b[49m\u001b[43m \u001b[49m\u001b[43mindex\u001b[49m\u001b[43m \u001b[49m\u001b[38;5;241;43m=\u001b[39;49m\u001b[43m \u001b[49m\u001b[43mData1\u001b[49m\u001b[38;5;241;43m.\u001b[39;49m\u001b[43mcolumns\u001b[49m\u001b[43m)\u001b[49m,\n\u001b[0;32m      2\u001b[0m                pd\u001b[38;5;241m.\u001b[39mSeries([\u001b[38;5;241m183\u001b[39m, \u001b[38;5;241m80\u001b[39m, \u001b[38;5;241m32\u001b[39m, \u001b[38;5;241m0\u001b[39m], index \u001b[38;5;241m=\u001b[39m Data1\u001b[38;5;241m.\u001b[39mcolumns)]\n",
      "File \u001b[1;32mC:\\anaconda3\\envs\\Python_basic\\lib\\site-packages\\pandas\\core\\series.py:461\u001b[0m, in \u001b[0;36mSeries.__init__\u001b[1;34m(self, data, index, dtype, name, copy, fastpath)\u001b[0m\n\u001b[0;32m    459\u001b[0m     index \u001b[38;5;241m=\u001b[39m default_index(\u001b[38;5;28mlen\u001b[39m(data))\n\u001b[0;32m    460\u001b[0m \u001b[38;5;28;01melif\u001b[39;00m is_list_like(data):\n\u001b[1;32m--> 461\u001b[0m     \u001b[43mcom\u001b[49m\u001b[38;5;241;43m.\u001b[39;49m\u001b[43mrequire_length_match\u001b[49m\u001b[43m(\u001b[49m\u001b[43mdata\u001b[49m\u001b[43m,\u001b[49m\u001b[43m \u001b[49m\u001b[43mindex\u001b[49m\u001b[43m)\u001b[49m\n\u001b[0;32m    463\u001b[0m \u001b[38;5;66;03m# create/copy the manager\u001b[39;00m\n\u001b[0;32m    464\u001b[0m \u001b[38;5;28;01mif\u001b[39;00m \u001b[38;5;28misinstance\u001b[39m(data, (SingleBlockManager, SingleArrayManager)):\n",
      "File \u001b[1;32mC:\\anaconda3\\envs\\Python_basic\\lib\\site-packages\\pandas\\core\\common.py:571\u001b[0m, in \u001b[0;36mrequire_length_match\u001b[1;34m(data, index)\u001b[0m\n\u001b[0;32m    567\u001b[0m \u001b[38;5;124;03m\"\"\"\u001b[39;00m\n\u001b[0;32m    568\u001b[0m \u001b[38;5;124;03mCheck the length of data matches the length of the index.\u001b[39;00m\n\u001b[0;32m    569\u001b[0m \u001b[38;5;124;03m\"\"\"\u001b[39;00m\n\u001b[0;32m    570\u001b[0m \u001b[38;5;28;01mif\u001b[39;00m \u001b[38;5;28mlen\u001b[39m(data) \u001b[38;5;241m!=\u001b[39m \u001b[38;5;28mlen\u001b[39m(index):\n\u001b[1;32m--> 571\u001b[0m     \u001b[38;5;28;01mraise\u001b[39;00m \u001b[38;5;167;01mValueError\u001b[39;00m(\n\u001b[0;32m    572\u001b[0m         \u001b[38;5;124m\"\u001b[39m\u001b[38;5;124mLength of values \u001b[39m\u001b[38;5;124m\"\u001b[39m\n\u001b[0;32m    573\u001b[0m         \u001b[38;5;124mf\u001b[39m\u001b[38;5;124m\"\u001b[39m\u001b[38;5;124m(\u001b[39m\u001b[38;5;132;01m{\u001b[39;00m\u001b[38;5;28mlen\u001b[39m(data)\u001b[38;5;132;01m}\u001b[39;00m\u001b[38;5;124m) \u001b[39m\u001b[38;5;124m\"\u001b[39m\n\u001b[0;32m    574\u001b[0m         \u001b[38;5;124m\"\u001b[39m\u001b[38;5;124mdoes not match length of index \u001b[39m\u001b[38;5;124m\"\u001b[39m\n\u001b[0;32m    575\u001b[0m         \u001b[38;5;124mf\u001b[39m\u001b[38;5;124m\"\u001b[39m\u001b[38;5;124m(\u001b[39m\u001b[38;5;132;01m{\u001b[39;00m\u001b[38;5;28mlen\u001b[39m(index)\u001b[38;5;132;01m}\u001b[39;00m\u001b[38;5;124m)\u001b[39m\u001b[38;5;124m\"\u001b[39m\n\u001b[0;32m    576\u001b[0m     )\n",
      "\u001b[1;31mValueError\u001b[0m: Length of values (4) does not match length of index (2)"
     ]
    }
   ],
   "source": [
    "listOfSeries = [pd.Series([187, 85, 34, 0], index = Data1.columns),\n",
    "               pd.Series([183, 80, 32, 0], index = Data1.columns)]"
   ]
  },
  {
   "cell_type": "code",
   "execution_count": null,
   "metadata": {},
   "outputs": [],
   "source": [
    "listOfSeries"
   ]
  },
  {
   "cell_type": "code",
   "execution_count": null,
   "metadata": {},
   "outputs": [],
   "source": [
    "Data1 = Data1.append(listOfSeries)\n",
    "Data1"
   ]
  },
  {
   "cell_type": "markdown",
   "metadata": {},
   "source": [
    "#### DataFrame을 행기준으로 추가"
   ]
  },
  {
   "cell_type": "code",
   "execution_count": null,
   "metadata": {},
   "outputs": [],
   "source": [
    "df = DataFrame([[180,75,30,33],[160,65,40,22]], \n",
    "               index = [\"사람5\",\"사람6\"], \n",
    "               columns = [\"Height\",\"Weight\",\"나이\",\"BMI\"])\n",
    "df"
   ]
  },
  {
   "cell_type": "code",
   "execution_count": null,
   "metadata": {},
   "outputs": [],
   "source": [
    "Data1.append(df)"
   ]
  },
  {
   "cell_type": "markdown",
   "metadata": {},
   "source": [
    "### 데이터 삭제"
   ]
  },
  {
   "cell_type": "markdown",
   "metadata": {},
   "source": [
    "drop 함수를 쓰면 행과 열을 삭제 할 수 있습니다.\n",
    "\n",
    "axis option\n",
    "<ul>\n",
    "<li>0 : 행 기준 삭제</li>\n",
    "<li>1 : 열 기준 삭제</li>\n",
    "</ul>"
   ]
  },
  {
   "cell_type": "markdown",
   "metadata": {},
   "source": [
    "####  열 삭제"
   ]
  },
  {
   "cell_type": "code",
   "execution_count": null,
   "metadata": {},
   "outputs": [],
   "source": [
    "Data1"
   ]
  },
  {
   "cell_type": "code",
   "execution_count": null,
   "metadata": {},
   "outputs": [],
   "source": [
    "Data1 = Data1.drop(\"BMI\", axis = 1)\n",
    "Data1"
   ]
  },
  {
   "cell_type": "markdown",
   "metadata": {},
   "source": [
    "#### del"
   ]
  },
  {
   "cell_type": "code",
   "execution_count": null,
   "metadata": {},
   "outputs": [],
   "source": [
    "del Data1['Test']"
   ]
  },
  {
   "cell_type": "markdown",
   "metadata": {},
   "source": [
    "#### 행 삭제"
   ]
  },
  {
   "cell_type": "code",
   "execution_count": null,
   "metadata": {},
   "outputs": [],
   "source": [
    "Data1"
   ]
  },
  {
   "cell_type": "code",
   "execution_count": null,
   "metadata": {},
   "outputs": [],
   "source": [
    "Data1 = Data1.drop(\"Man1\", axis = 0)\n",
    "Data1"
   ]
  },
  {
   "cell_type": "markdown",
   "metadata": {},
   "source": [
    "# 2.5 Options \n"
   ]
  },
  {
   "cell_type": "markdown",
   "metadata": {},
   "source": [
    "## max_columns\n",
    "\n",
    "컬럼 수가 많은 경우에는 처음과 끝의 컬럼을 제외하고 나머지 컬럼들은 축약이 되서 `[...]` 으로 표시된다. 일단 실험해보기 위해서 랜덤한 실수로 구성된 1000개의 값들을 10행 100컬럼으로 이루어진 데이터프레임을 생성해보자."
   ]
  },
  {
   "cell_type": "code",
   "execution_count": null,
   "metadata": {},
   "outputs": [],
   "source": []
  },
  {
   "cell_type": "code",
   "execution_count": 37,
   "metadata": {},
   "outputs": [],
   "source": [
    "import numpy as np"
   ]
  },
  {
   "cell_type": "code",
   "execution_count": 38,
   "metadata": {},
   "outputs": [
    {
     "data": {
      "text/html": [
       "<div>\n",
       "<style scoped>\n",
       "    .dataframe tbody tr th:only-of-type {\n",
       "        vertical-align: middle;\n",
       "    }\n",
       "\n",
       "    .dataframe tbody tr th {\n",
       "        vertical-align: top;\n",
       "    }\n",
       "\n",
       "    .dataframe thead th {\n",
       "        text-align: right;\n",
       "    }\n",
       "</style>\n",
       "<table border=\"1\" class=\"dataframe\">\n",
       "  <thead>\n",
       "    <tr style=\"text-align: right;\">\n",
       "      <th></th>\n",
       "      <th>0</th>\n",
       "      <th>1</th>\n",
       "      <th>2</th>\n",
       "      <th>3</th>\n",
       "      <th>4</th>\n",
       "      <th>5</th>\n",
       "      <th>6</th>\n",
       "      <th>7</th>\n",
       "      <th>8</th>\n",
       "      <th>9</th>\n",
       "      <th>...</th>\n",
       "      <th>90</th>\n",
       "      <th>91</th>\n",
       "      <th>92</th>\n",
       "      <th>93</th>\n",
       "      <th>94</th>\n",
       "      <th>95</th>\n",
       "      <th>96</th>\n",
       "      <th>97</th>\n",
       "      <th>98</th>\n",
       "      <th>99</th>\n",
       "    </tr>\n",
       "  </thead>\n",
       "  <tbody>\n",
       "    <tr>\n",
       "      <th>0</th>\n",
       "      <td>0.139719</td>\n",
       "      <td>0.803696</td>\n",
       "      <td>0.567894</td>\n",
       "      <td>0.349742</td>\n",
       "      <td>0.074230</td>\n",
       "      <td>0.290389</td>\n",
       "      <td>0.842196</td>\n",
       "      <td>0.580905</td>\n",
       "      <td>0.742355</td>\n",
       "      <td>0.202906</td>\n",
       "      <td>...</td>\n",
       "      <td>0.840341</td>\n",
       "      <td>0.901071</td>\n",
       "      <td>0.207234</td>\n",
       "      <td>0.443140</td>\n",
       "      <td>0.808923</td>\n",
       "      <td>0.060321</td>\n",
       "      <td>0.314651</td>\n",
       "      <td>0.160951</td>\n",
       "      <td>0.048534</td>\n",
       "      <td>0.477592</td>\n",
       "    </tr>\n",
       "    <tr>\n",
       "      <th>1</th>\n",
       "      <td>0.992366</td>\n",
       "      <td>0.922154</td>\n",
       "      <td>0.465378</td>\n",
       "      <td>0.312087</td>\n",
       "      <td>0.619163</td>\n",
       "      <td>0.656585</td>\n",
       "      <td>0.405239</td>\n",
       "      <td>0.905386</td>\n",
       "      <td>0.413069</td>\n",
       "      <td>0.728129</td>\n",
       "      <td>...</td>\n",
       "      <td>0.852525</td>\n",
       "      <td>0.751729</td>\n",
       "      <td>0.704889</td>\n",
       "      <td>0.084623</td>\n",
       "      <td>0.487354</td>\n",
       "      <td>0.266004</td>\n",
       "      <td>0.236837</td>\n",
       "      <td>0.910538</td>\n",
       "      <td>0.756117</td>\n",
       "      <td>0.330417</td>\n",
       "    </tr>\n",
       "    <tr>\n",
       "      <th>2</th>\n",
       "      <td>0.475801</td>\n",
       "      <td>0.345407</td>\n",
       "      <td>0.272082</td>\n",
       "      <td>0.887120</td>\n",
       "      <td>0.296242</td>\n",
       "      <td>0.239881</td>\n",
       "      <td>0.463299</td>\n",
       "      <td>0.838873</td>\n",
       "      <td>0.719094</td>\n",
       "      <td>0.486917</td>\n",
       "      <td>...</td>\n",
       "      <td>0.827856</td>\n",
       "      <td>0.438703</td>\n",
       "      <td>0.673192</td>\n",
       "      <td>0.237481</td>\n",
       "      <td>0.834861</td>\n",
       "      <td>0.301541</td>\n",
       "      <td>0.833428</td>\n",
       "      <td>0.522496</td>\n",
       "      <td>0.078899</td>\n",
       "      <td>0.811511</td>\n",
       "    </tr>\n",
       "    <tr>\n",
       "      <th>3</th>\n",
       "      <td>0.747427</td>\n",
       "      <td>0.486153</td>\n",
       "      <td>0.772479</td>\n",
       "      <td>0.880858</td>\n",
       "      <td>0.126916</td>\n",
       "      <td>0.454546</td>\n",
       "      <td>0.542983</td>\n",
       "      <td>0.225284</td>\n",
       "      <td>0.560307</td>\n",
       "      <td>0.948976</td>\n",
       "      <td>...</td>\n",
       "      <td>0.033098</td>\n",
       "      <td>0.658289</td>\n",
       "      <td>0.606614</td>\n",
       "      <td>0.960736</td>\n",
       "      <td>0.957779</td>\n",
       "      <td>0.314256</td>\n",
       "      <td>0.513947</td>\n",
       "      <td>0.305905</td>\n",
       "      <td>0.888520</td>\n",
       "      <td>0.209667</td>\n",
       "    </tr>\n",
       "    <tr>\n",
       "      <th>4</th>\n",
       "      <td>0.389030</td>\n",
       "      <td>0.433353</td>\n",
       "      <td>0.564360</td>\n",
       "      <td>0.807069</td>\n",
       "      <td>0.167588</td>\n",
       "      <td>0.522989</td>\n",
       "      <td>0.424763</td>\n",
       "      <td>0.054175</td>\n",
       "      <td>0.279453</td>\n",
       "      <td>0.788979</td>\n",
       "      <td>...</td>\n",
       "      <td>0.047836</td>\n",
       "      <td>0.953033</td>\n",
       "      <td>0.950118</td>\n",
       "      <td>0.365780</td>\n",
       "      <td>0.164454</td>\n",
       "      <td>0.690459</td>\n",
       "      <td>0.896780</td>\n",
       "      <td>0.359981</td>\n",
       "      <td>0.799079</td>\n",
       "      <td>0.591993</td>\n",
       "    </tr>\n",
       "  </tbody>\n",
       "</table>\n",
       "<p>5 rows × 100 columns</p>\n",
       "</div>"
      ],
      "text/plain": [
       "         0         1         2         3         4         5         6   \\\n",
       "0  0.139719  0.803696  0.567894  0.349742  0.074230  0.290389  0.842196   \n",
       "1  0.992366  0.922154  0.465378  0.312087  0.619163  0.656585  0.405239   \n",
       "2  0.475801  0.345407  0.272082  0.887120  0.296242  0.239881  0.463299   \n",
       "3  0.747427  0.486153  0.772479  0.880858  0.126916  0.454546  0.542983   \n",
       "4  0.389030  0.433353  0.564360  0.807069  0.167588  0.522989  0.424763   \n",
       "\n",
       "         7         8         9   ...        90        91        92        93  \\\n",
       "0  0.580905  0.742355  0.202906  ...  0.840341  0.901071  0.207234  0.443140   \n",
       "1  0.905386  0.413069  0.728129  ...  0.852525  0.751729  0.704889  0.084623   \n",
       "2  0.838873  0.719094  0.486917  ...  0.827856  0.438703  0.673192  0.237481   \n",
       "3  0.225284  0.560307  0.948976  ...  0.033098  0.658289  0.606614  0.960736   \n",
       "4  0.054175  0.279453  0.788979  ...  0.047836  0.953033  0.950118  0.365780   \n",
       "\n",
       "         94        95        96        97        98        99  \n",
       "0  0.808923  0.060321  0.314651  0.160951  0.048534  0.477592  \n",
       "1  0.487354  0.266004  0.236837  0.910538  0.756117  0.330417  \n",
       "2  0.834861  0.301541  0.833428  0.522496  0.078899  0.811511  \n",
       "3  0.957779  0.314256  0.513947  0.305905  0.888520  0.209667  \n",
       "4  0.164454  0.690459  0.896780  0.359981  0.799079  0.591993  \n",
       "\n",
       "[5 rows x 100 columns]"
      ]
     },
     "execution_count": 38,
     "metadata": {},
     "output_type": "execute_result"
    }
   ],
   "source": [
    "df = pd.DataFrame(np.random.random(1000).reshape(10,100))\n",
    "df.head()"
   ]
  },
  {
   "cell_type": "markdown",
   "metadata": {},
   "source": [
    "### display.max_columns 사용\n",
    "\n",
    "전체적인 변수들을 한번에 보고싶은 경우에 options 안의  `display.max_columns` 옵션 사용해서 모두 표시할 수 있다."
   ]
  },
  {
   "cell_type": "code",
   "execution_count": 39,
   "metadata": {},
   "outputs": [
    {
     "data": {
      "text/plain": [
       "20"
      ]
     },
     "execution_count": 39,
     "metadata": {},
     "output_type": "execute_result"
    }
   ],
   "source": [
    "PREV_COL_NUMS = pd.options.display.max_columns\n",
    "PREV_COL_NUMS"
   ]
  },
  {
   "cell_type": "code",
   "execution_count": 40,
   "metadata": {},
   "outputs": [
    {
     "data": {
      "text/plain": [
       "100"
      ]
     },
     "execution_count": 40,
     "metadata": {},
     "output_type": "execute_result"
    }
   ],
   "source": [
    "pd.options.display.max_columns = 100\n",
    "pd.options.display.max_columns"
   ]
  },
  {
   "cell_type": "code",
   "execution_count": 41,
   "metadata": {},
   "outputs": [
    {
     "data": {
      "text/html": [
       "<div>\n",
       "<style scoped>\n",
       "    .dataframe tbody tr th:only-of-type {\n",
       "        vertical-align: middle;\n",
       "    }\n",
       "\n",
       "    .dataframe tbody tr th {\n",
       "        vertical-align: top;\n",
       "    }\n",
       "\n",
       "    .dataframe thead th {\n",
       "        text-align: right;\n",
       "    }\n",
       "</style>\n",
       "<table border=\"1\" class=\"dataframe\">\n",
       "  <thead>\n",
       "    <tr style=\"text-align: right;\">\n",
       "      <th></th>\n",
       "      <th>0</th>\n",
       "      <th>1</th>\n",
       "      <th>2</th>\n",
       "      <th>3</th>\n",
       "      <th>4</th>\n",
       "      <th>5</th>\n",
       "      <th>6</th>\n",
       "      <th>7</th>\n",
       "      <th>8</th>\n",
       "      <th>9</th>\n",
       "      <th>10</th>\n",
       "      <th>11</th>\n",
       "      <th>12</th>\n",
       "      <th>13</th>\n",
       "      <th>14</th>\n",
       "      <th>15</th>\n",
       "      <th>16</th>\n",
       "      <th>17</th>\n",
       "      <th>18</th>\n",
       "      <th>19</th>\n",
       "      <th>20</th>\n",
       "      <th>21</th>\n",
       "      <th>22</th>\n",
       "      <th>23</th>\n",
       "      <th>24</th>\n",
       "      <th>25</th>\n",
       "      <th>26</th>\n",
       "      <th>27</th>\n",
       "      <th>28</th>\n",
       "      <th>29</th>\n",
       "      <th>30</th>\n",
       "      <th>31</th>\n",
       "      <th>32</th>\n",
       "      <th>33</th>\n",
       "      <th>34</th>\n",
       "      <th>35</th>\n",
       "      <th>36</th>\n",
       "      <th>37</th>\n",
       "      <th>38</th>\n",
       "      <th>39</th>\n",
       "      <th>40</th>\n",
       "      <th>41</th>\n",
       "      <th>42</th>\n",
       "      <th>43</th>\n",
       "      <th>44</th>\n",
       "      <th>45</th>\n",
       "      <th>46</th>\n",
       "      <th>47</th>\n",
       "      <th>48</th>\n",
       "      <th>49</th>\n",
       "      <th>50</th>\n",
       "      <th>51</th>\n",
       "      <th>52</th>\n",
       "      <th>53</th>\n",
       "      <th>54</th>\n",
       "      <th>55</th>\n",
       "      <th>56</th>\n",
       "      <th>57</th>\n",
       "      <th>58</th>\n",
       "      <th>59</th>\n",
       "      <th>60</th>\n",
       "      <th>61</th>\n",
       "      <th>62</th>\n",
       "      <th>63</th>\n",
       "      <th>64</th>\n",
       "      <th>65</th>\n",
       "      <th>66</th>\n",
       "      <th>67</th>\n",
       "      <th>68</th>\n",
       "      <th>69</th>\n",
       "      <th>70</th>\n",
       "      <th>71</th>\n",
       "      <th>72</th>\n",
       "      <th>73</th>\n",
       "      <th>74</th>\n",
       "      <th>75</th>\n",
       "      <th>76</th>\n",
       "      <th>77</th>\n",
       "      <th>78</th>\n",
       "      <th>79</th>\n",
       "      <th>80</th>\n",
       "      <th>81</th>\n",
       "      <th>82</th>\n",
       "      <th>83</th>\n",
       "      <th>84</th>\n",
       "      <th>85</th>\n",
       "      <th>86</th>\n",
       "      <th>87</th>\n",
       "      <th>88</th>\n",
       "      <th>89</th>\n",
       "      <th>90</th>\n",
       "      <th>91</th>\n",
       "      <th>92</th>\n",
       "      <th>93</th>\n",
       "      <th>94</th>\n",
       "      <th>95</th>\n",
       "      <th>96</th>\n",
       "      <th>97</th>\n",
       "      <th>98</th>\n",
       "      <th>99</th>\n",
       "    </tr>\n",
       "  </thead>\n",
       "  <tbody>\n",
       "    <tr>\n",
       "      <th>0</th>\n",
       "      <td>0.139719</td>\n",
       "      <td>0.803696</td>\n",
       "      <td>0.567894</td>\n",
       "      <td>0.349742</td>\n",
       "      <td>0.074230</td>\n",
       "      <td>0.290389</td>\n",
       "      <td>0.842196</td>\n",
       "      <td>0.580905</td>\n",
       "      <td>0.742355</td>\n",
       "      <td>0.202906</td>\n",
       "      <td>0.126596</td>\n",
       "      <td>0.086306</td>\n",
       "      <td>0.576722</td>\n",
       "      <td>0.879425</td>\n",
       "      <td>0.824737</td>\n",
       "      <td>0.669968</td>\n",
       "      <td>0.396242</td>\n",
       "      <td>0.379148</td>\n",
       "      <td>0.514641</td>\n",
       "      <td>0.776693</td>\n",
       "      <td>0.978056</td>\n",
       "      <td>0.273826</td>\n",
       "      <td>0.624651</td>\n",
       "      <td>0.301963</td>\n",
       "      <td>0.418394</td>\n",
       "      <td>0.060086</td>\n",
       "      <td>0.797634</td>\n",
       "      <td>0.770511</td>\n",
       "      <td>0.974065</td>\n",
       "      <td>0.475926</td>\n",
       "      <td>0.664431</td>\n",
       "      <td>0.364990</td>\n",
       "      <td>0.860416</td>\n",
       "      <td>0.598019</td>\n",
       "      <td>0.481187</td>\n",
       "      <td>0.403290</td>\n",
       "      <td>0.324178</td>\n",
       "      <td>0.952406</td>\n",
       "      <td>0.212664</td>\n",
       "      <td>0.633280</td>\n",
       "      <td>0.085350</td>\n",
       "      <td>0.039202</td>\n",
       "      <td>0.986784</td>\n",
       "      <td>0.576885</td>\n",
       "      <td>0.018726</td>\n",
       "      <td>0.764245</td>\n",
       "      <td>0.429889</td>\n",
       "      <td>0.760147</td>\n",
       "      <td>0.610092</td>\n",
       "      <td>0.808220</td>\n",
       "      <td>0.321353</td>\n",
       "      <td>0.827557</td>\n",
       "      <td>0.981347</td>\n",
       "      <td>0.907023</td>\n",
       "      <td>0.380853</td>\n",
       "      <td>0.508040</td>\n",
       "      <td>0.971988</td>\n",
       "      <td>0.565733</td>\n",
       "      <td>0.771295</td>\n",
       "      <td>0.714880</td>\n",
       "      <td>0.106308</td>\n",
       "      <td>0.343025</td>\n",
       "      <td>0.357311</td>\n",
       "      <td>0.370447</td>\n",
       "      <td>0.368599</td>\n",
       "      <td>0.609537</td>\n",
       "      <td>0.451815</td>\n",
       "      <td>0.860397</td>\n",
       "      <td>0.105473</td>\n",
       "      <td>0.797173</td>\n",
       "      <td>0.225806</td>\n",
       "      <td>0.068817</td>\n",
       "      <td>0.528539</td>\n",
       "      <td>0.773167</td>\n",
       "      <td>0.956792</td>\n",
       "      <td>0.353775</td>\n",
       "      <td>0.187822</td>\n",
       "      <td>0.121510</td>\n",
       "      <td>0.536141</td>\n",
       "      <td>0.386480</td>\n",
       "      <td>0.763128</td>\n",
       "      <td>0.895980</td>\n",
       "      <td>0.244957</td>\n",
       "      <td>0.645876</td>\n",
       "      <td>0.715478</td>\n",
       "      <td>0.428605</td>\n",
       "      <td>0.368107</td>\n",
       "      <td>0.421679</td>\n",
       "      <td>0.559994</td>\n",
       "      <td>0.813415</td>\n",
       "      <td>0.840341</td>\n",
       "      <td>0.901071</td>\n",
       "      <td>0.207234</td>\n",
       "      <td>0.443140</td>\n",
       "      <td>0.808923</td>\n",
       "      <td>0.060321</td>\n",
       "      <td>0.314651</td>\n",
       "      <td>0.160951</td>\n",
       "      <td>0.048534</td>\n",
       "      <td>0.477592</td>\n",
       "    </tr>\n",
       "    <tr>\n",
       "      <th>1</th>\n",
       "      <td>0.992366</td>\n",
       "      <td>0.922154</td>\n",
       "      <td>0.465378</td>\n",
       "      <td>0.312087</td>\n",
       "      <td>0.619163</td>\n",
       "      <td>0.656585</td>\n",
       "      <td>0.405239</td>\n",
       "      <td>0.905386</td>\n",
       "      <td>0.413069</td>\n",
       "      <td>0.728129</td>\n",
       "      <td>0.701080</td>\n",
       "      <td>0.614429</td>\n",
       "      <td>0.493826</td>\n",
       "      <td>0.447056</td>\n",
       "      <td>0.248766</td>\n",
       "      <td>0.751648</td>\n",
       "      <td>0.850628</td>\n",
       "      <td>0.842504</td>\n",
       "      <td>0.467920</td>\n",
       "      <td>0.048665</td>\n",
       "      <td>0.710157</td>\n",
       "      <td>0.382780</td>\n",
       "      <td>0.779514</td>\n",
       "      <td>0.050899</td>\n",
       "      <td>0.387689</td>\n",
       "      <td>0.001384</td>\n",
       "      <td>0.504442</td>\n",
       "      <td>0.558451</td>\n",
       "      <td>0.838884</td>\n",
       "      <td>0.512704</td>\n",
       "      <td>0.147388</td>\n",
       "      <td>0.329494</td>\n",
       "      <td>0.296530</td>\n",
       "      <td>0.593111</td>\n",
       "      <td>0.613150</td>\n",
       "      <td>0.624538</td>\n",
       "      <td>0.604381</td>\n",
       "      <td>0.798867</td>\n",
       "      <td>0.762670</td>\n",
       "      <td>0.705274</td>\n",
       "      <td>0.326415</td>\n",
       "      <td>0.499067</td>\n",
       "      <td>0.018295</td>\n",
       "      <td>0.470012</td>\n",
       "      <td>0.863116</td>\n",
       "      <td>0.077800</td>\n",
       "      <td>0.054234</td>\n",
       "      <td>0.935623</td>\n",
       "      <td>0.159693</td>\n",
       "      <td>0.784910</td>\n",
       "      <td>0.062723</td>\n",
       "      <td>0.042990</td>\n",
       "      <td>0.673162</td>\n",
       "      <td>0.040218</td>\n",
       "      <td>0.402062</td>\n",
       "      <td>0.507499</td>\n",
       "      <td>0.824185</td>\n",
       "      <td>0.867841</td>\n",
       "      <td>0.848163</td>\n",
       "      <td>0.159534</td>\n",
       "      <td>0.520292</td>\n",
       "      <td>0.101929</td>\n",
       "      <td>0.273557</td>\n",
       "      <td>0.305704</td>\n",
       "      <td>0.290475</td>\n",
       "      <td>0.631596</td>\n",
       "      <td>0.698139</td>\n",
       "      <td>0.450039</td>\n",
       "      <td>0.435537</td>\n",
       "      <td>0.203831</td>\n",
       "      <td>0.431932</td>\n",
       "      <td>0.907107</td>\n",
       "      <td>0.786058</td>\n",
       "      <td>0.239432</td>\n",
       "      <td>0.677130</td>\n",
       "      <td>0.621406</td>\n",
       "      <td>0.347602</td>\n",
       "      <td>0.570375</td>\n",
       "      <td>0.077417</td>\n",
       "      <td>0.374151</td>\n",
       "      <td>0.500329</td>\n",
       "      <td>0.095766</td>\n",
       "      <td>0.108492</td>\n",
       "      <td>0.478119</td>\n",
       "      <td>0.386470</td>\n",
       "      <td>0.345131</td>\n",
       "      <td>0.970931</td>\n",
       "      <td>0.200165</td>\n",
       "      <td>0.124794</td>\n",
       "      <td>0.859277</td>\n",
       "      <td>0.852525</td>\n",
       "      <td>0.751729</td>\n",
       "      <td>0.704889</td>\n",
       "      <td>0.084623</td>\n",
       "      <td>0.487354</td>\n",
       "      <td>0.266004</td>\n",
       "      <td>0.236837</td>\n",
       "      <td>0.910538</td>\n",
       "      <td>0.756117</td>\n",
       "      <td>0.330417</td>\n",
       "    </tr>\n",
       "    <tr>\n",
       "      <th>2</th>\n",
       "      <td>0.475801</td>\n",
       "      <td>0.345407</td>\n",
       "      <td>0.272082</td>\n",
       "      <td>0.887120</td>\n",
       "      <td>0.296242</td>\n",
       "      <td>0.239881</td>\n",
       "      <td>0.463299</td>\n",
       "      <td>0.838873</td>\n",
       "      <td>0.719094</td>\n",
       "      <td>0.486917</td>\n",
       "      <td>0.391776</td>\n",
       "      <td>0.924762</td>\n",
       "      <td>0.568353</td>\n",
       "      <td>0.470344</td>\n",
       "      <td>0.937318</td>\n",
       "      <td>0.562480</td>\n",
       "      <td>0.110830</td>\n",
       "      <td>0.522156</td>\n",
       "      <td>0.389231</td>\n",
       "      <td>0.774843</td>\n",
       "      <td>0.510358</td>\n",
       "      <td>0.090115</td>\n",
       "      <td>0.813761</td>\n",
       "      <td>0.501827</td>\n",
       "      <td>0.715782</td>\n",
       "      <td>0.836534</td>\n",
       "      <td>0.563326</td>\n",
       "      <td>0.320090</td>\n",
       "      <td>0.087812</td>\n",
       "      <td>0.999718</td>\n",
       "      <td>0.315829</td>\n",
       "      <td>0.962624</td>\n",
       "      <td>0.129910</td>\n",
       "      <td>0.557093</td>\n",
       "      <td>0.136817</td>\n",
       "      <td>0.015787</td>\n",
       "      <td>0.926940</td>\n",
       "      <td>0.975292</td>\n",
       "      <td>0.301816</td>\n",
       "      <td>0.378391</td>\n",
       "      <td>0.183893</td>\n",
       "      <td>0.467790</td>\n",
       "      <td>0.238940</td>\n",
       "      <td>0.806253</td>\n",
       "      <td>0.918699</td>\n",
       "      <td>0.510179</td>\n",
       "      <td>0.689546</td>\n",
       "      <td>0.436259</td>\n",
       "      <td>0.088458</td>\n",
       "      <td>0.655637</td>\n",
       "      <td>0.357603</td>\n",
       "      <td>0.430937</td>\n",
       "      <td>0.365141</td>\n",
       "      <td>0.644048</td>\n",
       "      <td>0.637002</td>\n",
       "      <td>0.847588</td>\n",
       "      <td>0.499536</td>\n",
       "      <td>0.803364</td>\n",
       "      <td>0.285493</td>\n",
       "      <td>0.194752</td>\n",
       "      <td>0.782218</td>\n",
       "      <td>0.664565</td>\n",
       "      <td>0.385846</td>\n",
       "      <td>0.055958</td>\n",
       "      <td>0.598027</td>\n",
       "      <td>0.486406</td>\n",
       "      <td>0.179688</td>\n",
       "      <td>0.306241</td>\n",
       "      <td>0.030807</td>\n",
       "      <td>0.128304</td>\n",
       "      <td>0.192544</td>\n",
       "      <td>0.194052</td>\n",
       "      <td>0.688304</td>\n",
       "      <td>0.268623</td>\n",
       "      <td>0.312165</td>\n",
       "      <td>0.647935</td>\n",
       "      <td>0.481237</td>\n",
       "      <td>0.318577</td>\n",
       "      <td>0.075307</td>\n",
       "      <td>0.168137</td>\n",
       "      <td>0.444711</td>\n",
       "      <td>0.076459</td>\n",
       "      <td>0.641633</td>\n",
       "      <td>0.841585</td>\n",
       "      <td>0.407703</td>\n",
       "      <td>0.154725</td>\n",
       "      <td>0.957905</td>\n",
       "      <td>0.650496</td>\n",
       "      <td>0.784889</td>\n",
       "      <td>0.062062</td>\n",
       "      <td>0.827856</td>\n",
       "      <td>0.438703</td>\n",
       "      <td>0.673192</td>\n",
       "      <td>0.237481</td>\n",
       "      <td>0.834861</td>\n",
       "      <td>0.301541</td>\n",
       "      <td>0.833428</td>\n",
       "      <td>0.522496</td>\n",
       "      <td>0.078899</td>\n",
       "      <td>0.811511</td>\n",
       "    </tr>\n",
       "    <tr>\n",
       "      <th>3</th>\n",
       "      <td>0.747427</td>\n",
       "      <td>0.486153</td>\n",
       "      <td>0.772479</td>\n",
       "      <td>0.880858</td>\n",
       "      <td>0.126916</td>\n",
       "      <td>0.454546</td>\n",
       "      <td>0.542983</td>\n",
       "      <td>0.225284</td>\n",
       "      <td>0.560307</td>\n",
       "      <td>0.948976</td>\n",
       "      <td>0.017690</td>\n",
       "      <td>0.663082</td>\n",
       "      <td>0.106280</td>\n",
       "      <td>0.216014</td>\n",
       "      <td>0.560888</td>\n",
       "      <td>0.596083</td>\n",
       "      <td>0.567430</td>\n",
       "      <td>0.687573</td>\n",
       "      <td>0.586393</td>\n",
       "      <td>0.368993</td>\n",
       "      <td>0.972409</td>\n",
       "      <td>0.910909</td>\n",
       "      <td>0.800799</td>\n",
       "      <td>0.860158</td>\n",
       "      <td>0.021723</td>\n",
       "      <td>0.704610</td>\n",
       "      <td>0.285842</td>\n",
       "      <td>0.901771</td>\n",
       "      <td>0.550983</td>\n",
       "      <td>0.522633</td>\n",
       "      <td>0.221891</td>\n",
       "      <td>0.614458</td>\n",
       "      <td>0.036152</td>\n",
       "      <td>0.419919</td>\n",
       "      <td>0.807550</td>\n",
       "      <td>0.824319</td>\n",
       "      <td>0.040385</td>\n",
       "      <td>0.048184</td>\n",
       "      <td>0.653072</td>\n",
       "      <td>0.227024</td>\n",
       "      <td>0.985793</td>\n",
       "      <td>0.588742</td>\n",
       "      <td>0.726473</td>\n",
       "      <td>0.122137</td>\n",
       "      <td>0.865428</td>\n",
       "      <td>0.544961</td>\n",
       "      <td>0.171903</td>\n",
       "      <td>0.821758</td>\n",
       "      <td>0.389369</td>\n",
       "      <td>0.994347</td>\n",
       "      <td>0.684753</td>\n",
       "      <td>0.304723</td>\n",
       "      <td>0.962971</td>\n",
       "      <td>0.278735</td>\n",
       "      <td>0.232172</td>\n",
       "      <td>0.310384</td>\n",
       "      <td>0.894807</td>\n",
       "      <td>0.298371</td>\n",
       "      <td>0.390753</td>\n",
       "      <td>0.229019</td>\n",
       "      <td>0.273262</td>\n",
       "      <td>0.242787</td>\n",
       "      <td>0.505192</td>\n",
       "      <td>0.959899</td>\n",
       "      <td>0.263474</td>\n",
       "      <td>0.557047</td>\n",
       "      <td>0.153275</td>\n",
       "      <td>0.170661</td>\n",
       "      <td>0.996826</td>\n",
       "      <td>0.644450</td>\n",
       "      <td>0.753547</td>\n",
       "      <td>0.370674</td>\n",
       "      <td>0.638582</td>\n",
       "      <td>0.948185</td>\n",
       "      <td>0.466094</td>\n",
       "      <td>0.733292</td>\n",
       "      <td>0.342544</td>\n",
       "      <td>0.927592</td>\n",
       "      <td>0.271847</td>\n",
       "      <td>0.164524</td>\n",
       "      <td>0.299769</td>\n",
       "      <td>0.076781</td>\n",
       "      <td>0.360560</td>\n",
       "      <td>0.519896</td>\n",
       "      <td>0.541279</td>\n",
       "      <td>0.622078</td>\n",
       "      <td>0.746081</td>\n",
       "      <td>0.918709</td>\n",
       "      <td>0.481610</td>\n",
       "      <td>0.199363</td>\n",
       "      <td>0.033098</td>\n",
       "      <td>0.658289</td>\n",
       "      <td>0.606614</td>\n",
       "      <td>0.960736</td>\n",
       "      <td>0.957779</td>\n",
       "      <td>0.314256</td>\n",
       "      <td>0.513947</td>\n",
       "      <td>0.305905</td>\n",
       "      <td>0.888520</td>\n",
       "      <td>0.209667</td>\n",
       "    </tr>\n",
       "    <tr>\n",
       "      <th>4</th>\n",
       "      <td>0.389030</td>\n",
       "      <td>0.433353</td>\n",
       "      <td>0.564360</td>\n",
       "      <td>0.807069</td>\n",
       "      <td>0.167588</td>\n",
       "      <td>0.522989</td>\n",
       "      <td>0.424763</td>\n",
       "      <td>0.054175</td>\n",
       "      <td>0.279453</td>\n",
       "      <td>0.788979</td>\n",
       "      <td>0.139648</td>\n",
       "      <td>0.004084</td>\n",
       "      <td>0.916167</td>\n",
       "      <td>0.297945</td>\n",
       "      <td>0.324322</td>\n",
       "      <td>0.302725</td>\n",
       "      <td>0.717928</td>\n",
       "      <td>0.146621</td>\n",
       "      <td>0.074367</td>\n",
       "      <td>0.181718</td>\n",
       "      <td>0.276274</td>\n",
       "      <td>0.048009</td>\n",
       "      <td>0.157906</td>\n",
       "      <td>0.566001</td>\n",
       "      <td>0.973089</td>\n",
       "      <td>0.947802</td>\n",
       "      <td>0.894525</td>\n",
       "      <td>0.256220</td>\n",
       "      <td>0.640307</td>\n",
       "      <td>0.345022</td>\n",
       "      <td>0.569834</td>\n",
       "      <td>0.581682</td>\n",
       "      <td>0.547951</td>\n",
       "      <td>0.643080</td>\n",
       "      <td>0.444514</td>\n",
       "      <td>0.813248</td>\n",
       "      <td>0.888233</td>\n",
       "      <td>0.216556</td>\n",
       "      <td>0.555722</td>\n",
       "      <td>0.852150</td>\n",
       "      <td>0.756175</td>\n",
       "      <td>0.144195</td>\n",
       "      <td>0.177654</td>\n",
       "      <td>0.028333</td>\n",
       "      <td>0.636008</td>\n",
       "      <td>0.633951</td>\n",
       "      <td>0.818532</td>\n",
       "      <td>0.408265</td>\n",
       "      <td>0.538400</td>\n",
       "      <td>0.184446</td>\n",
       "      <td>0.283900</td>\n",
       "      <td>0.968324</td>\n",
       "      <td>0.808051</td>\n",
       "      <td>0.074343</td>\n",
       "      <td>0.927478</td>\n",
       "      <td>0.764698</td>\n",
       "      <td>0.997742</td>\n",
       "      <td>0.310744</td>\n",
       "      <td>0.734679</td>\n",
       "      <td>0.134284</td>\n",
       "      <td>0.656908</td>\n",
       "      <td>0.932340</td>\n",
       "      <td>0.221039</td>\n",
       "      <td>0.392586</td>\n",
       "      <td>0.725030</td>\n",
       "      <td>0.730186</td>\n",
       "      <td>0.439642</td>\n",
       "      <td>0.526807</td>\n",
       "      <td>0.428638</td>\n",
       "      <td>0.712216</td>\n",
       "      <td>0.522161</td>\n",
       "      <td>0.983528</td>\n",
       "      <td>0.041505</td>\n",
       "      <td>0.555090</td>\n",
       "      <td>0.808644</td>\n",
       "      <td>0.227528</td>\n",
       "      <td>0.430865</td>\n",
       "      <td>0.523817</td>\n",
       "      <td>0.438872</td>\n",
       "      <td>0.295981</td>\n",
       "      <td>0.155507</td>\n",
       "      <td>0.209947</td>\n",
       "      <td>0.962218</td>\n",
       "      <td>0.756554</td>\n",
       "      <td>0.427946</td>\n",
       "      <td>0.148026</td>\n",
       "      <td>0.102973</td>\n",
       "      <td>0.078112</td>\n",
       "      <td>0.575431</td>\n",
       "      <td>0.833904</td>\n",
       "      <td>0.047836</td>\n",
       "      <td>0.953033</td>\n",
       "      <td>0.950118</td>\n",
       "      <td>0.365780</td>\n",
       "      <td>0.164454</td>\n",
       "      <td>0.690459</td>\n",
       "      <td>0.896780</td>\n",
       "      <td>0.359981</td>\n",
       "      <td>0.799079</td>\n",
       "      <td>0.591993</td>\n",
       "    </tr>\n",
       "  </tbody>\n",
       "</table>\n",
       "</div>"
      ],
      "text/plain": [
       "         0         1         2         3         4         5         6   \\\n",
       "0  0.139719  0.803696  0.567894  0.349742  0.074230  0.290389  0.842196   \n",
       "1  0.992366  0.922154  0.465378  0.312087  0.619163  0.656585  0.405239   \n",
       "2  0.475801  0.345407  0.272082  0.887120  0.296242  0.239881  0.463299   \n",
       "3  0.747427  0.486153  0.772479  0.880858  0.126916  0.454546  0.542983   \n",
       "4  0.389030  0.433353  0.564360  0.807069  0.167588  0.522989  0.424763   \n",
       "\n",
       "         7         8         9         10        11        12        13  \\\n",
       "0  0.580905  0.742355  0.202906  0.126596  0.086306  0.576722  0.879425   \n",
       "1  0.905386  0.413069  0.728129  0.701080  0.614429  0.493826  0.447056   \n",
       "2  0.838873  0.719094  0.486917  0.391776  0.924762  0.568353  0.470344   \n",
       "3  0.225284  0.560307  0.948976  0.017690  0.663082  0.106280  0.216014   \n",
       "4  0.054175  0.279453  0.788979  0.139648  0.004084  0.916167  0.297945   \n",
       "\n",
       "         14        15        16        17        18        19        20  \\\n",
       "0  0.824737  0.669968  0.396242  0.379148  0.514641  0.776693  0.978056   \n",
       "1  0.248766  0.751648  0.850628  0.842504  0.467920  0.048665  0.710157   \n",
       "2  0.937318  0.562480  0.110830  0.522156  0.389231  0.774843  0.510358   \n",
       "3  0.560888  0.596083  0.567430  0.687573  0.586393  0.368993  0.972409   \n",
       "4  0.324322  0.302725  0.717928  0.146621  0.074367  0.181718  0.276274   \n",
       "\n",
       "         21        22        23        24        25        26        27  \\\n",
       "0  0.273826  0.624651  0.301963  0.418394  0.060086  0.797634  0.770511   \n",
       "1  0.382780  0.779514  0.050899  0.387689  0.001384  0.504442  0.558451   \n",
       "2  0.090115  0.813761  0.501827  0.715782  0.836534  0.563326  0.320090   \n",
       "3  0.910909  0.800799  0.860158  0.021723  0.704610  0.285842  0.901771   \n",
       "4  0.048009  0.157906  0.566001  0.973089  0.947802  0.894525  0.256220   \n",
       "\n",
       "         28        29        30        31        32        33        34  \\\n",
       "0  0.974065  0.475926  0.664431  0.364990  0.860416  0.598019  0.481187   \n",
       "1  0.838884  0.512704  0.147388  0.329494  0.296530  0.593111  0.613150   \n",
       "2  0.087812  0.999718  0.315829  0.962624  0.129910  0.557093  0.136817   \n",
       "3  0.550983  0.522633  0.221891  0.614458  0.036152  0.419919  0.807550   \n",
       "4  0.640307  0.345022  0.569834  0.581682  0.547951  0.643080  0.444514   \n",
       "\n",
       "         35        36        37        38        39        40        41  \\\n",
       "0  0.403290  0.324178  0.952406  0.212664  0.633280  0.085350  0.039202   \n",
       "1  0.624538  0.604381  0.798867  0.762670  0.705274  0.326415  0.499067   \n",
       "2  0.015787  0.926940  0.975292  0.301816  0.378391  0.183893  0.467790   \n",
       "3  0.824319  0.040385  0.048184  0.653072  0.227024  0.985793  0.588742   \n",
       "4  0.813248  0.888233  0.216556  0.555722  0.852150  0.756175  0.144195   \n",
       "\n",
       "         42        43        44        45        46        47        48  \\\n",
       "0  0.986784  0.576885  0.018726  0.764245  0.429889  0.760147  0.610092   \n",
       "1  0.018295  0.470012  0.863116  0.077800  0.054234  0.935623  0.159693   \n",
       "2  0.238940  0.806253  0.918699  0.510179  0.689546  0.436259  0.088458   \n",
       "3  0.726473  0.122137  0.865428  0.544961  0.171903  0.821758  0.389369   \n",
       "4  0.177654  0.028333  0.636008  0.633951  0.818532  0.408265  0.538400   \n",
       "\n",
       "         49        50        51        52        53        54        55  \\\n",
       "0  0.808220  0.321353  0.827557  0.981347  0.907023  0.380853  0.508040   \n",
       "1  0.784910  0.062723  0.042990  0.673162  0.040218  0.402062  0.507499   \n",
       "2  0.655637  0.357603  0.430937  0.365141  0.644048  0.637002  0.847588   \n",
       "3  0.994347  0.684753  0.304723  0.962971  0.278735  0.232172  0.310384   \n",
       "4  0.184446  0.283900  0.968324  0.808051  0.074343  0.927478  0.764698   \n",
       "\n",
       "         56        57        58        59        60        61        62  \\\n",
       "0  0.971988  0.565733  0.771295  0.714880  0.106308  0.343025  0.357311   \n",
       "1  0.824185  0.867841  0.848163  0.159534  0.520292  0.101929  0.273557   \n",
       "2  0.499536  0.803364  0.285493  0.194752  0.782218  0.664565  0.385846   \n",
       "3  0.894807  0.298371  0.390753  0.229019  0.273262  0.242787  0.505192   \n",
       "4  0.997742  0.310744  0.734679  0.134284  0.656908  0.932340  0.221039   \n",
       "\n",
       "         63        64        65        66        67        68        69  \\\n",
       "0  0.370447  0.368599  0.609537  0.451815  0.860397  0.105473  0.797173   \n",
       "1  0.305704  0.290475  0.631596  0.698139  0.450039  0.435537  0.203831   \n",
       "2  0.055958  0.598027  0.486406  0.179688  0.306241  0.030807  0.128304   \n",
       "3  0.959899  0.263474  0.557047  0.153275  0.170661  0.996826  0.644450   \n",
       "4  0.392586  0.725030  0.730186  0.439642  0.526807  0.428638  0.712216   \n",
       "\n",
       "         70        71        72        73        74        75        76  \\\n",
       "0  0.225806  0.068817  0.528539  0.773167  0.956792  0.353775  0.187822   \n",
       "1  0.431932  0.907107  0.786058  0.239432  0.677130  0.621406  0.347602   \n",
       "2  0.192544  0.194052  0.688304  0.268623  0.312165  0.647935  0.481237   \n",
       "3  0.753547  0.370674  0.638582  0.948185  0.466094  0.733292  0.342544   \n",
       "4  0.522161  0.983528  0.041505  0.555090  0.808644  0.227528  0.430865   \n",
       "\n",
       "         77        78        79        80        81        82        83  \\\n",
       "0  0.121510  0.536141  0.386480  0.763128  0.895980  0.244957  0.645876   \n",
       "1  0.570375  0.077417  0.374151  0.500329  0.095766  0.108492  0.478119   \n",
       "2  0.318577  0.075307  0.168137  0.444711  0.076459  0.641633  0.841585   \n",
       "3  0.927592  0.271847  0.164524  0.299769  0.076781  0.360560  0.519896   \n",
       "4  0.523817  0.438872  0.295981  0.155507  0.209947  0.962218  0.756554   \n",
       "\n",
       "         84        85        86        87        88        89        90  \\\n",
       "0  0.715478  0.428605  0.368107  0.421679  0.559994  0.813415  0.840341   \n",
       "1  0.386470  0.345131  0.970931  0.200165  0.124794  0.859277  0.852525   \n",
       "2  0.407703  0.154725  0.957905  0.650496  0.784889  0.062062  0.827856   \n",
       "3  0.541279  0.622078  0.746081  0.918709  0.481610  0.199363  0.033098   \n",
       "4  0.427946  0.148026  0.102973  0.078112  0.575431  0.833904  0.047836   \n",
       "\n",
       "         91        92        93        94        95        96        97  \\\n",
       "0  0.901071  0.207234  0.443140  0.808923  0.060321  0.314651  0.160951   \n",
       "1  0.751729  0.704889  0.084623  0.487354  0.266004  0.236837  0.910538   \n",
       "2  0.438703  0.673192  0.237481  0.834861  0.301541  0.833428  0.522496   \n",
       "3  0.658289  0.606614  0.960736  0.957779  0.314256  0.513947  0.305905   \n",
       "4  0.953033  0.950118  0.365780  0.164454  0.690459  0.896780  0.359981   \n",
       "\n",
       "         98        99  \n",
       "0  0.048534  0.477592  \n",
       "1  0.756117  0.330417  \n",
       "2  0.078899  0.811511  \n",
       "3  0.888520  0.209667  \n",
       "4  0.799079  0.591993  "
      ]
     },
     "execution_count": 41,
     "metadata": {},
     "output_type": "execute_result"
    }
   ],
   "source": [
    "df.head()"
   ]
  },
  {
   "cell_type": "code",
   "execution_count": 43,
   "metadata": {},
   "outputs": [],
   "source": [
    "pd.options.display.max_columns = PREV_COL_NUMS"
   ]
  },
  {
   "cell_type": "code",
   "execution_count": 44,
   "metadata": {},
   "outputs": [
    {
     "data": {
      "text/plain": [
       "20"
      ]
     },
     "execution_count": 44,
     "metadata": {},
     "output_type": "execute_result"
    }
   ],
   "source": [
    "pd.get_option('display.max_columns')"
   ]
  },
  {
   "cell_type": "markdown",
   "metadata": {},
   "source": [
    "### set_option() 사용\n",
    "\n",
    "`pd.set_option(OPTION_VAR)` 안에 최대 컬럼 수 `display.max_columns` 를 지정해주면 된다."
   ]
  }
 ],
 "metadata": {
  "kernelspec": {
   "display_name": "Python 3 (ipykernel)",
   "language": "python",
   "name": "python3"
  },
  "language_info": {
   "codemirror_mode": {
    "name": "ipython",
    "version": 3
   },
   "file_extension": ".py",
   "mimetype": "text/x-python",
   "name": "python",
   "nbconvert_exporter": "python",
   "pygments_lexer": "ipython3",
   "version": "3.10.9"
  },
  "widgets": {
   "application/vnd.jupyter.widget-state+json": {
    "state": {},
    "version_major": 2,
    "version_minor": 0
   }
  }
 },
 "nbformat": 4,
 "nbformat_minor": 4
}
