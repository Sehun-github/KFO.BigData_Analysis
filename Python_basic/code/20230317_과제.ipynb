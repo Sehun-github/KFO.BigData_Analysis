{
 "cells": [
  {
   "cell_type": "markdown",
   "id": "d10ed2bd-966e-4c37-a084-2462246028ea",
   "metadata": {},
   "source": [
    "## 초보자를 위한 파이썬 300제 & 비트 연산자\n",
    " * https://wikidocs.net/book/922\n",
    " * https://wikidocs.net/1161"
   ]
  },
  {
   "cell_type": "code",
   "execution_count": 18,
   "id": "19aedb3e-ec2c-449b-b25f-76668973ce59",
   "metadata": {},
   "outputs": [
    {
     "name": "stdout",
     "output_type": "stream",
     "text": [
      "총금액 : 1749024 원\n"
     ]
    }
   ],
   "source": [
    "# 020 파이썬 계산\n",
    "# 에이컨이 월 48,584원에 무이자 36개월의 조건으로 홈쇼핑에서 판매되고 있습니다. \n",
    "# 총 금액은 계산한 후 이를 화면에 출력해보세요. (변수사용하기)\n",
    "\n",
    "sale = 48584\n",
    "month = 36\n",
    "print(\"총금액 :\", sale*month, \"원\")"
   ]
  },
  {
   "cell_type": "code",
   "execution_count": 19,
   "id": "d9072a0f-2f33-4a6f-ad37-2ce76c4fec6e",
   "metadata": {},
   "outputs": [
    {
     "name": "stdout",
     "output_type": "stream",
     "text": [
      "2210\n"
     ]
    }
   ],
   "source": [
    "# 022 문자열 슬라이싱\n",
    "# 자동차 번호가 다음과 같을 때 뒤에 4자리만 출력하세요.\n",
    "\n",
    "license_plate = \"24가 2210\"\n",
    "\n",
    "print(license_plate.split(\" \")[1])"
   ]
  },
  {
   "cell_type": "code",
   "execution_count": 28,
   "id": "f08a8ba2-59ec-44af-96c5-491099f549ca",
   "metadata": {},
   "outputs": [
    {
     "name": "stdout",
     "output_type": "stream",
     "text": [
      "홀홀홀\n"
     ]
    }
   ],
   "source": [
    "# 023 문자열 인덱싱\n",
    "# 아래의 문자열에서 '홀' 만 출력하세요.\n",
    "\n",
    "string = \"홀짝홀짝홀짝\"\n",
    "\n",
    "print(string[::2])"
   ]
  },
  {
   "cell_type": "code",
   "execution_count": 30,
   "id": "30ec5204-6b3b-4f06-aecb-3ec99e413a9a",
   "metadata": {},
   "outputs": [
    {
     "name": "stdout",
     "output_type": "stream",
     "text": [
      "010 1111 2222\n",
      "01011112222\n"
     ]
    }
   ],
   "source": [
    "# 025 문자열 치환\n",
    "# 아래의 전화번호에서 하이푼 ('-')을 제거하고 출력하세요.\n",
    "phone_number = \"010-1111-2222\"\n",
    "\n",
    "print(phone_number.replace(\"-\",\" \"))\n",
    "\n",
    "# 026 문자열 다루기\n",
    "# 25번 문제의 전화번호를 아래와 같이 모두 붙여 출력하세요.\n",
    "\n",
    "print(phone_number.replace(\"-\",\"\"))"
   ]
  },
  {
   "cell_type": "code",
   "execution_count": 31,
   "id": "eae3674f-6bf7-4f81-bf62-4ee62221e9cb",
   "metadata": {},
   "outputs": [
    {
     "ename": "TypeError",
     "evalue": "'str' object does not support item assignment",
     "output_type": "error",
     "traceback": [
      "\u001b[1;31m---------------------------------------------------------------------------\u001b[0m",
      "\u001b[1;31mTypeError\u001b[0m                                 Traceback (most recent call last)",
      "Cell \u001b[1;32mIn[31], line 5\u001b[0m\n\u001b[0;32m      1\u001b[0m \u001b[38;5;66;03m# 028 문자열은 immutable\u001b[39;00m\n\u001b[0;32m      2\u001b[0m \u001b[38;5;66;03m# 아래 코드의 실행 결과를 예상해보세요.\u001b[39;00m\n\u001b[0;32m      4\u001b[0m lang \u001b[38;5;241m=\u001b[39m \u001b[38;5;124m'\u001b[39m\u001b[38;5;124mpython\u001b[39m\u001b[38;5;124m'\u001b[39m\n\u001b[1;32m----> 5\u001b[0m lang[\u001b[38;5;241m0\u001b[39m] \u001b[38;5;241m=\u001b[39m \u001b[38;5;124m'\u001b[39m\u001b[38;5;124mP\u001b[39m\u001b[38;5;124m'\u001b[39m\n\u001b[0;32m      6\u001b[0m \u001b[38;5;28mprint\u001b[39m(lang)\n",
      "\u001b[1;31mTypeError\u001b[0m: 'str' object does not support item assignment"
     ]
    }
   ],
   "source": [
    "# 028 문자열은 immutable\n",
    "# 아래 코드의 실행 결과를 예상해보세요.\n",
    "\n",
    "lang = 'python'\n",
    "lang[0] = 'P'\n",
    "print(lang)\n",
    "\n",
    "# 리스트에 문자열 할당 불가"
   ]
  },
  {
   "cell_type": "code",
   "execution_count": 36,
   "id": "47a57435-c3e4-4dfc-8f3e-99597f5197e6",
   "metadata": {},
   "outputs": [
    {
     "name": "stdout",
     "output_type": "stream",
     "text": [
      "이름 : 김민수 나이 10\n",
      "이름 : 이철희 나이 13\n"
     ]
    }
   ],
   "source": [
    "# 035 문자열 출력\n",
    "# 변수에 다음과 같이 문자열과 정수가 바인딩되어 있을 때 % formatting을 사용해서 다음과 같이 출력해보세요.\n",
    "\n",
    "name1 = \"김민수\" \n",
    "age1 = 10\n",
    "name2 = \"이철희\"\n",
    "age2 = 13\n",
    "\n",
    "print(\"이름 : %s 나이 %d\" % (name1,age1))\n",
    "print(\"이름 : %s 나이 %d\" % (name2,age2))"
   ]
  },
  {
   "cell_type": "code",
   "execution_count": 37,
   "id": "93882caf-dbc2-4560-886f-73a8b0955488",
   "metadata": {},
   "outputs": [
    {
     "name": "stdout",
     "output_type": "stream",
     "text": [
      "이름 : 김민수 나이 10\n"
     ]
    }
   ],
   "source": [
    "# 036 문자열 출력\n",
    "# 문자열의 format( ) 메서드를 사용해서 035번 문제를 다시 풀어보세요.\n",
    "\n",
    "print(\"이름 : {} 나이 {}\".format(name1,age1))\n",
    "print(\"이름 : {} 나이 {}\".format(name2,age2))"
   ]
  },
  {
   "cell_type": "code",
   "execution_count": 38,
   "id": "ff2d0ab2-8c84-484f-8fc8-b9d084bc9f44",
   "metadata": {},
   "outputs": [
    {
     "name": "stdout",
     "output_type": "stream",
     "text": [
      "삼성전자    \n"
     ]
    }
   ],
   "source": [
    "# 040 strip 메서드\n",
    "# 문자열의 좌우의 공백이 있을 때 이를 제거해보세요.\n",
    "\n",
    "data = \"   삼성전자    \"\n",
    "print(data.strip())"
   ]
  },
  {
   "cell_type": "code",
   "execution_count": 41,
   "id": "fa1a3051-7f75-4ae8-80bc-3116ae0e103a",
   "metadata": {},
   "outputs": [
    {
     "name": "stdout",
     "output_type": "stream",
     "text": [
      "Hello\n"
     ]
    }
   ],
   "source": [
    "# 043 capitalize 메서드\n",
    "# 문자열 'hello'가 있을 때 이를 'Hello'로 변경해보세요.\n",
    "\n",
    "print('hello'.capitalize())"
   ]
  },
  {
   "cell_type": "code",
   "execution_count": 45,
   "id": "5b558670-14ff-4092-b597-06e75577a9c4",
   "metadata": {},
   "outputs": [
    {
     "name": "stdout",
     "output_type": "stream",
     "text": [
      "True\n"
     ]
    }
   ],
   "source": [
    "# 044 endswith 메서드\n",
    "# 파일 이름이 문자열로 저장되어 있을 때 endswith 메서드를 사용해서 파일 이름이 'xlsx'로 끝나는지 확인해보세요.\n",
    "\n",
    "file_name = \"보고서.xlsx\"\n",
    "print(file_name.endswith('xlsx'))"
   ]
  },
  {
   "cell_type": "code",
   "execution_count": 49,
   "id": "148b988c-ef41-40fc-9282-2d70588cf445",
   "metadata": {},
   "outputs": [
    {
     "name": "stdout",
     "output_type": "stream",
     "text": [
      "True\n"
     ]
    }
   ],
   "source": [
    "# 045 endswith 메서드\n",
    "# 파일 이름이 문자열로 저장되어 있을 때 endswith 메서드를 사용해서 파일 이름이 'xlsx' 또는 'xls'로 끝나는지 확인해보세요.\n",
    "file_name = \"보고서.xlsx\"\n",
    "print(file_name.endswith((\"xlsx\", \"xls\")))"
   ]
  },
  {
   "cell_type": "code",
   "execution_count": 52,
   "id": "2b496d2f-950c-464c-a6d5-82ea383601ef",
   "metadata": {},
   "outputs": [
    {
     "name": "stdout",
     "output_type": "stream",
     "text": [
      "True\n"
     ]
    }
   ],
   "source": [
    "# 046 startswith 메서드\n",
    "# 파일 이름이 문자열로 저장되어 있을 때 startswith 메서드를 사용해서 파일 이름이 '2020'로 시작하는지 확인해보세요.\n",
    "\n",
    "file_name = \"2020_보고서.xlsx\"\n",
    "print(file_name.startswith('2020'))"
   ]
  },
  {
   "cell_type": "code",
   "execution_count": 55,
   "id": "a031a8af-0719-49f6-b89c-60daa22743e4",
   "metadata": {},
   "outputs": [
    {
     "name": "stdin",
     "output_type": "stream",
     "text": [
      "좋아하는 과일은?  사과\n"
     ]
    },
    {
     "name": "stdout",
     "output_type": "stream",
     "text": [
      "정답입니다\n"
     ]
    }
   ],
   "source": [
    "# 117\n",
    "# 사용자로 입력받은 단어가 아래 fruit 리스트에 포함되어 있는지를 확인하라. 포함되었다면 \"정답입니다\"를 아닐 경우 \"오답입니다\" 출력하라.\n",
    "fruit = [\"사과\", \"포도\", \"홍시\"]\n",
    "# >> 좋아하는 과일은? 사과\n",
    "# 정답입니다.\n",
    "\n",
    "thing = input(\"좋아하는 과일은? \")\n",
    "if thing in fruit:\n",
    "    print(\"정답입니다\")\n",
    "else:\n",
    "    print(\"틀렸습니다\")"
   ]
  },
  {
   "cell_type": "code",
   "execution_count": 58,
   "id": "8a818590-cbc0-4bfd-bccc-04eff87aa9e7",
   "metadata": {},
   "outputs": [
    {
     "name": "stdin",
     "output_type": "stream",
     "text": [
      "제가좋아하는계절은: 컴퓨터\n"
     ]
    },
    {
     "name": "stdout",
     "output_type": "stream",
     "text": [
      "오답입니다\n"
     ]
    }
   ],
   "source": [
    "# 119\n",
    "# 아래와 같이 fruit 딕셔너리가 정의되어 있다. 용자가 입력한 값이 딕셔너리 키 (key) 값에 포함되었다면 \"정답입니다\"를 아닐 경우 \"오답입니다\" 출력하라.\n",
    "\n",
    "fruit = {\"봄\" : \"딸기\", \"여름\" : \"토마토\", \"가을\" : \"사과\"}\n",
    "# >> 제가좋아하는계절은: 봄\n",
    "# 정답입니다.\n",
    "thing = input('제가좋아하는계절은:')\n",
    "if thing in fruit.keys():\n",
    "    print(\"정답입니다\")\n",
    "else:\n",
    "    print(\"오답입니다\")"
   ]
  },
  {
   "cell_type": "code",
   "execution_count": 60,
   "id": "707e3bef-cd71-4cd6-aa80-082403903a25",
   "metadata": {},
   "outputs": [
    {
     "name": "stdin",
     "output_type": "stream",
     "text": [
      "제가좋아하는계절은: 물\n"
     ]
    },
    {
     "name": "stdout",
     "output_type": "stream",
     "text": [
      "오답입니다\n"
     ]
    }
   ],
   "source": [
    "# 120\n",
    "# 아래와 같이 fruit 딕셔너리가 정의되어 있다. 사용자가 입력한 값이 딕셔너리 값 (value)에 포함되었다면 \"정답입니다\"를 아닐 경우 \"오답입니다\" 출력하라.\n",
    "\n",
    "fruit = {\"봄\" : \"딸기\", \"여름\" : \"토마토\", \"가을\" : \"사과\"}\n",
    "# >> 제가좋아하는계절은: 봄\n",
    "# 정답입니다.\n",
    "thing = input('제가좋아하는계절은:')\n",
    "if thing in fruit.values():\n",
    "    print(\"정답입니다\")\n",
    "else:\n",
    "    print(\"오답입니다\")"
   ]
  },
  {
   "cell_type": "code",
   "execution_count": 62,
   "id": "d93d88e8-52b8-491f-8506-4abbe3dc8fe6",
   "metadata": {},
   "outputs": [
    {
     "name": "stdin",
     "output_type": "stream",
     "text": [
      " bbbb\n"
     ]
    },
    {
     "name": "stdout",
     "output_type": "stream",
     "text": [
      "BBBB\n"
     ]
    }
   ],
   "source": [
    "# 121\n",
    "# 사용자로부터 문자 한 개를 입력 받고, 소문자일 경우 대문자로, 대문자 일 경우, 소문자로 변경해서 출력하라.\n",
    "\n",
    "word = input()\n",
    "if word.islower():\n",
    "    print(word.upper())\n",
    "else:\n",
    "    print(word.lower())"
   ]
  },
  {
   "cell_type": "code",
   "execution_count": 72,
   "id": "eca58429-c0f5-48be-b10d-3318f8b2e07a",
   "metadata": {},
   "outputs": [
    {
     "name": "stdin",
     "output_type": "stream",
     "text": [
      "입력 :  100 달러\n"
     ]
    },
    {
     "name": "stdout",
     "output_type": "stream",
     "text": [
      "116700.0 달러\n"
     ]
    }
   ],
   "source": [
    "# 123\n",
    "# 사용자로부터 달러, 엔, 유로, 또는 위안 금액을 입력받은 후 이를 원으로 변환하는 프로그램을 작성하라. 각 통화별 환율은 다음과 같다. 사용자는 100 달러, 1000 엔, 13 유로, 100 위안과 같이 금액과 통화명 사이에 공백을 넣어 입력한다고 가정한다.\n",
    "\n",
    "환율 = {\"달러\": 1167, \n",
    "        \"엔\": 1.096, \n",
    "        \"유로\": 1268, \n",
    "        \"위안\": 171}\n",
    "\n",
    "num, money_name = input(\"입력 : \").split()\n",
    "\n",
    "\n",
    "print(float(num)*환율[money_name], money_name)"
   ]
  },
  {
   "cell_type": "code",
   "execution_count": 76,
   "id": "bdf424c3-2735-4c84-911a-a96d4c2c3204",
   "metadata": {},
   "outputs": [
    {
     "name": "stdin",
     "output_type": "stream",
     "text": [
      "input num1 5\n",
      "input num2 9\n",
      "input num3 7\n"
     ]
    },
    {
     "name": "stdout",
     "output_type": "stream",
     "text": [
      "9\n"
     ]
    }
   ],
   "source": [
    "# 124\n",
    "# 사용자로부터 세 개의 숫자를 입력 받은 후 가장 큰 숫자를 출력하라.\n",
    "\n",
    "n1 = int(input(\"input num1:\"))\n",
    "n2 = int(input(\"input num2:\"))\n",
    "n3 = int(input(\"input num3:\"))\n",
    "\n",
    "print(max(n1,n2,n3))"
   ]
  },
  {
   "cell_type": "code",
   "execution_count": 85,
   "id": "d063b497-c08c-4b37-ad94-2b12807add8d",
   "metadata": {},
   "outputs": [
    {
     "name": "stdin",
     "output_type": "stream",
     "text": [
      "휴대전화 번호 입력: 010-123-1321\n"
     ]
    },
    {
     "name": "stdout",
     "output_type": "stream",
     "text": [
      "010\n",
      "당신은 알수없음 사용자입니다\n"
     ]
    }
   ],
   "source": [
    "# 125\n",
    "# 휴대폰 번호 앞자리에 따라 통신사는 아래와 같이 구분된다. 사용자로부터 휴대전화 번호를 입력 받고, 통신사를 출력하는 프로그램을 작성하라.\n",
    "\n",
    "phone = {\n",
    "    '011':'SKT',\n",
    "    '016':'KT',\n",
    "    '019':'LGU',\n",
    "    '010':'알수없음'   \n",
    "}\n",
    "\n",
    "phone_number = input('휴대전화 번호 입력:').split(\"-\")[0]\n",
    "print(phone_number)\n",
    "print(f\"당신은 {phone[phone_number]} 사용자입니다\")"
   ]
  },
  {
   "cell_type": "code",
   "execution_count": 92,
   "id": "bf8df544-8a7f-4737-983c-d645c203dba2",
   "metadata": {},
   "outputs": [
    {
     "name": "stdout",
     "output_type": "stream",
     "text": [
      "상승장\n"
     ]
    }
   ],
   "source": [
    "# 130\n",
    "# 아래 코드는 비트코인의 가격 정보를 딕셔너리로 가져오는 코드이다.\n",
    "\n",
    "# btc 딕셔너리 안에는 시가, 종가, 최고가, 최저가 등이 저장되어 있다. 최고가와 최저가의 차이를 변동폭으로 정의할 때 \n",
    "# (시가 + 변동폭)이 최고가 보다 높을 경우 \"상승장\", 그렇지 않은 경우 \"하락장\" 문자열을 출력하라.\n",
    "\n",
    "import requests\n",
    "btc = requests.get(\"https://api.bithumb.com/public/ticker/\").json()['data']\n",
    "money =(int(btc['max_price'])-int(btc['min_price'])) + int(btc['opening_price'])\n",
    "\n",
    "if money > int(btc['max_price']):\n",
    "    print('상승장')\n",
    "else:\n",
    "    print(\"하락장\")"
   ]
  },
  {
   "cell_type": "code",
   "execution_count": 1,
   "id": "5a4d9424-c6a2-49cc-8195-81e8e0a1db5b",
   "metadata": {},
   "outputs": [
    {
     "name": "stdout",
     "output_type": "stream",
     "text": [
      "study\n",
      "python\n",
      "language\n"
     ]
    }
   ],
   "source": [
    "# 154\n",
    "# 리스트에서 세 글자 이상의 문자를 화면에 출력하라\n",
    "\n",
    "list = [\"I\", \"study\", \"python\", \"language\", \"!\"]\n",
    "\n",
    "for i in list:\n",
    "    if len(i)>=3:\n",
    "        print(i)\n",
    "        "
   ]
  },
  {
   "cell_type": "code",
   "execution_count": 2,
   "id": "1c8a3eb4-9559-41cd-b753-a134a197b8cd",
   "metadata": {},
   "outputs": [
    {
     "name": "stdout",
     "output_type": "stream",
     "text": [
      "Dog\n",
      "Cat\n",
      "Parrot\n"
     ]
    }
   ],
   "source": [
    "# 157\n",
    "# 이름의 첫 글자를 대문자로 변경해서 출력하라.\n",
    "\n",
    "list = ['dog', 'cat', 'parrot']\n",
    "\n",
    "for i in list:\n",
    "    print(i.capitalize())\n",
    "    \n",
    "    \n",
    "for i in list:\n",
    "    print()"
   ]
  },
  {
   "cell_type": "code",
   "execution_count": 7,
   "id": "3ac9e053-4960-46c0-b870-60c2daaace84",
   "metadata": {},
   "outputs": [
    {
     "name": "stdout",
     "output_type": "stream",
     "text": [
      "라 다\n",
      "다 나\n",
      "나 가\n"
     ]
    }
   ],
   "source": [
    "# 177\n",
    "# 반복문과 range 함수를 사용해서 my_list를 아래와 같이 출력하라.\n",
    "\n",
    "# 라 다\n",
    "# 다 나\n",
    "# 나 가\n",
    "\n",
    "my_list = [\"가\", \"나\", \"다\", \"라\"]\n",
    "for i in range(1,len(my_list)):\n",
    "    print(my_list[-i], my_list[-i-1])"
   ]
  },
  {
   "cell_type": "code",
   "execution_count": 16,
   "id": "62940897-e484-4039-9cce-86a3d2b8591e",
   "metadata": {},
   "outputs": [
    {
     "name": "stdout",
     "output_type": "stream",
     "text": [
      "233.33333333333334\n",
      "466.6666666666667\n",
      "733.3333333333334\n",
      "1033.3333333333333\n"
     ]
    }
   ],
   "source": [
    "# 179\n",
    "# 리스트에는 6일 간의 종가 데이터가 저장되어 있다. 종가 데이터의 3일 이동 평균을 계산하고 이를 화면에 출력하라.\n",
    "\n",
    "my_list = [100, 200, 400, 800, 1000, 1300]\n",
    "           \n",
    "for i in range(len(my_list)):\n",
    "    if i+2>=len(my_list):\n",
    "        break\n",
    "    else:\n",
    "        print((my_list[i]+my_list[i+1]+my_list[i+2])/3)"
   ]
  },
  {
   "cell_type": "code",
   "execution_count": null,
   "id": "d339c1c8-d7fb-4944-9f85-2e78611547bc",
   "metadata": {},
   "outputs": [],
   "source": [
    "# 181\n",
    "# 아래 표에서 하나의 행을 하나의 리스트로, 총 3개의 리스트를 갖는 이차원 리스트 apart를 정의하라.\n",
    "\n",
    "# 101호\t102호\n",
    "# 201호\t202호\n",
    "# 301호\t302호\n",
    "\n",
    "apart = [['101호','102호'],['201호','202호'],['301호','302호']]"
   ]
  },
  {
   "cell_type": "code",
   "execution_count": 22,
   "id": "d2b8716b-2acf-4351-a699-f810139f93ff",
   "metadata": {},
   "outputs": [
    {
     "data": {
      "text/plain": [
       "dict_values([{200, 100, 300}, [80, 210, 330]])"
      ]
     },
     "execution_count": 23,
     "metadata": {},
     "output_type": "execute_result"
    }
   ],
   "source": [
    "# 183\n",
    "# 아래 표를 stock 이름의 딕셔너리로 표현하라.시가를 key로 저장하고, 나머지 같은 열의 데이터를 리스트로 저장해서 \n",
    "# value로 저장한다. 종가 역시 key로 저장하고 나머지 같은 열의 데이터를 리스트로 저장해서 value로 저장한다.\n",
    "\n",
    "# 시가\t종가\n",
    "# 100\t80\n",
    "# 200\t210\n",
    "# 300\t330\n",
    "\n",
    "apart={'시가': [100,200,300], '종가':[80,210,330]}\n",
    "\n",
    "apart.values()"
   ]
  },
  {
   "cell_type": "code",
   "execution_count": 32,
   "id": "bde1d729-cee6-494c-84ed-52958cf10bf1",
   "metadata": {},
   "outputs": [
    {
     "name": "stdout",
     "output_type": "stream",
     "text": [
      "101 호\n",
      "102 호\n",
      "201 호\n",
      "202 호\n",
      "301 호\n",
      "302 호\n"
     ]
    }
   ],
   "source": [
    "# 185\n",
    "# 리스트에 저장된 데이터를 아래와 같이 출력하라.\n",
    "\n",
    "apart = [ [101, 102], [201, 202], [301, 302] ]\n",
    "\n",
    "for row in apart:\n",
    "    for col in row:\n",
    "        print(col, \"호\")"
   ]
  },
  {
   "cell_type": "code",
   "execution_count": 49,
   "id": "d087eb50-4794-4496-9ee5-75552bc347ea",
   "metadata": {},
   "outputs": [
    {
     "name": "stdout",
     "output_type": "stream",
     "text": [
      "301 호\n",
      "302 호\n",
      "201 호\n",
      "202 호\n",
      "101 호\n",
      "102 호\n"
     ]
    }
   ],
   "source": [
    "# 186\n",
    "# 리스트에 저장된 데이터를 아래와 같이 출력하라.\n",
    "\n",
    "apart = [ [101, 102], [201, 202], [301, 302] ]\n",
    "\n",
    "# 301 호\n",
    "# 302 호\n",
    "# 201 호\n",
    "# 202 호\n",
    "# 101 호\n",
    "# 102 호\n",
    "\n",
    "for i in apart[::-1]:\n",
    "    for j in i:\n",
    "        print(j,'호')"
   ]
  },
  {
   "cell_type": "code",
   "execution_count": 51,
   "id": "a0bb68cc-1c49-4b77-89fe-6aafebe18ed7",
   "metadata": {},
   "outputs": [
    {
     "name": "stdout",
     "output_type": "stream",
     "text": [
      "302\n",
      "301\n",
      "202\n",
      "201\n",
      "102\n",
      "101\n"
     ]
    }
   ],
   "source": [
    "# 187\n",
    "# 리스트에 저장된 데이터를 아래와 같이 출력하라.\n",
    "\n",
    "apart = [ [101, 102], [201, 202], [301, 302] ]\n",
    "\n",
    "# 302 호\n",
    "# 301 호\n",
    "# 202 호\n",
    "# 201 호\n",
    "# 102 호\n",
    "# 101 호\n",
    "\n",
    "for i in apart[::-1]:\n",
    "    for j in i[::-1]:\n",
    "        print(j)"
   ]
  },
  {
   "cell_type": "code",
   "execution_count": 57,
   "id": "59a6b7be-945b-4574-964e-ba9637bbfd5a",
   "metadata": {},
   "outputs": [
    {
     "name": "stdout",
     "output_type": "stream",
     "text": [
      "100\n",
      "190\n",
      "310\n"
     ]
    }
   ],
   "source": [
    "# 195\n",
    "# ohlc 리스트에는 시가(open), 고가 (high), 저가 (low) , 종가(close)가 날짜별로 저장돼 있다. 화면에 종가데이터를 출력하라.\n",
    "\n",
    "ohlc = [[\"open\", \"high\", \"low\", \"close\"],\n",
    "        [100, 110, 70, 100],\n",
    "        [200, 210, 180, 190],\n",
    "        [300, 310, 300, 310]]\n",
    "\n",
    "for i in ohlc[1:]:\n",
    "    print(i[3])"
   ]
  },
  {
   "cell_type": "code",
   "execution_count": 60,
   "id": "bb5bed56-6a21-425a-b42a-5cce64726ac9",
   "metadata": {},
   "outputs": [
    {
     "name": "stdout",
     "output_type": "stream",
     "text": [
      "[40, 30, 10]\n"
     ]
    }
   ],
   "source": [
    "# 198\n",
    "# ohlc 리스트에는 시가(open), 고가 (high), 저가 (low) , 종가(close)가 날짜별로 저장돼 있다. \n",
    "# 고가와 저가의 차이를 변동폭으로 정의할 때 변동폭을 volatility 이름의 리스트에 저장하라.\n",
    "\n",
    "ohlc = [[\"open\", \"high\", \"low\", \"close\"],\n",
    "        [100, 110, 70, 100],\n",
    "        [200, 210, 180, 190],\n",
    "        [300, 310, 300, 310]]\n",
    "\n",
    "volatility=[]\n",
    "for i in ohlc[1:]:\n",
    "    volatility.append(i[1]-i[2])\n",
    "    \n",
    "print(volatility)"
   ]
  },
  {
   "cell_type": "code",
   "execution_count": 62,
   "id": "04d64cbc-01ad-47a4-88de-6912c98dbfc6",
   "metadata": {},
   "outputs": [
    {
     "name": "stdout",
     "output_type": "stream",
     "text": [
      "비트코인\n"
     ]
    }
   ],
   "source": [
    "# 201\n",
    "# \"비트코인\" 문자열을 화면에 출력하는 print_coin() 함수를 정의하라.\n",
    "\n",
    "def print_coin():\n",
    "    print('비트코인')\n",
    "    \n",
    "print_coin()"
   ]
  },
  {
   "cell_type": "code",
   "execution_count": 64,
   "id": "3f9c30a8-a170-4245-84b8-ca9454780ce2",
   "metadata": {},
   "outputs": [
    {
     "name": "stdout",
     "output_type": "stream",
     "text": [
      "nohtyp\n"
     ]
    }
   ],
   "source": [
    "# 221\n",
    "# 입력된 문자열을 역순으로 출력하는 print_reverse 함수를 정의하라.\n",
    "\n",
    "def print_reverse(word):\n",
    "    print(word[::-1])\n",
    "\n",
    "print_reverse(\"python\")\n"
   ]
  },
  {
   "cell_type": "code",
   "execution_count": 66,
   "id": "a3c59607-0c0d-4ed3-9480-30e7bff5f756",
   "metadata": {},
   "outputs": [
    {
     "name": "stdout",
     "output_type": "stream",
     "text": [
      "2\n",
      "10\n",
      "12\n"
     ]
    }
   ],
   "source": [
    "# 223\n",
    "# 하나의 리스트를 입력받아 짝수만 화면에 출력하는 print_even 함수를 정의하라.\n",
    "\n",
    "def print_even(list):\n",
    "    for i in list:\n",
    "        if i%2 == 0:\n",
    "            print(i)\n",
    "\n",
    "print_even ([1, 3, 2, 10, 12, 11, 15])"
   ]
  },
  {
   "cell_type": "code",
   "execution_count": 68,
   "id": "59006668-ab79-4b55-805a-38b8a69c8fe9",
   "metadata": {},
   "outputs": [
    {
     "name": "stdout",
     "output_type": "stream",
     "text": [
      "[100, 130, 100, 100]\n"
     ]
    }
   ],
   "source": [
    "# 225\n",
    "# my_dict에는 날짜를 키값으로 OHLC가 리스트로 저장돼 있다.\n",
    "\n",
    "my_dict = {\"10/26\" : [100, 130, 100, 100],\n",
    "           \"10/27\" : [10, 12, 10, 11]}\n",
    "\n",
    "# my_dict와 날짜 키값을 입력받아 OHLC 리스트를 출력하는 print_value_by_key 함수를 정의하라.\n",
    "\n",
    "def print_value_by_key(dic,key):\n",
    "    print(dic[key])\n",
    "print_value_by_key (my_dict, \"10/26\")"
   ]
  },
  {
   "cell_type": "code",
   "execution_count": 89,
   "id": "90185fda-b786-44da-b821-77e0f700f832",
   "metadata": {},
   "outputs": [
    {
     "name": "stdout",
     "output_type": "stream",
     "text": [
      "아이엠\n",
      "0 3\n",
      "어보이\n",
      "3 6\n",
      "유알어\n",
      "6 9\n",
      "걸\n",
      "9 12\n"
     ]
    }
   ],
   "source": [
    "# 227\n",
    "# 문자열과 한줄에 출력될 글자 수를 입력을 받아 한 줄에 입력된 글자 수만큼 출력하는 print_mxn(string) 함수를 작성하라.\n",
    "\n",
    "def printmxn(word, num):\n",
    "    check = len(word) // num\n",
    "    for i in range(check+1):\n",
    "        print(word[i*check:i*check+check])\n",
    "       \n",
    "printmxn(\"아이엠어보이유알어걸\", 3)"
   ]
  },
  {
   "cell_type": "code",
   "execution_count": 10,
   "id": "22432b32-b16a-4e89-8db7-08b15b7b410d",
   "metadata": {},
   "outputs": [
    {
     "data": {
      "text/plain": [
       "['a', 'b', 'c', 'd']"
      ]
     },
     "execution_count": 10,
     "metadata": {},
     "output_type": "execute_result"
    }
   ],
   "source": [
    "# 233\n",
    "# 문자열을 입력받아 각 문자들로 구성된 리스트로 반환하는 make_list 함수를 정의하라.\n",
    "\n",
    "def make_list(str):\n",
    "    list=[]\n",
    "    for i in str:\n",
    "        list.append(i)\n",
    "    return list\n",
    "\n",
    "make_list(\"abcd\")"
   ]
  },
  {
   "cell_type": "code",
   "execution_count": 11,
   "id": "df4ea841-e184-4431-b4e5-c17814174580",
   "metadata": {},
   "outputs": [
    {
     "name": "stdout",
     "output_type": "stream",
     "text": [
      "<class 'int'> 10\n",
      "<class 'int'> 2\n",
      "<class 'int'> 8\n",
      "<class 'int'> 16\n",
      "\n",
      "<class 'int'> 2\n",
      "<class 'int'> 8\n",
      "<class 'int'> 16\n",
      "--------------------\n",
      "i =  256\n",
      "i =  0b100000000\n",
      "i =  256\n",
      "i =  0o400\n",
      "i =  0x100\n",
      "--------------------\n",
      "i =  111\n",
      "i =  7\n",
      "i =  73\n",
      "i =  273\n",
      "i =  31\n",
      "--------------------\n"
     ]
    }
   ],
   "source": [
    "# 진법 초기화\n",
    "a = 10\n",
    "print(type(a), a)\n",
    "a = 0b10\n",
    "print(type(a), a)\n",
    "a = 0o10\n",
    "print(type(a), a)\n",
    "a = 0x10\n",
    "print(type(a), a)\n",
    "print()\n",
    "a = 0B10\n",
    "print(type(a), a)\n",
    "a = 0O10\n",
    "print(type(a), a)\n",
    "a = 0X10\n",
    "print(type(a), a)\n",
    "print(\"-\"*20)\n",
    "\n",
    "# 출력\n",
    "i = 0x100\n",
    "print(\"i = \", i)\n",
    "print(\"i = \", bin(i))\n",
    "print(\"i = \", int(i))\n",
    "print(\"i = \", oct(i))\n",
    "print(\"i = \", hex(i))\n",
    "print(\"-\"*20)\n",
    "\n",
    "# 문자열을 형변환\n",
    "i = \"111\"\n",
    "print(\"i = \", int(i))\n",
    "print(\"i = \", int(i, 2))\n",
    "print(\"i = \", int(i, 8))\n",
    "print(\"i = \", int(i, 16))\n",
    "print(\"i = \", int(i, 5))\n",
    "print(\"-\"*20)"
   ]
  },
  {
   "cell_type": "code",
   "execution_count": 12,
   "id": "e9736e1f-7374-4ace-abac-c38c811d6798",
   "metadata": {},
   "outputs": [
    {
     "name": "stdout",
     "output_type": "stream",
     "text": [
      "a =  170 : 0b10101010\n",
      "b =  115 : 0b1110011\n",
      "a & b =  34 : 0b100010\n",
      "a | b =  251 : 0b11111011\n",
      "a ^ b =  217 : 0b11011001\n",
      "~a =  -171 : -0b10101011\n",
      "a =  1\n",
      "a =  2\n",
      "a =  4\n",
      "a =  32\n",
      "a =  16\n",
      "a =  8\n",
      "a =  2\n"
     ]
    }
   ],
   "source": [
    "# 비트 연산자(Bitwise Operators)\n",
    "a = 0b10101010\n",
    "b = 0b01110011\n",
    "\n",
    "print('a = ',  a, \":\", bin(a))\n",
    "print('b = ',  b, \":\", bin(b))\n",
    "print('a & b = ',  a & b, \":\", bin(a & b))\n",
    "print('a | b = ',  a | b, \":\", bin(a | b))\n",
    "print('a ^ b = ',  a ^ b, \":\", bin(a ^ b))\n",
    "print('~a = ',  ~a, \":\", bin(~a))\n",
    "\n",
    "a = 0b1\n",
    "print('a = ', a)\n",
    "a = a << 1    # * 2\n",
    "print('a = ', a)\n",
    "a = a << 1    # * 2\n",
    "print('a = ', a)\n",
    "a = a << 3    # * 2**3\n",
    "print('a = ', a)\n",
    "\n",
    "a = a >> 1    # / 2\n",
    "print('a = ', a)\n",
    "a = a >> 1    # / 2\n",
    "print('a = ', a)\n",
    "a = a >> 2    # / 2**2\n",
    "print('a = ', a)"
   ]
  },
  {
   "cell_type": "code",
   "execution_count": 13,
   "id": "d24a34ba-66ab-4a8e-88da-ba1bd95365cc",
   "metadata": {},
   "outputs": [
    {
     "name": "stdout",
     "output_type": "stream",
     "text": [
      "□□□□\n",
      "□■■□\n",
      "□■■□\n",
      "□□□□\n",
      "\n",
      "□□□□\n",
      "■■■■\n",
      "□□□□\n",
      "□□□□\n",
      "\n",
      "□□■□\n",
      "□□■□\n",
      "□□■□\n",
      "□□■□\n",
      "\n",
      "□■■□\n",
      "□□■□\n",
      "□□■□\n",
      "□□□□\n",
      "\n",
      "□■□□\n",
      "□■□□\n",
      "□■■□\n",
      "□□□□\n",
      "\n",
      "□■□□\n",
      "□■■□\n",
      "□■□□\n",
      "□□□□\n",
      "\n",
      "□■■■\n",
      "□□■□\n",
      "□□□□\n",
      "□□□□\n",
      "\n",
      "□■■□\n",
      "□□■■\n",
      "□□□□\n",
      "□□□□\n",
      "\n",
      "□■□□\n",
      "□■■□\n",
      "□□■□\n",
      "□□□□\n",
      "\n"
     ]
    }
   ],
   "source": [
    "# 테트리스 벽돌을 출력해보자\n",
    "brick = (0x0660, 0x0F00, 0x2222, 0x6220, 0x4460, 0x4640, 0x7200, 0x6300,0x4620)\n",
    "for i in brick:\n",
    "    mask = 0b1000000000000000\n",
    "    for j in range(0,16):\n",
    "        print('■' if (mask & i) == mask else '□', end='')\n",
    "        if (j+1)%4==0:\n",
    "            print()\n",
    "        mask >>= 1\n",
    "    print()"
   ]
  },
  {
   "cell_type": "markdown",
   "id": "50c6f6c9-34f2-44fc-a45b-ad561fb0068a",
   "metadata": {},
   "source": [
    "```\n",
    "2-1 \"실습\" 사칙연산 입력받아 계산하기\n",
    "아래 같은 입력을 받아 사칙연산을 하는 프로그램을 작성하시오.\n",
    "\n",
    "기능 선택 \n",
    "1. 더하기 \n",
    "2. 빼기 \n",
    "3. 곱하기 \n",
    "4. 나누기 \n",
    "\n",
    "계산기 기능을 선택하세요(1/2/3/4): 3 \n",
    "첫 번째 숫자를 입력하세요: 5 \n",
    "두 번째 숫자를 입력하세요: 10 \n",
    "5 * 10 = 50\n",
    "```"
   ]
  },
  {
   "cell_type": "code",
   "execution_count": 12,
   "id": "fd3bc6b3-bbe5-44d1-b7b9-0089cd34ae16",
   "metadata": {},
   "outputs": [
    {
     "name": "stdin",
     "output_type": "stream",
     "text": [
      "'계산기 기능을 선택하세요(1/2/3/4)' :  3\n",
      "첫 번째 숫자를 입력하세요:  5\n",
      "두 번째 숫자를 입력하세요:  10\n"
     ]
    },
    {
     "name": "stdout",
     "output_type": "stream",
     "text": [
      "5 * 10 = 50\n"
     ]
    }
   ],
   "source": [
    "select_num = int(input(\"'계산기 기능을 선택하세요(1/2/3/4)' : \"))\n",
    "n1 = int(input(\"첫 번째 숫자를 입력하세요: \"))\n",
    "n2 = int(input(\"두 번째 숫자를 입력하세요: \"))\n",
    "\n",
    "\n",
    "if select_num == 1:\n",
    "    result = n1 + n2 \n",
    "    symbol = '+'\n",
    "elif select_num == 2:\n",
    "    result = n1 - n2 \n",
    "    symbol = '-'\n",
    "elif select_num == 3:\n",
    "    result = n1 * n2\n",
    "    symbol = '*'\n",
    "elif select_num == 4:\n",
    "    result = n1 / n2\n",
    "    symbol = '/'\n",
    "else:\n",
    "    print(\"숫자를 다시 입력해주세요\")\n",
    "    \n",
    "print(f\"{n1} {symbol} {n2} = {result}\")   "
   ]
  },
  {
   "cell_type": "markdown",
   "id": "85378672-1de9-4e3a-ae35-5558edef23ab",
   "metadata": {
    "tags": []
   },
   "source": [
    "\n",
    " - 단 이름, 학교, 나이를 `list` 에 저장해 사용한다.\n",
    "\n",
    "```\n",
    "2-2 \"실습\" 아래 같이 이름, 학교, 나이를 입력받아 출력하도록 프로그래밍하세요.\n",
    "\n",
    "이름을 말해주세요?\n",
    " 홍길동\n",
    "어떤 학교에 다니고 있어?: \n",
    " 서울고등학교\n",
    "몇 살 이야??\n",
    " 18\n",
    "\n",
    "안녕 홍길동 야!\n",
    "너는 서울고등학교 학교에 다니는 구나\n",
    "그리고 너는 18살 이구나.\n",
    "와우! 대입 수능을 잘 보길 바래\n",
    "\n",
    "```"
   ]
  },
  {
   "cell_type": "code",
   "execution_count": 15,
   "id": "5c29c51a-690c-4358-9ff0-da69876f631c",
   "metadata": {},
   "outputs": [
    {
     "name": "stdout",
     "output_type": "stream",
     "text": [
      "이름을 말해주세요?\n"
     ]
    },
    {
     "name": "stdin",
     "output_type": "stream",
     "text": [
      " 홍길동\n"
     ]
    },
    {
     "name": "stdout",
     "output_type": "stream",
     "text": [
      "어떤 학교에 다니고 있어?:\n"
     ]
    },
    {
     "name": "stdin",
     "output_type": "stream",
     "text": [
      " 서울과학고\n"
     ]
    },
    {
     "name": "stdout",
     "output_type": "stream",
     "text": [
      "몇 살 이야??\n"
     ]
    },
    {
     "name": "stdin",
     "output_type": "stream",
     "text": [
      " 23\n"
     ]
    },
    {
     "name": "stdout",
     "output_type": "stream",
     "text": [
      "\n",
      "안녕 홍길동 야\n",
      "너는 서울과학고 학교에 다니는 구나\n",
      "그리고 너는 23 이구나\n"
     ]
    }
   ],
   "source": [
    "print(\"이름을 말해주세요?\")\n",
    "name = input()\n",
    "print(\"어떤 학교에 다니고 있어?:\")\n",
    "highschool = input()\n",
    "print(\"몇 살 이야??\")\n",
    "old = int(input())\n",
    "\n",
    "print(\"\")\n",
    "list = [name,highschool,old]\n",
    "\n",
    "print(f\"안녕 {list[0]} 야\")\n",
    "print(f\"너는 {list[1]} 학교에 다니는 구나\")\n",
    "print(f\"그리고 너는 {list[2]} 이구나\")\n",
    "if old == 18: \n",
    "    print(f\"와우! 대입 수능을 잘 보길 바래\")"
   ]
  }
 ],
 "metadata": {
  "kernelspec": {
   "display_name": "Python 3 (ipykernel)",
   "language": "python",
   "name": "python3"
  },
  "language_info": {
   "codemirror_mode": {
    "name": "ipython",
    "version": 3
   },
   "file_extension": ".py",
   "mimetype": "text/x-python",
   "name": "python",
   "nbconvert_exporter": "python",
   "pygments_lexer": "ipython3",
   "version": "3.10.9"
  }
 },
 "nbformat": 4,
 "nbformat_minor": 5
}
