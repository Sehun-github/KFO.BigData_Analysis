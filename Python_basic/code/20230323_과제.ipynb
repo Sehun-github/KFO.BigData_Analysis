{
 "cells": [
  {
   "cell_type": "markdown",
   "id": "6c4d2abe-5c9a-4e8e-b064-a95cf501960b",
   "metadata": {},
   "source": [
    "### - 영화랭킹의 날짜별 페이지 파싱을 날짜를 입력받아 완성하세요.\n",
    "\n",
    "* 날짜를 입력받아 해당 페이지 파싱\n",
    "* 함수 사용 권장. 예) download_naver_movie('2023-03-10')"
   ]
  },
  {
   "cell_type": "code",
   "execution_count": 64,
   "id": "f207461b-dba2-44c1-83e2-dfa7375190a6",
   "metadata": {},
   "outputs": [],
   "source": [
    "def download_naver_movie(day:int,movie_rank:list):\n",
    "    dict_movie = {day : movie_rank}\n",
    "    return dict_movie"
   ]
  },
  {
   "cell_type": "code",
   "execution_count": 65,
   "id": "b5831bfc-f09c-4c7d-8034-3d27e1ba7df7",
   "metadata": {},
   "outputs": [
    {
     "name": "stdin",
     "output_type": "stream",
     "text": [
      "날짜를 입력하세요:  20200323\n"
     ]
    }
   ],
   "source": [
    "# 날짜를 입력받아 {날짜:[상영랭킹]} print\n",
    "from bs4 import BeautifulSoup\n",
    "import requests\n",
    "\n",
    "num = input('날짜를 입력하세요: ')\n",
    "\n",
    "url = f'https://movie.naver.com/movie/sdb/rank/rmovie.naver?sel=cnt&tg=0&date={num}'\n",
    "response = requests.get(url)\n",
    "soup = BeautifulSoup(response.text, 'lxml')\n",
    "\n",
    "t = soup.find_all('td', class_='title')\n",
    "movie_list = []\n",
    "for i in range(len(t)):\n",
    "    movie_list.append(t[i].find('a').string)\n",
    "    \n",
    "movie_rank = download_naver_movie(num,movie_list)"
   ]
  },
  {
   "cell_type": "code",
   "execution_count": 66,
   "id": "e5d53f5d-2e85-4717-93d5-0242ab616b6c",
   "metadata": {},
   "outputs": [
    {
     "name": "stdout",
     "output_type": "stream",
     "text": [
      "2020년 03월 23일 영화순위\n",
      "  1위 : 인비저블맨\n",
      "  2위 : 다크 워터스\n",
      "  3위 : 1917\n",
      "  4위 : 지푸라기라도 잡고 싶은 짐승들\n",
      "  5위 : 사랑하고 있습니까\n",
      "  6위 : 작은 아씨들\n",
      "  7위 : 사냥의 시간\n",
      "  8위 : 정직한 후보\n",
      "  9위 : 세인트 아가타\n",
      " 10위 : 일진 나쁜녀석들\n",
      " 11위 : 울프 콜\n",
      " 12위 : 비행\n",
      " 13위 : 악몽\n",
      " 14위 : 스타 이즈 본\n",
      " 15위 : 스타워즈: 라이즈 오브 스카이워커\n",
      " 16위 : 국제수사\n",
      " 17위 : 찬실이는 복도 많지\n",
      " 18위 : 더 보이 2: 돌아온 브람스\n",
      " 19위 : 스케어리 스토리: 어둠의 속삭임\n",
      " 20위 : 시호\n",
      " 21위 : 클로젯\n",
      " 22위 : 슬럼독 밀리어네어\n",
      " 23위 : 시원찮은 그녀를 위한 육성방법 피날레\n",
      " 24위 : 기생충\n",
      " 25위 : 용길이네 곱창집\n",
      " 26위 : 존 윅\n",
      " 27위 : 컨테이젼\n",
      " 28위 : 치즈인더트랩\n",
      " 29위 : 마녀\n",
      " 30위 : 주디\n",
      " 31위 : 엽문4: 더 파이널\n",
      " 32위 : 그린 북\n",
      " 33위 : 파라다이스 힐스\n",
      " 34위 : 반도\n",
      " 35위 : 시동\n",
      " 36위 : 젠틀맨\n",
      " 37위 : 히트맨\n",
      " 38위 : 우아한 거짓말\n",
      " 39위 : 버즈 오브 프레이(할리 퀸의 황홀한 해방)\n",
      " 40위 : 스킨\n",
      " 41위 : 테이큰\n",
      " 42위 : 공수도\n",
      " 43위 : 작가 미상\n",
      " 44위 : 콰이어트 플레이스 2\n",
      " 45위 : 남산의 부장들\n",
      " 46위 : 분노의 질주: 더 익스트림\n",
      " 47위 : 불한당: 나쁜 놈들의 세상\n",
      " 48위 : 나이브스 아웃\n",
      " 49위 : 그랜드 부다페스트 호텔\n",
      " 50위 : 광대들: 풍문조작단\n"
     ]
    }
   ],
   "source": [
    "# 순위 나타내기\n",
    "import datetime\n",
    "\n",
    "rank = 1\n",
    "for k,v in movie_rank.items():\n",
    "    \n",
    "    print(f'{k[:4]}년 {k[4:6]}월 {k[6:]}일 영화순위')\n",
    "    for i in v:\n",
    "        print(f\"{rank:3}위 : {i}\")\n",
    "        rank+=1\n"
   ]
  },
  {
   "cell_type": "code",
   "execution_count": null,
   "id": "be59020a-d0d2-4c4f-bd77-259f2d055ed1",
   "metadata": {},
   "outputs": [],
   "source": []
  }
 ],
 "metadata": {
  "kernelspec": {
   "display_name": "Python 3 (ipykernel)",
   "language": "python",
   "name": "python3"
  },
  "language_info": {
   "codemirror_mode": {
    "name": "ipython",
    "version": 3
   },
   "file_extension": ".py",
   "mimetype": "text/x-python",
   "name": "python",
   "nbconvert_exporter": "python",
   "pygments_lexer": "ipython3",
   "version": "3.10.9"
  }
 },
 "nbformat": 4,
 "nbformat_minor": 5
}
