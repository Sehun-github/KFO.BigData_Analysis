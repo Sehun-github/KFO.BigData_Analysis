{
 "cells": [
  {
   "cell_type": "markdown",
   "metadata": {},
   "source": [
    "# Getting Started Python (2/2)"
   ]
  },
  {
   "cell_type": "markdown",
   "metadata": {},
   "source": [
    "# 객체의 참조와 복사\n",
    "\n",
    "스칼라 값과 객체의 차이를 살펴보자.\n",
    " - id() 함수를 이용하면 객체의 주소를 식별할 수 있다.\n"
   ]
  },
  {
   "cell_type": "code",
   "execution_count": 4,
   "metadata": {},
   "outputs": [
    {
     "data": {
      "text/plain": [
       "('0x1ebc3120210', '0x1ebc3120210')"
      ]
     },
     "execution_count": 4,
     "metadata": {},
     "output_type": "execute_result"
    }
   ],
   "source": [
    "# 숫자 리터럴 (스칼라 값)\n",
    "i1 = 10\n",
    "i2 = 10\n",
    "\n",
    "hex(id(i1)), hex(id(i2))"
   ]
  },
  {
   "cell_type": "code",
   "execution_count": 5,
   "metadata": {},
   "outputs": [
    {
     "data": {
      "text/plain": [
       "True"
      ]
     },
     "execution_count": 5,
     "metadata": {},
     "output_type": "execute_result"
    }
   ],
   "source": [
    "i1 is i2"
   ]
  },
  {
   "cell_type": "code",
   "execution_count": null,
   "metadata": {},
   "outputs": [],
   "source": [
    "# 객체\n",
    "l1 = [1, 2, 3]\n",
    "l2 = [1, 2, 3]\n",
    "\n",
    "hex(id(l1)), hex(id(l2))"
   ]
  },
  {
   "cell_type": "code",
   "execution_count": null,
   "metadata": {},
   "outputs": [],
   "source": [
    "l1 is l2"
   ]
  },
  {
   "cell_type": "code",
   "execution_count": 2,
   "metadata": {},
   "outputs": [
    {
     "data": {
      "text/plain": [
       "('0x1ebc7c68eb0', '0x1ebc7c68eb0')"
      ]
     },
     "execution_count": 2,
     "metadata": {},
     "output_type": "execute_result"
    }
   ],
   "source": [
    "# 문자열 리터럴\n",
    "s1 = 'hello'\n",
    "s2 = 'hello'\n",
    "hex(id(s1)), hex(id(s2))"
   ]
  },
  {
   "cell_type": "code",
   "execution_count": null,
   "metadata": {},
   "outputs": [],
   "source": [
    "s1 is s2"
   ]
  },
  {
   "cell_type": "markdown",
   "metadata": {},
   "source": [
    "### 얕은 복사\n",
    "\n",
    "객체의 복사"
   ]
  },
  {
   "cell_type": "code",
   "execution_count": 10,
   "metadata": {},
   "outputs": [
    {
     "data": {
      "text/plain": [
       "(1, 1)"
      ]
     },
     "execution_count": 10,
     "metadata": {},
     "output_type": "execute_result"
    }
   ],
   "source": [
    "a = 1\n",
    "b = a\n",
    "a, b"
   ]
  },
  {
   "cell_type": "code",
   "execution_count": 11,
   "metadata": {},
   "outputs": [
    {
     "data": {
      "text/plain": [
       "(2112101679344, 2112101679344)"
      ]
     },
     "execution_count": 11,
     "metadata": {},
     "output_type": "execute_result"
    }
   ],
   "source": [
    "id(a), id(b)"
   ]
  },
  {
   "cell_type": "code",
   "execution_count": 12,
   "metadata": {},
   "outputs": [
    {
     "data": {
      "text/plain": [
       "([1, 2, 3], [4, 5, [1, 2, 3]])"
      ]
     },
     "execution_count": 12,
     "metadata": {},
     "output_type": "execute_result"
    }
   ],
   "source": [
    "a = [1, 2, 3]\n",
    "b = [4, 5, a]\n",
    "a, b"
   ]
  },
  {
   "cell_type": "code",
   "execution_count": 13,
   "metadata": {},
   "outputs": [],
   "source": [
    "x = [a, b, 100]\n",
    "y = x"
   ]
  },
  {
   "cell_type": "code",
   "execution_count": 14,
   "metadata": {},
   "outputs": [
    {
     "data": {
      "text/plain": [
       "[[1, 2, 3], [4, 5, [1, 2, 3]], 100]"
      ]
     },
     "execution_count": 14,
     "metadata": {},
     "output_type": "execute_result"
    }
   ],
   "source": [
    "x"
   ]
  },
  {
   "cell_type": "code",
   "execution_count": 15,
   "metadata": {},
   "outputs": [],
   "source": [
    "x = [b, 100]"
   ]
  },
  {
   "cell_type": "code",
   "execution_count": 16,
   "metadata": {},
   "outputs": [
    {
     "data": {
      "text/plain": [
       "[[1, 2, 3], [4, 5, [1, 2, 3]], 100]"
      ]
     },
     "execution_count": 16,
     "metadata": {},
     "output_type": "execute_result"
    }
   ],
   "source": [
    "y"
   ]
  },
  {
   "cell_type": "markdown",
   "metadata": {},
   "source": [
    "### 깊은 복사\n",
    "\n",
    "copy 모듈을 이용한 복사\n",
    "- shallow copy()\n",
    "- deep copy()"
   ]
  },
  {
   "cell_type": "code",
   "execution_count": 6,
   "metadata": {},
   "outputs": [],
   "source": [
    "import copy"
   ]
  },
  {
   "cell_type": "code",
   "execution_count": 22,
   "metadata": {},
   "outputs": [
    {
     "data": {
      "text/plain": [
       "(2112101679632, 2112101679632)"
      ]
     },
     "execution_count": 22,
     "metadata": {},
     "output_type": "execute_result"
    }
   ],
   "source": [
    "i1 = 10\n",
    "\n",
    "a = copy.copy(i1)\n",
    "id(i1), id(a)"
   ]
  },
  {
   "cell_type": "code",
   "execution_count": 23,
   "metadata": {},
   "outputs": [
    {
     "data": {
      "text/plain": [
       "(2112101679632, 2112101679632)"
      ]
     },
     "execution_count": 23,
     "metadata": {},
     "output_type": "execute_result"
    }
   ],
   "source": [
    "i1 = 10\n",
    "\n",
    "a = copy.deepcopy(i1)\n",
    "id(i1), id(a)"
   ]
  },
  {
   "cell_type": "code",
   "execution_count": 6,
   "metadata": {},
   "outputs": [],
   "source": [
    "a = [1, 2, 3]\n",
    "b = [4, 5, a]\n",
    "x = [a, b, 100]\n",
    "y = copy.deepcopy(x)"
   ]
  },
  {
   "cell_type": "code",
   "execution_count": 7,
   "metadata": {},
   "outputs": [
    {
     "data": {
      "text/plain": [
       "[[1, 2, 3], [4, 5, [1, 2, 3]], 100]"
      ]
     },
     "execution_count": 7,
     "metadata": {},
     "output_type": "execute_result"
    }
   ],
   "source": [
    "x"
   ]
  },
  {
   "cell_type": "code",
   "execution_count": 8,
   "metadata": {},
   "outputs": [],
   "source": [
    "x = [b, 100]"
   ]
  },
  {
   "cell_type": "code",
   "execution_count": 9,
   "metadata": {},
   "outputs": [
    {
     "data": {
      "text/plain": [
       "[[1, 2, 3], [4, 5, [1, 2, 3]], 100]"
      ]
     },
     "execution_count": 9,
     "metadata": {},
     "output_type": "execute_result"
    }
   ],
   "source": [
    "y"
   ]
  },
  {
   "cell_type": "markdown",
   "metadata": {},
   "source": [
    ">"
   ]
  },
  {
   "cell_type": "markdown",
   "metadata": {},
   "source": [
    ">"
   ]
  },
  {
   "cell_type": "markdown",
   "metadata": {},
   "source": [
    "#  Error와 Exception\n",
    "\n",
    "* 발생할 수 있는 오류와 예외처리를 확인해봅시다.\n",
    "\n",
    "1. Exception\n",
    "1. [Assertion](#assert)\n",
    "\n",
    "## 문법 에러(Syntax Error)\n",
    "\n",
    "* 가장 많이 만날 수 있는 에러로 발생한 `파일 이름`과 `줄`, `^`을 통해 파이썬이 읽어 들일 때(parser)의 문제 발생 위치를 표현한다."
   ]
  },
  {
   "cell_type": "code",
   "execution_count": 24,
   "metadata": {},
   "outputs": [
    {
     "ename": "SyntaxError",
     "evalue": "expected ':' (1845495759.py, line 2)",
     "output_type": "error",
     "traceback": [
      "\u001b[1;36m  Cell \u001b[1;32mIn[24], line 2\u001b[1;36m\u001b[0m\n\u001b[1;33m    if 10 > 20\u001b[0m\n\u001b[1;37m              ^\u001b[0m\n\u001b[1;31mSyntaxError\u001b[0m\u001b[1;31m:\u001b[0m expected ':'\n"
     ]
    }
   ],
   "source": [
    "# if문을 통해 발생시켜봅시다!\n",
    "if 10 > 20"
   ]
  },
  {
   "cell_type": "code",
   "execution_count": null,
   "metadata": {},
   "outputs": [],
   "source": [
    "# NameError\n",
    "print(EOL)"
   ]
  },
  {
   "cell_type": "markdown",
   "metadata": {},
   "source": [
    "## 예외 (Exceptions)\n",
    "\n",
    "* 문법이나 표현식이 바르게 되어있지만, **실행시 발생하는 에러**입니다.\n",
    "* 아래 제시된 모든 에러는 Exception을 상속받아 이뤄집니다.\n"
   ]
  },
  {
   "cell_type": "markdown",
   "metadata": {},
   "source": [
    "1. list의 크기 이상의 index를 만났을때 => IndexError\n",
    "\n",
    "```python\n",
    "num = [1,2,3]\n",
    "num[3]\n",
    "```\n",
    "\n",
    "2. 부적합한 타입으로 변환할때 => TypeError\n",
    "\n",
    "```python\n",
    "int(test)\n",
    "```\n",
    "\n",
    "3. 존재하지 않는 변수를 읽을때(참조할때) => NameError\n",
    "\n",
    "```python\n",
    "kqi\n",
    "```\n",
    "\n",
    "4. 데이터 타입이 맞지 않을때 => TypeError\n",
    "\n",
    "```python\n",
    "'a'/4\n",
    "```"
   ]
  },
  {
   "cell_type": "code",
   "execution_count": 25,
   "metadata": {},
   "outputs": [
    {
     "ename": "ZeroDivisionError",
     "evalue": "division by zero",
     "output_type": "error",
     "traceback": [
      "\u001b[1;31m---------------------------------------------------------------------------\u001b[0m",
      "\u001b[1;31mZeroDivisionError\u001b[0m                         Traceback (most recent call last)",
      "Cell \u001b[1;32mIn[25], line 2\u001b[0m\n\u001b[0;32m      1\u001b[0m \u001b[38;5;66;03m# ZeroDivisionError를 확인해봅시다.\u001b[39;00m\n\u001b[1;32m----> 2\u001b[0m \u001b[38;5;241;43m10\u001b[39;49m\u001b[43m \u001b[49m\u001b[38;5;241;43m/\u001b[39;49m\u001b[43m \u001b[49m\u001b[38;5;241;43m0\u001b[39;49m\n",
      "\u001b[1;31mZeroDivisionError\u001b[0m: division by zero"
     ]
    }
   ],
   "source": [
    "# ZeroDivisionError를 확인해봅시다.\n",
    "10 / 0\n",
    "\n",
    "# 0으로 나눌 수는 없죠!"
   ]
  },
  {
   "cell_type": "markdown",
   "metadata": {},
   "source": [
    "## 예외 처리\n",
    "\n",
    "`try` 구문을 이용하여 예외 처리를 할 수 있습니다.\n",
    "\n",
    "기본은 다음과 같은 구조를 가지고 있습니다.\n",
    "\n",
    "```python\n",
    "try:\n",
    "    codeblock1\n",
    "except 예외:\n",
    "    codeblock2\n",
    "```\n",
    "\n",
    "* `try`절이 실행됩니다. \n",
    "* 예외가 발생되지 않으면, `except`없이 실행이 종료가 됩니다.\n",
    "* 예외가 중간에 발생하면, 남은 부분을 수행하지 않고, `except`가 실행됩니다."
   ]
  },
  {
   "cell_type": "markdown",
   "metadata": {},
   "source": [
    "### `try ... except: ...` 구문\n",
    "\n",
    "```python\n",
    "try:\n",
    "   ...\n",
    "except [발생오류[as 오류변수]]:\n",
    "   ...\n",
    "```"
   ]
  },
  {
   "cell_type": "code",
   "execution_count": 31,
   "metadata": {},
   "outputs": [
    {
     "name": "stdout",
     "output_type": "stream",
     "text": [
      "divide by zero\n"
     ]
    }
   ],
   "source": [
    "try:\n",
    "    test\n",
    "    4 / 0\n",
    "except:\n",
    "    print(\"divide by zero\")"
   ]
  },
  {
   "cell_type": "code",
   "execution_count": 29,
   "metadata": {},
   "outputs": [
    {
     "name": "stdout",
     "output_type": "stream",
     "text": [
      "OK\n"
     ]
    }
   ],
   "source": [
    "try:\n",
    "    4 /0\n",
    "except ZeroDivisionError:\n",
    "    print('OK')"
   ]
  },
  {
   "cell_type": "code",
   "execution_count": null,
   "metadata": {},
   "outputs": [],
   "source": [
    "try:\n",
    "    4 / 0\n",
    "except ZeroDivisionError:\n",
    "    print(\"divide by zero\")"
   ]
  },
  {
   "cell_type": "code",
   "execution_count": null,
   "metadata": {},
   "outputs": [],
   "source": [
    "try:\n",
    "    abc\n",
    "    4 / 0\n",
    "except ZeroDivisionError:\n",
    "    print(e)"
   ]
  },
  {
   "cell_type": "markdown",
   "metadata": {},
   "source": [
    "여러 예외를 제시하면 된다."
   ]
  },
  {
   "cell_type": "code",
   "execution_count": 33,
   "metadata": {},
   "outputs": [
    {
     "name": "stdout",
     "output_type": "stream",
     "text": [
      "division by zero\n"
     ]
    }
   ],
   "source": [
    "try:\n",
    "    4 / 0\n",
    "except (ZeroDivisionError, NameError) as e:\n",
    "    print(e)"
   ]
  },
  {
   "cell_type": "markdown",
   "metadata": {},
   "source": [
    "### `try ... except: ... else` 구문\n",
    "\n",
    "\n",
    "* 에러가 발생하지 않는 경우 수행되는 문장은 `else`를 이용합니다.\n",
    "\n",
    "```python\n",
    "try:\n",
    "    codeblock1\n",
    "except 예외:\n",
    "    codeblock2\n",
    "else:\n",
    "    codeblock3\n",
    "```"
   ]
  },
  {
   "cell_type": "code",
   "execution_count": 28,
   "metadata": {},
   "outputs": [
    {
     "name": "stdout",
     "output_type": "stream",
     "text": [
      "division by zero\n"
     ]
    }
   ],
   "source": [
    "try:\n",
    "    4 / 0\n",
    "except ZeroDivisionError as e:\n",
    "    print(e)\n",
    "else:\n",
    "    print('end')"
   ]
  },
  {
   "cell_type": "markdown",
   "metadata": {},
   "source": [
    "### `try...except...finally` \n",
    "\n",
    "예외 발생 여부와 관계없이 마지막에 항상 수행된다. 보통 시스템 리소스를 close 해야 할 때 많이 사용한다.\n",
    " -  반드시 수행해야하는 문장은 `finally`\n",
    "\n",
    "```python\n",
    "try:\n",
    "    pass\n",
    "except 예외:\n",
    "    pass\n",
    "finally:\n",
    "    pass\n",
    "```"
   ]
  },
  {
   "cell_type": "code",
   "execution_count": 70,
   "metadata": {},
   "outputs": [
    {
     "name": "stdout",
     "output_type": "stream",
     "text": [
      "division by zero\n",
      "end\n"
     ]
    }
   ],
   "source": [
    "try:\n",
    "    4 / 0\n",
    "except ZeroDivisionError as e:\n",
    "    print(e)\n",
    "finally:\n",
    "    print('end')"
   ]
  },
  {
   "cell_type": "markdown",
   "metadata": {},
   "source": [
    "# 명령행 인자\n",
    "\n",
    "sys 모듈을 사용해서 명령행 인자를 처리한다."
   ]
  },
  {
   "cell_type": "markdown",
   "metadata": {},
   "source": [
    "## sys 모듈\n",
    "\n",
    " - https://docs.python.org/ko/3/library/sys.html\n",
    "\n",
    "\n",
    "1. sys.argv 를 사용해 매개변수 처리\n",
    "1. sys.stdin 을 사용해 입력\n",
    "    - stdin.readline()\n",
    "    - stdin.readlines()\n"
   ]
  },
  {
   "cell_type": "markdown",
   "metadata": {},
   "source": [
    "#### sys.argv"
   ]
  },
  {
   "cell_type": "markdown",
   "metadata": {},
   "source": [
    "```python\n",
    "import sys\n",
    "\n",
    "print( \"Len: %d\" % len(sys.argv))\n",
    "print( sys.argv[0]) # Execution\n",
    "print( sys.argv[1])\n",
    "```"
   ]
  },
  {
   "cell_type": "code",
   "execution_count": 73,
   "metadata": {},
   "outputs": [
    {
     "name": "stdout",
     "output_type": "stream",
     "text": [
      "Len: 3\n",
      "C:\\anaconda3\\envs\\Python_basic\\lib\\site-packages\\ipykernel_launcher.py\n",
      "-f\n"
     ]
    }
   ],
   "source": [
    "import sys\n",
    "\n",
    "print( \"Len: %d\" % len(sys.argv))\n",
    "print( sys.argv[0]) # Execution\n",
    "print( sys.argv[1])"
   ]
  },
  {
   "cell_type": "code",
   "execution_count": 74,
   "metadata": {},
   "outputs": [
    {
     "name": "stderr",
     "output_type": "stream",
     "text": [
      "python: can't open file 'c:\\\\Python_basic\\\\samples\\\\6-argv-test.py': [Errno 2] No such file or directory\n"
     ]
    }
   ],
   "source": [
    "!python samples/6-argv-test.py te tttt sddd"
   ]
  },
  {
   "cell_type": "markdown",
   "metadata": {},
   "source": [
    "# 외부 입력\n",
    "\n",
    "- 스크립트에서는 `sys.stdin` 을 사용\n",
    "- Jupyter notebook 에서는 `input()` 사용"
   ]
  },
  {
   "cell_type": "markdown",
   "metadata": {
    "tags": []
   },
   "source": [
    "## stdin()\n",
    "\n",
    "파이썬 런타임 실행 환경에서 외부 키보드 입력을 처리할 수 있다. "
   ]
  },
  {
   "cell_type": "markdown",
   "metadata": {
    "tags": []
   },
   "source": [
    "### 샘플: 파이썬 파일에 다음같이 작성\n",
    "\n",
    "```python\n",
    "from sys import stdin\n",
    "\n",
    "result = []\n",
    "for line in stdin.readlines():\n",
    "    word_list = line.split()\n",
    "    for _ in range(len(word_list)):\n",
    "        result.append(word_list.pop())\n",
    "\n",
    "print(\"파일의 단어수 {}개\".format(len(result)))\n",
    "```"
   ]
  },
  {
   "cell_type": "code",
   "execution_count": null,
   "metadata": {},
   "outputs": [],
   "source": [
    "%%writefile stdin_test.py\n",
    "from sys import stdin\n",
    "\n",
    "result = []\n",
    "print(\"단어를 입력하고 엔터를 누르세요. 끝내려면 Ctrl-D.\")\n",
    "for line in stdin.readlines():\n",
    "    word_list = line.split()\n",
    "    for _ in range(len(word_list)):\n",
    "        result.append(word_list.pop())\n",
    "\n",
    "print(\"파일의 단어수 {}개\".format(len(result)))"
   ]
  },
  {
   "cell_type": "code",
   "execution_count": 72,
   "metadata": {},
   "outputs": [
    {
     "name": "stdout",
     "output_type": "stream",
     "text": [
      "파일의 단어수 2개\n"
     ]
    }
   ],
   "source": [
    "from sys import stdin\n",
    "\n",
    "result = ['a','b']\n",
    "for line in stdin.readlines():\n",
    "    word_list = line.split()\n",
    "    for _ in range(len(word_list)):\n",
    "        result.append(word_list.pop())\n",
    "\n",
    "print(\"파일의 단어수 {}개\".format(len(result)))"
   ]
  },
  {
   "cell_type": "markdown",
   "metadata": {},
   "source": [
    "아래 쥬피터 노트북에서 실행해 보자."
   ]
  },
  {
   "cell_type": "code",
   "execution_count": null,
   "metadata": {},
   "outputs": [],
   "source": [
    "!python stdin_test.py"
   ]
  },
  {
   "cell_type": "markdown",
   "metadata": {},
   "source": [
    "## `input()`\n",
    "\n",
    "jupyter notebook에서\n",
    " - `raw_input()` (for Python 2) \n",
    " - `input()` (for Python 3) methods.\n",
    "\n",
    "\n",
    "https://pynative.com/python-input-function-get-user-input/\n"
   ]
  },
  {
   "cell_type": "markdown",
   "metadata": {},
   "source": [
    "이름을 입력받는다."
   ]
  },
  {
   "cell_type": "code",
   "execution_count": 1,
   "metadata": {},
   "outputs": [
    {
     "name": "stdin",
     "output_type": "stream",
     "text": [
      "이름을 입력하세요:  임세훈\n"
     ]
    },
    {
     "name": "stdout",
     "output_type": "stream",
     "text": [
      "임세훈\n"
     ]
    }
   ],
   "source": [
    "name = input(\"이름을 입력하세요: \")\n",
    "print(name)"
   ]
  },
  {
   "cell_type": "code",
   "execution_count": null,
   "metadata": {},
   "outputs": [],
   "source": [
    "print(\"이름을 입력하세요: \")\n",
    "name = input()\n",
    "print(name)"
   ]
  },
  {
   "cell_type": "markdown",
   "metadata": {},
   "source": [
    "2개 숫자를 입력받아 사칙연산을 수행한다."
   ]
  },
  {
   "cell_type": "code",
   "execution_count": 2,
   "metadata": {},
   "outputs": [
    {
     "name": "stdout",
     "output_type": "stream",
     "text": [
      "숫자 2개를 입력받아 사칙연산을 수행한다.\n"
     ]
    },
    {
     "name": "stdin",
     "output_type": "stream",
     "text": [
      "숫자1 =  3\n",
      "숫자2 =  5\n"
     ]
    },
    {
     "name": "stdout",
     "output_type": "stream",
     "text": [
      "+ 8\n",
      "- -2\n",
      "* 15\n",
      "/ 0.6\n"
     ]
    }
   ],
   "source": [
    "print(\"숫자 2개를 입력받아 사칙연산을 수행한다.\")\n",
    "num1 = input(\"숫자1 = \")\n",
    "num2 = input(\"숫자2 = \")\n",
    "num1 = int(num1)\n",
    "num2 = int(num2)\n",
    "print(\"+\", num1 + num2)\n",
    "print(\"-\", num1 - num2)\n",
    "print(\"*\", num1 * num2)\n",
    "print(\"/\", num1 / num2)"
   ]
  },
  {
   "cell_type": "markdown",
   "metadata": {},
   "source": [
    "### \"실습\" 사칙연산 입력받아 계산하기\n",
    "\n",
    "아래 같은 입력을 받아 사칙연산을 하는 프로그램을 작성하시오.\n",
    "\n",
    "\n",
    "```\n",
    "기능 선택 \n",
    "1. 더하기 \n",
    "2. 빼기 \n",
    "3. 곱하기 \n",
    "4. 나누기 \n",
    "\n",
    "계산기 기능을 선택하세요(1/2/3/4): 3 \n",
    "첫 번째 숫자를 입력하세요: 5 \n",
    "두 번째 숫자를 입력하세요: 10 \n",
    "5 * 10 = 50\n",
    "```"
   ]
  },
  {
   "cell_type": "code",
   "execution_count": null,
   "metadata": {},
   "outputs": [],
   "source": []
  },
  {
   "cell_type": "code",
   "execution_count": null,
   "metadata": {},
   "outputs": [],
   "source": []
  },
  {
   "cell_type": "markdown",
   "metadata": {},
   "source": [
    "### \"실습\" 아래 같이 이름, 학교, 나이를 입력받아 출력하도록 프로그래밍하세요.\n",
    " - 단 이름, 학교, 나이를 `list` 에 저장해 사용한다.\n",
    "\n",
    "```\n",
    "이름을 말해주세요?\n",
    " 홍길동\n",
    "어떤 학교에 다니고 있어?: \n",
    " 서울고등학교\n",
    "몇 살 이야??\n",
    " 18\n",
    "\n",
    "안녕 홍길동 야!\n",
    "너는 서울고등학교 학교에 다니는 구나\n",
    "그리고 너는 18살 이구나.\n",
    "와우! 대입 수능을 잘 보길 바래\n",
    "\n",
    "```"
   ]
  },
  {
   "cell_type": "code",
   "execution_count": null,
   "metadata": {},
   "outputs": [],
   "source": []
  },
  {
   "cell_type": "markdown",
   "metadata": {
    "tags": []
   },
   "source": [
    "# Future statement\n",
    "\n",
    "future 구문은 컴파일러 지시자로 특정한 모듈이 파이썬 표준으로 릴리즈한 문법, 의미를 사용해 컴파일하게 한다.\n",
    "\n",
    "\n",
    "The future statement is intended to ease migration to future versions of Python that introduce incompatible changes to the language. It allows use of the new features on a per-module basis before the release in which the feature becomes standard.\n",
    "\n",
    "> https://docs.python.org/2/reference/simple_stmts.html#future\n",
    "> https://docs.python.org/3/reference/simple_stmts.html#future\n",
    "\n",
    "python 3.0에서는 The features recognized by Python 3.0 are absolute_import, division, generators, unicode_literals, print_function, nested_scopes and with_statement. \n",
    "\n",
    "import __future__ [as name]\n",
    "\n",
    "코드의 첫번째 줄에 있어야 한다\n",
    "\n",
    "다음은 python 2.6 이전 버전에서 Python3 의 print() 구문을 사용하려면\n",
    "\n",
    "```python\n",
    "from __future__ import print_function\n",
    "\n",
    "import sys, os, time\n",
    "\n",
    "for x in range(0,10):\n",
    "    print(x, sep=' ', end='')  # No need for sep here, but okay :)\n",
    "    time.sleep(1)\n",
    "```\n",
    "\n"
   ]
  },
  {
   "cell_type": "code",
   "execution_count": null,
   "metadata": {},
   "outputs": [],
   "source": []
  }
 ],
 "metadata": {
  "kernelspec": {
   "display_name": "Python 3 (ipykernel)",
   "language": "python",
   "name": "python3"
  },
  "language_info": {
   "codemirror_mode": {
    "name": "ipython",
    "version": 3
   },
   "file_extension": ".py",
   "mimetype": "text/x-python",
   "name": "python",
   "nbconvert_exporter": "python",
   "pygments_lexer": "ipython3",
   "version": "3.10.9"
  }
 },
 "nbformat": 4,
 "nbformat_minor": 4
}
