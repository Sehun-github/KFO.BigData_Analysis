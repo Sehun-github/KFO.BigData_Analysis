{
 "cells": [
  {
   "cell_type": "markdown",
   "id": "382e2e31-dce5-4a42-a35a-1b3bf1cbd897",
   "metadata": {},
   "source": [
    "# 판다스 연습 튜토리얼 20-43 / 100"
   ]
  },
  {
   "cell_type": "markdown",
   "id": "3cd7b7a4-4a1e-4805-9b0c-b41a30c0a6fd",
   "metadata": {},
   "source": [
    "목차 및 구성 출처 : https://github.com/guipsamora/pandas_exercises\n"
   ]
  },
  {
   "cell_type": "code",
   "execution_count": 1,
   "id": "8e7fb41d-bbfa-4a10-bf6c-807b2b015dcf",
   "metadata": {
    "ExecuteTime": {
     "end_time": "2022-02-19T18:22:27.096949Z",
     "start_time": "2022-02-19T18:22:26.651425Z"
    }
   },
   "outputs": [],
   "source": [
    "import pandas as pd"
   ]
  },
  {
   "cell_type": "markdown",
   "id": "2b1cb2a6-713f-4255-9092-6e214a7bd0c6",
   "metadata": {},
   "source": [
    "# 02 Filtering & Sorting"
   ]
  },
  {
   "cell_type": "markdown",
   "id": "efd30375-6bb6-4a83-89a2-6d75e71ca248",
   "metadata": {},
   "source": [
    "## 식당데이터\n",
    " - https://github.com/justmarkham/DAT8/blob/master/data/chipotle.tsv  \n",
    " - data url: 'https://raw.githubusercontent.com/Datamanim/pandas/main/chipo.csv'\n"
   ]
  },
  {
   "cell_type": "markdown",
   "id": "a1206c02-5da7-48a5-a6a1-8466ff0606a6",
   "metadata": {},
   "source": [
    "### Question 20\n",
    "\n",
    "**식당 데이터를 로드하자.**\n"
   ]
  },
  {
   "cell_type": "code",
   "execution_count": 3,
   "id": "3a004867-3991-429e-a8f1-85a7423fddab",
   "metadata": {
    "ExecuteTime": {
     "end_time": "2022-02-19T18:22:28.169580Z",
     "start_time": "2022-02-19T18:22:28.118547Z"
    }
   },
   "outputs": [],
   "source": [
    "url = 'https://raw.githubusercontent.com/Datamanim/pandas/main/chipo.csv'\n",
    "\n",
    "df = pd.read_csv(url)"
   ]
  },
  {
   "cell_type": "code",
   "execution_count": 6,
   "id": "cf22ca96-bc2f-4bd9-a873-3b722e1c3c18",
   "metadata": {
    "tags": []
   },
   "outputs": [
    {
     "data": {
      "text/html": [
       "<div>\n",
       "<style scoped>\n",
       "    .dataframe tbody tr th:only-of-type {\n",
       "        vertical-align: middle;\n",
       "    }\n",
       "\n",
       "    .dataframe tbody tr th {\n",
       "        vertical-align: top;\n",
       "    }\n",
       "\n",
       "    .dataframe thead th {\n",
       "        text-align: right;\n",
       "    }\n",
       "</style>\n",
       "<table border=\"1\" class=\"dataframe\">\n",
       "  <thead>\n",
       "    <tr style=\"text-align: right;\">\n",
       "      <th></th>\n",
       "      <th>order_id</th>\n",
       "      <th>quantity</th>\n",
       "      <th>item_name</th>\n",
       "      <th>choice_description</th>\n",
       "      <th>item_price</th>\n",
       "    </tr>\n",
       "  </thead>\n",
       "  <tbody>\n",
       "    <tr>\n",
       "      <th>0</th>\n",
       "      <td>1</td>\n",
       "      <td>1</td>\n",
       "      <td>Chips and Fresh Tomato Salsa</td>\n",
       "      <td>NaN</td>\n",
       "      <td>$2.39</td>\n",
       "    </tr>\n",
       "    <tr>\n",
       "      <th>1</th>\n",
       "      <td>1</td>\n",
       "      <td>1</td>\n",
       "      <td>Izze</td>\n",
       "      <td>[Clementine]</td>\n",
       "      <td>$3.39</td>\n",
       "    </tr>\n",
       "    <tr>\n",
       "      <th>2</th>\n",
       "      <td>1</td>\n",
       "      <td>1</td>\n",
       "      <td>Nantucket Nectar</td>\n",
       "      <td>[Apple]</td>\n",
       "      <td>$3.39</td>\n",
       "    </tr>\n",
       "    <tr>\n",
       "      <th>3</th>\n",
       "      <td>1</td>\n",
       "      <td>1</td>\n",
       "      <td>Chips and Tomatillo-Green Chili Salsa</td>\n",
       "      <td>NaN</td>\n",
       "      <td>$2.39</td>\n",
       "    </tr>\n",
       "    <tr>\n",
       "      <th>4</th>\n",
       "      <td>2</td>\n",
       "      <td>2</td>\n",
       "      <td>Chicken Bowl</td>\n",
       "      <td>[Tomatillo-Red Chili Salsa (Hot), [Black Beans...</td>\n",
       "      <td>$16.98</td>\n",
       "    </tr>\n",
       "  </tbody>\n",
       "</table>\n",
       "</div>"
      ],
      "text/plain": [
       "   order_id  quantity                              item_name  \\\n",
       "0         1         1           Chips and Fresh Tomato Salsa   \n",
       "1         1         1                                   Izze   \n",
       "2         1         1                       Nantucket Nectar   \n",
       "3         1         1  Chips and Tomatillo-Green Chili Salsa   \n",
       "4         2         2                           Chicken Bowl   \n",
       "\n",
       "                                  choice_description item_price  \n",
       "0                                                NaN     $2.39   \n",
       "1                                       [Clementine]     $3.39   \n",
       "2                                            [Apple]     $3.39   \n",
       "3                                                NaN     $2.39   \n",
       "4  [Tomatillo-Red Chili Salsa (Hot), [Black Beans...    $16.98   "
      ]
     },
     "execution_count": 6,
     "metadata": {},
     "output_type": "execute_result"
    }
   ],
   "source": [
    "df.head()"
   ]
  },
  {
   "cell_type": "markdown",
   "id": "ac7e1f1a-9c1b-48c0-800a-8f65a49fda64",
   "metadata": {},
   "source": [
    "식당 데이터에서 quantity 칼럽의 중복하지 않는 값을 출력해 보자"
   ]
  },
  {
   "cell_type": "code",
   "execution_count": 7,
   "id": "8a8d95bd-f155-467d-a80e-6f0ad4ae4f6e",
   "metadata": {},
   "outputs": [
    {
     "data": {
      "text/plain": [
       "array([ 1,  2,  3,  4,  5, 15,  7,  8, 10], dtype=int64)"
      ]
     },
     "execution_count": 7,
     "metadata": {},
     "output_type": "execute_result"
    }
   ],
   "source": [
    "df['quantity'].unique()"
   ]
  },
  {
   "cell_type": "markdown",
   "id": "70c22a35-d823-4160-bdec-c378b57a58dc",
   "metadata": {},
   "source": [
    "식당 데이터에서 quantity 칼럼의 중복하지 않는 각 값의 개수를 출력해 보자"
   ]
  },
  {
   "cell_type": "code",
   "execution_count": 9,
   "id": "cf094333-7fc6-49f2-8938-c2742a44486c",
   "metadata": {},
   "outputs": [
    {
     "data": {
      "text/plain": [
       "1     4355\n",
       "2      224\n",
       "3       28\n",
       "4       10\n",
       "5        1\n",
       "15       1\n",
       "7        1\n",
       "8        1\n",
       "10       1\n",
       "Name: quantity, dtype: int64"
      ]
     },
     "execution_count": 9,
     "metadata": {},
     "output_type": "execute_result"
    }
   ],
   "source": [
    "df['quantity'].value_counts()"
   ]
  },
  {
   "cell_type": "markdown",
   "id": "d2b3613d-b58f-4e53-9348-32f7c4b3b192",
   "metadata": {},
   "source": [
    "### Question 21\n",
    "\n",
    "**quantity 컬럼 값이 5 보다 크거나 같은 값을 찾아서 결과를 5행만 출력하라**\n"
   ]
  },
  {
   "cell_type": "code",
   "execution_count": 14,
   "id": "18f60f89-a2e3-4292-a474-59abfe405add",
   "metadata": {
    "ExecuteTime": {
     "end_time": "2022-02-19T18:22:28.179428Z",
     "start_time": "2022-02-19T18:22:28.176010Z"
    },
    "tags": [
     "hide-input"
    ]
   },
   "outputs": [
    {
     "data": {
      "text/html": [
       "<div>\n",
       "<style scoped>\n",
       "    .dataframe tbody tr th:only-of-type {\n",
       "        vertical-align: middle;\n",
       "    }\n",
       "\n",
       "    .dataframe tbody tr th {\n",
       "        vertical-align: top;\n",
       "    }\n",
       "\n",
       "    .dataframe thead th {\n",
       "        text-align: right;\n",
       "    }\n",
       "</style>\n",
       "<table border=\"1\" class=\"dataframe\">\n",
       "  <thead>\n",
       "    <tr style=\"text-align: right;\">\n",
       "      <th></th>\n",
       "      <th>order_id</th>\n",
       "      <th>quantity</th>\n",
       "      <th>item_name</th>\n",
       "      <th>choice_description</th>\n",
       "      <th>item_price</th>\n",
       "    </tr>\n",
       "  </thead>\n",
       "  <tbody>\n",
       "    <tr>\n",
       "      <th>2441</th>\n",
       "      <td>970</td>\n",
       "      <td>5</td>\n",
       "      <td>Bottled Water</td>\n",
       "      <td>NaN</td>\n",
       "      <td>$7.50</td>\n",
       "    </tr>\n",
       "    <tr>\n",
       "      <th>3598</th>\n",
       "      <td>1443</td>\n",
       "      <td>15</td>\n",
       "      <td>Chips and Fresh Tomato Salsa</td>\n",
       "      <td>NaN</td>\n",
       "      <td>$44.25</td>\n",
       "    </tr>\n",
       "    <tr>\n",
       "      <th>3599</th>\n",
       "      <td>1443</td>\n",
       "      <td>7</td>\n",
       "      <td>Bottled Water</td>\n",
       "      <td>NaN</td>\n",
       "      <td>$10.50</td>\n",
       "    </tr>\n",
       "    <tr>\n",
       "      <th>3887</th>\n",
       "      <td>1559</td>\n",
       "      <td>8</td>\n",
       "      <td>Side of Chips</td>\n",
       "      <td>NaN</td>\n",
       "      <td>$13.52</td>\n",
       "    </tr>\n",
       "    <tr>\n",
       "      <th>4152</th>\n",
       "      <td>1660</td>\n",
       "      <td>10</td>\n",
       "      <td>Bottled Water</td>\n",
       "      <td>NaN</td>\n",
       "      <td>$15.00</td>\n",
       "    </tr>\n",
       "  </tbody>\n",
       "</table>\n",
       "</div>"
      ],
      "text/plain": [
       "      order_id  quantity                     item_name choice_description  \\\n",
       "2441       970         5                 Bottled Water                NaN   \n",
       "3598      1443        15  Chips and Fresh Tomato Salsa                NaN   \n",
       "3599      1443         7                 Bottled Water                NaN   \n",
       "3887      1559         8                 Side of Chips                NaN   \n",
       "4152      1660        10                 Bottled Water                NaN   \n",
       "\n",
       "     item_price  \n",
       "2441     $7.50   \n",
       "3598    $44.25   \n",
       "3599    $10.50   \n",
       "3887    $13.52   \n",
       "4152    $15.00   "
      ]
     },
     "execution_count": 14,
     "metadata": {},
     "output_type": "execute_result"
    }
   ],
   "source": [
    "df[df['quantity']>=5].head(5)"
   ]
  },
  {
   "cell_type": "markdown",
   "id": "d5eb8bfb-5255-476c-b76b-10b31c45739f",
   "metadata": {},
   "source": [
    "### Question 22\n",
    "**quantity컬럼 값이 3인 데이터를 추출하여 index를 0부터 정렬하고 첫 5행을 출력하라**\n",
    "\n"
   ]
  },
  {
   "cell_type": "code",
   "execution_count": 16,
   "id": "50f6b867-22e5-4d09-bc82-d39d3c772d42",
   "metadata": {
    "ExecuteTime": {
     "end_time": "2022-02-19T18:22:28.193938Z",
     "start_time": "2022-02-19T18:22:28.190836Z"
    },
    "tags": [
     "hide-input"
    ]
   },
   "outputs": [
    {
     "data": {
      "text/html": [
       "<div>\n",
       "<style scoped>\n",
       "    .dataframe tbody tr th:only-of-type {\n",
       "        vertical-align: middle;\n",
       "    }\n",
       "\n",
       "    .dataframe tbody tr th {\n",
       "        vertical-align: top;\n",
       "    }\n",
       "\n",
       "    .dataframe thead th {\n",
       "        text-align: right;\n",
       "    }\n",
       "</style>\n",
       "<table border=\"1\" class=\"dataframe\">\n",
       "  <thead>\n",
       "    <tr style=\"text-align: right;\">\n",
       "      <th></th>\n",
       "      <th>order_id</th>\n",
       "      <th>quantity</th>\n",
       "      <th>item_name</th>\n",
       "      <th>choice_description</th>\n",
       "      <th>item_price</th>\n",
       "    </tr>\n",
       "  </thead>\n",
       "  <tbody>\n",
       "    <tr>\n",
       "      <th>409</th>\n",
       "      <td>178</td>\n",
       "      <td>3</td>\n",
       "      <td>Chicken Bowl</td>\n",
       "      <td>[[Fresh Tomato Salsa (Mild), Tomatillo-Green C...</td>\n",
       "      <td>$32.94</td>\n",
       "    </tr>\n",
       "    <tr>\n",
       "      <th>445</th>\n",
       "      <td>193</td>\n",
       "      <td>3</td>\n",
       "      <td>Bowl</td>\n",
       "      <td>[Braised Carnitas, Pinto Beans, [Sour Cream, C...</td>\n",
       "      <td>$22.20</td>\n",
       "    </tr>\n",
       "    <tr>\n",
       "      <th>689</th>\n",
       "      <td>284</td>\n",
       "      <td>3</td>\n",
       "      <td>Canned Soft Drink</td>\n",
       "      <td>[Diet Coke]</td>\n",
       "      <td>$3.75</td>\n",
       "    </tr>\n",
       "    <tr>\n",
       "      <th>818</th>\n",
       "      <td>338</td>\n",
       "      <td>3</td>\n",
       "      <td>Bottled Water</td>\n",
       "      <td>NaN</td>\n",
       "      <td>$3.27</td>\n",
       "    </tr>\n",
       "    <tr>\n",
       "      <th>850</th>\n",
       "      <td>350</td>\n",
       "      <td>3</td>\n",
       "      <td>Canned Soft Drink</td>\n",
       "      <td>[Sprite]</td>\n",
       "      <td>$3.75</td>\n",
       "    </tr>\n",
       "  </tbody>\n",
       "</table>\n",
       "</div>"
      ],
      "text/plain": [
       "     order_id  quantity          item_name  \\\n",
       "409       178         3       Chicken Bowl   \n",
       "445       193         3               Bowl   \n",
       "689       284         3  Canned Soft Drink   \n",
       "818       338         3      Bottled Water   \n",
       "850       350         3  Canned Soft Drink   \n",
       "\n",
       "                                    choice_description item_price  \n",
       "409  [[Fresh Tomato Salsa (Mild), Tomatillo-Green C...    $32.94   \n",
       "445  [Braised Carnitas, Pinto Beans, [Sour Cream, C...    $22.20   \n",
       "689                                        [Diet Coke]     $3.75   \n",
       "818                                                NaN     $3.27   \n",
       "850                                           [Sprite]     $3.75   "
      ]
     },
     "execution_count": 16,
     "metadata": {},
     "output_type": "execute_result"
    }
   ],
   "source": [
    "df[df['quantity']>=3].head(5)"
   ]
  },
  {
   "cell_type": "markdown",
   "id": "79362eb2-3bdc-464d-b148-d737d1ed1b99",
   "metadata": {},
   "source": [
    "결과에서 index 를 0 부터 사용하도록 하자. 단 기존 인덱스 값은 제거한다."
   ]
  },
  {
   "cell_type": "code",
   "execution_count": 19,
   "id": "f19429cb-f82c-4280-a75b-a5d4e55e17c4",
   "metadata": {},
   "outputs": [
    {
     "data": {
      "text/html": [
       "<div>\n",
       "<style scoped>\n",
       "    .dataframe tbody tr th:only-of-type {\n",
       "        vertical-align: middle;\n",
       "    }\n",
       "\n",
       "    .dataframe tbody tr th {\n",
       "        vertical-align: top;\n",
       "    }\n",
       "\n",
       "    .dataframe thead th {\n",
       "        text-align: right;\n",
       "    }\n",
       "</style>\n",
       "<table border=\"1\" class=\"dataframe\">\n",
       "  <thead>\n",
       "    <tr style=\"text-align: right;\">\n",
       "      <th></th>\n",
       "      <th>order_id</th>\n",
       "      <th>quantity</th>\n",
       "      <th>item_name</th>\n",
       "      <th>choice_description</th>\n",
       "      <th>item_price</th>\n",
       "    </tr>\n",
       "  </thead>\n",
       "  <tbody>\n",
       "    <tr>\n",
       "      <th>0</th>\n",
       "      <td>178</td>\n",
       "      <td>3</td>\n",
       "      <td>Chicken Bowl</td>\n",
       "      <td>[[Fresh Tomato Salsa (Mild), Tomatillo-Green C...</td>\n",
       "      <td>$32.94</td>\n",
       "    </tr>\n",
       "    <tr>\n",
       "      <th>1</th>\n",
       "      <td>193</td>\n",
       "      <td>3</td>\n",
       "      <td>Bowl</td>\n",
       "      <td>[Braised Carnitas, Pinto Beans, [Sour Cream, C...</td>\n",
       "      <td>$22.20</td>\n",
       "    </tr>\n",
       "    <tr>\n",
       "      <th>2</th>\n",
       "      <td>284</td>\n",
       "      <td>3</td>\n",
       "      <td>Canned Soft Drink</td>\n",
       "      <td>[Diet Coke]</td>\n",
       "      <td>$3.75</td>\n",
       "    </tr>\n",
       "    <tr>\n",
       "      <th>3</th>\n",
       "      <td>338</td>\n",
       "      <td>3</td>\n",
       "      <td>Bottled Water</td>\n",
       "      <td>NaN</td>\n",
       "      <td>$3.27</td>\n",
       "    </tr>\n",
       "    <tr>\n",
       "      <th>4</th>\n",
       "      <td>350</td>\n",
       "      <td>3</td>\n",
       "      <td>Canned Soft Drink</td>\n",
       "      <td>[Sprite]</td>\n",
       "      <td>$3.75</td>\n",
       "    </tr>\n",
       "  </tbody>\n",
       "</table>\n",
       "</div>"
      ],
      "text/plain": [
       "   order_id  quantity          item_name  \\\n",
       "0       178         3       Chicken Bowl   \n",
       "1       193         3               Bowl   \n",
       "2       284         3  Canned Soft Drink   \n",
       "3       338         3      Bottled Water   \n",
       "4       350         3  Canned Soft Drink   \n",
       "\n",
       "                                  choice_description item_price  \n",
       "0  [[Fresh Tomato Salsa (Mild), Tomatillo-Green C...    $32.94   \n",
       "1  [Braised Carnitas, Pinto Beans, [Sour Cream, C...    $22.20   \n",
       "2                                        [Diet Coke]     $3.75   \n",
       "3                                                NaN     $3.27   \n",
       "4                                           [Sprite]     $3.75   "
      ]
     },
     "execution_count": 19,
     "metadata": {},
     "output_type": "execute_result"
    }
   ],
   "source": [
    "df[df['quantity']>=3].head(5).reset_index().drop('index',axis=1)"
   ]
  },
  {
   "cell_type": "markdown",
   "id": "c779e0e6-e5ae-4d39-a2bd-05aeacd17a65",
   "metadata": {},
   "source": [
    "### Question 23\n",
    "\n",
    "**quantity , item_price 두개의 컬럼을 새로운 데이터 프레임으로 저장한다**\n"
   ]
  },
  {
   "cell_type": "code",
   "execution_count": 22,
   "id": "283acf9e-3a86-49cc-a100-e05c5374e807",
   "metadata": {
    "ExecuteTime": {
     "end_time": "2022-02-19T18:22:28.205882Z",
     "start_time": "2022-02-19T18:22:28.203031Z"
    },
    "tags": [
     "hide-input"
    ]
   },
   "outputs": [],
   "source": [
    "df2 = df[['quantity','item_price']]"
   ]
  },
  {
   "cell_type": "code",
   "execution_count": 23,
   "id": "bc42e78a-e5d3-461d-b859-7f85da4298ce",
   "metadata": {
    "ExecuteTime": {
     "end_time": "2022-02-19T18:22:28.213596Z",
     "start_time": "2022-02-19T18:22:28.207212Z"
    }
   },
   "outputs": [
    {
     "data": {
      "text/html": [
       "<div>\n",
       "<style scoped>\n",
       "    .dataframe tbody tr th:only-of-type {\n",
       "        vertical-align: middle;\n",
       "    }\n",
       "\n",
       "    .dataframe tbody tr th {\n",
       "        vertical-align: top;\n",
       "    }\n",
       "\n",
       "    .dataframe thead th {\n",
       "        text-align: right;\n",
       "    }\n",
       "</style>\n",
       "<table border=\"1\" class=\"dataframe\">\n",
       "  <thead>\n",
       "    <tr style=\"text-align: right;\">\n",
       "      <th></th>\n",
       "      <th>quantity</th>\n",
       "      <th>item_price</th>\n",
       "    </tr>\n",
       "  </thead>\n",
       "  <tbody>\n",
       "    <tr>\n",
       "      <th>0</th>\n",
       "      <td>1</td>\n",
       "      <td>$2.39</td>\n",
       "    </tr>\n",
       "    <tr>\n",
       "      <th>1</th>\n",
       "      <td>1</td>\n",
       "      <td>$3.39</td>\n",
       "    </tr>\n",
       "    <tr>\n",
       "      <th>2</th>\n",
       "      <td>1</td>\n",
       "      <td>$3.39</td>\n",
       "    </tr>\n",
       "    <tr>\n",
       "      <th>3</th>\n",
       "      <td>1</td>\n",
       "      <td>$2.39</td>\n",
       "    </tr>\n",
       "    <tr>\n",
       "      <th>4</th>\n",
       "      <td>2</td>\n",
       "      <td>$16.98</td>\n",
       "    </tr>\n",
       "    <tr>\n",
       "      <th>...</th>\n",
       "      <td>...</td>\n",
       "      <td>...</td>\n",
       "    </tr>\n",
       "    <tr>\n",
       "      <th>4617</th>\n",
       "      <td>1</td>\n",
       "      <td>$11.75</td>\n",
       "    </tr>\n",
       "    <tr>\n",
       "      <th>4618</th>\n",
       "      <td>1</td>\n",
       "      <td>$11.75</td>\n",
       "    </tr>\n",
       "    <tr>\n",
       "      <th>4619</th>\n",
       "      <td>1</td>\n",
       "      <td>$11.25</td>\n",
       "    </tr>\n",
       "    <tr>\n",
       "      <th>4620</th>\n",
       "      <td>1</td>\n",
       "      <td>$8.75</td>\n",
       "    </tr>\n",
       "    <tr>\n",
       "      <th>4621</th>\n",
       "      <td>1</td>\n",
       "      <td>$8.75</td>\n",
       "    </tr>\n",
       "  </tbody>\n",
       "</table>\n",
       "<p>4622 rows × 2 columns</p>\n",
       "</div>"
      ],
      "text/plain": [
       "      quantity item_price\n",
       "0            1     $2.39 \n",
       "1            1     $3.39 \n",
       "2            1     $3.39 \n",
       "3            1     $2.39 \n",
       "4            2    $16.98 \n",
       "...        ...        ...\n",
       "4617         1    $11.75 \n",
       "4618         1    $11.75 \n",
       "4619         1    $11.25 \n",
       "4620         1     $8.75 \n",
       "4621         1     $8.75 \n",
       "\n",
       "[4622 rows x 2 columns]"
      ]
     },
     "execution_count": 23,
     "metadata": {},
     "output_type": "execute_result"
    }
   ],
   "source": [
    "df2"
   ]
  },
  {
   "cell_type": "markdown",
   "id": "501247af-ccbb-4de4-bc83-0d09e85bc481",
   "metadata": {},
   "source": [
    "### Question 24\n",
    "\n",
    "**item_price 컬럼의 중복하지 않은 값만 출력하자**"
   ]
  },
  {
   "cell_type": "code",
   "execution_count": 24,
   "id": "eaa410b7-c6a2-4c97-bef1-29298cf8b976",
   "metadata": {},
   "outputs": [
    {
     "data": {
      "text/plain": [
       "array(['$2.39 ', '$3.39 ', '$16.98 ', '$10.98 ', '$1.69 ', '$11.75 ',\n",
       "       '$9.25 ', '$4.45 ', '$8.75 ', '$11.25 ', '$8.49 ', '$2.18 ',\n",
       "       '$8.99 ', '$1.09 ', '$2.95 ', '$2.15 ', '$3.99 ', '$22.50 ',\n",
       "       '$11.48 ', '$17.98 ', '$17.50 ', '$4.30 ', '$5.90 ', '$1.25 ',\n",
       "       '$23.78 ', '$6.49 ', '$11.08 ', '$1.50 ', '$22.16 ', '$32.94 ',\n",
       "       '$22.20 ', '$10.58 ', '$2.50 ', '$23.50 ', '$7.40 ', '$18.50 ',\n",
       "       '$3.00 ', '$6.78 ', '$11.89 ', '$9.39 ', '$4.00 ', '$3.75 ',\n",
       "       '$8.69 ', '$2.29 ', '$8.90 ', '$3.27 ', '$3.89 ', '$8.19 ',\n",
       "       '$35.00 ', '$27.75 ', '$11.80 ', '$6.00 ', '$26.25 ', '$21.96 ',\n",
       "       '$4.36 ', '$7.50 ', '$4.78 ', '$13.35 ', '$6.45 ', '$5.07 ',\n",
       "       '$22.96 ', '$7.17 ', '$7.98 ', '$4.50 ', '$26.07 ', '$12.98 ',\n",
       "       '$35.25 ', '$44.25 ', '$10.50 ', '$33.75 ', '$16.38 ', '$13.52 ',\n",
       "       '$5.00 ', '$15.00 ', '$8.50 ', '$17.80 ', '$1.99 ', '$11.49 '],\n",
       "      dtype=object)"
      ]
     },
     "execution_count": 24,
     "metadata": {},
     "output_type": "execute_result"
    }
   ],
   "source": [
    "df['item_price'].unique()"
   ]
  },
  {
   "cell_type": "markdown",
   "id": "337ccf36-5e95-4d30-86d0-af5385c13245",
   "metadata": {},
   "source": [
    "**item_price 컬럼의 달러표시 문자를 제거하고 float 타입으로 저장하여 new_price 컬럼에 저장하라**"
   ]
  },
  {
   "cell_type": "code",
   "execution_count": 28,
   "id": "45a0a5a6-b570-4f4d-bac8-352e8dc69d1e",
   "metadata": {
    "ExecuteTime": {
     "end_time": "2022-02-19T18:22:28.219871Z",
     "start_time": "2022-02-19T18:22:28.214962Z"
    },
    "tags": [
     "hide-input"
    ]
   },
   "outputs": [
    {
     "name": "stderr",
     "output_type": "stream",
     "text": [
      "C:\\Users\\admin\\AppData\\Local\\Temp\\ipykernel_16028\\2906174647.py:1: FutureWarning: The default value of regex will change from True to False in a future version. In addition, single character regular expressions will *not* be treated as literal strings when regex=True.\n",
      "  df['new_price'] = df['item_price'].str.replace('$','').astype('float')\n"
     ]
    }
   ],
   "source": [
    "df['new_price'] = df['item_price'].str.replace('$','').astype('float')"
   ]
  },
  {
   "cell_type": "code",
   "execution_count": 30,
   "id": "039b369f-268b-42b8-93cd-10541884be6c",
   "metadata": {},
   "outputs": [
    {
     "data": {
      "text/plain": [
       "0     2.39\n",
       "1     3.39\n",
       "2     3.39\n",
       "3     2.39\n",
       "4    16.98\n",
       "Name: new_price, dtype: float64"
      ]
     },
     "execution_count": 30,
     "metadata": {},
     "output_type": "execute_result"
    }
   ],
   "source": [
    "df['new_price'].head(5)"
   ]
  },
  {
   "cell_type": "markdown",
   "id": "e891ca13-eca5-4a35-8792-41d66ec93f65",
   "metadata": {},
   "source": [
    "### Question 25\n",
    "\n",
    "**new_price 컬럼이 5이하의 값을 가지는 데이터프레임을 추출하고, 행의 갯수를 구하여라**\n",
    " - shape 이용"
   ]
  },
  {
   "cell_type": "code",
   "execution_count": 33,
   "id": "6bf9b00c-39d7-4788-a60a-0b32a24c9605",
   "metadata": {},
   "outputs": [
    {
     "data": {
      "text/plain": [
       "1652"
      ]
     },
     "execution_count": 33,
     "metadata": {},
     "output_type": "execute_result"
    }
   ],
   "source": [
    "df[df['new_price']<=5].shape[0]"
   ]
  },
  {
   "cell_type": "markdown",
   "id": "987810af-2a13-4fd6-b5c5-d43428643a46",
   "metadata": {},
   "source": [
    "파이썬 len 을 사용해서 new_price 컬럼이 5이하의 값의 개수를 출력하지"
   ]
  },
  {
   "cell_type": "code",
   "execution_count": 40,
   "id": "b252b299-6c2f-4a88-8606-cabeded648fc",
   "metadata": {
    "ExecuteTime": {
     "end_time": "2022-02-19T18:22:28.228697Z",
     "start_time": "2022-02-19T18:22:28.225894Z"
    },
    "tags": [
     "hide-input"
    ]
   },
   "outputs": [
    {
     "data": {
      "text/plain": [
       "1652"
      ]
     },
     "execution_count": 40,
     "metadata": {},
     "output_type": "execute_result"
    }
   ],
   "source": [
    "len(df[df['new_price']<=5])"
   ]
  },
  {
   "cell_type": "markdown",
   "id": "5c4c3350-2135-47c2-90b7-4361a4b13638",
   "metadata": {},
   "source": [
    "### Question 26\n",
    "**item_name명이 Chicken Salad Bowl 인 데이터 프레임을 추출하자**\n"
   ]
  },
  {
   "cell_type": "code",
   "execution_count": 41,
   "id": "af4e5567-1ac0-44bd-a96d-01a55d5df4c1",
   "metadata": {},
   "outputs": [
    {
     "data": {
      "text/html": [
       "<div>\n",
       "<style scoped>\n",
       "    .dataframe tbody tr th:only-of-type {\n",
       "        vertical-align: middle;\n",
       "    }\n",
       "\n",
       "    .dataframe tbody tr th {\n",
       "        vertical-align: top;\n",
       "    }\n",
       "\n",
       "    .dataframe thead th {\n",
       "        text-align: right;\n",
       "    }\n",
       "</style>\n",
       "<table border=\"1\" class=\"dataframe\">\n",
       "  <thead>\n",
       "    <tr style=\"text-align: right;\">\n",
       "      <th></th>\n",
       "      <th>order_id</th>\n",
       "      <th>quantity</th>\n",
       "      <th>item_name</th>\n",
       "      <th>choice_description</th>\n",
       "      <th>item_price</th>\n",
       "      <th>new_price</th>\n",
       "    </tr>\n",
       "  </thead>\n",
       "  <tbody>\n",
       "    <tr>\n",
       "      <th>44</th>\n",
       "      <td>20</td>\n",
       "      <td>1</td>\n",
       "      <td>Chicken Salad Bowl</td>\n",
       "      <td>[Fresh Tomato Salsa, [Fajita Vegetables, Pinto...</td>\n",
       "      <td>$8.75</td>\n",
       "      <td>8.75</td>\n",
       "    </tr>\n",
       "    <tr>\n",
       "      <th>135</th>\n",
       "      <td>60</td>\n",
       "      <td>2</td>\n",
       "      <td>Chicken Salad Bowl</td>\n",
       "      <td>[Tomatillo Green Chili Salsa, [Sour Cream, Che...</td>\n",
       "      <td>$22.50</td>\n",
       "      <td>22.50</td>\n",
       "    </tr>\n",
       "    <tr>\n",
       "      <th>213</th>\n",
       "      <td>94</td>\n",
       "      <td>2</td>\n",
       "      <td>Chicken Salad Bowl</td>\n",
       "      <td>[Fresh Tomato Salsa, [Fajita Vegetables, Pinto...</td>\n",
       "      <td>$22.50</td>\n",
       "      <td>22.50</td>\n",
       "    </tr>\n",
       "    <tr>\n",
       "      <th>256</th>\n",
       "      <td>111</td>\n",
       "      <td>1</td>\n",
       "      <td>Chicken Salad Bowl</td>\n",
       "      <td>[Fresh Tomato Salsa, [Fajita Vegetables, Rice,...</td>\n",
       "      <td>$8.75</td>\n",
       "      <td>8.75</td>\n",
       "    </tr>\n",
       "    <tr>\n",
       "      <th>315</th>\n",
       "      <td>137</td>\n",
       "      <td>2</td>\n",
       "      <td>Chicken Salad Bowl</td>\n",
       "      <td>[Fresh Tomato Salsa, Fajita Vegetables]</td>\n",
       "      <td>$17.50</td>\n",
       "      <td>17.50</td>\n",
       "    </tr>\n",
       "    <tr>\n",
       "      <th>...</th>\n",
       "      <td>...</td>\n",
       "      <td>...</td>\n",
       "      <td>...</td>\n",
       "      <td>...</td>\n",
       "      <td>...</td>\n",
       "      <td>...</td>\n",
       "    </tr>\n",
       "    <tr>\n",
       "      <th>4561</th>\n",
       "      <td>1813</td>\n",
       "      <td>2</td>\n",
       "      <td>Chicken Salad Bowl</td>\n",
       "      <td>[Fresh Tomato Salsa, [Fajita Vegetables, Pinto...</td>\n",
       "      <td>$17.50</td>\n",
       "      <td>17.50</td>\n",
       "    </tr>\n",
       "    <tr>\n",
       "      <th>4580</th>\n",
       "      <td>1822</td>\n",
       "      <td>1</td>\n",
       "      <td>Chicken Salad Bowl</td>\n",
       "      <td>[Fresh Tomato Salsa, [Black Beans, Cheese, Gua...</td>\n",
       "      <td>$11.25</td>\n",
       "      <td>11.25</td>\n",
       "    </tr>\n",
       "    <tr>\n",
       "      <th>4619</th>\n",
       "      <td>1834</td>\n",
       "      <td>1</td>\n",
       "      <td>Chicken Salad Bowl</td>\n",
       "      <td>[Fresh Tomato Salsa, [Fajita Vegetables, Pinto...</td>\n",
       "      <td>$11.25</td>\n",
       "      <td>11.25</td>\n",
       "    </tr>\n",
       "    <tr>\n",
       "      <th>4620</th>\n",
       "      <td>1834</td>\n",
       "      <td>1</td>\n",
       "      <td>Chicken Salad Bowl</td>\n",
       "      <td>[Fresh Tomato Salsa, [Fajita Vegetables, Lettu...</td>\n",
       "      <td>$8.75</td>\n",
       "      <td>8.75</td>\n",
       "    </tr>\n",
       "    <tr>\n",
       "      <th>4621</th>\n",
       "      <td>1834</td>\n",
       "      <td>1</td>\n",
       "      <td>Chicken Salad Bowl</td>\n",
       "      <td>[Fresh Tomato Salsa, [Fajita Vegetables, Pinto...</td>\n",
       "      <td>$8.75</td>\n",
       "      <td>8.75</td>\n",
       "    </tr>\n",
       "  </tbody>\n",
       "</table>\n",
       "<p>110 rows × 6 columns</p>\n",
       "</div>"
      ],
      "text/plain": [
       "      order_id  quantity           item_name  \\\n",
       "44          20         1  Chicken Salad Bowl   \n",
       "135         60         2  Chicken Salad Bowl   \n",
       "213         94         2  Chicken Salad Bowl   \n",
       "256        111         1  Chicken Salad Bowl   \n",
       "315        137         2  Chicken Salad Bowl   \n",
       "...        ...       ...                 ...   \n",
       "4561      1813         2  Chicken Salad Bowl   \n",
       "4580      1822         1  Chicken Salad Bowl   \n",
       "4619      1834         1  Chicken Salad Bowl   \n",
       "4620      1834         1  Chicken Salad Bowl   \n",
       "4621      1834         1  Chicken Salad Bowl   \n",
       "\n",
       "                                     choice_description item_price  new_price  \n",
       "44    [Fresh Tomato Salsa, [Fajita Vegetables, Pinto...     $8.75        8.75  \n",
       "135   [Tomatillo Green Chili Salsa, [Sour Cream, Che...    $22.50       22.50  \n",
       "213   [Fresh Tomato Salsa, [Fajita Vegetables, Pinto...    $22.50       22.50  \n",
       "256   [Fresh Tomato Salsa, [Fajita Vegetables, Rice,...     $8.75        8.75  \n",
       "315             [Fresh Tomato Salsa, Fajita Vegetables]    $17.50       17.50  \n",
       "...                                                 ...        ...        ...  \n",
       "4561  [Fresh Tomato Salsa, [Fajita Vegetables, Pinto...    $17.50       17.50  \n",
       "4580  [Fresh Tomato Salsa, [Black Beans, Cheese, Gua...    $11.25       11.25  \n",
       "4619  [Fresh Tomato Salsa, [Fajita Vegetables, Pinto...    $11.25       11.25  \n",
       "4620  [Fresh Tomato Salsa, [Fajita Vegetables, Lettu...     $8.75        8.75  \n",
       "4621  [Fresh Tomato Salsa, [Fajita Vegetables, Pinto...     $8.75        8.75  \n",
       "\n",
       "[110 rows x 6 columns]"
      ]
     },
     "execution_count": 41,
     "metadata": {},
     "output_type": "execute_result"
    }
   ],
   "source": [
    "df[df['item_name'] == 'Chicken Salad Bowl']"
   ]
  },
  {
   "cell_type": "markdown",
   "id": "6b804182-b1a1-442f-a3fd-c1f03c444980",
   "metadata": {},
   "source": [
    "결과에서 **index 값을 초기화 해서 인덱스를 0부터 시작하도록 한다. 그리고  Ans 에 저장한다.**"
   ]
  },
  {
   "cell_type": "code",
   "execution_count": 43,
   "id": "05561312-be2a-47c4-b40e-521476d514c9",
   "metadata": {},
   "outputs": [
    {
     "data": {
      "text/html": [
       "<div>\n",
       "<style scoped>\n",
       "    .dataframe tbody tr th:only-of-type {\n",
       "        vertical-align: middle;\n",
       "    }\n",
       "\n",
       "    .dataframe tbody tr th {\n",
       "        vertical-align: top;\n",
       "    }\n",
       "\n",
       "    .dataframe thead th {\n",
       "        text-align: right;\n",
       "    }\n",
       "</style>\n",
       "<table border=\"1\" class=\"dataframe\">\n",
       "  <thead>\n",
       "    <tr style=\"text-align: right;\">\n",
       "      <th></th>\n",
       "      <th>order_id</th>\n",
       "      <th>quantity</th>\n",
       "      <th>item_name</th>\n",
       "      <th>choice_description</th>\n",
       "      <th>item_price</th>\n",
       "      <th>new_price</th>\n",
       "    </tr>\n",
       "  </thead>\n",
       "  <tbody>\n",
       "    <tr>\n",
       "      <th>0</th>\n",
       "      <td>20</td>\n",
       "      <td>1</td>\n",
       "      <td>Chicken Salad Bowl</td>\n",
       "      <td>[Fresh Tomato Salsa, [Fajita Vegetables, Pinto...</td>\n",
       "      <td>$8.75</td>\n",
       "      <td>8.75</td>\n",
       "    </tr>\n",
       "    <tr>\n",
       "      <th>1</th>\n",
       "      <td>60</td>\n",
       "      <td>2</td>\n",
       "      <td>Chicken Salad Bowl</td>\n",
       "      <td>[Tomatillo Green Chili Salsa, [Sour Cream, Che...</td>\n",
       "      <td>$22.50</td>\n",
       "      <td>22.50</td>\n",
       "    </tr>\n",
       "    <tr>\n",
       "      <th>2</th>\n",
       "      <td>94</td>\n",
       "      <td>2</td>\n",
       "      <td>Chicken Salad Bowl</td>\n",
       "      <td>[Fresh Tomato Salsa, [Fajita Vegetables, Pinto...</td>\n",
       "      <td>$22.50</td>\n",
       "      <td>22.50</td>\n",
       "    </tr>\n",
       "    <tr>\n",
       "      <th>3</th>\n",
       "      <td>111</td>\n",
       "      <td>1</td>\n",
       "      <td>Chicken Salad Bowl</td>\n",
       "      <td>[Fresh Tomato Salsa, [Fajita Vegetables, Rice,...</td>\n",
       "      <td>$8.75</td>\n",
       "      <td>8.75</td>\n",
       "    </tr>\n",
       "    <tr>\n",
       "      <th>4</th>\n",
       "      <td>137</td>\n",
       "      <td>2</td>\n",
       "      <td>Chicken Salad Bowl</td>\n",
       "      <td>[Fresh Tomato Salsa, Fajita Vegetables]</td>\n",
       "      <td>$17.50</td>\n",
       "      <td>17.50</td>\n",
       "    </tr>\n",
       "    <tr>\n",
       "      <th>...</th>\n",
       "      <td>...</td>\n",
       "      <td>...</td>\n",
       "      <td>...</td>\n",
       "      <td>...</td>\n",
       "      <td>...</td>\n",
       "      <td>...</td>\n",
       "    </tr>\n",
       "    <tr>\n",
       "      <th>105</th>\n",
       "      <td>1813</td>\n",
       "      <td>2</td>\n",
       "      <td>Chicken Salad Bowl</td>\n",
       "      <td>[Fresh Tomato Salsa, [Fajita Vegetables, Pinto...</td>\n",
       "      <td>$17.50</td>\n",
       "      <td>17.50</td>\n",
       "    </tr>\n",
       "    <tr>\n",
       "      <th>106</th>\n",
       "      <td>1822</td>\n",
       "      <td>1</td>\n",
       "      <td>Chicken Salad Bowl</td>\n",
       "      <td>[Fresh Tomato Salsa, [Black Beans, Cheese, Gua...</td>\n",
       "      <td>$11.25</td>\n",
       "      <td>11.25</td>\n",
       "    </tr>\n",
       "    <tr>\n",
       "      <th>107</th>\n",
       "      <td>1834</td>\n",
       "      <td>1</td>\n",
       "      <td>Chicken Salad Bowl</td>\n",
       "      <td>[Fresh Tomato Salsa, [Fajita Vegetables, Pinto...</td>\n",
       "      <td>$11.25</td>\n",
       "      <td>11.25</td>\n",
       "    </tr>\n",
       "    <tr>\n",
       "      <th>108</th>\n",
       "      <td>1834</td>\n",
       "      <td>1</td>\n",
       "      <td>Chicken Salad Bowl</td>\n",
       "      <td>[Fresh Tomato Salsa, [Fajita Vegetables, Lettu...</td>\n",
       "      <td>$8.75</td>\n",
       "      <td>8.75</td>\n",
       "    </tr>\n",
       "    <tr>\n",
       "      <th>109</th>\n",
       "      <td>1834</td>\n",
       "      <td>1</td>\n",
       "      <td>Chicken Salad Bowl</td>\n",
       "      <td>[Fresh Tomato Salsa, [Fajita Vegetables, Pinto...</td>\n",
       "      <td>$8.75</td>\n",
       "      <td>8.75</td>\n",
       "    </tr>\n",
       "  </tbody>\n",
       "</table>\n",
       "<p>110 rows × 6 columns</p>\n",
       "</div>"
      ],
      "text/plain": [
       "     order_id  quantity           item_name  \\\n",
       "0          20         1  Chicken Salad Bowl   \n",
       "1          60         2  Chicken Salad Bowl   \n",
       "2          94         2  Chicken Salad Bowl   \n",
       "3         111         1  Chicken Salad Bowl   \n",
       "4         137         2  Chicken Salad Bowl   \n",
       "..        ...       ...                 ...   \n",
       "105      1813         2  Chicken Salad Bowl   \n",
       "106      1822         1  Chicken Salad Bowl   \n",
       "107      1834         1  Chicken Salad Bowl   \n",
       "108      1834         1  Chicken Salad Bowl   \n",
       "109      1834         1  Chicken Salad Bowl   \n",
       "\n",
       "                                    choice_description item_price  new_price  \n",
       "0    [Fresh Tomato Salsa, [Fajita Vegetables, Pinto...     $8.75        8.75  \n",
       "1    [Tomatillo Green Chili Salsa, [Sour Cream, Che...    $22.50       22.50  \n",
       "2    [Fresh Tomato Salsa, [Fajita Vegetables, Pinto...    $22.50       22.50  \n",
       "3    [Fresh Tomato Salsa, [Fajita Vegetables, Rice,...     $8.75        8.75  \n",
       "4              [Fresh Tomato Salsa, Fajita Vegetables]    $17.50       17.50  \n",
       "..                                                 ...        ...        ...  \n",
       "105  [Fresh Tomato Salsa, [Fajita Vegetables, Pinto...    $17.50       17.50  \n",
       "106  [Fresh Tomato Salsa, [Black Beans, Cheese, Gua...    $11.25       11.25  \n",
       "107  [Fresh Tomato Salsa, [Fajita Vegetables, Pinto...    $11.25       11.25  \n",
       "108  [Fresh Tomato Salsa, [Fajita Vegetables, Lettu...     $8.75        8.75  \n",
       "109  [Fresh Tomato Salsa, [Fajita Vegetables, Pinto...     $8.75        8.75  \n",
       "\n",
       "[110 rows x 6 columns]"
      ]
     },
     "execution_count": 43,
     "metadata": {},
     "output_type": "execute_result"
    }
   ],
   "source": [
    "Ans = df[df['item_name'] == 'Chicken Salad Bowl'].reset_index(drop=True)\n",
    "Ans"
   ]
  },
  {
   "cell_type": "markdown",
   "id": "b6f86146-dc9b-4d1d-9fd2-b243307e6955",
   "metadata": {},
   "source": [
    "item_name명이 `Steak Burrito` 인 데이터 프레임을 추출해서 Burito에 저장한다.\n"
   ]
  },
  {
   "cell_type": "code",
   "execution_count": 44,
   "id": "83f174dc-674d-4754-b458-6e506b0bc16b",
   "metadata": {},
   "outputs": [
    {
     "data": {
      "text/html": [
       "<div>\n",
       "<style scoped>\n",
       "    .dataframe tbody tr th:only-of-type {\n",
       "        vertical-align: middle;\n",
       "    }\n",
       "\n",
       "    .dataframe tbody tr th {\n",
       "        vertical-align: top;\n",
       "    }\n",
       "\n",
       "    .dataframe thead th {\n",
       "        text-align: right;\n",
       "    }\n",
       "</style>\n",
       "<table border=\"1\" class=\"dataframe\">\n",
       "  <thead>\n",
       "    <tr style=\"text-align: right;\">\n",
       "      <th></th>\n",
       "      <th>order_id</th>\n",
       "      <th>quantity</th>\n",
       "      <th>item_name</th>\n",
       "      <th>choice_description</th>\n",
       "      <th>item_price</th>\n",
       "      <th>new_price</th>\n",
       "    </tr>\n",
       "  </thead>\n",
       "  <tbody>\n",
       "    <tr>\n",
       "      <th>7</th>\n",
       "      <td>4</td>\n",
       "      <td>1</td>\n",
       "      <td>Steak Burrito</td>\n",
       "      <td>[Tomatillo Red Chili Salsa, [Fajita Vegetables...</td>\n",
       "      <td>$11.75</td>\n",
       "      <td>11.75</td>\n",
       "    </tr>\n",
       "    <tr>\n",
       "      <th>9</th>\n",
       "      <td>5</td>\n",
       "      <td>1</td>\n",
       "      <td>Steak Burrito</td>\n",
       "      <td>[Fresh Tomato Salsa, [Rice, Black Beans, Pinto...</td>\n",
       "      <td>$9.25</td>\n",
       "      <td>9.25</td>\n",
       "    </tr>\n",
       "    <tr>\n",
       "      <th>31</th>\n",
       "      <td>16</td>\n",
       "      <td>1</td>\n",
       "      <td>Steak Burrito</td>\n",
       "      <td>[[Roasted Chili Corn Salsa (Medium), Fresh Tom...</td>\n",
       "      <td>$8.99</td>\n",
       "      <td>8.99</td>\n",
       "    </tr>\n",
       "    <tr>\n",
       "      <th>43</th>\n",
       "      <td>20</td>\n",
       "      <td>1</td>\n",
       "      <td>Steak Burrito</td>\n",
       "      <td>[Fresh Tomato Salsa, [Rice, Pinto Beans, Chees...</td>\n",
       "      <td>$11.75</td>\n",
       "      <td>11.75</td>\n",
       "    </tr>\n",
       "    <tr>\n",
       "      <th>46</th>\n",
       "      <td>21</td>\n",
       "      <td>1</td>\n",
       "      <td>Steak Burrito</td>\n",
       "      <td>[Tomatillo-Red Chili Salsa (Hot), [Rice, Fajit...</td>\n",
       "      <td>$8.99</td>\n",
       "      <td>8.99</td>\n",
       "    </tr>\n",
       "    <tr>\n",
       "      <th>...</th>\n",
       "      <td>...</td>\n",
       "      <td>...</td>\n",
       "      <td>...</td>\n",
       "      <td>...</td>\n",
       "      <td>...</td>\n",
       "      <td>...</td>\n",
       "    </tr>\n",
       "    <tr>\n",
       "      <th>4546</th>\n",
       "      <td>1807</td>\n",
       "      <td>1</td>\n",
       "      <td>Steak Burrito</td>\n",
       "      <td>[Fresh Tomato Salsa, [Rice, Black Beans, Cheese]]</td>\n",
       "      <td>$9.25</td>\n",
       "      <td>9.25</td>\n",
       "    </tr>\n",
       "    <tr>\n",
       "      <th>4607</th>\n",
       "      <td>1829</td>\n",
       "      <td>1</td>\n",
       "      <td>Steak Burrito</td>\n",
       "      <td>[Tomatillo Green Chili Salsa, [Rice, Cheese, S...</td>\n",
       "      <td>$11.75</td>\n",
       "      <td>11.75</td>\n",
       "    </tr>\n",
       "    <tr>\n",
       "      <th>4610</th>\n",
       "      <td>1830</td>\n",
       "      <td>1</td>\n",
       "      <td>Steak Burrito</td>\n",
       "      <td>[Fresh Tomato Salsa, [Rice, Sour Cream, Cheese...</td>\n",
       "      <td>$11.75</td>\n",
       "      <td>11.75</td>\n",
       "    </tr>\n",
       "    <tr>\n",
       "      <th>4617</th>\n",
       "      <td>1833</td>\n",
       "      <td>1</td>\n",
       "      <td>Steak Burrito</td>\n",
       "      <td>[Fresh Tomato Salsa, [Rice, Black Beans, Sour ...</td>\n",
       "      <td>$11.75</td>\n",
       "      <td>11.75</td>\n",
       "    </tr>\n",
       "    <tr>\n",
       "      <th>4618</th>\n",
       "      <td>1833</td>\n",
       "      <td>1</td>\n",
       "      <td>Steak Burrito</td>\n",
       "      <td>[Fresh Tomato Salsa, [Rice, Sour Cream, Cheese...</td>\n",
       "      <td>$11.75</td>\n",
       "      <td>11.75</td>\n",
       "    </tr>\n",
       "  </tbody>\n",
       "</table>\n",
       "<p>368 rows × 6 columns</p>\n",
       "</div>"
      ],
      "text/plain": [
       "      order_id  quantity      item_name  \\\n",
       "7            4         1  Steak Burrito   \n",
       "9            5         1  Steak Burrito   \n",
       "31          16         1  Steak Burrito   \n",
       "43          20         1  Steak Burrito   \n",
       "46          21         1  Steak Burrito   \n",
       "...        ...       ...            ...   \n",
       "4546      1807         1  Steak Burrito   \n",
       "4607      1829         1  Steak Burrito   \n",
       "4610      1830         1  Steak Burrito   \n",
       "4617      1833         1  Steak Burrito   \n",
       "4618      1833         1  Steak Burrito   \n",
       "\n",
       "                                     choice_description item_price  new_price  \n",
       "7     [Tomatillo Red Chili Salsa, [Fajita Vegetables...    $11.75       11.75  \n",
       "9     [Fresh Tomato Salsa, [Rice, Black Beans, Pinto...     $9.25        9.25  \n",
       "31    [[Roasted Chili Corn Salsa (Medium), Fresh Tom...     $8.99        8.99  \n",
       "43    [Fresh Tomato Salsa, [Rice, Pinto Beans, Chees...    $11.75       11.75  \n",
       "46    [Tomatillo-Red Chili Salsa (Hot), [Rice, Fajit...     $8.99        8.99  \n",
       "...                                                 ...        ...        ...  \n",
       "4546  [Fresh Tomato Salsa, [Rice, Black Beans, Cheese]]     $9.25        9.25  \n",
       "4607  [Tomatillo Green Chili Salsa, [Rice, Cheese, S...    $11.75       11.75  \n",
       "4610  [Fresh Tomato Salsa, [Rice, Sour Cream, Cheese...    $11.75       11.75  \n",
       "4617  [Fresh Tomato Salsa, [Rice, Black Beans, Sour ...    $11.75       11.75  \n",
       "4618  [Fresh Tomato Salsa, [Rice, Sour Cream, Cheese...    $11.75       11.75  \n",
       "\n",
       "[368 rows x 6 columns]"
      ]
     },
     "execution_count": 44,
     "metadata": {},
     "output_type": "execute_result"
    }
   ],
   "source": [
    "Burito = df[df['item_name'] == 'Steak Burrito']\n",
    "Burito"
   ]
  },
  {
   "cell_type": "markdown",
   "id": "82018c21-fc36-4297-ac8a-08ceee9a9be3",
   "metadata": {},
   "source": [
    "Burito 의 index 값을 초기화 해서 인덱스를 0부터 시작하는데 inplace 를 사용해서 Burito 객체에 바로 적용하게 하고 앞에서 5개를 출력한다"
   ]
  },
  {
   "cell_type": "code",
   "execution_count": 47,
   "id": "3781530b-9dbf-4546-9a65-8d294a458b81",
   "metadata": {},
   "outputs": [
    {
     "data": {
      "text/html": [
       "<div>\n",
       "<style scoped>\n",
       "    .dataframe tbody tr th:only-of-type {\n",
       "        vertical-align: middle;\n",
       "    }\n",
       "\n",
       "    .dataframe tbody tr th {\n",
       "        vertical-align: top;\n",
       "    }\n",
       "\n",
       "    .dataframe thead th {\n",
       "        text-align: right;\n",
       "    }\n",
       "</style>\n",
       "<table border=\"1\" class=\"dataframe\">\n",
       "  <thead>\n",
       "    <tr style=\"text-align: right;\">\n",
       "      <th></th>\n",
       "      <th>order_id</th>\n",
       "      <th>quantity</th>\n",
       "      <th>item_name</th>\n",
       "      <th>choice_description</th>\n",
       "      <th>item_price</th>\n",
       "      <th>new_price</th>\n",
       "    </tr>\n",
       "  </thead>\n",
       "  <tbody>\n",
       "    <tr>\n",
       "      <th>0</th>\n",
       "      <td>4</td>\n",
       "      <td>1</td>\n",
       "      <td>Steak Burrito</td>\n",
       "      <td>[Tomatillo Red Chili Salsa, [Fajita Vegetables...</td>\n",
       "      <td>$11.75</td>\n",
       "      <td>11.75</td>\n",
       "    </tr>\n",
       "    <tr>\n",
       "      <th>1</th>\n",
       "      <td>5</td>\n",
       "      <td>1</td>\n",
       "      <td>Steak Burrito</td>\n",
       "      <td>[Fresh Tomato Salsa, [Rice, Black Beans, Pinto...</td>\n",
       "      <td>$9.25</td>\n",
       "      <td>9.25</td>\n",
       "    </tr>\n",
       "    <tr>\n",
       "      <th>2</th>\n",
       "      <td>16</td>\n",
       "      <td>1</td>\n",
       "      <td>Steak Burrito</td>\n",
       "      <td>[[Roasted Chili Corn Salsa (Medium), Fresh Tom...</td>\n",
       "      <td>$8.99</td>\n",
       "      <td>8.99</td>\n",
       "    </tr>\n",
       "    <tr>\n",
       "      <th>3</th>\n",
       "      <td>20</td>\n",
       "      <td>1</td>\n",
       "      <td>Steak Burrito</td>\n",
       "      <td>[Fresh Tomato Salsa, [Rice, Pinto Beans, Chees...</td>\n",
       "      <td>$11.75</td>\n",
       "      <td>11.75</td>\n",
       "    </tr>\n",
       "    <tr>\n",
       "      <th>4</th>\n",
       "      <td>21</td>\n",
       "      <td>1</td>\n",
       "      <td>Steak Burrito</td>\n",
       "      <td>[Tomatillo-Red Chili Salsa (Hot), [Rice, Fajit...</td>\n",
       "      <td>$8.99</td>\n",
       "      <td>8.99</td>\n",
       "    </tr>\n",
       "  </tbody>\n",
       "</table>\n",
       "</div>"
      ],
      "text/plain": [
       "   order_id  quantity      item_name  \\\n",
       "0         4         1  Steak Burrito   \n",
       "1         5         1  Steak Burrito   \n",
       "2        16         1  Steak Burrito   \n",
       "3        20         1  Steak Burrito   \n",
       "4        21         1  Steak Burrito   \n",
       "\n",
       "                                  choice_description item_price  new_price  \n",
       "0  [Tomatillo Red Chili Salsa, [Fajita Vegetables...    $11.75       11.75  \n",
       "1  [Fresh Tomato Salsa, [Rice, Black Beans, Pinto...     $9.25        9.25  \n",
       "2  [[Roasted Chili Corn Salsa (Medium), Fresh Tom...     $8.99        8.99  \n",
       "3  [Fresh Tomato Salsa, [Rice, Pinto Beans, Chees...    $11.75       11.75  \n",
       "4  [Tomatillo-Red Chili Salsa (Hot), [Rice, Fajit...     $8.99        8.99  "
      ]
     },
     "execution_count": 47,
     "metadata": {},
     "output_type": "execute_result"
    }
   ],
   "source": [
    "Burito.reset_index(drop=True , inplace=True)\n",
    "Burito.head(5)"
   ]
  },
  {
   "cell_type": "markdown",
   "id": "4caa1f5e-96c3-4c8c-90ab-700a5116542a",
   "metadata": {},
   "source": [
    "### Question 27\n",
    "\n",
    "**new_price값이 9 이하이고 item_name 값이 Chicken Salad Bowl 인 데이터 프레임을 추출하라**\n"
   ]
  },
  {
   "cell_type": "code",
   "execution_count": 49,
   "id": "6c9a3aaf-8942-4541-96aa-4dccb8ee6fdc",
   "metadata": {
    "ExecuteTime": {
     "end_time": "2022-02-19T18:22:28.250097Z",
     "start_time": "2022-02-19T18:22:28.246827Z"
    },
    "tags": [
     "hide-input"
    ]
   },
   "outputs": [
    {
     "data": {
      "text/html": [
       "<div>\n",
       "<style scoped>\n",
       "    .dataframe tbody tr th:only-of-type {\n",
       "        vertical-align: middle;\n",
       "    }\n",
       "\n",
       "    .dataframe tbody tr th {\n",
       "        vertical-align: top;\n",
       "    }\n",
       "\n",
       "    .dataframe thead th {\n",
       "        text-align: right;\n",
       "    }\n",
       "</style>\n",
       "<table border=\"1\" class=\"dataframe\">\n",
       "  <thead>\n",
       "    <tr style=\"text-align: right;\">\n",
       "      <th></th>\n",
       "      <th>order_id</th>\n",
       "      <th>quantity</th>\n",
       "      <th>item_name</th>\n",
       "      <th>choice_description</th>\n",
       "      <th>item_price</th>\n",
       "      <th>new_price</th>\n",
       "    </tr>\n",
       "  </thead>\n",
       "  <tbody>\n",
       "    <tr>\n",
       "      <th>44</th>\n",
       "      <td>20</td>\n",
       "      <td>1</td>\n",
       "      <td>Chicken Salad Bowl</td>\n",
       "      <td>[Fresh Tomato Salsa, [Fajita Vegetables, Pinto...</td>\n",
       "      <td>$8.75</td>\n",
       "      <td>8.75</td>\n",
       "    </tr>\n",
       "    <tr>\n",
       "      <th>256</th>\n",
       "      <td>111</td>\n",
       "      <td>1</td>\n",
       "      <td>Chicken Salad Bowl</td>\n",
       "      <td>[Fresh Tomato Salsa, [Fajita Vegetables, Rice,...</td>\n",
       "      <td>$8.75</td>\n",
       "      <td>8.75</td>\n",
       "    </tr>\n",
       "    <tr>\n",
       "      <th>526</th>\n",
       "      <td>220</td>\n",
       "      <td>1</td>\n",
       "      <td>Chicken Salad Bowl</td>\n",
       "      <td>[Roasted Chili Corn Salsa, [Black Beans, Sour ...</td>\n",
       "      <td>$8.75</td>\n",
       "      <td>8.75</td>\n",
       "    </tr>\n",
       "    <tr>\n",
       "      <th>528</th>\n",
       "      <td>221</td>\n",
       "      <td>1</td>\n",
       "      <td>Chicken Salad Bowl</td>\n",
       "      <td>[Tomatillo Green Chili Salsa, [Fajita Vegetabl...</td>\n",
       "      <td>$8.75</td>\n",
       "      <td>8.75</td>\n",
       "    </tr>\n",
       "    <tr>\n",
       "      <th>529</th>\n",
       "      <td>221</td>\n",
       "      <td>1</td>\n",
       "      <td>Chicken Salad Bowl</td>\n",
       "      <td>[Tomatillo Green Chili Salsa, [Fajita Vegetabl...</td>\n",
       "      <td>$8.75</td>\n",
       "      <td>8.75</td>\n",
       "    </tr>\n",
       "  </tbody>\n",
       "</table>\n",
       "</div>"
      ],
      "text/plain": [
       "     order_id  quantity           item_name  \\\n",
       "44         20         1  Chicken Salad Bowl   \n",
       "256       111         1  Chicken Salad Bowl   \n",
       "526       220         1  Chicken Salad Bowl   \n",
       "528       221         1  Chicken Salad Bowl   \n",
       "529       221         1  Chicken Salad Bowl   \n",
       "\n",
       "                                    choice_description item_price  new_price  \n",
       "44   [Fresh Tomato Salsa, [Fajita Vegetables, Pinto...     $8.75        8.75  \n",
       "256  [Fresh Tomato Salsa, [Fajita Vegetables, Rice,...     $8.75        8.75  \n",
       "526  [Roasted Chili Corn Salsa, [Black Beans, Sour ...     $8.75        8.75  \n",
       "528  [Tomatillo Green Chili Salsa, [Fajita Vegetabl...     $8.75        8.75  \n",
       "529  [Tomatillo Green Chili Salsa, [Fajita Vegetabl...     $8.75        8.75  "
      ]
     },
     "execution_count": 49,
     "metadata": {},
     "output_type": "execute_result"
    }
   ],
   "source": [
    "df3 = df[(df['new_price']<=9) & (df['item_name'] =='Chicken Salad Bowl')]\n",
    "df3.head()"
   ]
  },
  {
   "cell_type": "markdown",
   "id": "16dbfc5f-15aa-40d0-b2ca-a7c560b097f4",
   "metadata": {},
   "source": [
    "Ans 의 인덱스를 0 부터 시작하도록 초기화 하고 inplace 방식으로 적용하자\n"
   ]
  },
  {
   "cell_type": "code",
   "execution_count": 51,
   "id": "b8214f7e-3cdb-455f-a9e8-e53b6aad73af",
   "metadata": {},
   "outputs": [
    {
     "data": {
      "text/html": [
       "<div>\n",
       "<style scoped>\n",
       "    .dataframe tbody tr th:only-of-type {\n",
       "        vertical-align: middle;\n",
       "    }\n",
       "\n",
       "    .dataframe tbody tr th {\n",
       "        vertical-align: top;\n",
       "    }\n",
       "\n",
       "    .dataframe thead th {\n",
       "        text-align: right;\n",
       "    }\n",
       "</style>\n",
       "<table border=\"1\" class=\"dataframe\">\n",
       "  <thead>\n",
       "    <tr style=\"text-align: right;\">\n",
       "      <th></th>\n",
       "      <th>order_id</th>\n",
       "      <th>quantity</th>\n",
       "      <th>item_name</th>\n",
       "      <th>choice_description</th>\n",
       "      <th>item_price</th>\n",
       "      <th>new_price</th>\n",
       "    </tr>\n",
       "  </thead>\n",
       "  <tbody>\n",
       "    <tr>\n",
       "      <th>0</th>\n",
       "      <td>20</td>\n",
       "      <td>1</td>\n",
       "      <td>Chicken Salad Bowl</td>\n",
       "      <td>[Fresh Tomato Salsa, [Fajita Vegetables, Pinto...</td>\n",
       "      <td>$8.75</td>\n",
       "      <td>8.75</td>\n",
       "    </tr>\n",
       "    <tr>\n",
       "      <th>1</th>\n",
       "      <td>111</td>\n",
       "      <td>1</td>\n",
       "      <td>Chicken Salad Bowl</td>\n",
       "      <td>[Fresh Tomato Salsa, [Fajita Vegetables, Rice,...</td>\n",
       "      <td>$8.75</td>\n",
       "      <td>8.75</td>\n",
       "    </tr>\n",
       "    <tr>\n",
       "      <th>2</th>\n",
       "      <td>220</td>\n",
       "      <td>1</td>\n",
       "      <td>Chicken Salad Bowl</td>\n",
       "      <td>[Roasted Chili Corn Salsa, [Black Beans, Sour ...</td>\n",
       "      <td>$8.75</td>\n",
       "      <td>8.75</td>\n",
       "    </tr>\n",
       "    <tr>\n",
       "      <th>3</th>\n",
       "      <td>221</td>\n",
       "      <td>1</td>\n",
       "      <td>Chicken Salad Bowl</td>\n",
       "      <td>[Tomatillo Green Chili Salsa, [Fajita Vegetabl...</td>\n",
       "      <td>$8.75</td>\n",
       "      <td>8.75</td>\n",
       "    </tr>\n",
       "    <tr>\n",
       "      <th>4</th>\n",
       "      <td>221</td>\n",
       "      <td>1</td>\n",
       "      <td>Chicken Salad Bowl</td>\n",
       "      <td>[Tomatillo Green Chili Salsa, [Fajita Vegetabl...</td>\n",
       "      <td>$8.75</td>\n",
       "      <td>8.75</td>\n",
       "    </tr>\n",
       "  </tbody>\n",
       "</table>\n",
       "</div>"
      ],
      "text/plain": [
       "   order_id  quantity           item_name  \\\n",
       "0        20         1  Chicken Salad Bowl   \n",
       "1       111         1  Chicken Salad Bowl   \n",
       "2       220         1  Chicken Salad Bowl   \n",
       "3       221         1  Chicken Salad Bowl   \n",
       "4       221         1  Chicken Salad Bowl   \n",
       "\n",
       "                                  choice_description item_price  new_price  \n",
       "0  [Fresh Tomato Salsa, [Fajita Vegetables, Pinto...     $8.75        8.75  \n",
       "1  [Fresh Tomato Salsa, [Fajita Vegetables, Rice,...     $8.75        8.75  \n",
       "2  [Roasted Chili Corn Salsa, [Black Beans, Sour ...     $8.75        8.75  \n",
       "3  [Tomatillo Green Chili Salsa, [Fajita Vegetabl...     $8.75        8.75  \n",
       "4  [Tomatillo Green Chili Salsa, [Fajita Vegetabl...     $8.75        8.75  "
      ]
     },
     "execution_count": 51,
     "metadata": {},
     "output_type": "execute_result"
    }
   ],
   "source": [
    "df3.reset_index(drop=True, inplace=True)\n",
    "df3.head(5)"
   ]
  },
  {
   "cell_type": "markdown",
   "id": "61efb5ae-1cda-4f81-8332-272e15b41dc5",
   "metadata": {},
   "source": [
    "### Question 28\n",
    "**df의 new_price 컬럼 값에 따라 오름차순으로 정리하고 index를 초기화 하여라**\n"
   ]
  },
  {
   "cell_type": "code",
   "execution_count": 56,
   "id": "1058e785-dbd0-4287-bbf5-5c380b07202e",
   "metadata": {
    "ExecuteTime": {
     "end_time": "2022-02-19T18:22:28.263045Z",
     "start_time": "2022-02-19T18:22:28.259732Z"
    },
    "tags": [
     "hide-input"
    ]
   },
   "outputs": [
    {
     "data": {
      "text/html": [
       "<div>\n",
       "<style scoped>\n",
       "    .dataframe tbody tr th:only-of-type {\n",
       "        vertical-align: middle;\n",
       "    }\n",
       "\n",
       "    .dataframe tbody tr th {\n",
       "        vertical-align: top;\n",
       "    }\n",
       "\n",
       "    .dataframe thead th {\n",
       "        text-align: right;\n",
       "    }\n",
       "</style>\n",
       "<table border=\"1\" class=\"dataframe\">\n",
       "  <thead>\n",
       "    <tr style=\"text-align: right;\">\n",
       "      <th></th>\n",
       "      <th>order_id</th>\n",
       "      <th>quantity</th>\n",
       "      <th>item_name</th>\n",
       "      <th>choice_description</th>\n",
       "      <th>item_price</th>\n",
       "      <th>new_price</th>\n",
       "    </tr>\n",
       "  </thead>\n",
       "  <tbody>\n",
       "    <tr>\n",
       "      <th>0</th>\n",
       "      <td>471</td>\n",
       "      <td>1</td>\n",
       "      <td>Bottled Water</td>\n",
       "      <td>NaN</td>\n",
       "      <td>$1.09</td>\n",
       "      <td>1.09</td>\n",
       "    </tr>\n",
       "    <tr>\n",
       "      <th>1</th>\n",
       "      <td>338</td>\n",
       "      <td>1</td>\n",
       "      <td>Canned Soda</td>\n",
       "      <td>[Coca Cola]</td>\n",
       "      <td>$1.09</td>\n",
       "      <td>1.09</td>\n",
       "    </tr>\n",
       "    <tr>\n",
       "      <th>2</th>\n",
       "      <td>1575</td>\n",
       "      <td>1</td>\n",
       "      <td>Canned Soda</td>\n",
       "      <td>[Dr. Pepper]</td>\n",
       "      <td>$1.09</td>\n",
       "      <td>1.09</td>\n",
       "    </tr>\n",
       "    <tr>\n",
       "      <th>3</th>\n",
       "      <td>47</td>\n",
       "      <td>1</td>\n",
       "      <td>Canned Soda</td>\n",
       "      <td>[Dr. Pepper]</td>\n",
       "      <td>$1.09</td>\n",
       "      <td>1.09</td>\n",
       "    </tr>\n",
       "    <tr>\n",
       "      <th>4</th>\n",
       "      <td>1014</td>\n",
       "      <td>1</td>\n",
       "      <td>Canned Soda</td>\n",
       "      <td>[Coca Cola]</td>\n",
       "      <td>$1.09</td>\n",
       "      <td>1.09</td>\n",
       "    </tr>\n",
       "  </tbody>\n",
       "</table>\n",
       "</div>"
      ],
      "text/plain": [
       "   order_id  quantity      item_name choice_description item_price  new_price\n",
       "0       471         1  Bottled Water                NaN     $1.09        1.09\n",
       "1       338         1    Canned Soda        [Coca Cola]     $1.09        1.09\n",
       "2      1575         1    Canned Soda       [Dr. Pepper]     $1.09        1.09\n",
       "3        47         1    Canned Soda       [Dr. Pepper]     $1.09        1.09\n",
       "4      1014         1    Canned Soda        [Coca Cola]     $1.09        1.09"
      ]
     },
     "execution_count": 56,
     "metadata": {},
     "output_type": "execute_result"
    }
   ],
   "source": [
    "df.sort_values('new_price').head(5).reset_index(drop=True)"
   ]
  },
  {
   "cell_type": "markdown",
   "id": "01f53f56-48be-4395-9b15-24d6c8352000",
   "metadata": {},
   "source": [
    "### Question 29\n",
    "\n",
    "**df의 item_name 컬럼의 값 중에서 `Chips` 포함하는 데이터를 출력하라**\n"
   ]
  },
  {
   "cell_type": "code",
   "execution_count": 70,
   "id": "d8e61375-4dc3-4831-90b9-baeb776cc84a",
   "metadata": {
    "ExecuteTime": {
     "end_time": "2022-02-19T18:22:28.277344Z",
     "start_time": "2022-02-19T18:22:28.272613Z"
    },
    "tags": [
     "hide-input"
    ]
   },
   "outputs": [
    {
     "data": {
      "text/html": [
       "<div>\n",
       "<style scoped>\n",
       "    .dataframe tbody tr th:only-of-type {\n",
       "        vertical-align: middle;\n",
       "    }\n",
       "\n",
       "    .dataframe tbody tr th {\n",
       "        vertical-align: top;\n",
       "    }\n",
       "\n",
       "    .dataframe thead th {\n",
       "        text-align: right;\n",
       "    }\n",
       "</style>\n",
       "<table border=\"1\" class=\"dataframe\">\n",
       "  <thead>\n",
       "    <tr style=\"text-align: right;\">\n",
       "      <th></th>\n",
       "      <th>order_id</th>\n",
       "      <th>quantity</th>\n",
       "      <th>item_name</th>\n",
       "      <th>choice_description</th>\n",
       "      <th>item_price</th>\n",
       "      <th>new_price</th>\n",
       "    </tr>\n",
       "  </thead>\n",
       "  <tbody>\n",
       "    <tr>\n",
       "      <th>0</th>\n",
       "      <td>1</td>\n",
       "      <td>1</td>\n",
       "      <td>Chips and Fresh Tomato Salsa</td>\n",
       "      <td>NaN</td>\n",
       "      <td>$2.39</td>\n",
       "      <td>2.39</td>\n",
       "    </tr>\n",
       "    <tr>\n",
       "      <th>3</th>\n",
       "      <td>1</td>\n",
       "      <td>1</td>\n",
       "      <td>Chips and Tomatillo-Green Chili Salsa</td>\n",
       "      <td>NaN</td>\n",
       "      <td>$2.39</td>\n",
       "      <td>2.39</td>\n",
       "    </tr>\n",
       "    <tr>\n",
       "      <th>6</th>\n",
       "      <td>3</td>\n",
       "      <td>1</td>\n",
       "      <td>Side of Chips</td>\n",
       "      <td>NaN</td>\n",
       "      <td>$1.69</td>\n",
       "      <td>1.69</td>\n",
       "    </tr>\n",
       "    <tr>\n",
       "      <th>10</th>\n",
       "      <td>5</td>\n",
       "      <td>1</td>\n",
       "      <td>Chips and Guacamole</td>\n",
       "      <td>NaN</td>\n",
       "      <td>$4.45</td>\n",
       "      <td>4.45</td>\n",
       "    </tr>\n",
       "    <tr>\n",
       "      <th>14</th>\n",
       "      <td>7</td>\n",
       "      <td>1</td>\n",
       "      <td>Chips and Guacamole</td>\n",
       "      <td>NaN</td>\n",
       "      <td>$4.45</td>\n",
       "      <td>4.45</td>\n",
       "    </tr>\n",
       "  </tbody>\n",
       "</table>\n",
       "</div>"
      ],
      "text/plain": [
       "    order_id  quantity                              item_name  \\\n",
       "0          1         1           Chips and Fresh Tomato Salsa   \n",
       "3          1         1  Chips and Tomatillo-Green Chili Salsa   \n",
       "6          3         1                          Side of Chips   \n",
       "10         5         1                    Chips and Guacamole   \n",
       "14         7         1                    Chips and Guacamole   \n",
       "\n",
       "   choice_description item_price  new_price  \n",
       "0                 NaN     $2.39        2.39  \n",
       "3                 NaN     $2.39        2.39  \n",
       "6                 NaN     $1.69        1.69  \n",
       "10                NaN     $4.45        4.45  \n",
       "14                NaN     $4.45        4.45  "
      ]
     },
     "execution_count": 70,
     "metadata": {},
     "output_type": "execute_result"
    }
   ],
   "source": [
    "df[df['item_name'].str.contains('Chips')].head(5)"
   ]
  },
  {
   "cell_type": "markdown",
   "id": "7b1ad1cd-4ce4-4a28-8920-0af97a83f1f6",
   "metadata": {},
   "source": [
    "**Chips 를 포함하지 않는 데이터만 출력하자**\n"
   ]
  },
  {
   "cell_type": "code",
   "execution_count": 72,
   "id": "ca5dfaee-df33-442e-849c-bcfbfc7c26d7",
   "metadata": {},
   "outputs": [
    {
     "data": {
      "text/html": [
       "<div>\n",
       "<style scoped>\n",
       "    .dataframe tbody tr th:only-of-type {\n",
       "        vertical-align: middle;\n",
       "    }\n",
       "\n",
       "    .dataframe tbody tr th {\n",
       "        vertical-align: top;\n",
       "    }\n",
       "\n",
       "    .dataframe thead th {\n",
       "        text-align: right;\n",
       "    }\n",
       "</style>\n",
       "<table border=\"1\" class=\"dataframe\">\n",
       "  <thead>\n",
       "    <tr style=\"text-align: right;\">\n",
       "      <th></th>\n",
       "      <th>order_id</th>\n",
       "      <th>quantity</th>\n",
       "      <th>item_name</th>\n",
       "      <th>choice_description</th>\n",
       "      <th>item_price</th>\n",
       "      <th>new_price</th>\n",
       "    </tr>\n",
       "  </thead>\n",
       "  <tbody>\n",
       "    <tr>\n",
       "      <th>1</th>\n",
       "      <td>1</td>\n",
       "      <td>1</td>\n",
       "      <td>Izze</td>\n",
       "      <td>[Clementine]</td>\n",
       "      <td>$3.39</td>\n",
       "      <td>3.39</td>\n",
       "    </tr>\n",
       "    <tr>\n",
       "      <th>2</th>\n",
       "      <td>1</td>\n",
       "      <td>1</td>\n",
       "      <td>Nantucket Nectar</td>\n",
       "      <td>[Apple]</td>\n",
       "      <td>$3.39</td>\n",
       "      <td>3.39</td>\n",
       "    </tr>\n",
       "    <tr>\n",
       "      <th>4</th>\n",
       "      <td>2</td>\n",
       "      <td>2</td>\n",
       "      <td>Chicken Bowl</td>\n",
       "      <td>[Tomatillo-Red Chili Salsa (Hot), [Black Beans...</td>\n",
       "      <td>$16.98</td>\n",
       "      <td>16.98</td>\n",
       "    </tr>\n",
       "    <tr>\n",
       "      <th>5</th>\n",
       "      <td>3</td>\n",
       "      <td>1</td>\n",
       "      <td>Chicken Bowl</td>\n",
       "      <td>[Fresh Tomato Salsa (Mild), [Rice, Cheese, Sou...</td>\n",
       "      <td>$10.98</td>\n",
       "      <td>10.98</td>\n",
       "    </tr>\n",
       "    <tr>\n",
       "      <th>7</th>\n",
       "      <td>4</td>\n",
       "      <td>1</td>\n",
       "      <td>Steak Burrito</td>\n",
       "      <td>[Tomatillo Red Chili Salsa, [Fajita Vegetables...</td>\n",
       "      <td>$11.75</td>\n",
       "      <td>11.75</td>\n",
       "    </tr>\n",
       "    <tr>\n",
       "      <th>...</th>\n",
       "      <td>...</td>\n",
       "      <td>...</td>\n",
       "      <td>...</td>\n",
       "      <td>...</td>\n",
       "      <td>...</td>\n",
       "      <td>...</td>\n",
       "    </tr>\n",
       "    <tr>\n",
       "      <th>4617</th>\n",
       "      <td>1833</td>\n",
       "      <td>1</td>\n",
       "      <td>Steak Burrito</td>\n",
       "      <td>[Fresh Tomato Salsa, [Rice, Black Beans, Sour ...</td>\n",
       "      <td>$11.75</td>\n",
       "      <td>11.75</td>\n",
       "    </tr>\n",
       "    <tr>\n",
       "      <th>4618</th>\n",
       "      <td>1833</td>\n",
       "      <td>1</td>\n",
       "      <td>Steak Burrito</td>\n",
       "      <td>[Fresh Tomato Salsa, [Rice, Sour Cream, Cheese...</td>\n",
       "      <td>$11.75</td>\n",
       "      <td>11.75</td>\n",
       "    </tr>\n",
       "    <tr>\n",
       "      <th>4619</th>\n",
       "      <td>1834</td>\n",
       "      <td>1</td>\n",
       "      <td>Chicken Salad Bowl</td>\n",
       "      <td>[Fresh Tomato Salsa, [Fajita Vegetables, Pinto...</td>\n",
       "      <td>$11.25</td>\n",
       "      <td>11.25</td>\n",
       "    </tr>\n",
       "    <tr>\n",
       "      <th>4620</th>\n",
       "      <td>1834</td>\n",
       "      <td>1</td>\n",
       "      <td>Chicken Salad Bowl</td>\n",
       "      <td>[Fresh Tomato Salsa, [Fajita Vegetables, Lettu...</td>\n",
       "      <td>$8.75</td>\n",
       "      <td>8.75</td>\n",
       "    </tr>\n",
       "    <tr>\n",
       "      <th>4621</th>\n",
       "      <td>1834</td>\n",
       "      <td>1</td>\n",
       "      <td>Chicken Salad Bowl</td>\n",
       "      <td>[Fresh Tomato Salsa, [Fajita Vegetables, Pinto...</td>\n",
       "      <td>$8.75</td>\n",
       "      <td>8.75</td>\n",
       "    </tr>\n",
       "  </tbody>\n",
       "</table>\n",
       "<p>3538 rows × 6 columns</p>\n",
       "</div>"
      ],
      "text/plain": [
       "      order_id  quantity           item_name  \\\n",
       "1            1         1                Izze   \n",
       "2            1         1    Nantucket Nectar   \n",
       "4            2         2        Chicken Bowl   \n",
       "5            3         1        Chicken Bowl   \n",
       "7            4         1       Steak Burrito   \n",
       "...        ...       ...                 ...   \n",
       "4617      1833         1       Steak Burrito   \n",
       "4618      1833         1       Steak Burrito   \n",
       "4619      1834         1  Chicken Salad Bowl   \n",
       "4620      1834         1  Chicken Salad Bowl   \n",
       "4621      1834         1  Chicken Salad Bowl   \n",
       "\n",
       "                                     choice_description item_price  new_price  \n",
       "1                                          [Clementine]     $3.39        3.39  \n",
       "2                                               [Apple]     $3.39        3.39  \n",
       "4     [Tomatillo-Red Chili Salsa (Hot), [Black Beans...    $16.98       16.98  \n",
       "5     [Fresh Tomato Salsa (Mild), [Rice, Cheese, Sou...    $10.98       10.98  \n",
       "7     [Tomatillo Red Chili Salsa, [Fajita Vegetables...    $11.75       11.75  \n",
       "...                                                 ...        ...        ...  \n",
       "4617  [Fresh Tomato Salsa, [Rice, Black Beans, Sour ...    $11.75       11.75  \n",
       "4618  [Fresh Tomato Salsa, [Rice, Sour Cream, Cheese...    $11.75       11.75  \n",
       "4619  [Fresh Tomato Salsa, [Fajita Vegetables, Pinto...    $11.25       11.25  \n",
       "4620  [Fresh Tomato Salsa, [Fajita Vegetables, Lettu...     $8.75        8.75  \n",
       "4621  [Fresh Tomato Salsa, [Fajita Vegetables, Pinto...     $8.75        8.75  \n",
       "\n",
       "[3538 rows x 6 columns]"
      ]
     },
     "execution_count": 72,
     "metadata": {},
     "output_type": "execute_result"
    }
   ],
   "source": [
    "df[~df['item_name'].str.contains('Chips')]"
   ]
  },
  {
   "cell_type": "markdown",
   "id": "9b6c914a-dfea-4f76-8bcf-7b84bad1a2d4",
   "metadata": {},
   "source": [
    "### Question 30\n",
    "\n",
    "df 의 컬럼을 출력하자"
   ]
  },
  {
   "cell_type": "code",
   "execution_count": 73,
   "id": "79c18525-a6f1-4d22-887a-94b7623ac28f",
   "metadata": {},
   "outputs": [
    {
     "data": {
      "text/plain": [
       "Index(['order_id', 'quantity', 'item_name', 'choice_description', 'item_price',\n",
       "       'new_price'],\n",
       "      dtype='object')"
      ]
     },
     "execution_count": 73,
     "metadata": {},
     "output_type": "execute_result"
    }
   ],
   "source": [
    "df.columns"
   ]
  },
  {
   "cell_type": "markdown",
   "id": "5f4e779f-3ff3-4578-a45c-c2035d0228c4",
   "metadata": {},
   "source": [
    "**df의 컬럼 순서에서 짝수 번째 칼럼만 출력하자**"
   ]
  },
  {
   "cell_type": "code",
   "execution_count": 75,
   "id": "93a0dca6-5ff5-4e18-9166-155a4f98660e",
   "metadata": {
    "ExecuteTime": {
     "end_time": "2022-02-19T18:22:28.290258Z",
     "start_time": "2022-02-19T18:22:28.287547Z"
    },
    "tags": [
     "hide-input"
    ]
   },
   "outputs": [
    {
     "data": {
      "text/html": [
       "<div>\n",
       "<style scoped>\n",
       "    .dataframe tbody tr th:only-of-type {\n",
       "        vertical-align: middle;\n",
       "    }\n",
       "\n",
       "    .dataframe tbody tr th {\n",
       "        vertical-align: top;\n",
       "    }\n",
       "\n",
       "    .dataframe thead th {\n",
       "        text-align: right;\n",
       "    }\n",
       "</style>\n",
       "<table border=\"1\" class=\"dataframe\">\n",
       "  <thead>\n",
       "    <tr style=\"text-align: right;\">\n",
       "      <th></th>\n",
       "      <th>order_id</th>\n",
       "      <th>item_name</th>\n",
       "      <th>item_price</th>\n",
       "    </tr>\n",
       "  </thead>\n",
       "  <tbody>\n",
       "    <tr>\n",
       "      <th>0</th>\n",
       "      <td>1</td>\n",
       "      <td>Chips and Fresh Tomato Salsa</td>\n",
       "      <td>$2.39</td>\n",
       "    </tr>\n",
       "    <tr>\n",
       "      <th>1</th>\n",
       "      <td>1</td>\n",
       "      <td>Izze</td>\n",
       "      <td>$3.39</td>\n",
       "    </tr>\n",
       "    <tr>\n",
       "      <th>2</th>\n",
       "      <td>1</td>\n",
       "      <td>Nantucket Nectar</td>\n",
       "      <td>$3.39</td>\n",
       "    </tr>\n",
       "    <tr>\n",
       "      <th>3</th>\n",
       "      <td>1</td>\n",
       "      <td>Chips and Tomatillo-Green Chili Salsa</td>\n",
       "      <td>$2.39</td>\n",
       "    </tr>\n",
       "    <tr>\n",
       "      <th>4</th>\n",
       "      <td>2</td>\n",
       "      <td>Chicken Bowl</td>\n",
       "      <td>$16.98</td>\n",
       "    </tr>\n",
       "  </tbody>\n",
       "</table>\n",
       "</div>"
      ],
      "text/plain": [
       "   order_id                              item_name item_price\n",
       "0         1           Chips and Fresh Tomato Salsa     $2.39 \n",
       "1         1                                   Izze     $3.39 \n",
       "2         1                       Nantucket Nectar     $3.39 \n",
       "3         1  Chips and Tomatillo-Green Chili Salsa     $2.39 \n",
       "4         2                           Chicken Bowl    $16.98 "
      ]
     },
     "execution_count": 75,
     "metadata": {},
     "output_type": "execute_result"
    }
   ],
   "source": [
    "df.iloc[:,::2].head(5)"
   ]
  },
  {
   "cell_type": "markdown",
   "id": "3374e7e1-049f-4caf-a141-a282e6c18f32",
   "metadata": {},
   "source": [
    "df 에서 컬럼에서 역순으로 짝수번째 컬럼을 추출해 보자"
   ]
  },
  {
   "cell_type": "code",
   "execution_count": 83,
   "id": "e550a0ea-2144-493b-886c-33707e09bf60",
   "metadata": {},
   "outputs": [
    {
     "data": {
      "text/html": [
       "<div>\n",
       "<style scoped>\n",
       "    .dataframe tbody tr th:only-of-type {\n",
       "        vertical-align: middle;\n",
       "    }\n",
       "\n",
       "    .dataframe tbody tr th {\n",
       "        vertical-align: top;\n",
       "    }\n",
       "\n",
       "    .dataframe thead th {\n",
       "        text-align: right;\n",
       "    }\n",
       "</style>\n",
       "<table border=\"1\" class=\"dataframe\">\n",
       "  <thead>\n",
       "    <tr style=\"text-align: right;\">\n",
       "      <th></th>\n",
       "      <th>new_price</th>\n",
       "      <th>choice_description</th>\n",
       "      <th>quantity</th>\n",
       "    </tr>\n",
       "  </thead>\n",
       "  <tbody>\n",
       "    <tr>\n",
       "      <th>0</th>\n",
       "      <td>2.39</td>\n",
       "      <td>NaN</td>\n",
       "      <td>1</td>\n",
       "    </tr>\n",
       "    <tr>\n",
       "      <th>1</th>\n",
       "      <td>3.39</td>\n",
       "      <td>[Clementine]</td>\n",
       "      <td>1</td>\n",
       "    </tr>\n",
       "    <tr>\n",
       "      <th>2</th>\n",
       "      <td>3.39</td>\n",
       "      <td>[Apple]</td>\n",
       "      <td>1</td>\n",
       "    </tr>\n",
       "    <tr>\n",
       "      <th>3</th>\n",
       "      <td>2.39</td>\n",
       "      <td>NaN</td>\n",
       "      <td>1</td>\n",
       "    </tr>\n",
       "    <tr>\n",
       "      <th>4</th>\n",
       "      <td>16.98</td>\n",
       "      <td>[Tomatillo-Red Chili Salsa (Hot), [Black Beans...</td>\n",
       "      <td>2</td>\n",
       "    </tr>\n",
       "    <tr>\n",
       "      <th>...</th>\n",
       "      <td>...</td>\n",
       "      <td>...</td>\n",
       "      <td>...</td>\n",
       "    </tr>\n",
       "    <tr>\n",
       "      <th>4617</th>\n",
       "      <td>11.75</td>\n",
       "      <td>[Fresh Tomato Salsa, [Rice, Black Beans, Sour ...</td>\n",
       "      <td>1</td>\n",
       "    </tr>\n",
       "    <tr>\n",
       "      <th>4618</th>\n",
       "      <td>11.75</td>\n",
       "      <td>[Fresh Tomato Salsa, [Rice, Sour Cream, Cheese...</td>\n",
       "      <td>1</td>\n",
       "    </tr>\n",
       "    <tr>\n",
       "      <th>4619</th>\n",
       "      <td>11.25</td>\n",
       "      <td>[Fresh Tomato Salsa, [Fajita Vegetables, Pinto...</td>\n",
       "      <td>1</td>\n",
       "    </tr>\n",
       "    <tr>\n",
       "      <th>4620</th>\n",
       "      <td>8.75</td>\n",
       "      <td>[Fresh Tomato Salsa, [Fajita Vegetables, Lettu...</td>\n",
       "      <td>1</td>\n",
       "    </tr>\n",
       "    <tr>\n",
       "      <th>4621</th>\n",
       "      <td>8.75</td>\n",
       "      <td>[Fresh Tomato Salsa, [Fajita Vegetables, Pinto...</td>\n",
       "      <td>1</td>\n",
       "    </tr>\n",
       "  </tbody>\n",
       "</table>\n",
       "<p>4622 rows × 3 columns</p>\n",
       "</div>"
      ],
      "text/plain": [
       "      new_price                                 choice_description  quantity\n",
       "0          2.39                                                NaN         1\n",
       "1          3.39                                       [Clementine]         1\n",
       "2          3.39                                            [Apple]         1\n",
       "3          2.39                                                NaN         1\n",
       "4         16.98  [Tomatillo-Red Chili Salsa (Hot), [Black Beans...         2\n",
       "...         ...                                                ...       ...\n",
       "4617      11.75  [Fresh Tomato Salsa, [Rice, Black Beans, Sour ...         1\n",
       "4618      11.75  [Fresh Tomato Salsa, [Rice, Sour Cream, Cheese...         1\n",
       "4619      11.25  [Fresh Tomato Salsa, [Fajita Vegetables, Pinto...         1\n",
       "4620       8.75  [Fresh Tomato Salsa, [Fajita Vegetables, Lettu...         1\n",
       "4621       8.75  [Fresh Tomato Salsa, [Fajita Vegetables, Pinto...         1\n",
       "\n",
       "[4622 rows x 3 columns]"
      ]
     },
     "execution_count": 83,
     "metadata": {},
     "output_type": "execute_result"
    }
   ],
   "source": [
    "df.iloc[:,::-1].iloc[:,::2]"
   ]
  },
  {
   "cell_type": "markdown",
   "id": "2cb8e502-3235-4bc6-a878-f9682a76e1bf",
   "metadata": {},
   "source": [
    "df 에서 역순으로 짝수번째 행 만을 추출해 보자"
   ]
  },
  {
   "cell_type": "code",
   "execution_count": 87,
   "id": "a2293133-f294-4c23-84c5-3e7bedc61a05",
   "metadata": {},
   "outputs": [
    {
     "data": {
      "text/html": [
       "<div>\n",
       "<style scoped>\n",
       "    .dataframe tbody tr th:only-of-type {\n",
       "        vertical-align: middle;\n",
       "    }\n",
       "\n",
       "    .dataframe tbody tr th {\n",
       "        vertical-align: top;\n",
       "    }\n",
       "\n",
       "    .dataframe thead th {\n",
       "        text-align: right;\n",
       "    }\n",
       "</style>\n",
       "<table border=\"1\" class=\"dataframe\">\n",
       "  <thead>\n",
       "    <tr style=\"text-align: right;\">\n",
       "      <th></th>\n",
       "      <th>order_id</th>\n",
       "      <th>quantity</th>\n",
       "      <th>item_name</th>\n",
       "      <th>choice_description</th>\n",
       "      <th>item_price</th>\n",
       "      <th>new_price</th>\n",
       "    </tr>\n",
       "  </thead>\n",
       "  <tbody>\n",
       "    <tr>\n",
       "      <th>4620</th>\n",
       "      <td>1834</td>\n",
       "      <td>1</td>\n",
       "      <td>Chicken Salad Bowl</td>\n",
       "      <td>[Fresh Tomato Salsa, [Fajita Vegetables, Lettu...</td>\n",
       "      <td>$8.75</td>\n",
       "      <td>8.75</td>\n",
       "    </tr>\n",
       "    <tr>\n",
       "      <th>4618</th>\n",
       "      <td>1833</td>\n",
       "      <td>1</td>\n",
       "      <td>Steak Burrito</td>\n",
       "      <td>[Fresh Tomato Salsa, [Rice, Sour Cream, Cheese...</td>\n",
       "      <td>$11.75</td>\n",
       "      <td>11.75</td>\n",
       "    </tr>\n",
       "    <tr>\n",
       "      <th>4616</th>\n",
       "      <td>1832</td>\n",
       "      <td>1</td>\n",
       "      <td>Chips and Guacamole</td>\n",
       "      <td>NaN</td>\n",
       "      <td>$4.45</td>\n",
       "      <td>4.45</td>\n",
       "    </tr>\n",
       "    <tr>\n",
       "      <th>4614</th>\n",
       "      <td>1831</td>\n",
       "      <td>1</td>\n",
       "      <td>Bottled Water</td>\n",
       "      <td>NaN</td>\n",
       "      <td>$1.50</td>\n",
       "      <td>1.50</td>\n",
       "    </tr>\n",
       "    <tr>\n",
       "      <th>4612</th>\n",
       "      <td>1831</td>\n",
       "      <td>1</td>\n",
       "      <td>Carnitas Bowl</td>\n",
       "      <td>[Fresh Tomato Salsa, [Fajita Vegetables, Rice,...</td>\n",
       "      <td>$9.25</td>\n",
       "      <td>9.25</td>\n",
       "    </tr>\n",
       "    <tr>\n",
       "      <th>...</th>\n",
       "      <td>...</td>\n",
       "      <td>...</td>\n",
       "      <td>...</td>\n",
       "      <td>...</td>\n",
       "      <td>...</td>\n",
       "      <td>...</td>\n",
       "    </tr>\n",
       "    <tr>\n",
       "      <th>8</th>\n",
       "      <td>4</td>\n",
       "      <td>1</td>\n",
       "      <td>Steak Soft Tacos</td>\n",
       "      <td>[Tomatillo Green Chili Salsa, [Pinto Beans, Ch...</td>\n",
       "      <td>$9.25</td>\n",
       "      <td>9.25</td>\n",
       "    </tr>\n",
       "    <tr>\n",
       "      <th>6</th>\n",
       "      <td>3</td>\n",
       "      <td>1</td>\n",
       "      <td>Side of Chips</td>\n",
       "      <td>NaN</td>\n",
       "      <td>$1.69</td>\n",
       "      <td>1.69</td>\n",
       "    </tr>\n",
       "    <tr>\n",
       "      <th>4</th>\n",
       "      <td>2</td>\n",
       "      <td>2</td>\n",
       "      <td>Chicken Bowl</td>\n",
       "      <td>[Tomatillo-Red Chili Salsa (Hot), [Black Beans...</td>\n",
       "      <td>$16.98</td>\n",
       "      <td>16.98</td>\n",
       "    </tr>\n",
       "    <tr>\n",
       "      <th>2</th>\n",
       "      <td>1</td>\n",
       "      <td>1</td>\n",
       "      <td>Nantucket Nectar</td>\n",
       "      <td>[Apple]</td>\n",
       "      <td>$3.39</td>\n",
       "      <td>3.39</td>\n",
       "    </tr>\n",
       "    <tr>\n",
       "      <th>0</th>\n",
       "      <td>1</td>\n",
       "      <td>1</td>\n",
       "      <td>Chips and Fresh Tomato Salsa</td>\n",
       "      <td>NaN</td>\n",
       "      <td>$2.39</td>\n",
       "      <td>2.39</td>\n",
       "    </tr>\n",
       "  </tbody>\n",
       "</table>\n",
       "<p>2311 rows × 6 columns</p>\n",
       "</div>"
      ],
      "text/plain": [
       "      order_id  quantity                     item_name  \\\n",
       "4620      1834         1            Chicken Salad Bowl   \n",
       "4618      1833         1                 Steak Burrito   \n",
       "4616      1832         1           Chips and Guacamole   \n",
       "4614      1831         1                 Bottled Water   \n",
       "4612      1831         1                 Carnitas Bowl   \n",
       "...        ...       ...                           ...   \n",
       "8            4         1              Steak Soft Tacos   \n",
       "6            3         1                 Side of Chips   \n",
       "4            2         2                  Chicken Bowl   \n",
       "2            1         1              Nantucket Nectar   \n",
       "0            1         1  Chips and Fresh Tomato Salsa   \n",
       "\n",
       "                                     choice_description item_price  new_price  \n",
       "4620  [Fresh Tomato Salsa, [Fajita Vegetables, Lettu...     $8.75        8.75  \n",
       "4618  [Fresh Tomato Salsa, [Rice, Sour Cream, Cheese...    $11.75       11.75  \n",
       "4616                                                NaN     $4.45        4.45  \n",
       "4614                                                NaN     $1.50        1.50  \n",
       "4612  [Fresh Tomato Salsa, [Fajita Vegetables, Rice,...     $9.25        9.25  \n",
       "...                                                 ...        ...        ...  \n",
       "8     [Tomatillo Green Chili Salsa, [Pinto Beans, Ch...     $9.25        9.25  \n",
       "6                                                   NaN     $1.69        1.69  \n",
       "4     [Tomatillo-Red Chili Salsa (Hot), [Black Beans...    $16.98       16.98  \n",
       "2                                               [Apple]     $3.39        3.39  \n",
       "0                                                   NaN     $2.39        2.39  \n",
       "\n",
       "[2311 rows x 6 columns]"
      ]
     },
     "execution_count": 87,
     "metadata": {},
     "output_type": "execute_result"
    }
   ],
   "source": [
    "df.iloc[::-1,:][1::2]"
   ]
  },
  {
   "cell_type": "markdown",
   "id": "1a0b5d51-52bb-4e6b-983e-b9b27ef43ecb",
   "metadata": {},
   "source": [
    "df 에서 역순으로 홀수번째 행 만을 추출해 보자"
   ]
  },
  {
   "cell_type": "code",
   "execution_count": 88,
   "id": "c0006c32-ba07-4acd-9a41-4923f0dc7553",
   "metadata": {},
   "outputs": [
    {
     "data": {
      "text/html": [
       "<div>\n",
       "<style scoped>\n",
       "    .dataframe tbody tr th:only-of-type {\n",
       "        vertical-align: middle;\n",
       "    }\n",
       "\n",
       "    .dataframe tbody tr th {\n",
       "        vertical-align: top;\n",
       "    }\n",
       "\n",
       "    .dataframe thead th {\n",
       "        text-align: right;\n",
       "    }\n",
       "</style>\n",
       "<table border=\"1\" class=\"dataframe\">\n",
       "  <thead>\n",
       "    <tr style=\"text-align: right;\">\n",
       "      <th></th>\n",
       "      <th>order_id</th>\n",
       "      <th>quantity</th>\n",
       "      <th>item_name</th>\n",
       "      <th>choice_description</th>\n",
       "      <th>item_price</th>\n",
       "      <th>new_price</th>\n",
       "    </tr>\n",
       "  </thead>\n",
       "  <tbody>\n",
       "    <tr>\n",
       "      <th>4621</th>\n",
       "      <td>1834</td>\n",
       "      <td>1</td>\n",
       "      <td>Chicken Salad Bowl</td>\n",
       "      <td>[Fresh Tomato Salsa, [Fajita Vegetables, Pinto...</td>\n",
       "      <td>$8.75</td>\n",
       "      <td>8.75</td>\n",
       "    </tr>\n",
       "    <tr>\n",
       "      <th>4619</th>\n",
       "      <td>1834</td>\n",
       "      <td>1</td>\n",
       "      <td>Chicken Salad Bowl</td>\n",
       "      <td>[Fresh Tomato Salsa, [Fajita Vegetables, Pinto...</td>\n",
       "      <td>$11.25</td>\n",
       "      <td>11.25</td>\n",
       "    </tr>\n",
       "    <tr>\n",
       "      <th>4617</th>\n",
       "      <td>1833</td>\n",
       "      <td>1</td>\n",
       "      <td>Steak Burrito</td>\n",
       "      <td>[Fresh Tomato Salsa, [Rice, Black Beans, Sour ...</td>\n",
       "      <td>$11.75</td>\n",
       "      <td>11.75</td>\n",
       "    </tr>\n",
       "    <tr>\n",
       "      <th>4615</th>\n",
       "      <td>1832</td>\n",
       "      <td>1</td>\n",
       "      <td>Chicken Soft Tacos</td>\n",
       "      <td>[Fresh Tomato Salsa, [Rice, Cheese, Sour Cream]]</td>\n",
       "      <td>$8.75</td>\n",
       "      <td>8.75</td>\n",
       "    </tr>\n",
       "    <tr>\n",
       "      <th>4613</th>\n",
       "      <td>1831</td>\n",
       "      <td>1</td>\n",
       "      <td>Chips</td>\n",
       "      <td>NaN</td>\n",
       "      <td>$2.15</td>\n",
       "      <td>2.15</td>\n",
       "    </tr>\n",
       "    <tr>\n",
       "      <th>...</th>\n",
       "      <td>...</td>\n",
       "      <td>...</td>\n",
       "      <td>...</td>\n",
       "      <td>...</td>\n",
       "      <td>...</td>\n",
       "      <td>...</td>\n",
       "    </tr>\n",
       "    <tr>\n",
       "      <th>9</th>\n",
       "      <td>5</td>\n",
       "      <td>1</td>\n",
       "      <td>Steak Burrito</td>\n",
       "      <td>[Fresh Tomato Salsa, [Rice, Black Beans, Pinto...</td>\n",
       "      <td>$9.25</td>\n",
       "      <td>9.25</td>\n",
       "    </tr>\n",
       "    <tr>\n",
       "      <th>7</th>\n",
       "      <td>4</td>\n",
       "      <td>1</td>\n",
       "      <td>Steak Burrito</td>\n",
       "      <td>[Tomatillo Red Chili Salsa, [Fajita Vegetables...</td>\n",
       "      <td>$11.75</td>\n",
       "      <td>11.75</td>\n",
       "    </tr>\n",
       "    <tr>\n",
       "      <th>5</th>\n",
       "      <td>3</td>\n",
       "      <td>1</td>\n",
       "      <td>Chicken Bowl</td>\n",
       "      <td>[Fresh Tomato Salsa (Mild), [Rice, Cheese, Sou...</td>\n",
       "      <td>$10.98</td>\n",
       "      <td>10.98</td>\n",
       "    </tr>\n",
       "    <tr>\n",
       "      <th>3</th>\n",
       "      <td>1</td>\n",
       "      <td>1</td>\n",
       "      <td>Chips and Tomatillo-Green Chili Salsa</td>\n",
       "      <td>NaN</td>\n",
       "      <td>$2.39</td>\n",
       "      <td>2.39</td>\n",
       "    </tr>\n",
       "    <tr>\n",
       "      <th>1</th>\n",
       "      <td>1</td>\n",
       "      <td>1</td>\n",
       "      <td>Izze</td>\n",
       "      <td>[Clementine]</td>\n",
       "      <td>$3.39</td>\n",
       "      <td>3.39</td>\n",
       "    </tr>\n",
       "  </tbody>\n",
       "</table>\n",
       "<p>2311 rows × 6 columns</p>\n",
       "</div>"
      ],
      "text/plain": [
       "      order_id  quantity                              item_name  \\\n",
       "4621      1834         1                     Chicken Salad Bowl   \n",
       "4619      1834         1                     Chicken Salad Bowl   \n",
       "4617      1833         1                          Steak Burrito   \n",
       "4615      1832         1                     Chicken Soft Tacos   \n",
       "4613      1831         1                                  Chips   \n",
       "...        ...       ...                                    ...   \n",
       "9            5         1                          Steak Burrito   \n",
       "7            4         1                          Steak Burrito   \n",
       "5            3         1                           Chicken Bowl   \n",
       "3            1         1  Chips and Tomatillo-Green Chili Salsa   \n",
       "1            1         1                                   Izze   \n",
       "\n",
       "                                     choice_description item_price  new_price  \n",
       "4621  [Fresh Tomato Salsa, [Fajita Vegetables, Pinto...     $8.75        8.75  \n",
       "4619  [Fresh Tomato Salsa, [Fajita Vegetables, Pinto...    $11.25       11.25  \n",
       "4617  [Fresh Tomato Salsa, [Rice, Black Beans, Sour ...    $11.75       11.75  \n",
       "4615   [Fresh Tomato Salsa, [Rice, Cheese, Sour Cream]]     $8.75        8.75  \n",
       "4613                                                NaN     $2.15        2.15  \n",
       "...                                                 ...        ...        ...  \n",
       "9     [Fresh Tomato Salsa, [Rice, Black Beans, Pinto...     $9.25        9.25  \n",
       "7     [Tomatillo Red Chili Salsa, [Fajita Vegetables...    $11.75       11.75  \n",
       "5     [Fresh Tomato Salsa (Mild), [Rice, Cheese, Sou...    $10.98       10.98  \n",
       "3                                                   NaN     $2.39        2.39  \n",
       "1                                          [Clementine]     $3.39        3.39  \n",
       "\n",
       "[2311 rows x 6 columns]"
      ]
     },
     "execution_count": 88,
     "metadata": {},
     "output_type": "execute_result"
    }
   ],
   "source": [
    "df.iloc[::-1,:][::2]"
   ]
  },
  {
   "cell_type": "markdown",
   "id": "cac171d8-1480-4ee7-85c4-fddd98bb7f13",
   "metadata": {},
   "source": [
    "### Question 31\n",
    "\n",
    "**df의 new_price 컬럼 값에 따라 내림차순으로 정리하고 index를 초기화 하여라**\n",
    " - sort_values\n"
   ]
  },
  {
   "cell_type": "code",
   "execution_count": 93,
   "id": "69f64851-6fc9-4c47-a2dd-a50e35eb9244",
   "metadata": {
    "ExecuteTime": {
     "end_time": "2022-02-19T18:22:28.301719Z",
     "start_time": "2022-02-19T18:22:28.298500Z"
    },
    "tags": [
     "hide-input"
    ]
   },
   "outputs": [
    {
     "data": {
      "text/html": [
       "<div>\n",
       "<style scoped>\n",
       "    .dataframe tbody tr th:only-of-type {\n",
       "        vertical-align: middle;\n",
       "    }\n",
       "\n",
       "    .dataframe tbody tr th {\n",
       "        vertical-align: top;\n",
       "    }\n",
       "\n",
       "    .dataframe thead th {\n",
       "        text-align: right;\n",
       "    }\n",
       "</style>\n",
       "<table border=\"1\" class=\"dataframe\">\n",
       "  <thead>\n",
       "    <tr style=\"text-align: right;\">\n",
       "      <th></th>\n",
       "      <th>order_id</th>\n",
       "      <th>quantity</th>\n",
       "      <th>item_name</th>\n",
       "      <th>choice_description</th>\n",
       "      <th>item_price</th>\n",
       "      <th>new_price</th>\n",
       "    </tr>\n",
       "  </thead>\n",
       "  <tbody>\n",
       "    <tr>\n",
       "      <th>0</th>\n",
       "      <td>1443</td>\n",
       "      <td>15</td>\n",
       "      <td>Chips and Fresh Tomato Salsa</td>\n",
       "      <td>NaN</td>\n",
       "      <td>$44.25</td>\n",
       "      <td>44.25</td>\n",
       "    </tr>\n",
       "    <tr>\n",
       "      <th>1</th>\n",
       "      <td>1398</td>\n",
       "      <td>3</td>\n",
       "      <td>Carnitas Bowl</td>\n",
       "      <td>[Roasted Chili Corn Salsa, [Fajita Vegetables,...</td>\n",
       "      <td>$35.25</td>\n",
       "      <td>35.25</td>\n",
       "    </tr>\n",
       "    <tr>\n",
       "      <th>2</th>\n",
       "      <td>511</td>\n",
       "      <td>4</td>\n",
       "      <td>Chicken Burrito</td>\n",
       "      <td>[Fresh Tomato Salsa, [Fajita Vegetables, Rice,...</td>\n",
       "      <td>$35.00</td>\n",
       "      <td>35.00</td>\n",
       "    </tr>\n",
       "    <tr>\n",
       "      <th>3</th>\n",
       "      <td>1443</td>\n",
       "      <td>4</td>\n",
       "      <td>Chicken Burrito</td>\n",
       "      <td>[Fresh Tomato Salsa, [Rice, Black Beans, Chees...</td>\n",
       "      <td>$35.00</td>\n",
       "      <td>35.00</td>\n",
       "    </tr>\n",
       "  </tbody>\n",
       "</table>\n",
       "</div>"
      ],
      "text/plain": [
       "   order_id  quantity                     item_name  \\\n",
       "0      1443        15  Chips and Fresh Tomato Salsa   \n",
       "1      1398         3                 Carnitas Bowl   \n",
       "2       511         4               Chicken Burrito   \n",
       "3      1443         4               Chicken Burrito   \n",
       "\n",
       "                                  choice_description item_price  new_price  \n",
       "0                                                NaN    $44.25       44.25  \n",
       "1  [Roasted Chili Corn Salsa, [Fajita Vegetables,...    $35.25       35.25  \n",
       "2  [Fresh Tomato Salsa, [Fajita Vegetables, Rice,...    $35.00       35.00  \n",
       "3  [Fresh Tomato Salsa, [Rice, Black Beans, Chees...    $35.00       35.00  "
      ]
     },
     "execution_count": 93,
     "metadata": {},
     "output_type": "execute_result"
    }
   ],
   "source": [
    "df.sort_values('new_price', ascending=False).reset_index(drop=True).head(4)"
   ]
  },
  {
   "cell_type": "markdown",
   "id": "508e278d-ee92-4059-a8e2-d4fa652efea1",
   "metadata": {},
   "source": [
    "### Question 32\n",
    "**df의 item_name 컬럼 값이 Steak Salad 또는 Bowl 인 데이터를 인덱싱하라**\n"
   ]
  },
  {
   "cell_type": "code",
   "execution_count": 95,
   "id": "aba69f3e-a12e-4a7e-af6d-d625a58eeae4",
   "metadata": {
    "ExecuteTime": {
     "end_time": "2022-02-19T18:22:28.315124Z",
     "start_time": "2022-02-19T18:22:28.311678Z"
    },
    "tags": [
     "hide-input"
    ]
   },
   "outputs": [
    {
     "data": {
      "text/html": [
       "<div>\n",
       "<style scoped>\n",
       "    .dataframe tbody tr th:only-of-type {\n",
       "        vertical-align: middle;\n",
       "    }\n",
       "\n",
       "    .dataframe tbody tr th {\n",
       "        vertical-align: top;\n",
       "    }\n",
       "\n",
       "    .dataframe thead th {\n",
       "        text-align: right;\n",
       "    }\n",
       "</style>\n",
       "<table border=\"1\" class=\"dataframe\">\n",
       "  <thead>\n",
       "    <tr style=\"text-align: right;\">\n",
       "      <th></th>\n",
       "      <th>order_id</th>\n",
       "      <th>quantity</th>\n",
       "      <th>item_name</th>\n",
       "      <th>choice_description</th>\n",
       "      <th>item_price</th>\n",
       "      <th>new_price</th>\n",
       "    </tr>\n",
       "  </thead>\n",
       "  <tbody>\n",
       "    <tr>\n",
       "      <th>445</th>\n",
       "      <td>193</td>\n",
       "      <td>3</td>\n",
       "      <td>Bowl</td>\n",
       "      <td>[Braised Carnitas, Pinto Beans, [Sour Cream, C...</td>\n",
       "      <td>$22.20</td>\n",
       "      <td>22.20</td>\n",
       "    </tr>\n",
       "    <tr>\n",
       "      <th>664</th>\n",
       "      <td>276</td>\n",
       "      <td>1</td>\n",
       "      <td>Steak Salad</td>\n",
       "      <td>[Tomatillo-Red Chili Salsa (Hot), [Black Beans...</td>\n",
       "      <td>$8.99</td>\n",
       "      <td>8.99</td>\n",
       "    </tr>\n",
       "    <tr>\n",
       "      <th>673</th>\n",
       "      <td>279</td>\n",
       "      <td>1</td>\n",
       "      <td>Bowl</td>\n",
       "      <td>[Adobo-Marinated and Grilled Steak, [Sour Crea...</td>\n",
       "      <td>$7.40</td>\n",
       "      <td>7.40</td>\n",
       "    </tr>\n",
       "    <tr>\n",
       "      <th>752</th>\n",
       "      <td>311</td>\n",
       "      <td>1</td>\n",
       "      <td>Steak Salad</td>\n",
       "      <td>[Tomatillo-Red Chili Salsa (Hot), [Black Beans...</td>\n",
       "      <td>$8.99</td>\n",
       "      <td>8.99</td>\n",
       "    </tr>\n",
       "    <tr>\n",
       "      <th>893</th>\n",
       "      <td>369</td>\n",
       "      <td>1</td>\n",
       "      <td>Steak Salad</td>\n",
       "      <td>[Fresh Tomato Salsa (Mild), [Rice, Cheese, Sou...</td>\n",
       "      <td>$8.99</td>\n",
       "      <td>8.99</td>\n",
       "    </tr>\n",
       "    <tr>\n",
       "      <th>3502</th>\n",
       "      <td>1406</td>\n",
       "      <td>1</td>\n",
       "      <td>Steak Salad</td>\n",
       "      <td>[[Lettuce, Fajita Veggies]]</td>\n",
       "      <td>$8.69</td>\n",
       "      <td>8.69</td>\n",
       "    </tr>\n",
       "  </tbody>\n",
       "</table>\n",
       "</div>"
      ],
      "text/plain": [
       "      order_id  quantity    item_name  \\\n",
       "445        193         3         Bowl   \n",
       "664        276         1  Steak Salad   \n",
       "673        279         1         Bowl   \n",
       "752        311         1  Steak Salad   \n",
       "893        369         1  Steak Salad   \n",
       "3502      1406         1  Steak Salad   \n",
       "\n",
       "                                     choice_description item_price  new_price  \n",
       "445   [Braised Carnitas, Pinto Beans, [Sour Cream, C...    $22.20       22.20  \n",
       "664   [Tomatillo-Red Chili Salsa (Hot), [Black Beans...     $8.99        8.99  \n",
       "673   [Adobo-Marinated and Grilled Steak, [Sour Crea...     $7.40        7.40  \n",
       "752   [Tomatillo-Red Chili Salsa (Hot), [Black Beans...     $8.99        8.99  \n",
       "893   [Fresh Tomato Salsa (Mild), [Rice, Cheese, Sou...     $8.99        8.99  \n",
       "3502                        [[Lettuce, Fajita Veggies]]     $8.69        8.69  "
      ]
     },
     "execution_count": 95,
     "metadata": {},
     "output_type": "execute_result"
    }
   ],
   "source": [
    "df[(df['item_name'] == 'Steak Salad') | (df['item_name'] == 'Bowl')]"
   ]
  },
  {
   "cell_type": "markdown",
   "id": "c40a5902-d13e-4795-af1b-fd646dcfb8cf",
   "metadata": {},
   "source": [
    "### Question 33\n",
    "\n",
    "**df의 item_name 컬럼 값이 Steak Salad 또는 Bowl 인 데이터를 Ans 에 데이터 프레임 저장한 후에 item_name를 기준으로 중복 행이 있으면 제거한다**\n",
    " - drop_duplicates 의 keep 인자 확인"
   ]
  },
  {
   "cell_type": "code",
   "execution_count": 100,
   "id": "596728d8-056f-461d-b09b-1e16fc667bf2",
   "metadata": {
    "ExecuteTime": {
     "end_time": "2022-02-19T18:22:28.329183Z",
     "start_time": "2022-02-19T18:22:28.324640Z"
    },
    "tags": [
     "hide-input"
    ]
   },
   "outputs": [
    {
     "data": {
      "text/html": [
       "<div>\n",
       "<style scoped>\n",
       "    .dataframe tbody tr th:only-of-type {\n",
       "        vertical-align: middle;\n",
       "    }\n",
       "\n",
       "    .dataframe tbody tr th {\n",
       "        vertical-align: top;\n",
       "    }\n",
       "\n",
       "    .dataframe thead th {\n",
       "        text-align: right;\n",
       "    }\n",
       "</style>\n",
       "<table border=\"1\" class=\"dataframe\">\n",
       "  <thead>\n",
       "    <tr style=\"text-align: right;\">\n",
       "      <th></th>\n",
       "      <th>order_id</th>\n",
       "      <th>quantity</th>\n",
       "      <th>item_name</th>\n",
       "      <th>choice_description</th>\n",
       "      <th>item_price</th>\n",
       "      <th>new_price</th>\n",
       "    </tr>\n",
       "  </thead>\n",
       "  <tbody>\n",
       "    <tr>\n",
       "      <th>445</th>\n",
       "      <td>193</td>\n",
       "      <td>3</td>\n",
       "      <td>Bowl</td>\n",
       "      <td>[Braised Carnitas, Pinto Beans, [Sour Cream, C...</td>\n",
       "      <td>$22.20</td>\n",
       "      <td>22.20</td>\n",
       "    </tr>\n",
       "    <tr>\n",
       "      <th>664</th>\n",
       "      <td>276</td>\n",
       "      <td>1</td>\n",
       "      <td>Steak Salad</td>\n",
       "      <td>[Tomatillo-Red Chili Salsa (Hot), [Black Beans...</td>\n",
       "      <td>$8.99</td>\n",
       "      <td>8.99</td>\n",
       "    </tr>\n",
       "  </tbody>\n",
       "</table>\n",
       "</div>"
      ],
      "text/plain": [
       "     order_id  quantity    item_name  \\\n",
       "445       193         3         Bowl   \n",
       "664       276         1  Steak Salad   \n",
       "\n",
       "                                    choice_description item_price  new_price  \n",
       "445  [Braised Carnitas, Pinto Beans, [Sour Cream, C...    $22.20       22.20  \n",
       "664  [Tomatillo-Red Chili Salsa (Hot), [Black Beans...     $8.99        8.99  "
      ]
     },
     "execution_count": 100,
     "metadata": {},
     "output_type": "execute_result"
    }
   ],
   "source": [
    "Ans = df[(df['item_name'] == 'Steak Salad') | (df['item_name'] == 'Bowl')]\n",
    "\n",
    "Ans.drop_duplicates('item_name')"
   ]
  },
  {
   "cell_type": "markdown",
   "id": "3ecea8d3-48c8-426f-8259-92042dc8c1bb",
   "metadata": {},
   "source": [
    "### Question 34\n",
    "**df의 item_name 컬럼 값이 Steak Salad 또는 Bowl 인 데이터를 데이터 프레임화 한 후, item_name를 기준으로 중복행이 있으면 제거하되 마지막 케이스만 남겨라**\n"
   ]
  },
  {
   "cell_type": "code",
   "execution_count": 102,
   "id": "11ff22f5-f1c3-47fc-91a1-4140044738ad",
   "metadata": {
    "ExecuteTime": {
     "end_time": "2022-02-19T18:22:28.342791Z",
     "start_time": "2022-02-19T18:22:28.338230Z"
    },
    "tags": [
     "hide-input"
    ]
   },
   "outputs": [
    {
     "data": {
      "text/html": [
       "<div>\n",
       "<style scoped>\n",
       "    .dataframe tbody tr th:only-of-type {\n",
       "        vertical-align: middle;\n",
       "    }\n",
       "\n",
       "    .dataframe tbody tr th {\n",
       "        vertical-align: top;\n",
       "    }\n",
       "\n",
       "    .dataframe thead th {\n",
       "        text-align: right;\n",
       "    }\n",
       "</style>\n",
       "<table border=\"1\" class=\"dataframe\">\n",
       "  <thead>\n",
       "    <tr style=\"text-align: right;\">\n",
       "      <th></th>\n",
       "      <th>order_id</th>\n",
       "      <th>quantity</th>\n",
       "      <th>item_name</th>\n",
       "      <th>choice_description</th>\n",
       "      <th>item_price</th>\n",
       "      <th>new_price</th>\n",
       "    </tr>\n",
       "  </thead>\n",
       "  <tbody>\n",
       "    <tr>\n",
       "      <th>673</th>\n",
       "      <td>279</td>\n",
       "      <td>1</td>\n",
       "      <td>Bowl</td>\n",
       "      <td>[Adobo-Marinated and Grilled Steak, [Sour Crea...</td>\n",
       "      <td>$7.40</td>\n",
       "      <td>7.40</td>\n",
       "    </tr>\n",
       "    <tr>\n",
       "      <th>3502</th>\n",
       "      <td>1406</td>\n",
       "      <td>1</td>\n",
       "      <td>Steak Salad</td>\n",
       "      <td>[[Lettuce, Fajita Veggies]]</td>\n",
       "      <td>$8.69</td>\n",
       "      <td>8.69</td>\n",
       "    </tr>\n",
       "  </tbody>\n",
       "</table>\n",
       "</div>"
      ],
      "text/plain": [
       "      order_id  quantity    item_name  \\\n",
       "673        279         1         Bowl   \n",
       "3502      1406         1  Steak Salad   \n",
       "\n",
       "                                     choice_description item_price  new_price  \n",
       "673   [Adobo-Marinated and Grilled Steak, [Sour Crea...     $7.40        7.40  \n",
       "3502                        [[Lettuce, Fajita Veggies]]     $8.69        8.69  "
      ]
     },
     "execution_count": 102,
     "metadata": {},
     "output_type": "execute_result"
    }
   ],
   "source": [
    "Ans = df[(df['item_name'] == 'Steak Salad') | (df['item_name'] == 'Bowl')]\n",
    "Ans.drop_duplicates('item_name',keep='last')\n"
   ]
  },
  {
   "cell_type": "markdown",
   "id": "cc5786c3-9ac3-4f6f-b2e8-c83cd79aa4f5",
   "metadata": {},
   "source": [
    "### Question 35\n",
    "**df의 데이터 중 new_price값이 new_price값의 평균값 이상을 가지는 데이터들을 인덱싱하라**\n"
   ]
  },
  {
   "cell_type": "code",
   "execution_count": 106,
   "id": "ff976574-749b-4313-87a8-7912d43fa824",
   "metadata": {
    "ExecuteTime": {
     "end_time": "2022-02-19T18:22:28.355598Z",
     "start_time": "2022-02-19T18:22:28.352433Z"
    },
    "tags": [
     "hide-input"
    ]
   },
   "outputs": [
    {
     "data": {
      "text/html": [
       "<div>\n",
       "<style scoped>\n",
       "    .dataframe tbody tr th:only-of-type {\n",
       "        vertical-align: middle;\n",
       "    }\n",
       "\n",
       "    .dataframe tbody tr th {\n",
       "        vertical-align: top;\n",
       "    }\n",
       "\n",
       "    .dataframe thead th {\n",
       "        text-align: right;\n",
       "    }\n",
       "</style>\n",
       "<table border=\"1\" class=\"dataframe\">\n",
       "  <thead>\n",
       "    <tr style=\"text-align: right;\">\n",
       "      <th></th>\n",
       "      <th>order_id</th>\n",
       "      <th>quantity</th>\n",
       "      <th>item_name</th>\n",
       "      <th>choice_description</th>\n",
       "      <th>item_price</th>\n",
       "      <th>new_price</th>\n",
       "    </tr>\n",
       "  </thead>\n",
       "  <tbody>\n",
       "    <tr>\n",
       "      <th>4</th>\n",
       "      <td>2</td>\n",
       "      <td>2</td>\n",
       "      <td>Chicken Bowl</td>\n",
       "      <td>[Tomatillo-Red Chili Salsa (Hot), [Black Beans...</td>\n",
       "      <td>$16.98</td>\n",
       "      <td>16.98</td>\n",
       "    </tr>\n",
       "    <tr>\n",
       "      <th>5</th>\n",
       "      <td>3</td>\n",
       "      <td>1</td>\n",
       "      <td>Chicken Bowl</td>\n",
       "      <td>[Fresh Tomato Salsa (Mild), [Rice, Cheese, Sou...</td>\n",
       "      <td>$10.98</td>\n",
       "      <td>10.98</td>\n",
       "    </tr>\n",
       "    <tr>\n",
       "      <th>7</th>\n",
       "      <td>4</td>\n",
       "      <td>1</td>\n",
       "      <td>Steak Burrito</td>\n",
       "      <td>[Tomatillo Red Chili Salsa, [Fajita Vegetables...</td>\n",
       "      <td>$11.75</td>\n",
       "      <td>11.75</td>\n",
       "    </tr>\n",
       "    <tr>\n",
       "      <th>8</th>\n",
       "      <td>4</td>\n",
       "      <td>1</td>\n",
       "      <td>Steak Soft Tacos</td>\n",
       "      <td>[Tomatillo Green Chili Salsa, [Pinto Beans, Ch...</td>\n",
       "      <td>$9.25</td>\n",
       "      <td>9.25</td>\n",
       "    </tr>\n",
       "    <tr>\n",
       "      <th>9</th>\n",
       "      <td>5</td>\n",
       "      <td>1</td>\n",
       "      <td>Steak Burrito</td>\n",
       "      <td>[Fresh Tomato Salsa, [Rice, Black Beans, Pinto...</td>\n",
       "      <td>$9.25</td>\n",
       "      <td>9.25</td>\n",
       "    </tr>\n",
       "  </tbody>\n",
       "</table>\n",
       "</div>"
      ],
      "text/plain": [
       "   order_id  quantity         item_name  \\\n",
       "4         2         2      Chicken Bowl   \n",
       "5         3         1      Chicken Bowl   \n",
       "7         4         1     Steak Burrito   \n",
       "8         4         1  Steak Soft Tacos   \n",
       "9         5         1     Steak Burrito   \n",
       "\n",
       "                                  choice_description item_price  new_price  \n",
       "4  [Tomatillo-Red Chili Salsa (Hot), [Black Beans...    $16.98       16.98  \n",
       "5  [Fresh Tomato Salsa (Mild), [Rice, Cheese, Sou...    $10.98       10.98  \n",
       "7  [Tomatillo Red Chili Salsa, [Fajita Vegetables...    $11.75       11.75  \n",
       "8  [Tomatillo Green Chili Salsa, [Pinto Beans, Ch...     $9.25        9.25  \n",
       "9  [Fresh Tomato Salsa, [Rice, Black Beans, Pinto...     $9.25        9.25  "
      ]
     },
     "execution_count": 106,
     "metadata": {},
     "output_type": "execute_result"
    }
   ],
   "source": [
    "df[df['new_price']>= df['new_price'].mean()].head(5)"
   ]
  },
  {
   "cell_type": "markdown",
   "id": "9bc5978f-c08f-4b74-93a1-d0e1f2e3a03c",
   "metadata": {},
   "source": [
    "### Question 36\n",
    "**df의 데이터 중 item_name의 값이 Izze 데이터를 Fizzy Lizzy로 수정하라**\n"
   ]
  },
  {
   "cell_type": "code",
   "execution_count": 140,
   "id": "57d078da-2e8a-402c-b395-24b997c030f2",
   "metadata": {
    "ExecuteTime": {
     "end_time": "2022-02-19T18:22:28.368623Z",
     "start_time": "2022-02-19T18:22:28.365471Z"
    },
    "tags": [
     "hide-input"
    ]
   },
   "outputs": [
    {
     "data": {
      "text/html": [
       "<div>\n",
       "<style scoped>\n",
       "    .dataframe tbody tr th:only-of-type {\n",
       "        vertical-align: middle;\n",
       "    }\n",
       "\n",
       "    .dataframe tbody tr th {\n",
       "        vertical-align: top;\n",
       "    }\n",
       "\n",
       "    .dataframe thead th {\n",
       "        text-align: right;\n",
       "    }\n",
       "</style>\n",
       "<table border=\"1\" class=\"dataframe\">\n",
       "  <thead>\n",
       "    <tr style=\"text-align: right;\">\n",
       "      <th></th>\n",
       "      <th>order_id</th>\n",
       "      <th>quantity</th>\n",
       "      <th>item_name</th>\n",
       "      <th>choice_description</th>\n",
       "      <th>item_price</th>\n",
       "      <th>new_price</th>\n",
       "    </tr>\n",
       "  </thead>\n",
       "  <tbody>\n",
       "    <tr>\n",
       "      <th>0</th>\n",
       "      <td>1</td>\n",
       "      <td>1</td>\n",
       "      <td>Chips and Fresh Tomato Salsa</td>\n",
       "      <td>NaN</td>\n",
       "      <td>$2.39</td>\n",
       "      <td>2.39</td>\n",
       "    </tr>\n",
       "    <tr>\n",
       "      <th>1</th>\n",
       "      <td>1</td>\n",
       "      <td>1</td>\n",
       "      <td>Fizzy Lizzy</td>\n",
       "      <td>[Clementine]</td>\n",
       "      <td>$3.39</td>\n",
       "      <td>3.39</td>\n",
       "    </tr>\n",
       "    <tr>\n",
       "      <th>2</th>\n",
       "      <td>1</td>\n",
       "      <td>1</td>\n",
       "      <td>Nantucket Nectar</td>\n",
       "      <td>[Apple]</td>\n",
       "      <td>$3.39</td>\n",
       "      <td>3.39</td>\n",
       "    </tr>\n",
       "  </tbody>\n",
       "</table>\n",
       "</div>"
      ],
      "text/plain": [
       "   order_id  quantity                     item_name choice_description  \\\n",
       "0         1         1  Chips and Fresh Tomato Salsa                NaN   \n",
       "1         1         1                   Fizzy Lizzy       [Clementine]   \n",
       "2         1         1              Nantucket Nectar            [Apple]   \n",
       "\n",
       "  item_price  new_price  \n",
       "0     $2.39        2.39  \n",
       "1     $3.39        3.39  \n",
       "2     $3.39        3.39  "
      ]
     },
     "execution_count": 140,
     "metadata": {},
     "output_type": "execute_result"
    }
   ],
   "source": [
    "df.replace('Izze','Fizzy Lizzy').head(3)"
   ]
  },
  {
   "cell_type": "markdown",
   "id": "66e82d9f-08bc-4dd1-8afb-839cc15c2b94",
   "metadata": {},
   "source": [
    "### Question 37\n",
    "**df의 데이터 중 choice_description 값이 NaN 인 데이터의 갯수를 구하여라**\n"
   ]
  },
  {
   "cell_type": "code",
   "execution_count": 133,
   "id": "e03f1211-4186-4490-a3f7-d7e866850977",
   "metadata": {
    "ExecuteTime": {
     "end_time": "2022-02-19T18:22:28.380894Z",
     "start_time": "2022-02-19T18:22:28.378281Z"
    },
    "scrolled": true,
    "tags": [
     "hide-input"
    ]
   },
   "outputs": [
    {
     "data": {
      "text/plain": [
       "1246"
      ]
     },
     "execution_count": 133,
     "metadata": {},
     "output_type": "execute_result"
    }
   ],
   "source": [
    "df['choice_description'].isnull().sum()"
   ]
  },
  {
   "cell_type": "markdown",
   "id": "9fcba87d-315b-4ab6-afa8-7a26cbb6389e",
   "metadata": {},
   "source": [
    "### Question 38\n",
    "**df의 데이터 중 choice_description 값이 NaN 인 데이터를 NoData 값으로 대체하라(loc 이용)**\n"
   ]
  },
  {
   "cell_type": "code",
   "execution_count": 149,
   "id": "d92e63f6-a235-49ee-a56e-4747479650f7",
   "metadata": {
    "ExecuteTime": {
     "end_time": "2022-02-19T18:22:28.390010Z",
     "start_time": "2022-02-19T18:22:28.386777Z"
    },
    "tags": [
     "hide-input"
    ]
   },
   "outputs": [],
   "source": [
    "df.loc[df.choice_description.isnull(),'choice_description'] = 'NoData'"
   ]
  },
  {
   "cell_type": "code",
   "execution_count": 150,
   "id": "ad05a1ab-593c-4a0b-95b6-db34d8cc5f77",
   "metadata": {},
   "outputs": [
    {
     "data": {
      "text/html": [
       "<div>\n",
       "<style scoped>\n",
       "    .dataframe tbody tr th:only-of-type {\n",
       "        vertical-align: middle;\n",
       "    }\n",
       "\n",
       "    .dataframe tbody tr th {\n",
       "        vertical-align: top;\n",
       "    }\n",
       "\n",
       "    .dataframe thead th {\n",
       "        text-align: right;\n",
       "    }\n",
       "</style>\n",
       "<table border=\"1\" class=\"dataframe\">\n",
       "  <thead>\n",
       "    <tr style=\"text-align: right;\">\n",
       "      <th></th>\n",
       "      <th>order_id</th>\n",
       "      <th>quantity</th>\n",
       "      <th>item_name</th>\n",
       "      <th>choice_description</th>\n",
       "      <th>item_price</th>\n",
       "      <th>new_price</th>\n",
       "    </tr>\n",
       "  </thead>\n",
       "  <tbody>\n",
       "    <tr>\n",
       "      <th>0</th>\n",
       "      <td>1</td>\n",
       "      <td>1</td>\n",
       "      <td>Chips and Fresh Tomato Salsa</td>\n",
       "      <td>NoData</td>\n",
       "      <td>$2.39</td>\n",
       "      <td>2.39</td>\n",
       "    </tr>\n",
       "    <tr>\n",
       "      <th>1</th>\n",
       "      <td>1</td>\n",
       "      <td>1</td>\n",
       "      <td>Fizzy Lizzy</td>\n",
       "      <td>[Clementine]</td>\n",
       "      <td>$3.39</td>\n",
       "      <td>3.39</td>\n",
       "    </tr>\n",
       "    <tr>\n",
       "      <th>2</th>\n",
       "      <td>1</td>\n",
       "      <td>1</td>\n",
       "      <td>Nantucket Nectar</td>\n",
       "      <td>[Apple]</td>\n",
       "      <td>$3.39</td>\n",
       "      <td>3.39</td>\n",
       "    </tr>\n",
       "    <tr>\n",
       "      <th>3</th>\n",
       "      <td>1</td>\n",
       "      <td>1</td>\n",
       "      <td>Chips and Tomatillo-Green Chili Salsa</td>\n",
       "      <td>NoData</td>\n",
       "      <td>$2.39</td>\n",
       "      <td>2.39</td>\n",
       "    </tr>\n",
       "    <tr>\n",
       "      <th>4</th>\n",
       "      <td>2</td>\n",
       "      <td>2</td>\n",
       "      <td>Chicken Bowl</td>\n",
       "      <td>[Tomatillo-Red Chili Salsa (Hot), [Black Beans...</td>\n",
       "      <td>$16.98</td>\n",
       "      <td>16.98</td>\n",
       "    </tr>\n",
       "  </tbody>\n",
       "</table>\n",
       "</div>"
      ],
      "text/plain": [
       "   order_id  quantity                              item_name  \\\n",
       "0         1         1           Chips and Fresh Tomato Salsa   \n",
       "1         1         1                            Fizzy Lizzy   \n",
       "2         1         1                       Nantucket Nectar   \n",
       "3         1         1  Chips and Tomatillo-Green Chili Salsa   \n",
       "4         2         2                           Chicken Bowl   \n",
       "\n",
       "                                  choice_description item_price  new_price  \n",
       "0                                             NoData     $2.39        2.39  \n",
       "1                                       [Clementine]     $3.39        3.39  \n",
       "2                                            [Apple]     $3.39        3.39  \n",
       "3                                             NoData     $2.39        2.39  \n",
       "4  [Tomatillo-Red Chili Salsa (Hot), [Black Beans...    $16.98       16.98  "
      ]
     },
     "execution_count": 150,
     "metadata": {},
     "output_type": "execute_result"
    }
   ],
   "source": [
    "df.head()"
   ]
  },
  {
   "cell_type": "markdown",
   "id": "f8aadd2e-360e-46fd-9ed0-a47216633389",
   "metadata": {},
   "source": [
    "### Question 39\n",
    "**df의 데이터 중 choice_description 값에 Black이 들어가는 경우를 인덱싱하라**\n"
   ]
  },
  {
   "cell_type": "code",
   "execution_count": 154,
   "id": "f37074f6-decc-40cd-83ca-9a0183831696",
   "metadata": {
    "ExecuteTime": {
     "end_time": "2022-02-19T18:22:28.404792Z",
     "start_time": "2022-02-19T18:22:28.399881Z"
    },
    "tags": [
     "hide-input"
    ]
   },
   "outputs": [
    {
     "data": {
      "text/html": [
       "<div>\n",
       "<style scoped>\n",
       "    .dataframe tbody tr th:only-of-type {\n",
       "        vertical-align: middle;\n",
       "    }\n",
       "\n",
       "    .dataframe tbody tr th {\n",
       "        vertical-align: top;\n",
       "    }\n",
       "\n",
       "    .dataframe thead th {\n",
       "        text-align: right;\n",
       "    }\n",
       "</style>\n",
       "<table border=\"1\" class=\"dataframe\">\n",
       "  <thead>\n",
       "    <tr style=\"text-align: right;\">\n",
       "      <th></th>\n",
       "      <th>order_id</th>\n",
       "      <th>quantity</th>\n",
       "      <th>item_name</th>\n",
       "      <th>choice_description</th>\n",
       "      <th>item_price</th>\n",
       "      <th>new_price</th>\n",
       "    </tr>\n",
       "  </thead>\n",
       "  <tbody>\n",
       "    <tr>\n",
       "      <th>4</th>\n",
       "      <td>2</td>\n",
       "      <td>2</td>\n",
       "      <td>Chicken Bowl</td>\n",
       "      <td>[Tomatillo-Red Chili Salsa (Hot), [Black Beans...</td>\n",
       "      <td>$16.98</td>\n",
       "      <td>16.98</td>\n",
       "    </tr>\n",
       "    <tr>\n",
       "      <th>7</th>\n",
       "      <td>4</td>\n",
       "      <td>1</td>\n",
       "      <td>Steak Burrito</td>\n",
       "      <td>[Tomatillo Red Chili Salsa, [Fajita Vegetables...</td>\n",
       "      <td>$11.75</td>\n",
       "      <td>11.75</td>\n",
       "    </tr>\n",
       "    <tr>\n",
       "      <th>9</th>\n",
       "      <td>5</td>\n",
       "      <td>1</td>\n",
       "      <td>Steak Burrito</td>\n",
       "      <td>[Fresh Tomato Salsa, [Rice, Black Beans, Pinto...</td>\n",
       "      <td>$9.25</td>\n",
       "      <td>9.25</td>\n",
       "    </tr>\n",
       "    <tr>\n",
       "      <th>11</th>\n",
       "      <td>6</td>\n",
       "      <td>1</td>\n",
       "      <td>Chicken Crispy Tacos</td>\n",
       "      <td>[Roasted Chili Corn Salsa, [Fajita Vegetables,...</td>\n",
       "      <td>$8.75</td>\n",
       "      <td>8.75</td>\n",
       "    </tr>\n",
       "    <tr>\n",
       "      <th>12</th>\n",
       "      <td>6</td>\n",
       "      <td>1</td>\n",
       "      <td>Chicken Soft Tacos</td>\n",
       "      <td>[Roasted Chili Corn Salsa, [Rice, Black Beans,...</td>\n",
       "      <td>$8.75</td>\n",
       "      <td>8.75</td>\n",
       "    </tr>\n",
       "  </tbody>\n",
       "</table>\n",
       "</div>"
      ],
      "text/plain": [
       "    order_id  quantity             item_name  \\\n",
       "4          2         2          Chicken Bowl   \n",
       "7          4         1         Steak Burrito   \n",
       "9          5         1         Steak Burrito   \n",
       "11         6         1  Chicken Crispy Tacos   \n",
       "12         6         1    Chicken Soft Tacos   \n",
       "\n",
       "                                   choice_description item_price  new_price  \n",
       "4   [Tomatillo-Red Chili Salsa (Hot), [Black Beans...    $16.98       16.98  \n",
       "7   [Tomatillo Red Chili Salsa, [Fajita Vegetables...    $11.75       11.75  \n",
       "9   [Fresh Tomato Salsa, [Rice, Black Beans, Pinto...     $9.25        9.25  \n",
       "11  [Roasted Chili Corn Salsa, [Fajita Vegetables,...     $8.75        8.75  \n",
       "12  [Roasted Chili Corn Salsa, [Rice, Black Beans,...     $8.75        8.75  "
      ]
     },
     "execution_count": 154,
     "metadata": {},
     "output_type": "execute_result"
    }
   ],
   "source": [
    "df[df['choice_description'].str.contains('Black')].head(5)"
   ]
  },
  {
   "cell_type": "markdown",
   "id": "469bec26-7554-45db-b72a-cec9fd0e5cbe",
   "metadata": {},
   "source": [
    "### Question 40\n",
    "**df의 데이터 중 choice_description 값에 Vegetables 들어가지 않는 경우의 갯수를 출력하라**\n"
   ]
  },
  {
   "cell_type": "code",
   "execution_count": 158,
   "id": "0d088dde-fa89-400d-bca8-4160142c5eac",
   "metadata": {
    "ExecuteTime": {
     "end_time": "2022-02-19T18:22:28.419596Z",
     "start_time": "2022-02-19T18:22:28.414950Z"
    },
    "tags": [
     "hide-input"
    ]
   },
   "outputs": [
    {
     "data": {
      "text/plain": [
       "3900"
      ]
     },
     "execution_count": 158,
     "metadata": {},
     "output_type": "execute_result"
    }
   ],
   "source": [
    "len(df[~df['choice_description'].str.contains('Vegetables')])"
   ]
  },
  {
   "cell_type": "markdown",
   "id": "413e01f3-2dba-44d5-b819-6bc32156057f",
   "metadata": {},
   "source": [
    "### Question 41\n",
    "**df의 데이터 중 item_name 값이 N으로 시작하는 데이터를 모두 추출하라**\n"
   ]
  },
  {
   "cell_type": "code",
   "execution_count": 161,
   "id": "e091cf12-1d6b-4c90-8915-8f97e7decfba",
   "metadata": {
    "ExecuteTime": {
     "end_time": "2022-02-19T18:22:28.429035Z",
     "start_time": "2022-02-19T18:22:28.424928Z"
    },
    "scrolled": true,
    "tags": [
     "hide-input"
    ]
   },
   "outputs": [
    {
     "data": {
      "text/html": [
       "<div>\n",
       "<style scoped>\n",
       "    .dataframe tbody tr th:only-of-type {\n",
       "        vertical-align: middle;\n",
       "    }\n",
       "\n",
       "    .dataframe tbody tr th {\n",
       "        vertical-align: top;\n",
       "    }\n",
       "\n",
       "    .dataframe thead th {\n",
       "        text-align: right;\n",
       "    }\n",
       "</style>\n",
       "<table border=\"1\" class=\"dataframe\">\n",
       "  <thead>\n",
       "    <tr style=\"text-align: right;\">\n",
       "      <th></th>\n",
       "      <th>order_id</th>\n",
       "      <th>quantity</th>\n",
       "      <th>item_name</th>\n",
       "      <th>choice_description</th>\n",
       "      <th>item_price</th>\n",
       "      <th>new_price</th>\n",
       "    </tr>\n",
       "  </thead>\n",
       "  <tbody>\n",
       "    <tr>\n",
       "      <th>2</th>\n",
       "      <td>1</td>\n",
       "      <td>1</td>\n",
       "      <td>Nantucket Nectar</td>\n",
       "      <td>[Apple]</td>\n",
       "      <td>$3.39</td>\n",
       "      <td>3.39</td>\n",
       "    </tr>\n",
       "    <tr>\n",
       "      <th>22</th>\n",
       "      <td>11</td>\n",
       "      <td>1</td>\n",
       "      <td>Nantucket Nectar</td>\n",
       "      <td>[Pomegranate Cherry]</td>\n",
       "      <td>$3.39</td>\n",
       "      <td>3.39</td>\n",
       "    </tr>\n",
       "    <tr>\n",
       "      <th>105</th>\n",
       "      <td>46</td>\n",
       "      <td>1</td>\n",
       "      <td>Nantucket Nectar</td>\n",
       "      <td>[Pineapple Orange Banana]</td>\n",
       "      <td>$3.39</td>\n",
       "      <td>3.39</td>\n",
       "    </tr>\n",
       "  </tbody>\n",
       "</table>\n",
       "</div>"
      ],
      "text/plain": [
       "     order_id  quantity         item_name         choice_description  \\\n",
       "2           1         1  Nantucket Nectar                    [Apple]   \n",
       "22         11         1  Nantucket Nectar       [Pomegranate Cherry]   \n",
       "105        46         1  Nantucket Nectar  [Pineapple Orange Banana]   \n",
       "\n",
       "    item_price  new_price  \n",
       "2       $3.39        3.39  \n",
       "22      $3.39        3.39  \n",
       "105     $3.39        3.39  "
      ]
     },
     "execution_count": 161,
     "metadata": {},
     "output_type": "execute_result"
    }
   ],
   "source": [
    "df[df['item_name'].str.startswith('N')].head(3)"
   ]
  },
  {
   "cell_type": "code",
   "execution_count": 81,
   "id": "d3ac3084-6030-4b76-9283-3c77a6da5709",
   "metadata": {
    "ExecuteTime": {
     "end_time": "2022-02-19T18:22:28.452510Z",
     "start_time": "2022-02-19T18:22:28.445337Z"
    }
   },
   "outputs": [
    {
     "data": {
      "text/html": [
       "<div>\n",
       "<style scoped>\n",
       "    .dataframe tbody tr th:only-of-type {\n",
       "        vertical-align: middle;\n",
       "    }\n",
       "\n",
       "    .dataframe tbody tr th {\n",
       "        vertical-align: top;\n",
       "    }\n",
       "\n",
       "    .dataframe thead th {\n",
       "        text-align: right;\n",
       "    }\n",
       "</style>\n",
       "<table border=\"1\" class=\"dataframe\">\n",
       "  <thead>\n",
       "    <tr style=\"text-align: right;\">\n",
       "      <th></th>\n",
       "      <th>order_id</th>\n",
       "      <th>quantity</th>\n",
       "      <th>item_name</th>\n",
       "      <th>choice_description</th>\n",
       "      <th>item_price</th>\n",
       "      <th>new_price</th>\n",
       "    </tr>\n",
       "  </thead>\n",
       "  <tbody>\n",
       "    <tr>\n",
       "      <th>2</th>\n",
       "      <td>1</td>\n",
       "      <td>1</td>\n",
       "      <td>Nantucket Nectar</td>\n",
       "      <td>[Apple]</td>\n",
       "      <td>$3.39</td>\n",
       "      <td>3.39</td>\n",
       "    </tr>\n",
       "    <tr>\n",
       "      <th>22</th>\n",
       "      <td>11</td>\n",
       "      <td>1</td>\n",
       "      <td>Nantucket Nectar</td>\n",
       "      <td>[Pomegranate Cherry]</td>\n",
       "      <td>$3.39</td>\n",
       "      <td>3.39</td>\n",
       "    </tr>\n",
       "    <tr>\n",
       "      <th>105</th>\n",
       "      <td>46</td>\n",
       "      <td>1</td>\n",
       "      <td>Nantucket Nectar</td>\n",
       "      <td>[Pineapple Orange Banana]</td>\n",
       "      <td>$3.39</td>\n",
       "      <td>3.39</td>\n",
       "    </tr>\n",
       "  </tbody>\n",
       "</table>\n",
       "</div>"
      ],
      "text/plain": [
       "     order_id  quantity         item_name         choice_description  \\\n",
       "2           1         1  Nantucket Nectar                    [Apple]   \n",
       "22         11         1  Nantucket Nectar       [Pomegranate Cherry]   \n",
       "105        46         1  Nantucket Nectar  [Pineapple Orange Banana]   \n",
       "\n",
       "    item_price  new_price  \n",
       "2       $3.39        3.39  \n",
       "22      $3.39        3.39  \n",
       "105     $3.39        3.39  "
      ]
     },
     "execution_count": 81,
     "metadata": {},
     "output_type": "execute_result"
    }
   ],
   "source": [
    "Ans.head(3)"
   ]
  },
  {
   "cell_type": "markdown",
   "id": "e47db345-9a3e-499b-9b66-cb80d709be80",
   "metadata": {},
   "source": [
    "### Question 42\n",
    "**df의 데이터 중 item_name 값의 단어갯수가 15개 이상인 데이터를 인덱싱하라**\n"
   ]
  },
  {
   "cell_type": "code",
   "execution_count": 170,
   "id": "157ed630-e3d6-4a27-821f-8fe6a5e6536c",
   "metadata": {
    "ExecuteTime": {
     "end_time": "2022-02-19T18:22:28.457840Z",
     "start_time": "2022-02-19T18:22:28.453611Z"
    },
    "tags": [
     "hide-input"
    ]
   },
   "outputs": [
    {
     "data": {
      "text/html": [
       "<div>\n",
       "<style scoped>\n",
       "    .dataframe tbody tr th:only-of-type {\n",
       "        vertical-align: middle;\n",
       "    }\n",
       "\n",
       "    .dataframe tbody tr th {\n",
       "        vertical-align: top;\n",
       "    }\n",
       "\n",
       "    .dataframe thead th {\n",
       "        text-align: right;\n",
       "    }\n",
       "</style>\n",
       "<table border=\"1\" class=\"dataframe\">\n",
       "  <thead>\n",
       "    <tr style=\"text-align: right;\">\n",
       "      <th></th>\n",
       "      <th>order_id</th>\n",
       "      <th>quantity</th>\n",
       "      <th>item_name</th>\n",
       "      <th>choice_description</th>\n",
       "      <th>item_price</th>\n",
       "      <th>new_price</th>\n",
       "    </tr>\n",
       "  </thead>\n",
       "  <tbody>\n",
       "    <tr>\n",
       "      <th>0</th>\n",
       "      <td>1</td>\n",
       "      <td>1</td>\n",
       "      <td>Chips and Fresh Tomato Salsa</td>\n",
       "      <td>NoData</td>\n",
       "      <td>$2.39</td>\n",
       "      <td>2.39</td>\n",
       "    </tr>\n",
       "    <tr>\n",
       "      <th>2</th>\n",
       "      <td>1</td>\n",
       "      <td>1</td>\n",
       "      <td>Nantucket Nectar</td>\n",
       "      <td>[Apple]</td>\n",
       "      <td>$3.39</td>\n",
       "      <td>3.39</td>\n",
       "    </tr>\n",
       "    <tr>\n",
       "      <th>3</th>\n",
       "      <td>1</td>\n",
       "      <td>1</td>\n",
       "      <td>Chips and Tomatillo-Green Chili Salsa</td>\n",
       "      <td>NoData</td>\n",
       "      <td>$2.39</td>\n",
       "      <td>2.39</td>\n",
       "    </tr>\n",
       "  </tbody>\n",
       "</table>\n",
       "</div>"
      ],
      "text/plain": [
       "   order_id  quantity                              item_name  \\\n",
       "0         1         1           Chips and Fresh Tomato Salsa   \n",
       "2         1         1                       Nantucket Nectar   \n",
       "3         1         1  Chips and Tomatillo-Green Chili Salsa   \n",
       "\n",
       "  choice_description item_price  new_price  \n",
       "0             NoData     $2.39        2.39  \n",
       "2            [Apple]     $3.39        3.39  \n",
       "3             NoData     $2.39        2.39  "
      ]
     },
     "execution_count": 170,
     "metadata": {},
     "output_type": "execute_result"
    }
   ],
   "source": [
    "df[df['item_name'].str.len() >=15].head(3)"
   ]
  },
  {
   "cell_type": "markdown",
   "id": "b3905ab9-3b58-4d2c-a5bc-de661abb5339",
   "metadata": {},
   "source": [
    "### Question 43\n",
    "**df의 데이터 중 new_price값이 lst에 해당하는 경우의 데이터 프레임을 구하고 그 갯수를 출력하라**\n",
    "\n",
    "```lst =[1.69, 2.39, 3.39, 4.45, 9.25, 10.98, 11.75, 16.98]```\n"
   ]
  },
  {
   "cell_type": "code",
   "execution_count": 176,
   "id": "e22f7a15-377f-44c8-899f-d31959c7a9cc",
   "metadata": {
    "ExecuteTime": {
     "end_time": "2022-02-19T18:22:28.470500Z",
     "start_time": "2022-02-19T18:22:28.467323Z"
    }
   },
   "outputs": [
    {
     "data": {
      "text/plain": [
       "1393"
      ]
     },
     "execution_count": 176,
     "metadata": {},
     "output_type": "execute_result"
    }
   ],
   "source": [
    "lst =[1.69, 2.39, 3.39, 4.45, 9.25, 10.98, 11.75, 16.98]\n",
    "len(df[df['new_price'].isin(lst)])"
   ]
  },
  {
   "cell_type": "markdown",
   "id": "adbfe7e4-c36d-4307-bd90-80eb39751e5a",
   "metadata": {},
   "source": [
    ">"
   ]
  },
  {
   "cell_type": "markdown",
   "id": "0b9c8b9a-0ea6-4e24-b89a-a37f07ea7b88",
   "metadata": {},
   "source": [
    ">"
   ]
  }
 ],
 "metadata": {
  "kernelspec": {
   "display_name": "Python 3 (ipykernel)",
   "language": "python",
   "name": "python3"
  },
  "language_info": {
   "codemirror_mode": {
    "name": "ipython",
    "version": 3
   },
   "file_extension": ".py",
   "mimetype": "text/x-python",
   "name": "python",
   "nbconvert_exporter": "python",
   "pygments_lexer": "ipython3",
   "version": "3.10.9"
  }
 },
 "nbformat": 4,
 "nbformat_minor": 5
}
